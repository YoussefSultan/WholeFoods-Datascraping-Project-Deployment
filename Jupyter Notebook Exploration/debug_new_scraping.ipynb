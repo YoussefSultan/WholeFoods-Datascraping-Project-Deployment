{
 "cells": [
  {
   "cell_type": "code",
   "execution_count": 2,
   "metadata": {},
   "outputs": [],
   "source": [
    "import os, random, sys, time \n",
    "from selenium import webdriver\n",
    "from bs4 import BeautifulSoup\n",
    "import pandas as pd\n",
    "\n",
    "from selenium.webdriver.chrome.options import Options\n",
    "#options = Options()\n",
    "#options.add_argument('--headless')\n",
    "#options.add_argument('--disable-gpu')"
   ]
  },
  {
   "cell_type": "code",
   "execution_count": 34,
   "metadata": {},
   "outputs": [
    {
     "name": "stdout",
     "output_type": "stream",
     "text": [
      "Results Filled\n"
     ]
    }
   ],
   "source": [
    "browser.get('https://www.wholefoodsmarket.com/products/all-products?featured=on-sale') # Website Link\n",
    "\n",
    "#---------------------\n",
    "# Continously loads all possible product data until no more data exists\n",
    "# Sometimes may take some time if there are many products on sale\n",
    "try:\n",
    "    load = browser.find_element_by_xpath(\"//span[contains(text(),'Load more')]\") \n",
    "    while True:\n",
    "        load.click()\n",
    "        time.sleep(2.5) # Must have a 2 sec time lag so the 'load more' button can reappear\n",
    "except:\n",
    "    print(\"Results Filled\") # If all possible data is populated\n",
    "all_items = browser.find_elements_by_xpath(\"//div[@data-testid='product-tile']\") # Pull all product elements by xpath\n",
    "list_of_items = [items.text.splitlines() for items in all_items] # Create a list comprehension of all product elements with text shown and lines split"
   ]
  },
  {
   "cell_type": "code",
   "execution_count": null,
   "metadata": {},
   "outputs": [],
   "source": [
    "try:\n",
    "    browser = webdriver.Chrome('C:/Users/Water/Desktop/chromedriver.exe', options=options) # Chrome Driver\n",
    "    browser.get('https://www.wholefoodsmarket.com/products/all-products?featured=on-sale') # Website Link\n",
    "    browser.find_element_by_xpath(\"//input[@id='pie-store-finder-modal-search-field']\").send_keys(input()) # Zip code\n",
    "    time.sleep(3) # lag for 3 seconds to allow elements to load\n",
    "    browser.find_elements_by_class_name(\"wfm-search-bar--list_item\")[0].click()\n",
    "except:\n",
    "    print('invalid zipcode')"
   ]
  },
  {
   "cell_type": "code",
   "execution_count": 58,
   "metadata": {},
   "outputs": [
    {
     "name": "stdout",
     "output_type": "stream",
     "text": [
      "Results Filled\n"
     ]
    }
   ],
   "source": [
    "browser.get('https://www.wholefoodsmarket.com/products/produce?featured=on-sale') # Website Link\n",
    "#---------------------\n",
    "# Continously loads all possible product data until no more data exists\n",
    "# Sometimes may take some time if there are many products on sale\n",
    "try:\n",
    "    load = browser.find_element_by_xpath(\"//span[contains(text(),'Load more')]\") \n",
    "    while True:\n",
    "        load.click()\n",
    "        time.sleep(2.5) # Must have a 2 sec time lag so the 'load more' button can reappear\n",
    "except:\n",
    "    print(\"Results Filled\") # If all possible data is populated\n",
    "all_items = browser.find_elements_by_xpath(\"//div[@data-testid='product-tile']\") # Pull all product elements by xpath\n",
    "produce = [items.text.splitlines() for items in all_items] # Create a list comprehension of all product elements with text shown and lines split"
   ]
  },
  {
   "cell_type": "code",
   "execution_count": 59,
   "metadata": {},
   "outputs": [
    {
     "name": "stdout",
     "output_type": "stream",
     "text": [
      "Results Filled\n"
     ]
    }
   ],
   "source": [
    "browser.get('https://www.wholefoodsmarket.com/products/dairy-eggs?featured=on-sale')\n",
    "try:\n",
    "    load = browser.find_element_by_xpath(\"//span[contains(text(),'Load more')]\") \n",
    "    while True:\n",
    "        load.click()\n",
    "        time.sleep(2.5) # Must have a 2 sec time lag so the 'load more' button can reappear\n",
    "except:\n",
    "    print(\"Results Filled\") # If all possible data is populated\n",
    "all_items = browser.find_elements_by_xpath(\"//div[@data-testid='product-tile']\") # Pull all product elements by xpath\n",
    "dairy_eggs = [items.text.splitlines() for items in all_items] # Create a list comprehension of all product elements with text shown and lines split"
   ]
  },
  {
   "cell_type": "code",
   "execution_count": 60,
   "metadata": {},
   "outputs": [
    {
     "name": "stdout",
     "output_type": "stream",
     "text": [
      "Results Filled\n"
     ]
    }
   ],
   "source": [
    "browser.get('https://www.wholefoodsmarket.com/products/meat?featured=on-sale')\n",
    "try:\n",
    "    load = browser.find_element_by_xpath(\"//span[contains(text(),'Load more')]\") \n",
    "    while True:\n",
    "        load.click()\n",
    "        time.sleep(2.5) # Must have a 2 sec time lag so the 'load more' button can reappear\n",
    "except:\n",
    "    print(\"Results Filled\") # If all possible data is populated\n",
    "all_items = browser.find_elements_by_xpath(\"//div[@data-testid='product-tile']\") # Pull all product elements by xpath\n",
    "meat = [items.text.splitlines() for items in all_items] # Create a list comprehension of all product elements with text shown and lines split"
   ]
  },
  {
   "cell_type": "code",
   "execution_count": 40,
   "metadata": {},
   "outputs": [
    {
     "name": "stdout",
     "output_type": "stream",
     "text": [
      "Results Filled\n"
     ]
    }
   ],
   "source": [
    "browser.get('https://www.wholefoodsmarket.com/products/prepared-foods?featured=on-sale')\n",
    "try:\n",
    "    load = browser.find_element_by_xpath(\"//span[contains(text(),'Load more')]\") \n",
    "    while True:\n",
    "        load.click()\n",
    "        time.sleep(2.5) # Must have a 2 sec time lag so the 'load more' button can reappear\n",
    "except:\n",
    "    print(\"Results Filled\") # If all possible data is populated\n",
    "all_items = browser.find_elements_by_xpath(\"//div[@data-testid='product-tile']\") # Pull all product elements by xpath\n",
    "prepared_foods = [items.text.splitlines() for items in all_items] # Create a list comprehension of all product elements with text shown and lines split"
   ]
  },
  {
   "cell_type": "code",
   "execution_count": 61,
   "metadata": {},
   "outputs": [
    {
     "name": "stdout",
     "output_type": "stream",
     "text": [
      "Results Filled\n"
     ]
    }
   ],
   "source": [
    "browser.get('https://www.wholefoodsmarket.com/products/pantry-essentials?featured=on-sale')\n",
    "try:\n",
    "    load = browser.find_element_by_xpath(\"//span[contains(text(),'Load more')]\") \n",
    "    while True:\n",
    "        load.click()\n",
    "        time.sleep(2.5) # Must have a 2 sec time lag so the 'load more' button can reappear\n",
    "except:\n",
    "    print(\"Results Filled\") # If all possible data is populated\n",
    "all_items = browser.find_elements_by_xpath(\"//div[@data-testid='product-tile']\") # Pull all product elements by xpath\n",
    "pantry_essentials = [items.text.splitlines() for items in all_items] # Create a list comprehension of all product elements with text shown and lines split"
   ]
  },
  {
   "cell_type": "code",
   "execution_count": 62,
   "metadata": {},
   "outputs": [
    {
     "name": "stdout",
     "output_type": "stream",
     "text": [
      "Results Filled\n"
     ]
    }
   ],
   "source": [
    "browser.get('https://www.wholefoodsmarket.com/products/breads-rolls-bakery?featured=on-sale')\n",
    "try:\n",
    "    load = browser.find_element_by_xpath(\"//span[contains(text(),'Load more')]\") \n",
    "    while True:\n",
    "        load.click()\n",
    "        time.sleep(2.5) # Must have a 2 sec time lag so the 'load more' button can reappear\n",
    "except:\n",
    "    print(\"Results Filled\") # If all possible data is populated\n",
    "all_items = browser.find_elements_by_xpath(\"//div[@data-testid='product-tile']\") # Pull all product elements by xpath\n",
    "bread_rolls_bakery = [items.text.splitlines() for items in all_items] # Create a list comprehension of all product elements with text shown and lines split"
   ]
  },
  {
   "cell_type": "code",
   "execution_count": 63,
   "metadata": {},
   "outputs": [
    {
     "name": "stdout",
     "output_type": "stream",
     "text": [
      "Results Filled\n"
     ]
    }
   ],
   "source": [
    "browser.get('https://www.wholefoodsmarket.com/products/desserts?featured=on-sale')\n",
    "try:\n",
    "    load = browser.find_element_by_xpath(\"//span[contains(text(),'Load more')]\") \n",
    "    while True:\n",
    "        load.click()\n",
    "        time.sleep(2.5) # Must have a 2 sec time lag so the 'load more' button can reappear\n",
    "except:\n",
    "    print(\"Results Filled\") # If all possible data is populated\n",
    "all_items = browser.find_elements_by_xpath(\"//div[@data-testid='product-tile']\") # Pull all product elements by xpath\n",
    "desserts = [items.text.splitlines() for items in all_items] # Create a list comprehension of all product elements with text shown and lines split"
   ]
  },
  {
   "cell_type": "code",
   "execution_count": 64,
   "metadata": {},
   "outputs": [
    {
     "name": "stdout",
     "output_type": "stream",
     "text": [
      "Results Filled\n"
     ]
    }
   ],
   "source": [
    "browser.get('https://www.wholefoodsmarket.com/products/body-care?featured=on-sale')\n",
    "try:\n",
    "    load = browser.find_element_by_xpath(\"//span[contains(text(),'Load more')]\") \n",
    "    while True:\n",
    "        load.click()\n",
    "        time.sleep(2.5) # Must have a 2 sec time lag so the 'load more' button can reappear\n",
    "except:\n",
    "    print(\"Results Filled\") # If all possible data is populated\n",
    "all_items = browser.find_elements_by_xpath(\"//div[@data-testid='product-tile']\") # Pull all product elements by xpath\n",
    "body_care = [items.text.splitlines() for items in all_items] # Create a list comprehension of all product elements with text shown and lines split"
   ]
  },
  {
   "cell_type": "code",
   "execution_count": 65,
   "metadata": {},
   "outputs": [
    {
     "name": "stdout",
     "output_type": "stream",
     "text": [
      "Results Filled\n"
     ]
    }
   ],
   "source": [
    "browser.get('https://www.wholefoodsmarket.com/products/supplements?featured=on-sale')\n",
    "try:\n",
    "    load = browser.find_element_by_xpath(\"//span[contains(text(),'Load more')]\") \n",
    "    while True:\n",
    "        load.click()\n",
    "        time.sleep(2.5) # Must have a 2 sec time lag so the 'load more' button can reappear\n",
    "except:\n",
    "    print(\"Results Filled\") # If all possible data is populated\n",
    "all_items = browser.find_elements_by_xpath(\"//div[@data-testid='product-tile']\") # Pull all product elements by xpath\n",
    "supplements = [items.text.splitlines() for items in all_items] # Create a list comprehension of all product elements with text shown and lines split"
   ]
  },
  {
   "cell_type": "code",
   "execution_count": 66,
   "metadata": {},
   "outputs": [
    {
     "name": "stdout",
     "output_type": "stream",
     "text": [
      "Results Filled\n"
     ]
    }
   ],
   "source": [
    "browser.get('https://www.wholefoodsmarket.com/products/frozen-foods?featured=on-sale')\n",
    "try:\n",
    "    load = browser.find_element_by_xpath(\"//span[contains(text(),'Load more')]\") \n",
    "    while True:\n",
    "        load.click()\n",
    "        time.sleep(2.5) # Must have a 2 sec time lag so the 'load more' button can reappear\n",
    "except:\n",
    "    print(\"Results Filled\") # If all possible data is populated\n",
    "all_items = browser.find_elements_by_xpath(\"//div[@data-testid='product-tile']\") # Pull all product elements by xpath\n",
    "frozen_foods = [items.text.splitlines() for items in all_items] # Create a list comprehension of all product elements with text shown and lines split"
   ]
  },
  {
   "cell_type": "code",
   "execution_count": 67,
   "metadata": {},
   "outputs": [
    {
     "name": "stdout",
     "output_type": "stream",
     "text": [
      "Results Filled\n"
     ]
    }
   ],
   "source": [
    "browser.get('https://www.wholefoodsmarket.com/products/snacks-chips-salsas-dips?featured=on-sale')\n",
    "try:\n",
    "    load = browser.find_element_by_xpath(\"//span[contains(text(),'Load more')]\") \n",
    "    while True:\n",
    "        load.click()\n",
    "        time.sleep(2.5) # Must have a 2 sec time lag so the 'load more' button can reappear\n",
    "except:\n",
    "    print(\"Results Filled\") # If all possible data is populated\n",
    "all_items = browser.find_elements_by_xpath(\"//div[@data-testid='product-tile']\") # Pull all product elements by xpath\n",
    "snacks_chips_salsas_dips = [items.text.splitlines() for items in all_items] # Create a list comprehension of all product elements with text shown and lines split"
   ]
  },
  {
   "cell_type": "code",
   "execution_count": 68,
   "metadata": {},
   "outputs": [
    {
     "name": "stdout",
     "output_type": "stream",
     "text": [
      "Results Filled\n"
     ]
    }
   ],
   "source": [
    "browser.get('https://www.wholefoodsmarket.com/products/seafood?featured=on-sale')\n",
    "try:\n",
    "    load = browser.find_element_by_xpath(\"//span[contains(text(),'Load more')]\") \n",
    "    while True:\n",
    "        load.click()\n",
    "        time.sleep(2.5) # Must have a 2 sec time lag so the 'load more' button can reappear\n",
    "except:\n",
    "    print(\"Results Filled\") # If all possible data is populated\n",
    "all_items = browser.find_elements_by_xpath(\"//div[@data-testid='product-tile']\") # Pull all product elements by xpath\n",
    "seafood = [items.text.splitlines() for items in all_items] # Create a list comprehension of all product elements with text shown and lines split"
   ]
  },
  {
   "cell_type": "code",
   "execution_count": 69,
   "metadata": {},
   "outputs": [
    {
     "name": "stdout",
     "output_type": "stream",
     "text": [
      "Results Filled\n"
     ]
    }
   ],
   "source": [
    "browser.get('https://www.wholefoodsmarket.com/products/beverages?featured=on-sale')\n",
    "try:\n",
    "    load = browser.find_element_by_xpath(\"//span[contains(text(),'Load more')]\") \n",
    "    while True:\n",
    "        load.click()\n",
    "        time.sleep(2.5) # Must have a 2 sec time lag so the 'load more' button can reappear\n",
    "except:\n",
    "    print(\"Results Filled\") # If all possible data is populated\n",
    "all_items = browser.find_elements_by_xpath(\"//div[@data-testid='product-tile']\") # Pull all product elements by xpath\n",
    "Beverages = [items.text.splitlines() for items in all_items] # Create a list comprehension of all product elements with text shown and lines split"
   ]
  },
  {
   "cell_type": "code",
   "execution_count": 71,
   "metadata": {},
   "outputs": [
    {
     "name": "stdout",
     "output_type": "stream",
     "text": [
      "Results Filled\n"
     ]
    }
   ],
   "source": [
    "browser.get('https://www.wholefoodsmarket.com/products/beauty?featured=on-sale')\n",
    "try:\n",
    "    load = browser.find_element_by_xpath(\"//span[contains(text(),'Load more')]\") \n",
    "    while True:\n",
    "        load.click()\n",
    "        time.sleep(2.5) # Must have a 2 sec time lag so the 'load more' button can reappear\n",
    "except:\n",
    "    print(\"Results Filled\") # If all possible data is populated\n",
    "all_items = browser.find_elements_by_xpath(\"//div[@data-testid='product-tile']\") # Pull all product elements by xpath\n",
    "beauty = [items.text.splitlines() for items in all_items] # Create a list comprehension of all product elements with text shown and lines split"
   ]
  },
  {
   "cell_type": "code",
   "execution_count": 72,
   "metadata": {},
   "outputs": [
    {
     "name": "stdout",
     "output_type": "stream",
     "text": [
      "Results Filled\n"
     ]
    }
   ],
   "source": [
    "browser.get('https://www.wholefoodsmarket.com/products/floral?featured=on-sale')\n",
    "try:\n",
    "    load = browser.find_element_by_xpath(\"//span[contains(text(),'Load more')]\") \n",
    "    while True:\n",
    "        load.click()\n",
    "        time.sleep(2.5) # Must have a 2 sec time lag so the 'load more' button can reappear\n",
    "except:\n",
    "    print(\"Results Filled\") # If all possible data is populated\n",
    "all_items = browser.find_elements_by_xpath(\"//div[@data-testid='product-tile']\") # Pull all product elements by xpath\n",
    "floral = [items.text.splitlines() for items in all_items] # Create a list comprehension of all product elements with text shown and lines split"
   ]
  },
  {
   "cell_type": "code",
   "execution_count": 73,
   "metadata": {},
   "outputs": [
    {
     "data": {
      "text/plain": [
       "1586"
      ]
     },
     "execution_count": 73,
     "metadata": {},
     "output_type": "execute_result"
    }
   ],
   "source": [
    "len(produce) + len(dairy_eggs) + len(meat) + len(prepared_foods) + len(pantry_essentials) + len(bread_rolls_bakery) + len(desserts) + len(body_care) + len(supplements) + len(frozen_foods) + len(snacks_chips_salsas_dips) + len(seafood) + len(Beverages) + len(beauty) + len(floral)"
   ]
  },
  {
   "cell_type": "code",
   "execution_count": 74,
   "metadata": {},
   "outputs": [
    {
     "data": {
      "text/plain": [
       "1611"
      ]
     },
     "execution_count": 74,
     "metadata": {},
     "output_type": "execute_result"
    }
   ],
   "source": [
    "len(list_of_items)"
   ]
  },
  {
   "cell_type": "code",
   "execution_count": 77,
   "metadata": {},
   "outputs": [],
   "source": [
    "list_of_categories = ['produce', 'dairy_eggs', 'meat', 'prepared_foods', 'pantry_essentials', 'bread_rolls_bakery', 'desserts', 'body_care', 'supplements', 'frozen_foods', 'snacks_chips_salsas_dips', 'seafood', 'Beverages', 'beauty', 'floral']\n",
    "len(list_of_categories)"
   ]
  },
  {
   "cell_type": "code",
   "execution_count": 211,
   "metadata": {},
   "outputs": [],
   "source": [
    "d = {\"company\":[], \"product\":[], \"regular\":[], \"sale\":[], \"prime\":[], \"category\":[]} # Create a Dict"
   ]
  },
  {
   "cell_type": "code",
   "execution_count": 212,
   "metadata": {},
   "outputs": [
    {
     "name": "stdout",
     "output_type": "stream",
     "text": [
      "All column lengths are equal, there are 1586 products for sale today.\n"
     ]
    }
   ],
   "source": [
    "for category in list_of_categories:\n",
    "    for i in range(len(globals()[category])):                        # At the range of the length of all items (will loop i times)\n",
    "            d[\"company\"].append(globals()[category][i][-5])      # Append respective indexed data in list_of_items[i] for each column\n",
    "            d[\"product\"].append(globals()[category][i][-4])      # | -\n",
    "            d[\"regular\"].append(globals()[category][i][-3][8:])  # | * \n",
    "            d[\"sale\"].append(globals()[category][i][-2][10:])    # | /\n",
    "            d[\"prime\"].append(globals()[category][i][-1][18:])\n",
    "            d[\"category\"].append(str(category))   # | \\\n",
    "#------------------------------------------------------# | /\n",
    "if len(d['company']) == len(d['product']) == len(d['regular']) == len(d['sale']) == len(d['category']):  # Verify that the length of each column is == to each other, otherwise the dataframe wont be populated   \n",
    "    print(\"All column lengths are equal, there are \" + str(len(d['company'])) + \" products for sale today.\")\n",
    "else:                                                  # | \\        \n",
    "    print(\"Error, column lengths are not equal.\")      # | /\n",
    "pd.set_option(\"display.max_rows\", 500)                 # | \\ Change Pandas option to view more rows of the df\n",
    "df = pd.DataFrame.from_dict(d)                         # | / Turn our Dict to a Pandas DataFrame  "
   ]
  },
  {
   "cell_type": "code",
   "execution_count": 213,
   "metadata": {},
   "outputs": [],
   "source": [
    "# BAKERY is not a product name, WholeFoods sometimes lists the origin as the product name since it is made in house\n",
    "# Because of this we will grab the indices where this is True and remove all rows that pertain to these indices\n",
    "# We will then create a new dictionary and re-append all items again with shifted index values to properly fit each KEY and Value (Ex. Bakery goes under Company in this case)\n",
    "# We will then set this new dict as df2, and reinstantiate df2 as df2 where 'BAKERY' only exists \n",
    "# Finally we concat the df where we dropped the rows, and the new df2 that has our new 'BAKERY' rows\n",
    "if any(list(df['product'].str.contains('BAKERY'))):        \n",
    "    ix = df[df['product'].str.contains('BAKERY')].index\n",
    "    df = df.drop(list(ix))\n",
    "    a = {\"company\":[], \"product\":[], \"regular\":[], \"sale\":[], \"prime\":[]}\n",
    "    for i in range(len(list_of_items)):                        \n",
    "        a[\"company\"].append(list_of_items[i][-4])\n",
    "        a[\"product\"].append(list_of_items[i][-3])\n",
    "        a[\"regular\"].append(list_of_items[i][-2][8:])\n",
    "        a[\"sale\"].append(list_of_items[i][-2][8:])\n",
    "        a[\"prime\"].append(list_of_items[i][-1][19:])\n",
    "    df2 = pd.DataFrame.from_dict(a)\n",
    "    df2 = df2[df2['company'].str.contains('BAKERY')]\n",
    "    df = pd.concat([df,df2]).sort_index()"
   ]
  },
  {
   "cell_type": "code",
   "execution_count": 216,
   "metadata": {},
   "outputs": [
    {
     "data": {
      "text/html": [
       "<div>\n",
       "<style scoped>\n",
       "    .dataframe tbody tr th:only-of-type {\n",
       "        vertical-align: middle;\n",
       "    }\n",
       "\n",
       "    .dataframe tbody tr th {\n",
       "        vertical-align: top;\n",
       "    }\n",
       "\n",
       "    .dataframe thead th {\n",
       "        text-align: right;\n",
       "    }\n",
       "</style>\n",
       "<table border=\"1\" class=\"dataframe\">\n",
       "  <thead>\n",
       "    <tr style=\"text-align: right;\">\n",
       "      <th></th>\n",
       "      <th>company</th>\n",
       "      <th>product</th>\n",
       "      <th>regular</th>\n",
       "      <th>sale</th>\n",
       "      <th>prime</th>\n",
       "      <th>category</th>\n",
       "    </tr>\n",
       "  </thead>\n",
       "  <tbody>\n",
       "    <tr>\n",
       "      <th>860</th>\n",
       "      <td>Ultima Replenisher</td>\n",
       "      <td>Lemonade Electrolyte Powder Packet, 0.12 oz</td>\n",
       "      <td>1.99</td>\n",
       "      <td>79¢</td>\n",
       "      <td>71¢</td>\n",
       "      <td>supplements</td>\n",
       "    </tr>\n",
       "    <tr>\n",
       "      <th>861</th>\n",
       "      <td>Sunfood™</td>\n",
       "      <td>Organic Camu Camu Powder, 3.5 oz</td>\n",
       "      <td>19.99</td>\n",
       "      <td>14.99</td>\n",
       "      <td>13.49</td>\n",
       "      <td>supplements</td>\n",
       "    </tr>\n",
       "    <tr>\n",
       "      <th>862</th>\n",
       "      <td>Nature's Secret</td>\n",
       "      <td>Super Cleanse, 100 tablets</td>\n",
       "      <td>14.29</td>\n",
       "      <td>12.29</td>\n",
       "      <td>11.06</td>\n",
       "      <td>supplements</td>\n",
       "    </tr>\n",
       "    <tr>\n",
       "      <th>863</th>\n",
       "      <td>Country Life</td>\n",
       "      <td>Magnesium 300 Mg With Silica, 60 capsules</td>\n",
       "      <td>8.79</td>\n",
       "      <td>7.49</td>\n",
       "      <td>6.74</td>\n",
       "      <td>supplements</td>\n",
       "    </tr>\n",
       "    <tr>\n",
       "      <th>864</th>\n",
       "      <td>New Chapter</td>\n",
       "      <td>Prostate 5LX™, 60 vegetarian capsules</td>\n",
       "      <td>31.49</td>\n",
       "      <td>24.99</td>\n",
       "      <td>22.49</td>\n",
       "      <td>supplements</td>\n",
       "    </tr>\n",
       "    <tr>\n",
       "      <th>...</th>\n",
       "      <td>...</td>\n",
       "      <td>...</td>\n",
       "      <td>...</td>\n",
       "      <td>...</td>\n",
       "      <td>...</td>\n",
       "      <td>...</td>\n",
       "    </tr>\n",
       "    <tr>\n",
       "      <th>1581</th>\n",
       "      <td>Not Your Mother's</td>\n",
       "      <td>Activated Bamboo Charcoal &amp; Purple Moonstone C...</td>\n",
       "      <td>9.39</td>\n",
       "      <td>7.99</td>\n",
       "      <td>7.19</td>\n",
       "      <td>beauty</td>\n",
       "    </tr>\n",
       "    <tr>\n",
       "      <th>1582</th>\n",
       "      <td>ANDALOU NATURALS</td>\n",
       "      <td>Sweet Orange Argan Conditioner, 11.5 fl oz</td>\n",
       "      <td>9.99</td>\n",
       "      <td>7.99</td>\n",
       "      <td>7.19</td>\n",
       "      <td>beauty</td>\n",
       "    </tr>\n",
       "    <tr>\n",
       "      <th>1583</th>\n",
       "      <td>ANDALOU NATURALS</td>\n",
       "      <td>Lavender Biotin Conditioner, 11.5 fl oz e</td>\n",
       "      <td>9.99</td>\n",
       "      <td>7.99</td>\n",
       "      <td>7.19</td>\n",
       "      <td>beauty</td>\n",
       "    </tr>\n",
       "    <tr>\n",
       "      <th>1584</th>\n",
       "      <td>FLORAL</td>\n",
       "      <td>Sourced For Good Dozen Roses 40cm</td>\n",
       "      <td>12.99</td>\n",
       "      <td>9.99</td>\n",
       "      <td>8.99</td>\n",
       "      <td>floral</td>\n",
       "    </tr>\n",
       "    <tr>\n",
       "      <th>1585</th>\n",
       "      <td>FLORAL</td>\n",
       "      <td>3 Stem White Hydrangeas</td>\n",
       "      <td>7.99</td>\n",
       "      <td>5.99</td>\n",
       "      <td>5.39</td>\n",
       "      <td>floral</td>\n",
       "    </tr>\n",
       "  </tbody>\n",
       "</table>\n",
       "<p>726 rows × 6 columns</p>\n",
       "</div>"
      ],
      "text/plain": [
       "                 company                                            product  \\\n",
       "860   Ultima Replenisher        Lemonade Electrolyte Powder Packet, 0.12 oz   \n",
       "861             Sunfood™                   Organic Camu Camu Powder, 3.5 oz   \n",
       "862      Nature's Secret                         Super Cleanse, 100 tablets   \n",
       "863         Country Life          Magnesium 300 Mg With Silica, 60 capsules   \n",
       "864          New Chapter              Prostate 5LX™, 60 vegetarian capsules   \n",
       "...                  ...                                                ...   \n",
       "1581   Not Your Mother's  Activated Bamboo Charcoal & Purple Moonstone C...   \n",
       "1582    ANDALOU NATURALS         Sweet Orange Argan Conditioner, 11.5 fl oz   \n",
       "1583    ANDALOU NATURALS          Lavender Biotin Conditioner, 11.5 fl oz e   \n",
       "1584              FLORAL                  Sourced For Good Dozen Roses 40cm   \n",
       "1585              FLORAL                            3 Stem White Hydrangeas   \n",
       "\n",
       "     regular   sale  prime     category  \n",
       "860     1.99    79¢    71¢  supplements  \n",
       "861    19.99  14.99  13.49  supplements  \n",
       "862    14.29  12.29  11.06  supplements  \n",
       "863     8.79   7.49   6.74  supplements  \n",
       "864    31.49  24.99  22.49  supplements  \n",
       "...      ...    ...    ...          ...  \n",
       "1581    9.39   7.99   7.19       beauty  \n",
       "1582    9.99   7.99   7.19       beauty  \n",
       "1583    9.99   7.99   7.19       beauty  \n",
       "1584   12.99   9.99   8.99       floral  \n",
       "1585    7.99   5.99   5.39       floral  \n",
       "\n",
       "[726 rows x 6 columns]"
      ]
     },
     "execution_count": 216,
     "metadata": {},
     "output_type": "execute_result"
    }
   ],
   "source": [
    "df.loc[860:]"
   ]
  },
  {
   "cell_type": "code",
   "execution_count": 215,
   "metadata": {},
   "outputs": [
    {
     "name": "stderr",
     "output_type": "stream",
     "text": [
      "C:\\Users\\water\\AppData\\Local\\Temp/ipykernel_22012/4231148284.py:130: FutureWarning: The default value of regex will change from True to False in a future version. In addition, single character regular expressions will *not* be treated as literal strings when regex=True.\n",
      "  df['sale'] = df['sale'].str.replace(r'$', '')\n",
      "C:\\Users\\water\\AppData\\Local\\Temp/ipykernel_22012/4231148284.py:131: FutureWarning: The default value of regex will change from True to False in a future version. In addition, single character regular expressions will *not* be treated as literal strings when regex=True.\n",
      "  df['prime'] = df['prime'].str.replace(r'$', '')\n",
      "C:\\Users\\water\\AppData\\Local\\Temp/ipykernel_22012/4231148284.py:132: FutureWarning: The default value of regex will change from True to False in a future version. In addition, single character regular expressions will *not* be treated as literal strings when regex=True.\n",
      "  df['regular'] = df['regular'].str.replace(r'$', '')\n"
     ]
    }
   ],
   "source": [
    "\n",
    "if any(list(df['product'].str.contains('Original Vegan Bagels, 15.87 oz'))):                         \n",
    "    ix = df[df['product'].str.contains('Original Vegan Bagels, 15.87 oz')].index\n",
    "    for i in range(len(ix)):\n",
    "        df.loc[ix[i],'company'] = \"Soozy's\"\n",
    "if any(list(df['product'].str.contains('Original Sandwich Bread, 22.2 oz'))):                         \n",
    "    ix = df[df['product'].str.contains('Original Sandwich Bread, 22.2 oz')].index\n",
    "    for i in range(len(ix)):\n",
    "        df.loc[ix[i],'company'] = \"Soozy's\"\n",
    "if any(list(df['product'].str.contains('Arctic Char Fillet'))):                         \n",
    "    ix = df[df['product'].str.contains('Arctic Char Fillet')].index\n",
    "    for i in range(len(ix)):\n",
    "        df.loc[ix[i],'company'] = \"Whole Foods Market\"\n",
    "\n",
    "# Data cleaning/shifting for products by Brita\n",
    "if any(list(df['company'].str.contains('/'))) and any(list(df['product'].str.contains('Brita'))):\n",
    "    ix = df[df['company'].str.contains('/')][df['product'].str.contains('Brita')].index\n",
    "    for i in range(len(ix)):\n",
    "        df.loc[ix[i], 'company'] = df.loc[ix[i], 'product']\n",
    "        df.loc[ix[i], 'product'] = list_of_items[ix[i]][-3]\n",
    "        df.loc[ix[i], 'regular'] = list_of_items[ix[i]][-2][8:]\n",
    "        df.loc[ix[i], 'sale'] = 0\n",
    "\n",
    "# Data cleaning/shifting for products\n",
    "if any(list(df['product'].str.contains(\"Easy Peel White Shrimp 8-12 Count\"))):\n",
    "    ix = df[df['product'].str.contains(\"Easy Peel White Shrimp 8-12 Count\")].index\n",
    "    for i in range(len(ix)):\n",
    "        df.loc[ix[i],'company'] = \"Whole Foods Market\"\n",
    "if any(list(df['product'].str.contains(\"Organic Freeze Dried Chives, 0.14 oz\"))):\n",
    "    ix = df[df['product'].str.contains(\"Organic Freeze Dried Chives, 0.14 oz\")].index\n",
    "    for i in range(len(ix)):\n",
    "        df.loc[ix[i],'company'] = \"Green Garden\"\n",
    "if any(list(df['product'].str.contains(\"Organic Freeze Dried Thyme, 0.26 oz\"))):\n",
    "    ix = df[df['product'].str.contains(\"Organic Freeze Dried Thyme, 0.26 oz\")].index\n",
    "    for i in range(len(ix)):\n",
    "        df.loc[ix[i],'company'] = \"Green Garden\"\n",
    "if any(list(df['product'].str.contains(\"Organic Mild Plant Taco Meatless Crumbles\"))):\n",
    "    ix = df[df['product'].str.contains(\"Organic Mild Plant Taco Meatless Crumbles\")].index\n",
    "    for i in range(len(ix)):\n",
    "        df.loc[ix[i],'company'] = \"PLANT BOSS\"\n",
    "if any(list(df['product'].str.contains(\"Organic Multicolor Kale\"))):\n",
    "    ix = df[df['product'].str.contains(\"Organic Multicolor Kale\")].index\n",
    "    for i in range(len(ix)):\n",
    "        df.loc[ix[i],'company'] = \"Whole Foods Market\"        \n",
    "\n",
    "# Data cleaning/shifting for products by Soozy's\n",
    "if any(list(df['product'].str.contains(\"Soozy's Birthday Cake Cookies\"))):\n",
    "    ix = df[df['product'].str.contains(\"Soozy's Birthday Cake Cookies\")].index\n",
    "    for i in range(len(ix)):\n",
    "        df.loc[ix[i],'company'] = \"Soozy's\"\n",
    "if any(list(df['product'].str.contains(\"Soozys Chocolate Chip Cookies\"))):\n",
    "    ix = df[df['product'].str.contains(\"Soozys Chocolate Chip Cookies\")].index\n",
    "    for i in range(len(ix)):\n",
    "        df.loc[ix[i],'company'] = \"Soozy's\"\n",
    "\n",
    "# Data cleaning/shifting for products by Whole Foods Market\n",
    "if any(list(df['product'].str.contains('Whole Foods Market'))):\n",
    "    ix = df[df['product'].str.contains('Whole Foods Market')].index\n",
    "    for i in range(len(ix)):\n",
    "        df.loc[ix[i], 'company'] = df.loc[ix[i], 'product']\n",
    "        df.loc[ix[i], 'product'] = list_of_items[ix[i]][-3]\n",
    "        df.loc[ix[i], 'regular'] = list_of_items[ix[i]][-2][8:]\n",
    "        df['sale'] = df['sale'].str.rstrip('  /lb')\n",
    "        df['prime'] = df['prime'].str.rstrip('  /lb')\n",
    "        df['regular'] = df['regular'].str.rstrip('  /lb')\n",
    "        df.loc[ix[i], 'sale'] = 0\n",
    "\n",
    "# Data cleaning/shifting for products by CAMELBAK\n",
    "if any(list(df['product'].str.contains('CAMELBAK'))):\n",
    "    ix = df[df['product'].str.contains('CAMELBAK')].index\n",
    "    for i in range(len(ix)):\n",
    "        df.loc[ix[i], 'company'] = df.loc[ix[i], 'product']\n",
    "        df.loc[ix[i], 'product'] = list_of_items[ix[i]][-3]\n",
    "        df.loc[ix[i], 'regular'] = list_of_items[ix[i]][-2][8:]\n",
    "        df.loc[ix[i], 'sale'] = 0\n",
    "\n",
    "# Data cleaning/shifting for products by NEW WAVE\n",
    "if any(list(df['product'].str.contains('NEW WAVE'))):\n",
    "    ix = df[df['product'].str.contains('NEW WAVE')].index\n",
    "    for i in range(len(ix)):\n",
    "        df.loc[ix[i], 'company'] = df.loc[ix[i], 'product']\n",
    "        df.loc[ix[i], 'product'] = list_of_items[ix[i]][-3]\n",
    "        df.loc[ix[i], 'regular'] = list_of_items[ix[i]][-2][8:]\n",
    "        df.loc[ix[i], 'sale'] = 0\n",
    "\n",
    "# Data cleaning/shifting for products by Enviro\n",
    "if any(list(df['product'].str.contains('Enviro'))):\n",
    "    ix = df[df['product'].str.contains('Enviro')].index\n",
    "    for i in range(len(ix)):\n",
    "        df.loc[ix[i], 'company'] = df.loc[ix[i], 'product']\n",
    "        df.loc[ix[i], 'product'] = list_of_items[ix[i]][-3]\n",
    "        df.loc[ix[i], 'regular'] = list_of_items[ix[i]][-2][8:]\n",
    "        df.loc[ix[i], 'sale'] = 0\n",
    "\n",
    "# Data cleaning/shifting for products by HYDRO FLASK\n",
    "if any(list(df['product'].str.contains('HYDRO FLASK'))):\n",
    "    ix = df[df['product'].str.contains('HYDRO FLASK')].index\n",
    "    for i in range(len(ix)):\n",
    "        df.loc[ix[i],'company'] = df.loc[ix[i], 'product']\n",
    "        df.loc[ix[i],'product'] = list_of_items[ix[i]][-3]\n",
    "        df.loc[ix[i], 'regular'] = list_of_items[ix[i]][-2][8:]\n",
    "        df.loc[ix[i], 'sale'] = 0\n",
    "\n",
    "# Data cleaning/shifting for products by SUNDESA\n",
    "if any(list(df['product'].str.contains('SUNDESA'))):\n",
    "    ix = df[df['product'].str.contains('SUNDESA')].index\n",
    "    for i in range(len(ix)):\n",
    "        df.loc[ix[i],'company'] = df.loc[ix[i], 'product']\n",
    "        df.loc[ix[i],'product'] = df.loc[ix[i], 'regular']\n",
    "        df.loc[ix[i], 'regular'] = list_of_items[ix[i]][-2][8:]\n",
    "        df.loc[ix[i], 'sale'] = 0\n",
    "\n",
    "if any(list(df['product'].str.contains('Lemonade Electrolyte Powder Packet, 0.12 oz'))):\n",
    "    ix = df[df['product'].str.contains('Lemonade Electrolyte Powder Packet, 0.12 oz')].index\n",
    "    for i in range(len(ix)):\n",
    "        df.loc[ix[i], 'regular'] = list_of_items[ix[i]][-3][7:]\n",
    "if any(list(df['product'].str.contains('Wild Raspberry Electrolyte Powder Packet, 0.11 oz'))):\n",
    "    ix = df[df['product'].str.contains('Wild Raspberry Electrolyte Powder Packet, 0.11 oz')].index\n",
    "    for i in range(len(ix)):\n",
    "        df.loc[ix[i], 'regular'] = list_of_items[ix[i]][-3][7:]\n",
    "if any(list(df['product'].str.contains('Orange Pkt, 0.3 oz'))):\n",
    "    ix = df[df['product'].str.contains('Orange Pkt, 0.3 oz')].index\n",
    "    for i in range(len(ix)):\n",
    "        df.loc[ix[i], 'regular'] = list_of_items[ix[i]][-3][7:]\n",
    "\n",
    "if any(list(df['company'].str.contains('365'))):\n",
    "    ix = df[df['company'].str.contains('365')].index\n",
    "    for i in range(len(ix)):\n",
    "        df.loc[ix[i], 'company'] = 'Whole Foods Market'\n",
    "\n",
    "df['sale'] = df['sale'].str.replace(r'$', '')\n",
    "df['prime'] = df['prime'].str.replace(r'$', '')\n",
    "df['regular'] = df['regular'].str.replace(r'$', '')"
   ]
  },
  {
   "cell_type": "code",
   "execution_count": 217,
   "metadata": {},
   "outputs": [],
   "source": [
    "d = df.to_dict('list') # Take our cleaned dataframe and convert it to a dictionary for more cleaning\n",
    "\n",
    "for i in range(len(d['sale'])):                                                \n",
    "    if isinstance(d['sale'][i], str) and 'for' in d['sale'][i].split():  \n",
    "        d['sale'][i] = float(d['sale'][i].split()[2]) / float(d['sale'][i].split()[0])\n",
    "\n",
    "for i in range(len(d['prime'])):                                                \n",
    "        if isinstance(d['prime'][i], str) and 'for' in d['prime'][i].split():  \n",
    "            d['prime'][i] = float(d['prime'][i].split()[2]) / float(d['prime'][i].split()[0])\n",
    "\n",
    "df = pd.DataFrame.from_dict(d) # turn our dict back into a dataframe"
   ]
  },
  {
   "cell_type": "code",
   "execution_count": 183,
   "metadata": {},
   "outputs": [],
   "source": [
    "df.to_csv('test.csv')"
   ]
  },
  {
   "cell_type": "code",
   "execution_count": 186,
   "metadata": {},
   "outputs": [],
   "source": [
    "df = df.fillna(0) # Sometimes NaN Values are created in Sale Price since there is no Sale Price, We also instantiate 0's here originally when there are no Sale Prices\n",
    "                # Some aggregate functions create NaN's again, so we replace them again with 0\n",
    "                # We check to see if there are any NaN values"
   ]
  },
  {
   "cell_type": "code",
   "execution_count": 219,
   "metadata": {},
   "outputs": [],
   "source": [
    "for i in range(len(df[df['sale'].str.contains('¢', na=False)].index)): # Append a '.' to all values that have a cents symbol\n",
    "    ix = df[df['sale'].str.contains('¢', na=False)].index\n",
    "    df.loc[ix[i]][3] = '.' + df.loc[ix[i]][3]\n",
    "\n",
    "for i in range(len(ix)):\n",
    "    ix = df[df['prime'].str.contains('¢', na=False)].index\n",
    "    df.loc[ix[i]][4] = '.' + df.loc[ix[i]][4]\n",
    "\n",
    "try:\n",
    "    for i in range(len(ix)):\n",
    "        ix = df[df['regular'].str.contains('¢', na=False)].index\n",
    "        df.loc[ix[i]][2] = '.' + df.loc[ix[i]][2]\n",
    "except:\n",
    "    pass\n",
    "\n",
    "ix = df[df['prime'].str.contains('¢', na=False)].index\n",
    "for i in range(len(ix)):\n",
    "    df.loc[ix[i]][4] = df.loc[ix[i]][4].replace('¢', '')\n",
    "\n",
    "ix = df[df['regular'].str.contains('¢', na=False)].index\n",
    "for i in range(len(ix)):\n",
    "    df.loc[ix[i]][2] = df.loc[ix[i]][2].replace('¢', '')\n",
    "\n",
    "ix = df[df['sale'].str.contains('¢', na=False)].index\n",
    "for i in range(len(ix)):\n",
    "    df.loc[ix[i]][3] = df.loc[ix[i]][3].replace('¢', '')\n",
    "df = df.sort_index()  "
   ]
  },
  {
   "cell_type": "code",
   "execution_count": 226,
   "metadata": {},
   "outputs": [
    {
     "data": {
      "text/plain": [
       "company                  False\n",
       "product                  False\n",
       "regular                  False\n",
       "sale                      True\n",
       "prime                     True\n",
       "category                 False\n",
       "sale_discount             True\n",
       "prime_discount            True\n",
       "prime_sale_difference     True\n",
       "discount_bins             True\n",
       "dtype: bool"
      ]
     },
     "execution_count": 226,
     "metadata": {},
     "output_type": "execute_result"
    }
   ],
   "source": [
    "df.isnull().any()"
   ]
  },
  {
   "cell_type": "code",
   "execution_count": 222,
   "metadata": {},
   "outputs": [],
   "source": [
    "df['sale'] = df['sale'].str.replace(r'/lb', '')\n",
    "df['prime'] = df['prime'].str.replace(r'/lb', '')\n",
    "df['regular'] = df['regular'].str.replace(r'/lb', '')"
   ]
  },
  {
   "cell_type": "code",
   "execution_count": 224,
   "metadata": {},
   "outputs": [
    {
     "data": {
      "text/plain": [
       "company             PRODUCE\n",
       "product     Red Bell Pepper\n",
       "regular                2.99\n",
       "sale                   2.49\n",
       "prime                  2.24\n",
       "category            produce\n",
       "Name: 2, dtype: object"
      ]
     },
     "execution_count": 224,
     "metadata": {},
     "output_type": "execute_result"
    }
   ],
   "source": [
    "df.loc[2]"
   ]
  },
  {
   "cell_type": "code",
   "execution_count": 225,
   "metadata": {},
   "outputs": [],
   "source": [
    "df[\"regular\"] = pd.to_numeric(df[\"regular\"]) # change columns to numeric for visualization\n",
    "df[\"sale\"] = pd.to_numeric(df[\"sale\"])\n",
    "df[\"prime\"] = pd.to_numeric(df[\"prime\"])\n",
    "df['sale_discount'] = 1-df['sale']/df['regular'] # create new feature to show percentage discount of sale price\n",
    "df['prime_discount'] = 1-df['prime']/df['regular'] # create new feature to show percentage discount of prime price\n",
    "df['prime_sale_difference'] = df['prime_discount'] - df['sale_discount'] # create new feature to show the difference between sale discount and prime discount\n",
    "df['discount_bins'] = pd.cut(df.prime_discount, [0,.25,.50,.75, 1], labels=['0% to 25%', '25% to 50%', '50% to 75%', '75% or more'])\n",
    "df = df.sort_values(by='prime_discount', ascending=False) # sort by difference"
   ]
  },
  {
   "cell_type": "code",
   "execution_count": 165,
   "metadata": {},
   "outputs": [
    {
     "data": {
      "text/html": [
       "<div>\n",
       "<style scoped>\n",
       "    .dataframe tbody tr th:only-of-type {\n",
       "        vertical-align: middle;\n",
       "    }\n",
       "\n",
       "    .dataframe tbody tr th {\n",
       "        vertical-align: top;\n",
       "    }\n",
       "\n",
       "    .dataframe thead th {\n",
       "        text-align: right;\n",
       "    }\n",
       "</style>\n",
       "<table border=\"1\" class=\"dataframe\">\n",
       "  <thead>\n",
       "    <tr style=\"text-align: right;\">\n",
       "      <th></th>\n",
       "      <th>company</th>\n",
       "      <th>product</th>\n",
       "      <th>regular</th>\n",
       "      <th>sale</th>\n",
       "      <th>prime</th>\n",
       "      <th>category</th>\n",
       "      <th>sale_discount</th>\n",
       "      <th>prime_discount</th>\n",
       "      <th>prime_sale_difference</th>\n",
       "      <th>discount_bins</th>\n",
       "    </tr>\n",
       "  </thead>\n",
       "  <tbody>\n",
       "    <tr>\n",
       "      <th>1454</th>\n",
       "      <td>Ultima Replenisher</td>\n",
       "      <td>Lemonade Electrolyte Powder Packet, 0.12 oz</td>\n",
       "      <td>9.39</td>\n",
       "      <td>0.79</td>\n",
       "      <td>0.71</td>\n",
       "      <td>Beverages</td>\n",
       "      <td>0.915868</td>\n",
       "      <td>0.924388</td>\n",
       "      <td>0.008520</td>\n",
       "      <td>75% or more</td>\n",
       "    </tr>\n",
       "    <tr>\n",
       "      <th>1469</th>\n",
       "      <td>Ultima Replenisher</td>\n",
       "      <td>Wild Raspberry Electrolyte Powder Packet, 0.11 oz</td>\n",
       "      <td>6.69</td>\n",
       "      <td>0.79</td>\n",
       "      <td>0.71</td>\n",
       "      <td>Beverages</td>\n",
       "      <td>0.881913</td>\n",
       "      <td>0.893871</td>\n",
       "      <td>0.011958</td>\n",
       "      <td>75% or more</td>\n",
       "    </tr>\n",
       "    <tr>\n",
       "      <th>866</th>\n",
       "      <td>Ultima Replenisher</td>\n",
       "      <td>Wild Raspberry Electrolyte Powder Packet, 0.11 oz</td>\n",
       "      <td>5.99</td>\n",
       "      <td>0.79</td>\n",
       "      <td>0.71</td>\n",
       "      <td>supplements</td>\n",
       "      <td>0.868114</td>\n",
       "      <td>0.881469</td>\n",
       "      <td>0.013356</td>\n",
       "      <td>75% or more</td>\n",
       "    </tr>\n",
       "    <tr>\n",
       "      <th>893</th>\n",
       "      <td>Ener-C</td>\n",
       "      <td>Orange Pkt, 0.3 oz</td>\n",
       "      <td>4.29</td>\n",
       "      <td>0.59</td>\n",
       "      <td>0.53</td>\n",
       "      <td>supplements</td>\n",
       "      <td>0.862471</td>\n",
       "      <td>0.876457</td>\n",
       "      <td>0.013986</td>\n",
       "      <td>75% or more</td>\n",
       "    </tr>\n",
       "    <tr>\n",
       "      <th>860</th>\n",
       "      <td>Ultima Replenisher</td>\n",
       "      <td>Lemonade Electrolyte Powder Packet, 0.12 oz</td>\n",
       "      <td>1.99</td>\n",
       "      <td>0.79</td>\n",
       "      <td>0.71</td>\n",
       "      <td>supplements</td>\n",
       "      <td>0.603015</td>\n",
       "      <td>0.643216</td>\n",
       "      <td>0.040201</td>\n",
       "      <td>50% to 75%</td>\n",
       "    </tr>\n",
       "    <tr>\n",
       "      <th>...</th>\n",
       "      <td>...</td>\n",
       "      <td>...</td>\n",
       "      <td>...</td>\n",
       "      <td>...</td>\n",
       "      <td>...</td>\n",
       "      <td>...</td>\n",
       "      <td>...</td>\n",
       "      <td>...</td>\n",
       "      <td>...</td>\n",
       "      <td>...</td>\n",
       "    </tr>\n",
       "    <tr>\n",
       "      <th>1514</th>\n",
       "      <td>POP AND BOTTLE</td>\n",
       "      <td>Organic Matcha Green Tea Almond Milk, 11 fl oz</td>\n",
       "      <td>3.49</td>\n",
       "      <td>NaN</td>\n",
       "      <td>NaN</td>\n",
       "      <td>Beverages</td>\n",
       "      <td>NaN</td>\n",
       "      <td>NaN</td>\n",
       "      <td>NaN</td>\n",
       "      <td>NaN</td>\n",
       "    </tr>\n",
       "    <tr>\n",
       "      <th>1516</th>\n",
       "      <td>Rebbl</td>\n",
       "      <td>Organic Cafe Mocha Stacked Coffee, 12 fl oz</td>\n",
       "      <td>3.99</td>\n",
       "      <td>NaN</td>\n",
       "      <td>NaN</td>\n",
       "      <td>Beverages</td>\n",
       "      <td>NaN</td>\n",
       "      <td>NaN</td>\n",
       "      <td>NaN</td>\n",
       "      <td>NaN</td>\n",
       "    </tr>\n",
       "    <tr>\n",
       "      <th>1518</th>\n",
       "      <td>Rebbl</td>\n",
       "      <td>Organic Hazelnut Latte Stacked Coffee, 12 fl oz</td>\n",
       "      <td>3.99</td>\n",
       "      <td>NaN</td>\n",
       "      <td>NaN</td>\n",
       "      <td>Beverages</td>\n",
       "      <td>NaN</td>\n",
       "      <td>NaN</td>\n",
       "      <td>NaN</td>\n",
       "      <td>NaN</td>\n",
       "    </tr>\n",
       "    <tr>\n",
       "      <th>1520</th>\n",
       "      <td>Rebbl</td>\n",
       "      <td>Organic Vanilla Latte Stacked Coffee, 12 fl oz</td>\n",
       "      <td>3.99</td>\n",
       "      <td>NaN</td>\n",
       "      <td>NaN</td>\n",
       "      <td>Beverages</td>\n",
       "      <td>NaN</td>\n",
       "      <td>NaN</td>\n",
       "      <td>NaN</td>\n",
       "      <td>NaN</td>\n",
       "    </tr>\n",
       "    <tr>\n",
       "      <th>1523</th>\n",
       "      <td>Health-Ade</td>\n",
       "      <td>Organic Strawberry Vanilla Probiotic Pop, 12 f...</td>\n",
       "      <td>2.99</td>\n",
       "      <td>NaN</td>\n",
       "      <td>NaN</td>\n",
       "      <td>Beverages</td>\n",
       "      <td>NaN</td>\n",
       "      <td>NaN</td>\n",
       "      <td>NaN</td>\n",
       "      <td>NaN</td>\n",
       "    </tr>\n",
       "  </tbody>\n",
       "</table>\n",
       "<p>1586 rows × 10 columns</p>\n",
       "</div>"
      ],
      "text/plain": [
       "                 company                                            product  \\\n",
       "1454  Ultima Replenisher        Lemonade Electrolyte Powder Packet, 0.12 oz   \n",
       "1469  Ultima Replenisher  Wild Raspberry Electrolyte Powder Packet, 0.11 oz   \n",
       "866   Ultima Replenisher  Wild Raspberry Electrolyte Powder Packet, 0.11 oz   \n",
       "893               Ener-C                                 Orange Pkt, 0.3 oz   \n",
       "860   Ultima Replenisher        Lemonade Electrolyte Powder Packet, 0.12 oz   \n",
       "...                  ...                                                ...   \n",
       "1514      POP AND BOTTLE     Organic Matcha Green Tea Almond Milk, 11 fl oz   \n",
       "1516               Rebbl        Organic Cafe Mocha Stacked Coffee, 12 fl oz   \n",
       "1518               Rebbl    Organic Hazelnut Latte Stacked Coffee, 12 fl oz   \n",
       "1520               Rebbl     Organic Vanilla Latte Stacked Coffee, 12 fl oz   \n",
       "1523          Health-Ade  Organic Strawberry Vanilla Probiotic Pop, 12 f...   \n",
       "\n",
       "      regular  sale  prime     category  sale_discount  prime_discount  \\\n",
       "1454     9.39  0.79   0.71    Beverages       0.915868        0.924388   \n",
       "1469     6.69  0.79   0.71    Beverages       0.881913        0.893871   \n",
       "866      5.99  0.79   0.71  supplements       0.868114        0.881469   \n",
       "893      4.29  0.59   0.53  supplements       0.862471        0.876457   \n",
       "860      1.99  0.79   0.71  supplements       0.603015        0.643216   \n",
       "...       ...   ...    ...          ...            ...             ...   \n",
       "1514     3.49   NaN    NaN    Beverages            NaN             NaN   \n",
       "1516     3.99   NaN    NaN    Beverages            NaN             NaN   \n",
       "1518     3.99   NaN    NaN    Beverages            NaN             NaN   \n",
       "1520     3.99   NaN    NaN    Beverages            NaN             NaN   \n",
       "1523     2.99   NaN    NaN    Beverages            NaN             NaN   \n",
       "\n",
       "      prime_sale_difference discount_bins  \n",
       "1454               0.008520   75% or more  \n",
       "1469               0.011958   75% or more  \n",
       "866                0.013356   75% or more  \n",
       "893                0.013986   75% or more  \n",
       "860                0.040201    50% to 75%  \n",
       "...                     ...           ...  \n",
       "1514                    NaN           NaN  \n",
       "1516                    NaN           NaN  \n",
       "1518                    NaN           NaN  \n",
       "1520                    NaN           NaN  \n",
       "1523                    NaN           NaN  \n",
       "\n",
       "[1586 rows x 10 columns]"
      ]
     },
     "execution_count": 165,
     "metadata": {},
     "output_type": "execute_result"
    }
   ],
   "source": [
    "df.loc[df.isnull().index]"
   ]
  },
  {
   "cell_type": "code",
   "execution_count": null,
   "metadata": {},
   "outputs": [],
   "source": []
  }
 ],
 "metadata": {
  "interpreter": {
   "hash": "27f1aa64630c54bb913cc6243e130d29f70b453b256feeafda74e1bc57199250"
  },
  "kernelspec": {
   "display_name": "Python 3.9.0 64-bit",
   "language": "python",
   "name": "python3"
  },
  "language_info": {
   "codemirror_mode": {
    "name": "ipython",
    "version": 3
   },
   "file_extension": ".py",
   "mimetype": "text/x-python",
   "name": "python",
   "nbconvert_exporter": "python",
   "pygments_lexer": "ipython3",
   "version": "3.9.0"
  },
  "orig_nbformat": 4
 },
 "nbformat": 4,
 "nbformat_minor": 2
}
