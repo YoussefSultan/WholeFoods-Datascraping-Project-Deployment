{
 "cells": [
  {
   "cell_type": "markdown",
   "metadata": {},
   "source": [
    "Directory Walkthrough --->\n"
   ]
  },
  {
   "cell_type": "code",
   "execution_count": 8,
   "metadata": {},
   "outputs": [
    {
     "ename": "NameError",
     "evalue": "name 'location' is not defined",
     "output_type": "error",
     "traceback": [
      "\u001b[1;31m---------------------------------------------------------------------------\u001b[0m",
      "\u001b[1;31mNameError\u001b[0m                                 Traceback (most recent call last)",
      "\u001b[1;32m~\\AppData\\Local\\Temp/ipykernel_26200/4054489662.py\u001b[0m in \u001b[0;36m<module>\u001b[1;34m\u001b[0m\n\u001b[0;32m      8\u001b[0m   \u001b[0mMY_DIR\u001b[0m \u001b[1;33m=\u001b[0m \u001b[0mpathlib\u001b[0m\u001b[1;33m.\u001b[0m\u001b[0mPath\u001b[0m\u001b[1;33m(\u001b[0m\u001b[1;34mr\"C:\\Users\\water\\Desktop\\WF\\WholeFoods-Datascraping-Project-Deployment\\Deployment\"\u001b[0m\u001b[1;33m)\u001b[0m\u001b[1;33m\u001b[0m\u001b[1;33m\u001b[0m\u001b[0m\n\u001b[0;32m      9\u001b[0m \u001b[1;33m\u001b[0m\u001b[0m\n\u001b[1;32m---> 10\u001b[1;33m \u001b[0mfilename\u001b[0m \u001b[1;33m=\u001b[0m \u001b[1;34m\"WF_Sales_\"\u001b[0m \u001b[1;33m+\u001b[0m \u001b[0mstr\u001b[0m\u001b[1;33m(\u001b[0m\u001b[0mdate\u001b[0m\u001b[1;33m.\u001b[0m\u001b[0mtoday\u001b[0m\u001b[1;33m(\u001b[0m\u001b[1;33m)\u001b[0m\u001b[1;33m.\u001b[0m\u001b[0mstrftime\u001b[0m\u001b[1;33m(\u001b[0m\u001b[1;34m\"%b_%d_%Y\"\u001b[0m\u001b[1;33m)\u001b[0m\u001b[1;33m)\u001b[0m \u001b[1;33m+\u001b[0m \u001b[1;34m'_'\u001b[0m \u001b[1;33m+\u001b[0m \u001b[0mstr\u001b[0m\u001b[1;33m(\u001b[0m\u001b[1;34m'_'\u001b[0m\u001b[1;33m.\u001b[0m\u001b[0mjoin\u001b[0m\u001b[1;33m(\u001b[0m\u001b[0mlocation\u001b[0m\u001b[1;33m.\u001b[0m\u001b[0msplit\u001b[0m\u001b[1;33m(\u001b[0m\u001b[1;33m)\u001b[0m\u001b[1;33m)\u001b[0m\u001b[1;33m.\u001b[0m\u001b[0mreplace\u001b[0m\u001b[1;33m(\u001b[0m\u001b[1;34m','\u001b[0m\u001b[1;33m,\u001b[0m\u001b[1;34m''\u001b[0m\u001b[1;33m)\u001b[0m\u001b[1;33m)\u001b[0m \u001b[1;33m+\u001b[0m \u001b[1;34m\".pkl\"\u001b[0m\u001b[1;33m\u001b[0m\u001b[1;33m\u001b[0m\u001b[0m\n\u001b[0m\u001b[0;32m     11\u001b[0m \u001b[0mpath\u001b[0m \u001b[1;33m=\u001b[0m \u001b[0mMY_DIR\u001b[0m \u001b[1;33m/\u001b[0m \u001b[1;34m'scraped products dump'\u001b[0m \u001b[1;33m/\u001b[0m \u001b[0mfilename\u001b[0m\u001b[1;33m\u001b[0m\u001b[1;33m\u001b[0m\u001b[0m\n\u001b[0;32m     12\u001b[0m \u001b[0mlocpath\u001b[0m \u001b[1;33m=\u001b[0m \u001b[0mMY_DIR\u001b[0m \u001b[1;33m/\u001b[0m \u001b[1;34m'scraped products dump'\u001b[0m \u001b[1;33m/\u001b[0m \u001b[1;34m'location'\u001b[0m \u001b[1;33m/\u001b[0m \u001b[0mfilename\u001b[0m\u001b[1;33m\u001b[0m\u001b[1;33m\u001b[0m\u001b[0m\n",
      "\u001b[1;31mNameError\u001b[0m: name 'location' is not defined"
     ]
    }
   ],
   "source": [
    "from datetime import date\n",
    "import pickle\n",
    "import pathlib\n",
    "\n",
    "try: # try to find directory of own path on deployment from .py, if not (on jupyter notebook) run directly through hardcoded path\n",
    "  MY_DIR = pathlib.Path(__file__).parent\n",
    "except NameError:\n",
    "  MY_DIR = pathlib.Path(r\"C:\\Users\\water\\Desktop\\WF\\WholeFoods-Datascraping-Project-Deployment\\Deployment\")\n",
    "  \n",
    "filename = \"WF_Sales_\" + str(date.today().strftime(\"%b_%d_%Y\")) + '_' + str('_'.join(location.split()).replace(',','')) + \".pkl\"\n",
    "path = MY_DIR / 'scraped products dump' / filename\n",
    "locpath = MY_DIR / 'scraped products dump' / 'location' / filename\n",
    "\n"
   ]
  },
  {
   "cell_type": "code",
   "execution_count": 9,
   "metadata": {},
   "outputs": [],
   "source": [
    "path = sorted([f for f in pathlib.Path('scraped products dump').glob(\"*.pkl\")], key=lambda f: f.stat().st_mtime, reverse=True) # gets path of the latest DF file created in file path\n",
    "locpath = sorted([f for f in pathlib.Path('scraped products dump/location').glob(\"*.pkl\")], key=lambda f: f.stat().st_mtime, reverse=True) # gets path of the latest location of store file created in file path"
   ]
  },
  {
   "cell_type": "code",
   "execution_count": 143,
   "metadata": {},
   "outputs": [
    {
     "data": {
      "text/plain": [
       "'Deployment/scraped products dump\\\\WF_Sales_Feb_02_2022_Baton_Rouge_LA_70809.pkl'"
      ]
     },
     "execution_count": 143,
     "metadata": {},
     "output_type": "execute_result"
    }
   ],
   "source": [
    "'Deployment/'+str(path[0])"
   ]
  },
  {
   "cell_type": "code",
   "execution_count": 11,
   "metadata": {},
   "outputs": [
    {
     "data": {
      "text/plain": [
       "WindowsPath('chromedriver.exe')"
      ]
     },
     "execution_count": 11,
     "metadata": {},
     "output_type": "execute_result"
    }
   ],
   "source": [
    "pathlib.Path('chromedriver.exe')"
   ]
  },
  {
   "cell_type": "code",
   "execution_count": 5,
   "metadata": {},
   "outputs": [],
   "source": [
    "cwd = os.getcwd()\n",
    "scraper_dir = cwd + '\\wholefoods_scraper.py'\n",
    "scraper_dir_deployment = cwd + '/Deployment/wholefoods_scraper.py'"
   ]
  },
  {
   "cell_type": "code",
   "execution_count": 8,
   "metadata": {},
   "outputs": [
    {
     "data": {
      "text/plain": [
       "False"
      ]
     },
     "execution_count": 8,
     "metadata": {},
     "output_type": "execute_result"
    }
   ],
   "source": [
    "os.path.isfile(scraper_dir_deployment)"
   ]
  },
  {
   "cell_type": "code",
   "execution_count": 9,
   "metadata": {},
   "outputs": [
    {
     "data": {
      "text/plain": [
       "True"
      ]
     },
     "execution_count": 9,
     "metadata": {},
     "output_type": "execute_result"
    }
   ],
   "source": [
    "os.path.isfile(scraper_dir)"
   ]
  },
  {
   "cell_type": "code",
   "execution_count": 11,
   "metadata": {},
   "outputs": [
    {
     "name": "stdout",
     "output_type": "stream",
     "text": [
      "Requirement already satisfied: webdriver_manager in c:\\users\\water\\appdata\\roaming\\python\\python39\\site-packages (3.4.2)\n",
      "Requirement already satisfied: requests in c:\\users\\water\\appdata\\local\\programs\\python\\python39\\lib\\site-packages (from webdriver_manager) (2.27.1)\n",
      "Requirement already satisfied: crayons in c:\\users\\water\\appdata\\roaming\\python\\python39\\site-packages (from webdriver_manager) (0.4.0)\n",
      "Requirement already satisfied: configparser in c:\\users\\water\\appdata\\roaming\\python\\python39\\site-packages (from webdriver_manager) (5.0.2)\n",
      "Requirement already satisfied: colorama in c:\\users\\water\\appdata\\roaming\\python\\python39\\site-packages (from crayons->webdriver_manager) (0.4.4)\n",
      "Requirement already satisfied: urllib3<1.27,>=1.21.1 in c:\\users\\water\\appdata\\local\\programs\\python\\python39\\lib\\site-packages (from requests->webdriver_manager) (1.26.8)\n",
      "Requirement already satisfied: charset-normalizer~=2.0.0 in c:\\users\\water\\appdata\\local\\programs\\python\\python39\\lib\\site-packages (from requests->webdriver_manager) (2.0.10)\n",
      "Requirement already satisfied: certifi>=2017.4.17 in c:\\users\\water\\appdata\\local\\programs\\python\\python39\\lib\\site-packages (from requests->webdriver_manager) (2021.10.8)\n",
      "Requirement already satisfied: idna<4,>=2.5 in c:\\users\\water\\appdata\\local\\programs\\python\\python39\\lib\\site-packages (from requests->webdriver_manager) (3.3)\n"
     ]
    },
    {
     "name": "stderr",
     "output_type": "stream",
     "text": [
      "WARNING: You are using pip version 22.0.2; however, version 22.0.3 is available.\n",
      "You should consider upgrading via the 'C:\\Users\\water\\AppData\\Local\\Programs\\Python\\Python39\\python.exe -m pip install --upgrade pip' command.\n"
     ]
    }
   ],
   "source": [
    "!pip install webdriver_manager"
   ]
  },
  {
   "cell_type": "code",
   "execution_count": 3,
   "metadata": {},
   "outputs": [
    {
     "name": "stdout",
     "output_type": "stream",
     "text": [
      "True\n"
     ]
    }
   ],
   "source": [
    "if scraper_dir:\n",
    "    print(\"True\")"
   ]
  },
  {
   "cell_type": "code",
   "execution_count": 10,
   "metadata": {},
   "outputs": [
    {
     "data": {
      "text/plain": [
       "[WindowsPath('scraped products dump/location/WF_Sales_Feb_07_2022_San_Diego_CA_92103.pkl'),\n",
       " WindowsPath('scraped products dump/location/WF_Sales_Feb_07_2022_Ave_Wayne_PA_19087.pkl'),\n",
       " WindowsPath('scraped products dump/location/WF_Sales_Feb_07_2022_Newtown_Square_PA_19073.pkl'),\n",
       " WindowsPath('scraped products dump/location/WF_Sales_Feb_06_2022_Newtown_Square_PA_19073.pkl'),\n",
       " WindowsPath('scraped products dump/location/WF_Sales_Feb_05_2022_Rd_Wynnewood_PA_19096.pkl'),\n",
       " WindowsPath('scraped products dump/location/WF_Sales_Feb_05_2022_Ave_Wayne_PA_19087.pkl'),\n",
       " WindowsPath('scraped products dump/location/WF_Sales_Feb_03_2022_Newtown_Square_PA_19073.pkl'),\n",
       " WindowsPath('scraped products dump/location/WF_Sales_Feb_03_2022_Row_Towson_MD_21204.pkl'),\n",
       " WindowsPath('scraped products dump/location/WF_Sales_Feb_02_2022_Fort_Collins_CO_80525.pkl'),\n",
       " WindowsPath('scraped products dump/location/WF_Sales_Feb_02_2022_St_Denver_CO_80202.pkl'),\n",
       " WindowsPath('scraped products dump/location/WF_Sales_Feb_02_2022_Ave_Wayne_PA_19087.pkl'),\n",
       " WindowsPath('scraped products dump/location/WF_Sales_Feb_02_2022_NW_Washington_DC_20005.pkl'),\n",
       " WindowsPath('scraped products dump/location/WF_Sales_Feb_02_2022_Glen_Mills_PA_19342.pkl'),\n",
       " WindowsPath('scraped products dump/location/WF_Sales_Feb_02_2022_Baton_Rouge_LA_70809.pkl'),\n",
       " WindowsPath('scraped products dump/location/WF_Sales_Feb_02_2022_San_Diego_CA_92103.pkl'),\n",
       " WindowsPath('scraped products dump/location/WF_Sales_Feb_02_2022_San_Francisco_CA_94107.pkl'),\n",
       " WindowsPath('scraped products dump/location/WF_Sales_Feb_02_2022_Plymouth_Meeting_PA_19462.pkl'),\n",
       " WindowsPath('scraped products dump/location/WF_Sales_Feb_02_2022_Rd_Wynnewood_PA_19096.pkl'),\n",
       " WindowsPath('scraped products dump/location/WF_Sales_Feb_02_2022_Newtown_Square_PA_19073.pkl'),\n",
       " WindowsPath('scraped products dump/location/WF_Sales_Feb_01_2022_Plymouth_Meeting_PA_19462.pkl'),\n",
       " WindowsPath('scraped products dump/location/WF_Sales_Feb_01_2022_Ave_Wayne_PA_19087.pkl'),\n",
       " WindowsPath('scraped products dump/location/WF_Sales_Jan_31_2022_Ave_Wayne_PA_19087.pkl'),\n",
       " WindowsPath('scraped products dump/location/WF_Sales_Jan_31_2022_Broadway_Seattle_WA_98122.pkl'),\n",
       " WindowsPath('scraped products dump/location/WF_Sales_Jan_31_2022_New_York_NY_10036.pkl'),\n",
       " WindowsPath('scraped products dump/location/WF_Sales_Jan_30_2022_Ave_Wayne_PA_19087.pkl'),\n",
       " WindowsPath('scraped products dump/location/WF_Sales_Jan_30_2022_San_Francisco_CA_94107.pkl'),\n",
       " WindowsPath('scraped products dump/location/WF_Sales_Jan_30_2022_Newtown_Square_PA_19073.pkl')]"
      ]
     },
     "execution_count": 10,
     "metadata": {},
     "output_type": "execute_result"
    }
   ],
   "source": [
    "locpath"
   ]
  },
  {
   "cell_type": "code",
   "execution_count": 1,
   "metadata": {},
   "outputs": [],
   "source": [
    "  # Get the current working directory (cwd)\n",
    "files = os.listdir(cwd)"
   ]
  },
  {
   "cell_type": "code",
   "execution_count": 1,
   "metadata": {},
   "outputs": [
    {
     "data": {
      "text/plain": [
       "'c:\\\\Users\\\\water\\\\Desktop\\\\WF\\\\WholeFoods-Datascraping-Project-Deployment\\\\Deployment\\\\wholefoods_scraper.py'"
      ]
     },
     "execution_count": 1,
     "metadata": {},
     "output_type": "execute_result"
    }
   ],
   "source": [
    "cwd = os.getcwd()\n",
    "cwd + '\\wholefoods_scraper.py'"
   ]
  },
  {
   "cell_type": "code",
   "execution_count": 5,
   "metadata": {},
   "outputs": [],
   "source": [
    "driver_dir = cwd + \"\\chromedriver.exe\""
   ]
  },
  {
   "cell_type": "code",
   "execution_count": 6,
   "metadata": {},
   "outputs": [
    {
     "data": {
      "text/plain": [
       "'c:\\\\Users\\\\water\\\\Desktop\\\\WF\\\\WholeFoods-Datascraping-Project-Deployment\\\\Deployment\\\\chromedriver.exe'"
      ]
     },
     "execution_count": 6,
     "metadata": {},
     "output_type": "execute_result"
    }
   ],
   "source": [
    "driver_dir"
   ]
  },
  {
   "cell_type": "code",
   "execution_count": 3,
   "metadata": {},
   "outputs": [
    {
     "data": {
      "text/plain": [
       "['chromedriver.exe',\n",
       " 'debug.ipynb',\n",
       " 'scraped products dump',\n",
       " 'streamlit_app.py',\n",
       " 'wholefoods_scraper.py',\n",
       " '__pycache__']"
      ]
     },
     "execution_count": 3,
     "metadata": {},
     "output_type": "execute_result"
    }
   ],
   "source": [
    "files"
   ]
  },
  {
   "cell_type": "code",
   "execution_count": 25,
   "metadata": {},
   "outputs": [],
   "source": [
    "cwd = os.getcwd()\n",
    "driver_dir = cwd + \"\\chromedriver.exe\""
   ]
  },
  {
   "cell_type": "code",
   "execution_count": 63,
   "metadata": {},
   "outputs": [
    {
     "data": {
      "text/plain": [
       "array([[<AxesSubplot:title={'center':'regular'}>,\n",
       "        <AxesSubplot:title={'center':'sale'}>],\n",
       "       [<AxesSubplot:title={'center':'prime'}>,\n",
       "        <AxesSubplot:title={'center':'sale_discount'}>],\n",
       "       [<AxesSubplot:title={'center':'prime_discount'}>,\n",
       "        <AxesSubplot:title={'center':'prime_sale_difference'}>]],\n",
       "      dtype=object)"
      ]
     },
     "execution_count": 63,
     "metadata": {},
     "output_type": "execute_result"
    },
    {
     "data": {
      "image/png": "[encoded data removed]",
      "text/plain": [
       "<Figure size 1440x1080 with 6 Axes>"
      ]
     },
     "metadata": {
      "needs_background": "light"
     },
     "output_type": "display_data"
    }
   ],
   "source": [
    "df.hist(figsize=(20,15))"
   ]
  },
  {
   "cell_type": "code",
   "execution_count": 66,
   "metadata": {},
   "outputs": [
    {
     "name": "stdout",
     "output_type": "stream",
     "text": [
      "c:\\Users\\water\\Desktop\\WF\\WholeFoods-Datascraping-Project-Deployment\\Deployment\\scraped products dump\n"
     ]
    }
   ],
   "source": [
    "  try:                                         #\n",
    "    MY_DIR = pathlib.Path(__file__).parent     #\n",
    "  except NameError:                            #\n",
    "    MY_DIR = pathlib.Path(os.getcwd()) # if not running as .py the directory is hardcoded locally\n",
    "  #--------------------------------------------# \n",
    "  path = MY_DIR / 'scraped products dump' \n",
    "  locpath = MY_DIR / 'scraped products dump' / 'location' \n",
    "print(str(path))"
   ]
  },
  {
   "cell_type": "code",
   "execution_count": 89,
   "metadata": {},
   "outputs": [
    {
     "ename": "SyntaxError",
     "evalue": "unexpected EOF while parsing (Temp/ipykernel_15748/2229029770.py, line 1)",
     "output_type": "error",
     "traceback": [
      "\u001b[1;36m  File \u001b[1;32m\"C:\\Users\\water\\AppData\\Local\\Temp/ipykernel_15748/2229029770.py\"\u001b[1;36m, line \u001b[1;32m1\u001b[0m\n\u001b[1;33m    print(sorted([f for f in pathlib.Path('scraped products dump\\location').glob(\"*.pkl\")], key=lambda f: f.stat().st_mtime, reverse=True)\u001b[0m\n\u001b[1;37m                                                                                                                                          ^\u001b[0m\n\u001b[1;31mSyntaxError\u001b[0m\u001b[1;31m:\u001b[0m unexpected EOF while parsing\n"
     ]
    }
   ],
   "source": [
    "print(sorted([f for f in pathlib.Path('scraped products dump\\location').glob(\"*.pkl\")], key=lambda f: f.stat().st_mtime, reverse=True)"
   ]
  },
  {
   "cell_type": "code",
   "execution_count": 4,
   "metadata": {},
   "outputs": [],
   "source": [
    "import pathlib"
   ]
  },
  {
   "cell_type": "code",
   "execution_count": 6,
   "metadata": {},
   "outputs": [],
   "source": [
    "locpath = sorted([f for f in pathlib.Path('scraped products dump/location').glob(\"*.pkl\")], key=lambda f: f.stat().st_mtime, reverse=True)"
   ]
  },
  {
   "cell_type": "code",
   "execution_count": 93,
   "metadata": {},
   "outputs": [
    {
     "data": {
      "text/plain": [
       "6"
      ]
     },
     "execution_count": 93,
     "metadata": {},
     "output_type": "execute_result"
    }
   ],
   "source": [
    "len(locpath)"
   ]
  },
  {
   "cell_type": "code",
   "execution_count": 26,
   "metadata": {},
   "outputs": [],
   "source": [
    "selections = []\n",
    "for x in locpath:\n",
    "  selections.append(x)\n",
    "# use in the command\n",
    "#select = st.selectbox('hey this is a selectbox', tuple(selections))\n"
   ]
  },
  {
   "cell_type": "code",
   "execution_count": 50,
   "metadata": {},
   "outputs": [],
   "source": [
    "import pickle"
   ]
  },
  {
   "cell_type": "code",
   "execution_count": 60,
   "metadata": {},
   "outputs": [
    {
     "data": {
      "text/plain": [
       "'scraped products dump\\\\WF_Sales_Feb_16_2022_Rd_Duluth_GA_30097.pkl'"
      ]
     },
     "execution_count": 60,
     "metadata": {},
     "output_type": "execute_result"
    }
   ],
   "source": [
    "str(pathlib.Path(selections[0])).replace('\\\\location','')"
   ]
  },
  {
   "cell_type": "code",
   "execution_count": 61,
   "metadata": {},
   "outputs": [],
   "source": [
    "with open(str(pathlib.Path(selections[0])).replace('\\\\location',''), 'rb') as handle:             # loads .pkl back into variable\n",
    "    df = pickle.load(handle)"
   ]
  },
  {
   "cell_type": "code",
   "execution_count": null,
   "metadata": {},
   "outputs": [],
   "source": [
    "########################################################\n",
    "# This WholeFoods scraper is created by Youssef Sultan\n",
    "# This Data is utilized for noncommercial use via Whole Foods Market L.P. \n",
    "# @ www.wholefoodsmarket.com                  \n",
    "########################################################\n",
    "import argparse\n",
    "import os, sys, time \n",
    "from selenium import webdriver\n",
    "import pandas as pd\n",
    "from datetime import date\n",
    "import pickle\n",
    "import pathlib\n",
    "import platform\n",
    "import warnings\n",
    "from selenium.webdriver.chrome.options import Options\n",
    "#########################################################\n",
    "cwd = os.getcwd() # Current Path\n",
    "driver_dir = cwd + \"\\chromedriver.exe\" # chrome driver for running script locally\n",
    "try:\n",
    "    path = pathlib.Path(__file__).parent / 'chromedriver.exe' # try to pull chrome driver from local\n",
    "except Exception as e:\n",
    "    print(e)\n",
    "    path=driver_dir\n",
    "#########################################################\n",
    "warnings.filterwarnings(\"ignore\", category=DeprecationWarning) # ignore selenium 4.x deprecation warnings\n",
    "#########################################################\n",
    "try:\n",
    "    if platform.system()=='Windows':\n",
    "        options = Options()\n",
    "        options.add_argument('--headless')\n",
    "        options.add_argument('--log-level=3') # when running locally\n",
    "        options.add_argument('--disable-gpu')\n",
    "        browser = webdriver.Chrome(path, options=options) # Chrome Driver Windows Path --if running on windows\n",
    "    else:                    #if platform is 'Debian/linux'\n",
    "        options = Options()\n",
    "        options.add_argument('--no-sandbox')\n",
    "        options.add_argument('--disable-dev-shm-usage')  \n",
    "        options.add_argument('--headless')\n",
    "        options.add_argument('--log-level=3')\n",
    "        browser = webdriver.Chrome(options=options) # Chrome Driver Linux Path --if running on linux (Streamlit Debian Deployment)\n",
    "    browser.get('https://www.wholefoodsmarket.com/products/all-products?featured=on-sale') # Website Link\n",
    "    print('Checking zipcode...')\n",
    "    try:\n",
    "        parser = argparse.ArgumentParser()\n",
    "        parser.add_argument(\"zipcode\")\n",
    "        args = parser.parse_args()\n",
    "        zipcode = str(args.zipcode)\n",
    "        browser.find_element_by_xpath(\"//input[@id='pie-store-finder-modal-search-field']\").send_keys(zipcode) # Zip code\n",
    "    except:\n",
    "        browser.find_element_by_xpath(\"//input[@id='pie-store-finder-modal-search-field']\").send_keys(input()) # Zip code\n",
    "    time.sleep(2.5) # lag for 3 seconds to allow elements to load\n",
    "    location = ', '.join(browser.find_elements_by_class_name(\"wfm-search-bar--list_item\")[0].text.split(', ')[-2:])\n",
    "    print('Getting items from the WholeFoods in ' + str(location) + '.')\n",
    "    browser.find_elements_by_class_name(\"wfm-search-bar--list_item\")[0].click()\n",
    "except Exception as e:\n",
    "    print(e)\n",
    "    print('invalid zipcode')\n",
    "    sys.exit()\n",
    "time.sleep(2)\n",
    "#########################################################\n",
    "print('Pulling all \"on-sale\" results from each category...')\n",
    "#########################################################\n",
    "browser.get('https://www.wholefoodsmarket.com/products/produce?featured=on-sale') # Website Link\n",
    "try:\n",
    "    load = browser.find_element_by_xpath(\"//span[contains(text(),'Load more')]\") \n",
    "    while True:\n",
    "        load.click()\n",
    "        time.sleep(2.5) # Must have a 2 sec time lag so the 'load more' button can reappear\n",
    "except:\n",
    "    print(\"Fetching produce\") # If all possible data is populated\n",
    "all_items = browser.find_elements_by_xpath(\"//div[@data-testid='product-tile']\") # Pull all product elements by xpath\n",
    "produce = [items.text.splitlines() for items in all_items] # Create a list comprehension of all product elements with text shown and lines split\n",
    "\n",
    "browser.get('https://www.wholefoodsmarket.com/products/dairy-eggs?featured=on-sale')\n",
    "try:\n",
    "    load = browser.find_element_by_xpath(\"//span[contains(text(),'Load more')]\") \n",
    "    while True:\n",
    "        load.click()\n",
    "        time.sleep(2.5) # Must have a 2 sec time lag so the 'load more' button can reappear\n",
    "except:\n",
    "    print(\"Fetching dairy\") # If all possible data is populated\n",
    "all_items = browser.find_elements_by_xpath(\"//div[@data-testid='product-tile']\") # Pull all product elements by xpath\n",
    "dairy_eggs = [items.text.splitlines() for items in all_items] # Create a list comprehension of all product elements with text shown and lines split\n",
    "\n",
    "browser.get('https://www.wholefoodsmarket.com/products/meat?featured=on-sale')\n",
    "try:\n",
    "    load = browser.find_element_by_xpath(\"//span[contains(text(),'Load more')]\") \n",
    "    while True:\n",
    "        load.click()\n",
    "        time.sleep(2.5) # Must have a 2 sec time lag so the 'load more' button can reappear\n",
    "except:\n",
    "    print(\"Fetching meat\") # If all possible data is populated\n",
    "all_items = browser.find_elements_by_xpath(\"//div[@data-testid='product-tile']\") # Pull all product elements by xpath\n",
    "meat = [items.text.splitlines() for items in all_items] # Create a list comprehension of all product elements with text shown and lines split\n",
    "\n",
    "browser.get('https://www.wholefoodsmarket.com/products/prepared-foods?featured=on-sale')\n",
    "try:\n",
    "    load = browser.find_element_by_xpath(\"//span[contains(text(),'Load more')]\") \n",
    "    while True:\n",
    "        load.click()\n",
    "        time.sleep(2.5) # Must have a 2 sec time lag so the 'load more' button can reappear\n",
    "except:\n",
    "    print(\"Fetching prepared foods\") # If all possible data is populated\n",
    "all_items = browser.find_elements_by_xpath(\"//div[@data-testid='product-tile']\") # Pull all product elements by xpath\n",
    "prepared_foods = [items.text.splitlines() for items in all_items] # Create a list comprehension of all product elements with text shown and lines split\n",
    "\n",
    "browser.get('https://www.wholefoodsmarket.com/products/pantry-essentials?featured=on-sale')\n",
    "try:\n",
    "    load = browser.find_element_by_xpath(\"//span[contains(text(),'Load more')]\") \n",
    "    while True:\n",
    "        load.click()\n",
    "        time.sleep(2.5) # Must have a 2 sec time lag so the 'load more' button can reappear\n",
    "except:\n",
    "    print(\"Fetching pantry essentials\") # If all possible data is populated\n",
    "all_items = browser.find_elements_by_xpath(\"//div[@data-testid='product-tile']\") # Pull all product elements by xpath\n",
    "pantry_essentials = [items.text.splitlines() for items in all_items] # Create a list comprehension of all product elements with text shown and lines split\n",
    "\n",
    "browser.get('https://www.wholefoodsmarket.com/products/breads-rolls-bakery?featured=on-sale')\n",
    "try:\n",
    "    load = browser.find_element_by_xpath(\"//span[contains(text(),'Load more')]\") \n",
    "    while True:\n",
    "        load.click()\n",
    "        time.sleep(2.5) # Must have a 2 sec time lag so the 'load more' button can reappear\n",
    "except:\n",
    "    print(\"Fetching bread rolls & bakery\") # If all possible data is populated\n",
    "all_items = browser.find_elements_by_xpath(\"//div[@data-testid='product-tile']\") # Pull all product elements by xpath\n",
    "bread_rolls_bakery = [items.text.splitlines() for items in all_items] # Create a list comprehension of all product elements with text shown and lines split\n",
    "\n",
    "browser.get('https://www.wholefoodsmarket.com/products/desserts?featured=on-sale')\n",
    "try:\n",
    "    load = browser.find_element_by_xpath(\"//span[contains(text(),'Load more')]\") \n",
    "    while True:\n",
    "        load.click()\n",
    "        time.sleep(2.5) # Must have a 2 sec time lag so the 'load more' button can reappear\n",
    "except:\n",
    "    print(\"Fetching desserts\") # If all possible data is populated\n",
    "all_items = browser.find_elements_by_xpath(\"//div[@data-testid='product-tile']\") # Pull all product elements by xpath\n",
    "desserts = [items.text.splitlines() for items in all_items] # Create a list comprehension of all product elements with text shown and lines split\n",
    "\n",
    "browser.get('https://www.wholefoodsmarket.com/products/body-care?featured=on-sale')\n",
    "try:\n",
    "    load = browser.find_element_by_xpath(\"//span[contains(text(),'Load more')]\") \n",
    "    while True:\n",
    "        load.click()\n",
    "        time.sleep(2.5) # Must have a 2 sec time lag so the 'load more' button can reappear\n",
    "except:\n",
    "    print(\"Fetching body care\") # If all possible data is populated\n",
    "all_items = browser.find_elements_by_xpath(\"//div[@data-testid='product-tile']\") # Pull all product elements by xpath\n",
    "body_care = [items.text.splitlines() for items in all_items] # Create a list comprehension of all product elements with text shown and lines split\n",
    "\n",
    "browser.get('https://www.wholefoodsmarket.com/products/supplements?featured=on-sale')\n",
    "try:\n",
    "    load = browser.find_element_by_xpath(\"//span[contains(text(),'Load more')]\") \n",
    "    while True:\n",
    "        load.click()\n",
    "        time.sleep(2.5) # Must have a 2 sec time lag so the 'load more' button can reappear\n",
    "except:\n",
    "    print(\"Fetching supplements\") # If all possible data is populated\n",
    "all_items = browser.find_elements_by_xpath(\"//div[@data-testid='product-tile']\") # Pull all product elements by xpath\n",
    "supplements = [items.text.splitlines() for items in all_items] # Create a list comprehension of all product elements with text shown and lines split\n",
    "\n",
    "browser.get('https://www.wholefoodsmarket.com/products/frozen-foods?featured=on-sale')\n",
    "try:\n",
    "    load = browser.find_element_by_xpath(\"//span[contains(text(),'Load more')]\") \n",
    "    while True:\n",
    "        load.click()\n",
    "        time.sleep(2.5) # Must have a 2 sec time lag so the 'load more' button can reappear\n",
    "except:\n",
    "    print(\"Fetching frozen foods\") # If all possible data is populated\n",
    "all_items = browser.find_elements_by_xpath(\"//div[@data-testid='product-tile']\") # Pull all product elements by xpath\n",
    "frozen_foods = [items.text.splitlines() for items in all_items] # Create a list comprehension of all product elements with text shown and lines split\n",
    "\n",
    "browser.get('https://www.wholefoodsmarket.com/products/snacks-chips-salsas-dips?featured=on-sale')\n",
    "try:\n",
    "    load = browser.find_element_by_xpath(\"//span[contains(text(),'Load more')]\") \n",
    "    while True:\n",
    "        load.click()\n",
    "        time.sleep(2.5) # Must have a 2 sec time lag so the 'load more' button can reappear\n",
    "except:\n",
    "    print(\"Fetching snacks and chips\") # If all possible data is populated\n",
    "all_items = browser.find_elements_by_xpath(\"//div[@data-testid='product-tile']\") # Pull all product elements by xpath\n",
    "snacks_chips_salsas_dips = [items.text.splitlines() for items in all_items] # Create a list comprehension of all product elements with text shown and lines split\n",
    "\n",
    "browser.get('https://www.wholefoodsmarket.com/products/seafood?featured=on-sale')\n",
    "try:\n",
    "    load = browser.find_element_by_xpath(\"//span[contains(text(),'Load more')]\") \n",
    "    while True:\n",
    "        load.click()\n",
    "        time.sleep(2.5) # Must have a 2 sec time lag so the 'load more' button can reappear\n",
    "except:\n",
    "    print(\"Fetching seafood\") # If all possible data is populated\n",
    "all_items = browser.find_elements_by_xpath(\"//div[@data-testid='product-tile']\") # Pull all product elements by xpath\n",
    "seafood = [items.text.splitlines() for items in all_items] # Create a list comprehension of all product elements with text shown and lines split\n",
    "\n",
    "browser.get('https://www.wholefoodsmarket.com/products/beverages?featured=on-sale')\n",
    "try:\n",
    "    load = browser.find_element_by_xpath(\"//span[contains(text(),'Load more')]\") \n",
    "    while True:\n",
    "        load.click()\n",
    "        time.sleep(2.5) # Must have a 2 sec time lag so the 'load more' button can reappear\n",
    "except:\n",
    "    print(\"Fetching beverages\") # If all possible data is populated\n",
    "all_items = browser.find_elements_by_xpath(\"//div[@data-testid='product-tile']\") # Pull all product elements by xpath\n",
    "Beverages = [items.text.splitlines() for items in all_items] # Create a list comprehension of all product elements with text shown and lines split\n",
    "\n",
    "browser.get('https://www.wholefoodsmarket.com/products/beauty?featured=on-sale')\n",
    "try:\n",
    "    load = browser.find_element_by_xpath(\"//span[contains(text(),'Load more')]\") \n",
    "    while True:\n",
    "        load.click()\n",
    "        time.sleep(2.5) # Must have a 2 sec time lag so the 'load more' button can reappear\n",
    "except:\n",
    "    print(\"Fetching beauty\") # If all possible data is populated\n",
    "all_items = browser.find_elements_by_xpath(\"//div[@data-testid='product-tile']\") # Pull all product elements by xpath\n",
    "beauty = [items.text.splitlines() for items in all_items] # Create a list comprehension of all product elements with text shown and lines split\n",
    "\n",
    "browser.get('https://www.wholefoodsmarket.com/products/floral?featured=on-sale')\n",
    "try:\n",
    "    load = browser.find_element_by_xpath(\"//span[contains(text(),'Load more')]\") \n",
    "    while True:\n",
    "        load.click()\n",
    "        time.sleep(2.5) # Must have a 2 sec time lag so the 'load more' button can reappear\n",
    "except:\n",
    "    print(\"Fetching floral\") # If all possible data is populated\n",
    "all_items = browser.find_elements_by_xpath(\"//div[@data-testid='product-tile']\") # Pull all product elements by xpath\n",
    "floral = [items.text.splitlines() for items in all_items] # Create a list comprehension of all product elements with text shown and lines split\n",
    "\n",
    "browser.get('https://www.wholefoodsmarket.com/products/lifestyle?featured=on-sale')\n",
    "try:\n",
    "    load = browser.find_element_by_xpath(\"//span[contains(text(),'Load more')]\") \n",
    "    while True:\n",
    "        load.click()\n",
    "        time.sleep(2.5) # Must have a 2 sec time lag so the 'load more' button can reappear\n",
    "except:\n",
    "    print(\"Fetching lifestyle\") # If all possible data is populated\n",
    "all_items = browser.find_elements_by_xpath(\"//div[@data-testid='product-tile']\") # Pull all product elements by xpath\n",
    "lifestyle = [items.text.splitlines() for items in all_items] # Create a list comprehension of all product elements with text shown and lines split\n",
    "#############################################################################\n",
    "print('There are ' + str(len(lifestyle) + len(produce) + len(dairy_eggs) + len(meat) + len(prepared_foods) + len(pantry_essentials) + len(bread_rolls_bakery) + len(desserts) + len(body_care) + len(supplements) + len(frozen_foods) + len(snacks_chips_salsas_dips) + len(seafood) + len(Beverages) + len(beauty) + len(floral)) + ' products on sale in ' + str(location) + '.')\n",
    "#############################################################################\n",
    "list_of_categories = ['lifestyle', 'produce', 'dairy_eggs', 'meat', 'prepared_foods', 'pantry_essentials', 'bread_rolls_bakery', 'desserts', 'body_care', 'supplements', 'frozen_foods', 'snacks_chips_salsas_dips', 'seafood', 'Beverages', 'beauty', 'floral']\n",
    "d = {\"company\":[], \"product\":[], \"regular\":[], \"sale\":[], \"prime\":[], \"category\":[]} # Create a Dict\n",
    "#############################################################################\n",
    "for category in list_of_categories:                                         #\n",
    "    for i in range(len(globals()[category])):                               # At the range of the length of all items (will loop i times)\n",
    "            if 'Add to list' in globals()[category][i][-1]:\n",
    "                d[\"company\"].append(globals()[category][i][-6])                 # Append respective indexed data in list_of_items[i] for each column\n",
    "                d[\"product\"].append(globals()[category][i][-5])                 # \n",
    "                d[\"regular\"].append(globals()[category][i][-4][8:])             #  \n",
    "                d[\"sale\"].append(globals()[category][i][-3][10:])               # \n",
    "                d[\"prime\"].append(globals()[category][i][-2][18:])              #\n",
    "                d[\"category\"].append(str(category))\n",
    "            elif 'Prime Member Deal' in globals()[category][i][0]:\n",
    "                d[\"company\"].append(globals()[category][i][-6])                 # Append respective indexed data in list_of_items[i] for each column\n",
    "                d[\"product\"].append(globals()[category][i][-5])                 # \n",
    "                d[\"regular\"].append(globals()[category][i][-4][8:])             #  \n",
    "                d[\"sale\"].append(globals()[category][i][-3][10:])               # \n",
    "                d[\"prime\"].append(globals()[category][i][-2][18:])              #\n",
    "                d[\"category\"].append(str(category))  \n",
    "            else:\n",
    "                d[\"company\"].append(globals()[category][i][-5])                 # Append respective indexed data in list_of_items[i] for each column\n",
    "                d[\"product\"].append(globals()[category][i][-4])                 # \n",
    "                d[\"regular\"].append(globals()[category][i][-3][8:])             #  \n",
    "                d[\"sale\"].append(globals()[category][i][-2][10:])               # \n",
    "                d[\"prime\"].append(globals()[category][i][-1][18:])              #\n",
    "                d[\"category\"].append(str(category))                             # \n"
   ]
  },
  {
   "cell_type": "code",
   "execution_count": 67,
   "metadata": {},
   "outputs": [
    {
     "data": {
      "text/plain": [
       "[['Sale Item',\n",
       "  'Valid 2/16 - 3/1',\n",
       "  'Kikka Sushi',\n",
       "  'Nigiri Sushi - 6 PCS, 5 oz',\n",
       "  'Regular$13.99',\n",
       "  'Sale Price$12.99',\n",
       "  'Prime Member Price$11.69',\n",
       "  'Add to list'],\n",
       " ['Prime Member Deal',\n",
       "  'Valid 2/17 - 2/17',\n",
       "  'Kikka Sushi',\n",
       "  'Crab Meat California Roll, 7 oz',\n",
       "  'Regular$10.49',\n",
       "  'Prime Member Price$7.87',\n",
       "  'Add to list'],\n",
       " ['Prime Member Deal',\n",
       "  'Valid 2/17 - 2/17',\n",
       "  'Kikka Sushi',\n",
       "  'Shrimp California Roll, 7 oz',\n",
       "  'Regular$10.49',\n",
       "  'Prime Member Price$7.87',\n",
       "  'Add to list'],\n",
       " ['Prime Member Deal',\n",
       "  'Valid 2/17 - 2/17',\n",
       "  'Kikka Sushi',\n",
       "  'Spicy Crab Meat California Roll, 7 oz',\n",
       "  'Regular$10.99',\n",
       "  'Prime Member Price$8.24',\n",
       "  'Add to list'],\n",
       " ['Sale Item',\n",
       "  'Valid 2/16 - 3/1',\n",
       "  \"Rao's Homemade\",\n",
       "  'Family Size Chicken Parmesan, 25 oz',\n",
       "  'Regular$12.99',\n",
       "  'Sale Price$10.29',\n",
       "  'Prime Member Price$9.26',\n",
       "  'Add to list'],\n",
       " ['Sale Item',\n",
       "  'Valid 2/16 - 3/1',\n",
       "  \"Rao's Homemade\",\n",
       "  'Tortellni & Vegetable Soup, 16 oz',\n",
       "  'Regular$5.39',\n",
       "  'Sale Price$3.69',\n",
       "  'Prime Member Price$3.32',\n",
       "  'Add to list'],\n",
       " ['Sale Item',\n",
       "  'Valid 2/16 - 3/1',\n",
       "  \"Rao's Homemade\",\n",
       "  'Sausage & Potato Soup, 16 oz',\n",
       "  'Regular$5.39',\n",
       "  'Sale Price$3.69',\n",
       "  'Prime Member Price$3.32',\n",
       "  'Add to list']]"
      ]
     },
     "execution_count": 67,
     "metadata": {},
     "output_type": "execute_result"
    }
   ],
   "source": [
    "prepared_foods"
   ]
  },
  {
   "cell_type": "code",
   "execution_count": 69,
   "metadata": {},
   "outputs": [
    {
     "name": "stdout",
     "output_type": "stream",
     "text": [
      "All column lengths are equal, there are 1289 products on sale today.\n",
      "Dropped 2 Distillery results.\n"
     ]
    },
    {
     "ename": "IndexError",
     "evalue": "list index out of range",
     "output_type": "error",
     "traceback": [
      "\u001b[1;31m---------------------------------------------------------------------------\u001b[0m",
      "\u001b[1;31mIndexError\u001b[0m                                Traceback (most recent call last)",
      "\u001b[1;32m~\\AppData\\Local\\Temp/ipykernel_7648/672748285.py\u001b[0m in \u001b[0;36m<module>\u001b[1;34m\u001b[0m\n\u001b[0;32m    138\u001b[0m     \u001b[1;32mfor\u001b[0m \u001b[0mi\u001b[0m \u001b[1;32min\u001b[0m \u001b[0mrange\u001b[0m\u001b[1;33m(\u001b[0m\u001b[0mlen\u001b[0m\u001b[1;33m(\u001b[0m\u001b[0mix\u001b[0m\u001b[1;33m)\u001b[0m\u001b[1;33m)\u001b[0m\u001b[1;33m:\u001b[0m                                                \u001b[1;31m# globals() is used to iterate through our list of categories which points to the actual objects containing the scraped data\u001b[0m\u001b[1;33m\u001b[0m\u001b[1;33m\u001b[0m\u001b[0m\n\u001b[0;32m    139\u001b[0m         \u001b[0mct\u001b[0m \u001b[1;33m=\u001b[0m \u001b[0mglobals\u001b[0m\u001b[1;33m(\u001b[0m\u001b[1;33m)\u001b[0m\u001b[1;33m[\u001b[0m\u001b[0mdf\u001b[0m\u001b[1;33m.\u001b[0m\u001b[0mloc\u001b[0m\u001b[1;33m[\u001b[0m\u001b[0mix\u001b[0m\u001b[1;33m[\u001b[0m\u001b[0mi\u001b[0m\u001b[1;33m]\u001b[0m\u001b[1;33m,\u001b[0m \u001b[1;34m'category'\u001b[0m\u001b[1;33m]\u001b[0m\u001b[1;33m]\u001b[0m                           \u001b[1;31m# -----------------------------------------------------------------------|\u001b[0m\u001b[1;33m\u001b[0m\u001b[1;33m\u001b[0m\u001b[0m\n\u001b[1;32m--> 140\u001b[1;33m         \u001b[0mdf\u001b[0m\u001b[1;33m.\u001b[0m\u001b[0mloc\u001b[0m\u001b[1;33m[\u001b[0m\u001b[0mix\u001b[0m\u001b[1;33m[\u001b[0m\u001b[0mi\u001b[0m\u001b[1;33m]\u001b[0m\u001b[1;33m,\u001b[0m \u001b[1;34m'company'\u001b[0m\u001b[1;33m]\u001b[0m \u001b[1;33m=\u001b[0m \u001b[1;33m[\u001b[0m\u001b[0mct\u001b[0m\u001b[1;33m[\u001b[0m\u001b[0mn\u001b[0m\u001b[1;33m]\u001b[0m \u001b[1;32mfor\u001b[0m \u001b[0mn\u001b[0m \u001b[1;32min\u001b[0m \u001b[0mrange\u001b[0m\u001b[1;33m(\u001b[0m\u001b[0mlen\u001b[0m\u001b[1;33m(\u001b[0m\u001b[0mct\u001b[0m\u001b[1;33m)\u001b[0m\u001b[1;33m)\u001b[0m \u001b[1;32mif\u001b[0m \u001b[1;34m'Prime Member Deal'\u001b[0m \u001b[1;32min\u001b[0m \u001b[0mct\u001b[0m\u001b[1;33m[\u001b[0m\u001b[0mn\u001b[0m\u001b[1;33m]\u001b[0m\u001b[1;33m[\u001b[0m\u001b[1;36m0\u001b[0m\u001b[1;33m]\u001b[0m \u001b[1;32mif\u001b[0m \u001b[0mdf\u001b[0m\u001b[1;33m.\u001b[0m\u001b[0mloc\u001b[0m\u001b[1;33m[\u001b[0m\u001b[0mix\u001b[0m\u001b[1;33m[\u001b[0m\u001b[0mi\u001b[0m\u001b[1;33m]\u001b[0m\u001b[1;33m,\u001b[0m \u001b[1;34m'regular'\u001b[0m\u001b[1;33m]\u001b[0m \u001b[1;32min\u001b[0m \u001b[0mct\u001b[0m\u001b[1;33m[\u001b[0m\u001b[0mn\u001b[0m\u001b[1;33m]\u001b[0m\u001b[1;33m[\u001b[0m\u001b[1;33m-\u001b[0m\u001b[1;36m3\u001b[0m\u001b[1;33m]\u001b[0m\u001b[1;33m]\u001b[0m\u001b[1;33m[\u001b[0m\u001b[1;36m0\u001b[0m\u001b[1;33m]\u001b[0m\u001b[1;33m[\u001b[0m\u001b[1;33m-\u001b[0m\u001b[1;36m4\u001b[0m\u001b[1;33m]\u001b[0m\u001b[1;33m\u001b[0m\u001b[1;33m\u001b[0m\u001b[0m\n\u001b[0m\u001b[0;32m    141\u001b[0m         \u001b[0mdf\u001b[0m\u001b[1;33m.\u001b[0m\u001b[0mloc\u001b[0m\u001b[1;33m[\u001b[0m\u001b[0mix\u001b[0m\u001b[1;33m[\u001b[0m\u001b[0mi\u001b[0m\u001b[1;33m]\u001b[0m\u001b[1;33m,\u001b[0m \u001b[1;34m'product'\u001b[0m\u001b[1;33m]\u001b[0m \u001b[1;33m=\u001b[0m \u001b[1;33m[\u001b[0m\u001b[0mct\u001b[0m\u001b[1;33m[\u001b[0m\u001b[0mn\u001b[0m\u001b[1;33m]\u001b[0m \u001b[1;32mfor\u001b[0m \u001b[0mn\u001b[0m \u001b[1;32min\u001b[0m \u001b[0mrange\u001b[0m\u001b[1;33m(\u001b[0m\u001b[0mlen\u001b[0m\u001b[1;33m(\u001b[0m\u001b[0mct\u001b[0m\u001b[1;33m)\u001b[0m\u001b[1;33m)\u001b[0m \u001b[1;32mif\u001b[0m \u001b[1;34m'Prime Member Deal'\u001b[0m \u001b[1;32min\u001b[0m \u001b[0mct\u001b[0m\u001b[1;33m[\u001b[0m\u001b[0mn\u001b[0m\u001b[1;33m]\u001b[0m\u001b[1;33m[\u001b[0m\u001b[1;36m0\u001b[0m\u001b[1;33m]\u001b[0m \u001b[1;32mif\u001b[0m \u001b[0mdf\u001b[0m\u001b[1;33m.\u001b[0m\u001b[0mloc\u001b[0m\u001b[1;33m[\u001b[0m\u001b[0mix\u001b[0m\u001b[1;33m[\u001b[0m\u001b[0mi\u001b[0m\u001b[1;33m]\u001b[0m\u001b[1;33m,\u001b[0m \u001b[1;34m'regular'\u001b[0m\u001b[1;33m]\u001b[0m \u001b[1;32min\u001b[0m \u001b[0mct\u001b[0m\u001b[1;33m[\u001b[0m\u001b[0mn\u001b[0m\u001b[1;33m]\u001b[0m\u001b[1;33m[\u001b[0m\u001b[1;33m-\u001b[0m\u001b[1;36m3\u001b[0m\u001b[1;33m]\u001b[0m\u001b[1;33m]\u001b[0m\u001b[1;33m[\u001b[0m\u001b[1;36m0\u001b[0m\u001b[1;33m]\u001b[0m\u001b[1;33m[\u001b[0m\u001b[1;33m-\u001b[0m\u001b[1;36m3\u001b[0m\u001b[1;33m]\u001b[0m\u001b[1;33m\u001b[0m\u001b[1;33m\u001b[0m\u001b[0m\n\u001b[0;32m    142\u001b[0m         \u001b[0mdf\u001b[0m\u001b[1;33m.\u001b[0m\u001b[0mloc\u001b[0m\u001b[1;33m[\u001b[0m\u001b[0mix\u001b[0m\u001b[1;33m[\u001b[0m\u001b[0mi\u001b[0m\u001b[1;33m]\u001b[0m\u001b[1;33m,\u001b[0m \u001b[1;34m'regular'\u001b[0m\u001b[1;33m]\u001b[0m \u001b[1;33m=\u001b[0m \u001b[1;33m[\u001b[0m\u001b[0mct\u001b[0m\u001b[1;33m[\u001b[0m\u001b[0mn\u001b[0m\u001b[1;33m]\u001b[0m \u001b[1;32mfor\u001b[0m \u001b[0mn\u001b[0m \u001b[1;32min\u001b[0m \u001b[0mrange\u001b[0m\u001b[1;33m(\u001b[0m\u001b[0mlen\u001b[0m\u001b[1;33m(\u001b[0m\u001b[0mct\u001b[0m\u001b[1;33m)\u001b[0m\u001b[1;33m)\u001b[0m \u001b[1;32mif\u001b[0m \u001b[1;34m'Prime Member Deal'\u001b[0m \u001b[1;32min\u001b[0m \u001b[0mct\u001b[0m\u001b[1;33m[\u001b[0m\u001b[0mn\u001b[0m\u001b[1;33m]\u001b[0m\u001b[1;33m[\u001b[0m\u001b[1;36m0\u001b[0m\u001b[1;33m]\u001b[0m \u001b[1;32mif\u001b[0m \u001b[0mdf\u001b[0m\u001b[1;33m.\u001b[0m\u001b[0mloc\u001b[0m\u001b[1;33m[\u001b[0m\u001b[0mix\u001b[0m\u001b[1;33m[\u001b[0m\u001b[0mi\u001b[0m\u001b[1;33m]\u001b[0m\u001b[1;33m,\u001b[0m \u001b[1;34m'product'\u001b[0m\u001b[1;33m]\u001b[0m \u001b[1;32min\u001b[0m \u001b[0mct\u001b[0m\u001b[1;33m[\u001b[0m\u001b[0mn\u001b[0m\u001b[1;33m]\u001b[0m\u001b[1;33m[\u001b[0m\u001b[1;33m-\u001b[0m\u001b[1;36m3\u001b[0m\u001b[1;33m]\u001b[0m\u001b[1;33m]\u001b[0m\u001b[1;33m[\u001b[0m\u001b[1;36m0\u001b[0m\u001b[1;33m]\u001b[0m\u001b[1;33m[\u001b[0m\u001b[1;33m-\u001b[0m\u001b[1;36m2\u001b[0m\u001b[1;33m]\u001b[0m\u001b[1;33m.\u001b[0m\u001b[0msplit\u001b[0m\u001b[1;33m(\u001b[0m\u001b[1;34m'$'\u001b[0m\u001b[1;33m)\u001b[0m\u001b[1;33m[\u001b[0m\u001b[1;36m1\u001b[0m\u001b[1;33m]\u001b[0m\u001b[1;33m.\u001b[0m\u001b[0mreplace\u001b[0m\u001b[1;33m(\u001b[0m\u001b[1;34mr'/lb'\u001b[0m\u001b[1;33m,\u001b[0m\u001b[1;34m''\u001b[0m\u001b[1;33m)\u001b[0m\u001b[1;33m\u001b[0m\u001b[1;33m\u001b[0m\u001b[0m\n",
      "\u001b[1;31mIndexError\u001b[0m: list index out of range"
     ]
    }
   ],
   "source": [
    "#############################################################################\n",
    "#############################################################################\n",
    "if len(d['company']) == len(d['product']) == len(d['regular']) == len(d['sale']) == len(d['category']):  # Verify that the length of each column is == to each other, otherwise the dataframe wont be populated   \n",
    "    print(\"All column lengths are equal, there are \" + str(len(d['company'])) + \" products on sale today.\")\n",
    "else:                                                                       #         \n",
    "    print(\"Error, column lengths are not equal.\")                           # \n",
    "#############################################################################\n",
    "df = pd.DataFrame.from_dict(d)                                              # Turn our Dict to a Pandas DataFrame  \n",
    "#############################################################################\n",
    "#browser.close()\n",
    "#############################################################################\n",
    "#           Data Cleaning for Products with missing company names           #\n",
    "#############################################################################\n",
    "if df['product'].str.contains('Original Vegan Bagels, 15.87 oz').any():                         \n",
    "    ix = df[df['product'].str.contains('Original Vegan Bagels, 15.87 oz')].index\n",
    "    for i in range(len(ix)):\n",
    "        df.loc[ix[i],'company'] = \"Soozy's\"\n",
    "\n",
    "if df['product'].str.contains('Original Sandwich Bread, 22.2 oz').any():                         \n",
    "    ix = df[df['product'].str.contains('Original Sandwich Bread, 22.2 oz')].index\n",
    "    for i in range(len(ix)):\n",
    "        df.loc[ix[i],'company'] = \"Soozy's\"\n",
    "\n",
    "if df['product'].str.contains('Arctic Char Fillet').any():                         \n",
    "    ix = df[df['product'].str.contains('Arctic Char Fillet')].index\n",
    "    for i in range(len(ix)):\n",
    "        df.loc[ix[i],'company'] = \"Whole Foods Market\"\n",
    "\n",
    "# Data cleaning/shifting for products by Brita\n",
    "if df['company'].str.contains('/').any() and df['product'].str.contains('Brita').any():\n",
    "    print('data error check company name containing \"/\" and \"Brita\"')\n",
    "\n",
    "# Data cleaning/shifting for products\n",
    "if df['product'].str.contains(\"Easy Peel White Shrimp 8-12 Count\").any():\n",
    "    ix = df[df['product'].str.contains(\"Easy Peel White Shrimp 8-12 Count\")].index\n",
    "    for i in range(len(ix)):\n",
    "        df.loc[ix[i],'company'] = \"Whole Foods Market\"\n",
    "\n",
    "if df['product'].str.contains(\"Organic Freeze Dried Chives, 0.14 oz\").any():\n",
    "    ix = df[df['product'].str.contains(\"Organic Freeze Dried Chives, 0.14 oz\")].index\n",
    "    for i in range(len(ix)):\n",
    "        df.loc[ix[i],'company'] = \"Green Garden\"\n",
    "\n",
    "if df['product'].str.contains(\"Organic Freeze Dried Thyme, 0.26 oz\").any():\n",
    "    ix = df[df['product'].str.contains(\"Organic Freeze Dried Thyme, 0.26 oz\")].index\n",
    "    for i in range(len(ix)):\n",
    "        df.loc[ix[i],'company'] = \"Green Garden\"\n",
    "\n",
    "if df['product'].str.contains(\"Organic Mild Plant Taco Meatless Crumbles\").any():\n",
    "    ix = df[df['product'].str.contains(\"Organic Mild Plant Taco Meatless Crumbles\")].index\n",
    "    for i in range(len(ix)):\n",
    "        df.loc[ix[i],'company'] = \"PLANT BOSS\"\n",
    "\n",
    "if df['product'].str.contains(\"Organic Multicolor Kale\").any():\n",
    "    ix = df[df['product'].str.contains(\"Organic Multicolor Kale\")].index\n",
    "    for i in range(len(ix)):\n",
    "        df.loc[ix[i],'company'] = \"Whole Foods Market\"        \n",
    "\n",
    "# Data cleaning/shifting for products by Soozy's\n",
    "if df['product'].str.contains(\"Soozy's Birthday Cake Cookies\").any():\n",
    "    ix = df[df['product'].str.contains(\"Soozy's Birthday Cake Cookies\")].index\n",
    "    for i in range(len(ix)):\n",
    "        df.loc[ix[i],'company'] = \"Soozy's\"\n",
    "\n",
    "if df['product'].str.contains(\"Soozys Chocolate Chip Cookies\").any():\n",
    "    ix = df[df['product'].str.contains(\"Soozys Chocolate Chip Cookies\")].index\n",
    "    for i in range(len(ix)):\n",
    "        df.loc[ix[i],'company'] = \"Soozy's\"\n",
    "\n",
    "# Data cleaning/shifting for products by Whole Foods Market\n",
    "if df['product'].str.contains('Whole Foods Market').any():\n",
    "    print('data error check product name containing \"whole foods market\"')\n",
    "\n",
    "#---------------Any of these are definitely under the lifestyle category//all waterbottles------#\n",
    "\n",
    "# Data cleaning/shifting for products by CAMELBAK\n",
    "if df['product'].str.contains('CAMELBAK').any():\n",
    "    print('data error check product name containing \"CAMELBAK\"')\n",
    "\n",
    "# Data cleaning/shifting for products by NEW WAVE\n",
    "if df['product'].str.contains('NEW WAVE').any():\n",
    "    print('data error check product name containing \"NEW WAVE\"')\n",
    "\n",
    "# Data cleaning/shifting for products by Enviro\n",
    "if df['product'].str.contains('Enviro').any():\n",
    "    print('data error check product name containing \"Enviro\"')\n",
    "\n",
    "# Data cleaning/shifting for products by HYDRO FLASK\n",
    "if df['product'].str.contains('HYDRO FLASK').any():\n",
    "    print('data error check product name containing \"HYDRO FLASK\"')\n",
    "\n",
    "# Data cleaning/shifting for products by SUNDESA\n",
    "if df['product'].str.contains('SUNDESA').any():\n",
    "    print('data error check product name containing \"SUNDESA\"')\n",
    "\n",
    "if df['regular'].str.contains('9¢').any():\n",
    "    ix = df[df['regular'].str.contains('9¢')].index\n",
    "    for i in range(len(ix)):\n",
    "        df.loc[ix[i], 'regular'] = '9' + df.loc[ix[i], 'regular']\n",
    "\n",
    "if df['company'].str.contains('365').any():\n",
    "    ix = df[df['company'].str.contains('365')].index\n",
    "    for i in range(len(ix)):\n",
    "        df.loc[ix[i], 'company'] = 'Whole Foods Market'\n",
    "\n",
    "if df['product'].str.contains('Chicken Breast Cutlets').any():\n",
    "    ix = df[df['product'].str.contains('Chicken Breast Cutlets')].index\n",
    "    for i in range(len(ix)):\n",
    "        df.loc[ix[i], 'company'] = 'Whole Foods Market'\n",
    "\n",
    "if df['product'].str.contains('Soozy').any():\n",
    "    ix = df[df['product'].str.contains('Soozy')].index\n",
    "    for i in range(len(ix)):\n",
    "        df.loc[ix[i],'company'] = \"Soozy's\"\n",
    "\n",
    "if df['product'].str.contains('Superseed Vegan Bread, 22.2 oz').any():\n",
    "    ix = df[df['product'].str.contains('Superseed Vegan Bread, 22.2 oz')].index \n",
    "    for i in range(len(ix)):\n",
    "        df.loc[ix[i],'company'] = \"Soozy's\"     \n",
    "\n",
    "if df['product'].str.contains('Distillery').any():\n",
    "    ix = df[df['product'].str.contains('Distillery')].index  \n",
    "    print('Dropped ' + str(len(ix)) + ' Distillery results.')\n",
    "    df = df.drop(ix)\n",
    "#############################################################################   \n",
    "#---------------------------------------------------------------------------#\n",
    "#                             Data Wrangling                                #\n",
    "#---------------------------------------------------------------------------# \n",
    "#@@@#@@@#@@@#@@@#@@@#@@@#@@@#@@@#@@@#@@@#@@@#@@@#@@@#@@@#@@@#@@@#@@@#@@@#@@@#\n",
    "if df['product'].str.contains('Whole Foods Market').any():                  #----------------------------------------------------------------------------|\n",
    "    ix = df[df['product'].str.contains('Whole Foods Market')].index         # If the product column contains 'Whole Foods Market' then the item doesn't have a sale price, which shifts the \n",
    "    for i in range(len(ix)):                                                # appended information to the left once. Because of this the company category will be shifted as a different text value\n",
    "        df.loc[ix[i], 'company'] = df.loc[ix[i], 'product']                 # Solution: Apply the text in the 'product' column to the 'company' column |\n",
    "#@@@@@@@@@@@@@@@@@@@@@@@@@@@@@@@@@@@@@@@@@@@@@@@@@@@@@@@@@@@@@@@@@@@@@@@@@@@# ------------------------------------------------------------------------|\n",
    "#:\n",
    "if df['regular'].str.contains('a|e|i|o|u', regex=True).any():               # Furthermore, this means that the other columns containing pricing have shifted values of information\n",
    "    ix = df[df['regular'].str.contains('a|e|i|o|u', regex=True)].index      # To apply proper values to each column we iterate where 'Prime member deal' exists at position [n][0]\n",
    "    for i in range(len(ix)):                                                # globals() is used to iterate through our list of categories which points to the actual objects containing the scraped data\n",
    "        ct = globals()[df.loc[ix[i], 'category']]                           # -----------------------------------------------------------------------|\n",
    "        df.loc[ix[i], 'company'] = [ct[n] for n in range(len(ct)) if 'Prime Member Deal' in ct[n][0] if df.loc[ix[i], 'regular'] in ct[n][-3]][0][-4]\n",
    "        df.loc[ix[i], 'product'] = [ct[n] for n in range(len(ct)) if 'Prime Member Deal' in ct[n][0] if df.loc[ix[i], 'regular'] in ct[n][-3]][0][-3]\n",
    "        df.loc[ix[i], 'regular'] = [ct[n] for n in range(len(ct)) if 'Prime Member Deal' in ct[n][0] if df.loc[ix[i], 'product'] in ct[n][-3]][0][-2].split('$')[1].replace(r'/lb','')\n",
    "        df.loc[ix[i], 'sale'] = 0                                           # If 'Prime Member Deal' exists in position [n][0] of each category object, that means there is no sale price as it is for prime members only\n",
    "        df.loc[ix[i], 'prime'] = [ct[n] for n in range(len(ct)) if 'Prime Member Deal' in ct[n][0] if df.loc[ix[i], 'product'] in ct[n][-3]][0][-1].split('$')[1].replace(r'/lb','')\n",
    "        print('Some products are only on sale for prime members, wrangling data accordingly...')\n",
    "#except Exception as e:\n",
    "    print(e)"
   ]
  },
  {
   "cell_type": "code",
   "execution_count": 77,
   "metadata": {},
   "outputs": [
    {
     "data": {
      "text/plain": [
       "['Prime Member Deal',\n",
       " 'Valid 2/17 - 2/17',\n",
       " 'Kikka Sushi',\n",
       " 'Crab Meat California Roll, 7 oz',\n",
       " 'Regular$10.49',\n",
       " 'Prime Member Price$7.87',\n",
       " 'Add to list']"
      ]
     },
     "execution_count": 77,
     "metadata": {},
     "output_type": "execute_result"
    }
   ],
   "source": [
    "prepared_foods[1]"
   ]
  },
  {
   "cell_type": "code",
   "execution_count": 91,
   "metadata": {},
   "outputs": [
    {
     "data": {
      "text/plain": [
       "[['Prime Member Deal',\n",
       "  'Valid 2/17 - 2/17',\n",
       "  'Kikka Sushi',\n",
       "  'Crab Meat California Roll, 7 oz',\n",
       "  'Regular$10.49',\n",
       "  'Prime Member Price$7.87',\n",
       "  'Add to list'],\n",
       " ['Prime Member Deal',\n",
       "  'Valid 2/17 - 2/17',\n",
       "  'Kikka Sushi',\n",
       "  'Spicy Crab Meat California Roll, 7 oz',\n",
       "  'Regular$10.99',\n",
       "  'Prime Member Price$8.24',\n",
       "  'Add to list']]"
      ]
     },
     "execution_count": 91,
     "metadata": {},
     "output_type": "execute_result"
    }
   ],
   "source": [
    "[prepared_foods[n] for n in range(len(prepared_foods)) if 'Kikka Sushi' in prepared_foods[n][2] if 't California Roll, 7 oz' in prepared_foods[n][3]]"
   ]
  },
  {
   "cell_type": "code",
   "execution_count": 88,
   "metadata": {},
   "outputs": [],
   "source": [
    "if df['product'].str.contains('Kikka Sushi', regex=True).any():\n",
    "    ix = df[df['product'].str.contains('Kikka Sushi', regex=True)].index\n",
    "    for i in range(len(ix)):\n",
    "        df.loc[ix[i], 'company'] = df.loc[ix[i], 'product'] \n",
    "        df.loc[ix[i], 'product'] = "
   ]
  },
  {
   "cell_type": "code",
   "execution_count": 89,
   "metadata": {},
   "outputs": [
    {
     "data": {
      "text/html": [
       "<div>\n",
       "<style scoped>\n",
       "    .dataframe tbody tr th:only-of-type {\n",
       "        vertical-align: middle;\n",
       "    }\n",
       "\n",
       "    .dataframe tbody tr th {\n",
       "        vertical-align: top;\n",
       "    }\n",
       "\n",
       "    .dataframe thead th {\n",
       "        text-align: right;\n",
       "    }\n",
       "</style>\n",
       "<table border=\"1\" class=\"dataframe\">\n",
       "  <thead>\n",
       "    <tr style=\"text-align: right;\">\n",
       "      <th></th>\n",
       "      <th>company</th>\n",
       "      <th>product</th>\n",
       "      <th>regular</th>\n",
       "      <th>sale</th>\n",
       "      <th>prime</th>\n",
       "      <th>category</th>\n",
       "    </tr>\n",
       "  </thead>\n",
       "  <tbody>\n",
       "    <tr>\n",
       "      <th>152</th>\n",
       "      <td>Valid 2/17 - 2/17</td>\n",
       "      <td>Kikka Sushi</td>\n",
       "      <td>t California Roll, 7 oz</td>\n",
       "      <td>.49</td>\n",
       "      <td>7.87</td>\n",
       "      <td>prepared_foods</td>\n",
       "    </tr>\n",
       "    <tr>\n",
       "      <th>153</th>\n",
       "      <td>Valid 2/17 - 2/17</td>\n",
       "      <td>Kikka Sushi</td>\n",
       "      <td>alifornia Roll, 7 oz</td>\n",
       "      <td>.49</td>\n",
       "      <td>7.87</td>\n",
       "      <td>prepared_foods</td>\n",
       "    </tr>\n",
       "    <tr>\n",
       "      <th>154</th>\n",
       "      <td>Valid 2/17 - 2/17</td>\n",
       "      <td>Kikka Sushi</td>\n",
       "      <td>ab Meat California Roll, 7 oz</td>\n",
       "      <td>.99</td>\n",
       "      <td>8.24</td>\n",
       "      <td>prepared_foods</td>\n",
       "    </tr>\n",
       "  </tbody>\n",
       "</table>\n",
       "</div>"
      ],
      "text/plain": [
       "               company      product                        regular sale prime  \\\n",
       "152  Valid 2/17 - 2/17  Kikka Sushi        t California Roll, 7 oz  .49  7.87   \n",
       "153  Valid 2/17 - 2/17  Kikka Sushi           alifornia Roll, 7 oz  .49  7.87   \n",
       "154  Valid 2/17 - 2/17  Kikka Sushi  ab Meat California Roll, 7 oz  .99  8.24   \n",
       "\n",
       "           category  \n",
       "152  prepared_foods  \n",
       "153  prepared_foods  \n",
       "154  prepared_foods  "
      ]
     },
     "execution_count": 89,
     "metadata": {},
     "output_type": "execute_result"
    }
   ],
   "source": [
    "df.loc[ix]"
   ]
  },
  {
   "cell_type": "code",
   "execution_count": 73,
   "metadata": {},
   "outputs": [
    {
     "data": {
      "text/html": [
       "<div>\n",
       "<style scoped>\n",
       "    .dataframe tbody tr th:only-of-type {\n",
       "        vertical-align: middle;\n",
       "    }\n",
       "\n",
       "    .dataframe tbody tr th {\n",
       "        vertical-align: top;\n",
       "    }\n",
       "\n",
       "    .dataframe thead th {\n",
       "        text-align: right;\n",
       "    }\n",
       "</style>\n",
       "<table border=\"1\" class=\"dataframe\">\n",
       "  <thead>\n",
       "    <tr style=\"text-align: right;\">\n",
       "      <th></th>\n",
       "      <th>company</th>\n",
       "      <th>product</th>\n",
       "      <th>regular</th>\n",
       "      <th>sale</th>\n",
       "      <th>prime</th>\n",
       "      <th>category</th>\n",
       "    </tr>\n",
       "  </thead>\n",
       "  <tbody>\n",
       "    <tr>\n",
       "      <th>152</th>\n",
       "      <td>Valid 2/17 - 2/17</td>\n",
       "      <td>Kikka Sushi</td>\n",
       "      <td>t California Roll, 7 oz</td>\n",
       "      <td>.49</td>\n",
       "      <td>7.87</td>\n",
       "      <td>prepared_foods</td>\n",
       "    </tr>\n",
       "    <tr>\n",
       "      <th>153</th>\n",
       "      <td>Valid 2/17 - 2/17</td>\n",
       "      <td>Kikka Sushi</td>\n",
       "      <td>alifornia Roll, 7 oz</td>\n",
       "      <td>.49</td>\n",
       "      <td>7.87</td>\n",
       "      <td>prepared_foods</td>\n",
       "    </tr>\n",
       "    <tr>\n",
       "      <th>154</th>\n",
       "      <td>Valid 2/17 - 2/17</td>\n",
       "      <td>Kikka Sushi</td>\n",
       "      <td>ab Meat California Roll, 7 oz</td>\n",
       "      <td>.99</td>\n",
       "      <td>8.24</td>\n",
       "      <td>prepared_foods</td>\n",
       "    </tr>\n",
       "  </tbody>\n",
       "</table>\n",
       "</div>"
      ],
      "text/plain": [
       "               company      product                        regular sale prime  \\\n",
       "152  Valid 2/17 - 2/17  Kikka Sushi        t California Roll, 7 oz  .49  7.87   \n",
       "153  Valid 2/17 - 2/17  Kikka Sushi           alifornia Roll, 7 oz  .49  7.87   \n",
       "154  Valid 2/17 - 2/17  Kikka Sushi  ab Meat California Roll, 7 oz  .99  8.24   \n",
       "\n",
       "           category  \n",
       "152  prepared_foods  \n",
       "153  prepared_foods  \n",
       "154  prepared_foods  "
      ]
     },
     "execution_count": 73,
     "metadata": {},
     "output_type": "execute_result"
    }
   ],
   "source": [
    "df[df['regular'].str.contains('a|e|i|o|u', regex=True)]"
   ]
  },
  {
   "cell_type": "code",
   "execution_count": 72,
   "metadata": {},
   "outputs": [
    {
     "name": "stdout",
     "output_type": "stream",
     "text": [
      "All column lengths are equal, there are 1289 products on sale today.\n",
      "Dropped 2 Distillery results.\n",
      "list index out of range\n"
     ]
    },
    {
     "ename": "ValueError",
     "evalue": "Unable to parse string \"t California Roll, 7 oz\" at position 152",
     "output_type": "error",
     "traceback": [
      "\u001b[1;31m---------------------------------------------------------------------------\u001b[0m",
      "\u001b[1;31mValueError\u001b[0m                                Traceback (most recent call last)",
      "\u001b[1;32m~\\AppData\\Local\\Programs\\Python\\Python39\\lib\\site-packages\\pandas\\_libs\\lib.pyx\u001b[0m in \u001b[0;36mpandas._libs.lib.maybe_convert_numeric\u001b[1;34m()\u001b[0m\n",
      "\u001b[1;31mValueError\u001b[0m: Unable to parse string \"t California Roll, 7 oz\"",
      "\nDuring handling of the above exception, another exception occurred:\n",
      "\u001b[1;31mValueError\u001b[0m                                Traceback (most recent call last)",
      "\u001b[1;32m~\\AppData\\Local\\Temp/ipykernel_7648/105659074.py\u001b[0m in \u001b[0;36m<module>\u001b[1;34m\u001b[0m\n\u001b[0;32m    237\u001b[0m \u001b[1;31m#---------------------------------------------------------------------------------------------# # # # # # # # # # # # # # #                                                                                              # # # # # # # # # # # # # # #\u001b[0m\u001b[1;33m\u001b[0m\u001b[1;33m\u001b[0m\u001b[1;33m\u001b[0m\u001b[0m\n\u001b[0;32m    238\u001b[0m \u001b[0mdf\u001b[0m \u001b[1;33m=\u001b[0m \u001b[0mdf\u001b[0m\u001b[1;33m.\u001b[0m\u001b[0msort_index\u001b[0m\u001b[1;33m(\u001b[0m\u001b[1;33m)\u001b[0m                                                                          \u001b[1;31m#\u001b[0m\u001b[1;33m\u001b[0m\u001b[1;33m\u001b[0m\u001b[0m\n\u001b[1;32m--> 239\u001b[1;33m \u001b[0mdf\u001b[0m\u001b[1;33m[\u001b[0m\u001b[1;34m\"regular\"\u001b[0m\u001b[1;33m]\u001b[0m \u001b[1;33m=\u001b[0m \u001b[0mpd\u001b[0m\u001b[1;33m.\u001b[0m\u001b[0mto_numeric\u001b[0m\u001b[1;33m(\u001b[0m\u001b[0mdf\u001b[0m\u001b[1;33m[\u001b[0m\u001b[1;34m\"regular\"\u001b[0m\u001b[1;33m]\u001b[0m\u001b[1;33m)\u001b[0m                                                  \u001b[1;31m# # # # # # # # # # # # # # # # # # #\u001b[0m\u001b[1;33m\u001b[0m\u001b[1;33m\u001b[0m\u001b[0m\n\u001b[0m\u001b[0;32m    240\u001b[0m \u001b[0mdf\u001b[0m\u001b[1;33m[\u001b[0m\u001b[1;34m\"sale\"\u001b[0m\u001b[1;33m]\u001b[0m \u001b[1;33m=\u001b[0m \u001b[0mpd\u001b[0m\u001b[1;33m.\u001b[0m\u001b[0mto_numeric\u001b[0m\u001b[1;33m(\u001b[0m\u001b[0mdf\u001b[0m\u001b[1;33m[\u001b[0m\u001b[1;34m\"sale\"\u001b[0m\u001b[1;33m]\u001b[0m\u001b[1;33m)\u001b[0m                                                        \u001b[1;31m# Str ---> float, Feature Creation  #\u001b[0m\u001b[1;33m\u001b[0m\u001b[1;33m\u001b[0m\u001b[0m\n\u001b[0;32m    241\u001b[0m \u001b[0mdf\u001b[0m\u001b[1;33m[\u001b[0m\u001b[1;34m\"prime\"\u001b[0m\u001b[1;33m]\u001b[0m \u001b[1;33m=\u001b[0m \u001b[0mpd\u001b[0m\u001b[1;33m.\u001b[0m\u001b[0mto_numeric\u001b[0m\u001b[1;33m(\u001b[0m\u001b[0mdf\u001b[0m\u001b[1;33m[\u001b[0m\u001b[1;34m\"prime\"\u001b[0m\u001b[1;33m]\u001b[0m\u001b[1;33m)\u001b[0m                                                      \u001b[1;31m# # # # # # # # # # # # # # # # # # #\u001b[0m\u001b[1;33m\u001b[0m\u001b[1;33m\u001b[0m\u001b[0m\n",
      "\u001b[1;32m~\\AppData\\Local\\Programs\\Python\\Python39\\lib\\site-packages\\pandas\\core\\tools\\numeric.py\u001b[0m in \u001b[0;36mto_numeric\u001b[1;34m(arg, errors, downcast)\u001b[0m\n\u001b[0;32m    181\u001b[0m         \u001b[0mcoerce_numeric\u001b[0m \u001b[1;33m=\u001b[0m \u001b[0merrors\u001b[0m \u001b[1;32mnot\u001b[0m \u001b[1;32min\u001b[0m \u001b[1;33m(\u001b[0m\u001b[1;34m\"ignore\"\u001b[0m\u001b[1;33m,\u001b[0m \u001b[1;34m\"raise\"\u001b[0m\u001b[1;33m)\u001b[0m\u001b[1;33m\u001b[0m\u001b[1;33m\u001b[0m\u001b[0m\n\u001b[0;32m    182\u001b[0m         \u001b[1;32mtry\u001b[0m\u001b[1;33m:\u001b[0m\u001b[1;33m\u001b[0m\u001b[1;33m\u001b[0m\u001b[0m\n\u001b[1;32m--> 183\u001b[1;33m             values, _ = lib.maybe_convert_numeric(\n\u001b[0m\u001b[0;32m    184\u001b[0m                 \u001b[0mvalues\u001b[0m\u001b[1;33m,\u001b[0m \u001b[0mset\u001b[0m\u001b[1;33m(\u001b[0m\u001b[1;33m)\u001b[0m\u001b[1;33m,\u001b[0m \u001b[0mcoerce_numeric\u001b[0m\u001b[1;33m=\u001b[0m\u001b[0mcoerce_numeric\u001b[0m\u001b[1;33m\u001b[0m\u001b[1;33m\u001b[0m\u001b[0m\n\u001b[0;32m    185\u001b[0m             )\n",
      "\u001b[1;32m~\\AppData\\Local\\Programs\\Python\\Python39\\lib\\site-packages\\pandas\\_libs\\lib.pyx\u001b[0m in \u001b[0;36mpandas._libs.lib.maybe_convert_numeric\u001b[1;34m()\u001b[0m\n",
      "\u001b[1;31mValueError\u001b[0m: Unable to parse string \"t California Roll, 7 oz\" at position 152"
     ]
    }
   ],
   "source": [
    "#############################################################################\n",
    "#############################################################################\n",
    "if len(d['company']) == len(d['product']) == len(d['regular']) == len(d['sale']) == len(d['category']):  # Verify that the length of each column is == to each other, otherwise the dataframe wont be populated   \n",
    "    print(\"All column lengths are equal, there are \" + str(len(d['company'])) + \" products on sale today.\")\n",
    "else:                                                                       #         \n",
    "    print(\"Error, column lengths are not equal.\")                           # \n",
    "#############################################################################\n",
    "df = pd.DataFrame.from_dict(d)                                              # Turn our Dict to a Pandas DataFrame  \n",
    "#############################################################################\n",
    "#browser.close()\n",
    "#############################################################################\n",
    "#           Data Cleaning for Products with missing company names           #\n",
    "#############################################################################\n",
    "if df['product'].str.contains('Original Vegan Bagels, 15.87 oz').any():                         \n",
    "    ix = df[df['product'].str.contains('Original Vegan Bagels, 15.87 oz')].index\n",
    "    for i in range(len(ix)):\n",
    "        df.loc[ix[i],'company'] = \"Soozy's\"\n",
    "\n",
    "if df['product'].str.contains('Original Sandwich Bread, 22.2 oz').any():                         \n",
    "    ix = df[df['product'].str.contains('Original Sandwich Bread, 22.2 oz')].index\n",
    "    for i in range(len(ix)):\n",
    "        df.loc[ix[i],'company'] = \"Soozy's\"\n",
    "\n",
    "if df['product'].str.contains('Arctic Char Fillet').any():                         \n",
    "    ix = df[df['product'].str.contains('Arctic Char Fillet')].index\n",
    "    for i in range(len(ix)):\n",
    "        df.loc[ix[i],'company'] = \"Whole Foods Market\"\n",
    "\n",
    "# Data cleaning/shifting for products by Brita\n",
    "if df['company'].str.contains('/').any() and df['product'].str.contains('Brita').any():\n",
    "    print('data error check company name containing \"/\" and \"Brita\"')\n",
    "\n",
    "# Data cleaning/shifting for products\n",
    "if df['product'].str.contains(\"Easy Peel White Shrimp 8-12 Count\").any():\n",
    "    ix = df[df['product'].str.contains(\"Easy Peel White Shrimp 8-12 Count\")].index\n",
    "    for i in range(len(ix)):\n",
    "        df.loc[ix[i],'company'] = \"Whole Foods Market\"\n",
    "\n",
    "if df['product'].str.contains(\"Organic Freeze Dried Chives, 0.14 oz\").any():\n",
    "    ix = df[df['product'].str.contains(\"Organic Freeze Dried Chives, 0.14 oz\")].index\n",
    "    for i in range(len(ix)):\n",
    "        df.loc[ix[i],'company'] = \"Green Garden\"\n",
    "\n",
    "if df['product'].str.contains(\"Organic Freeze Dried Thyme, 0.26 oz\").any():\n",
    "    ix = df[df['product'].str.contains(\"Organic Freeze Dried Thyme, 0.26 oz\")].index\n",
    "    for i in range(len(ix)):\n",
    "        df.loc[ix[i],'company'] = \"Green Garden\"\n",
    "\n",
    "if df['product'].str.contains(\"Organic Mild Plant Taco Meatless Crumbles\").any():\n",
    "    ix = df[df['product'].str.contains(\"Organic Mild Plant Taco Meatless Crumbles\")].index\n",
    "    for i in range(len(ix)):\n",
    "        df.loc[ix[i],'company'] = \"PLANT BOSS\"\n",
    "\n",
    "if df['product'].str.contains(\"Organic Multicolor Kale\").any():\n",
    "    ix = df[df['product'].str.contains(\"Organic Multicolor Kale\")].index\n",
    "    for i in range(len(ix)):\n",
    "        df.loc[ix[i],'company'] = \"Whole Foods Market\"        \n",
    "\n",
    "# Data cleaning/shifting for products by Soozy's\n",
    "if df['product'].str.contains(\"Soozy's Birthday Cake Cookies\").any():\n",
    "    ix = df[df['product'].str.contains(\"Soozy's Birthday Cake Cookies\")].index\n",
    "    for i in range(len(ix)):\n",
    "        df.loc[ix[i],'company'] = \"Soozy's\"\n",
    "\n",
    "if df['product'].str.contains(\"Soozys Chocolate Chip Cookies\").any():\n",
    "    ix = df[df['product'].str.contains(\"Soozys Chocolate Chip Cookies\")].index\n",
    "    for i in range(len(ix)):\n",
    "        df.loc[ix[i],'company'] = \"Soozy's\"\n",
    "\n",
    "# Data cleaning/shifting for products by Whole Foods Market\n",
    "if df['product'].str.contains('Whole Foods Market').any():\n",
    "    print('data error check product name containing \"whole foods market\"')\n",
    "\n",
    "#---------------Any of these are definitely under the lifestyle category//all waterbottles------#\n",
    "\n",
    "# Data cleaning/shifting for products by CAMELBAK\n",
    "if df['product'].str.contains('CAMELBAK').any():\n",
    "    print('data error check product name containing \"CAMELBAK\"')\n",
    "\n",
    "# Data cleaning/shifting for products by NEW WAVE\n",
    "if df['product'].str.contains('NEW WAVE').any():\n",
    "    print('data error check product name containing \"NEW WAVE\"')\n",
    "\n",
    "# Data cleaning/shifting for products by Enviro\n",
    "if df['product'].str.contains('Enviro').any():\n",
    "    print('data error check product name containing \"Enviro\"')\n",
    "\n",
    "# Data cleaning/shifting for products by HYDRO FLASK\n",
    "if df['product'].str.contains('HYDRO FLASK').any():\n",
    "    print('data error check product name containing \"HYDRO FLASK\"')\n",
    "\n",
    "# Data cleaning/shifting for products by SUNDESA\n",
    "if df['product'].str.contains('SUNDESA').any():\n",
    "    print('data error check product name containing \"SUNDESA\"')\n",
    "\n",
    "if df['regular'].str.contains('9¢').any():\n",
    "    ix = df[df['regular'].str.contains('9¢')].index\n",
    "    for i in range(len(ix)):\n",
    "        df.loc[ix[i], 'regular'] = '9' + df.loc[ix[i], 'regular']\n",
    "\n",
    "if df['company'].str.contains('365').any():\n",
    "    ix = df[df['company'].str.contains('365')].index\n",
    "    for i in range(len(ix)):\n",
    "        df.loc[ix[i], 'company'] = 'Whole Foods Market'\n",
    "\n",
    "if df['product'].str.contains('Chicken Breast Cutlets').any():\n",
    "    ix = df[df['product'].str.contains('Chicken Breast Cutlets')].index\n",
    "    for i in range(len(ix)):\n",
    "        df.loc[ix[i], 'company'] = 'Whole Foods Market'\n",
    "\n",
    "if df['product'].str.contains('Soozy').any():\n",
    "    ix = df[df['product'].str.contains('Soozy')].index\n",
    "    for i in range(len(ix)):\n",
    "        df.loc[ix[i],'company'] = \"Soozy's\"\n",
    "\n",
    "if df['product'].str.contains('Superseed Vegan Bread, 22.2 oz').any():\n",
    "    ix = df[df['product'].str.contains('Superseed Vegan Bread, 22.2 oz')].index \n",
    "    for i in range(len(ix)):\n",
    "        df.loc[ix[i],'company'] = \"Soozy's\"     \n",
    "\n",
    "if df['product'].str.contains('Distillery').any():\n",
    "    ix = df[df['product'].str.contains('Distillery')].index  \n",
    "    print('Dropped ' + str(len(ix)) + ' Distillery results.')\n",
    "    df = df.drop(ix)\n",
    "#############################################################################   \n",
    "#---------------------------------------------------------------------------#\n",
    "#                             Data Wrangling                                #\n",
    "#---------------------------------------------------------------------------# \n",
    "#@@@#@@@#@@@#@@@#@@@#@@@#@@@#@@@#@@@#@@@#@@@#@@@#@@@#@@@#@@@#@@@#@@@#@@@#@@@#\n",
    "if df['product'].str.contains('Whole Foods Market').any():                  #----------------------------------------------------------------------------|\n",
    "    ix = df[df['product'].str.contains('Whole Foods Market')].index         # If the product column contains 'Whole Foods Market' then the item doesn't have a sale price, which shifts the \n",
    "    for i in range(len(ix)):                                                # appended information to the left once. Because of this the company category will be shifted as a different text value\n",
    "        df.loc[ix[i], 'company'] = df.loc[ix[i], 'product']                 # Solution: Apply the text in the 'product' column to the 'company' column |\n",
    "#@@@@@@@@@@@@@@@@@@@@@@@@@@@@@@@@@@@@@@@@@@@@@@@@@@@@@@@@@@@@@@@@@@@@@@@@@@@# ------------------------------------------------------------------------|\n",
    "try:\n",
    "    if df['regular'].str.contains('a|e|i|o|u', regex=True).any():               # Furthermore, this means that the other columns containing pricing have shifted values of information\n",
    "        ix = df[df['regular'].str.contains('a|e|i|o|u', regex=True)].index      # To apply proper values to each column we iterate where 'Prime member deal' exists at position [n][0]\n",
    "        for i in range(len(ix)):                                                # globals() is used to iterate through our list of categories which points to the actual objects containing the scraped data\n",
    "            ct = globals()[df.loc[ix[i], 'category']]                           # -----------------------------------------------------------------------|\n",
    "            df.loc[ix[i], 'company'] = [ct[n] for n in range(len(ct)) if 'Prime Member Deal' in ct[n][0] if df.loc[ix[i], 'regular'] in ct[n][-3]][0][-4]\n",
    "            df.loc[ix[i], 'product'] = [ct[n] for n in range(len(ct)) if 'Prime Member Deal' in ct[n][0] if df.loc[ix[i], 'regular'] in ct[n][-3]][0][-3]\n",
    "            df.loc[ix[i], 'regular'] = [ct[n] for n in range(len(ct)) if 'Prime Member Deal' in ct[n][0] if df.loc[ix[i], 'product'] in ct[n][-3]][0][-2].split('$')[1].replace(r'/lb','')\n",
    "            df.loc[ix[i], 'sale'] = 0                                           # If 'Prime Member Deal' exists in position [n][0] of each category object, that means there is no sale price as it is for prime members only\n",
    "            df.loc[ix[i], 'prime'] = [ct[n] for n in range(len(ct)) if 'Prime Member Deal' in ct[n][0] if df.loc[ix[i], 'product'] in ct[n][-3]][0][-1].split('$')[1].replace(r'/lb','')\n",
    "            print('Some products are only on sale for prime members, wrangling data accordingly...')\n",
    "except Exception as e:\n",
    "    print(e)\n",
    "#@@@@@@@@@@@@@@@@@@@@@@@@@@@@@@@@@@@@@@@@@@@@@@@@@@@@@@@@@@@@@@@@@@@@@@@@@@@#\n",
    "#---------------------------------------------------------------------------# \n",
    "df['sale'] = df['sale'].str.replace(r'$', '', regex=True)                   # # # # # # # # # # # # # # # \n",
    "df['prime'] = df['prime'].str.replace(r'$', '', regex=True)                 # Remove \"$\" from results   #\n",
    "df['regular'] = df['regular'].str.replace(r'$', '', regex=True)             # # # # # # # # # # # # # # # \n",
    "#---------------------------------------------------------------------------#                           #\n",
    "df = df.fillna(0)                                                           #      Fill NaN with 0      # \n",
    "#---------------------------------------------------------------------------#                           #\n",
    "if df['regular'].str.contains('/lb').any():                                 # # # # # # # # # # # # # # #  \n",
    "    ix = df[df['regular'].str.contains('/lb')].index                        # Remove \"/lb\" from results #\n",
    "    for i in range(len(ix)):                                                # # # # # # # # # # # # # # # \n",
    "        df.loc[ix[i], 'regular'] = df.loc[ix[i], 'regular'].replace(r'/lb','')\n",
    "if df['sale'].str.contains('/lb').any():                                    #\n",
    "    ix = df[df['sale'].str.contains('/lb', na=False)].index                 #\n",
    "    for i in range(len(ix)):                                                #\n",
    "        df.loc[ix[i], 'sale'] = df.loc[ix[i], 'sale'].replace(r'/lb','')    #\n",
    "if df['prime'].str.contains('/lb').any():                                   #\n",
    "    ix = df[df['prime'].str.contains('/lb')].index                          #\n",
    "    for i in range(len(ix)):                                                #\n",
    "        df.loc[ix[i], 'prime'] = df.loc[ix[i], 'prime'].replace(r'/lb','')  #\n",
    "#---------------------------------------------------------------------------#\n",
    "if df['regular'].str.contains('/ounce').any():                              # # # # # # # # # #\n",
    "    ix = df[df['regular'].str.contains('/ounce')].index                     # Remove \"/ounce\" #\n",
    "    for i in range(len(ix)):                                                # # # # # # # # # # \n",
    "        df.loc[ix[i], 'regular'] = df.loc[ix[i], 'regular'].replace(r'/ounce','')\n",
    "if df['regular'].str.contains('/fluid ounce').any():                        # # # # # # # # # # # # # \n",
    "    ix = df[df['regular'].str.contains('/fluid ounce')].index               # Remove \"/fluid ounce\" #     \n",
    "    for i in range(len(ix)):                                                # # # # # # # # # # # # #   \n",
    "        df.loc[ix[i], 'regular'] = df.loc[ix[i], 'regular'].replace(r'/fluid ounce','')\n",
    "if df['sale'].str.contains('/ounce').any():                                 #    \n",
    "    ix = df[df['sale'].str.contains('/ounce')].index                        #\n",
    "    for i in range(len(ix)):                                                #\n",
    "        df.loc[ix[i], 'sale'] = df.loc[ix[i], 'sale'].replace(r'/ounce','') #\n",
    "if df['sale'].str.contains('/fluid ounce').any():                           #\n",
    "    ix = df[df['sale'].str.contains('/fluid ounce')].index                  #\n",
    "    for i in range(len(ix)):                                                #\n",
    "        df.loc[ix[i], 'sale'] = df.loc[ix[i], 'sale'].replace(r'/fluid ounce','')\n",
    "if df['prime'].str.contains('/ounce').any():                                #\n",
    "    ix = df[df['prime'].str.contains('/ounce')].index                       #\n",
    "    for i in range(len(ix)):                                                #\n",
    "        df.loc[ix[i], 'prime'] = df.loc[ix[i], 'prime'].replace(r'/ounce','')\n",
    "if df['prime'].str.contains('/fluid ounce').any():                          #\n",
    "    ix = df[df['prime'].str.contains('/fluid ounce')].index                 #\n",
    "    for i in range(len(ix)):                                                #\n",
    "        df.loc[ix[i], 'prime'] = df.loc[ix[i], 'prime'].replace(r'/fluid ounce','')\n",
    "#---------------------------------------------------------------------------#\n",
    "for i in range(len(df[df['sale'].str.contains('¢', na=False)].index)):      # # # # # # # # # # # # # # #\n",
    "    ix = df[df['sale'].str.contains('¢', na=False)].index                   # Add '.' to items with '¢' #\n",
    "    df.loc[ix[i]][3] = '.' + df.loc[ix[i]][3]                               # # # # # # # # # # # # # # #\n",
    "                                                                            #\n",
    "for i in range(len(df[df['prime'].str.contains('¢', na=False)].index)):     #\n",
    "    ix = df[df['prime'].str.contains('¢', na=False)].index                  #\n",
    "    df.loc[ix[i]][4] = '.' + df.loc[ix[i]][4]                               #\n",
    "                                                                            #\n",
    "try:                                                                        #\n",
    "    for i in range(len(df[df['regular'].str.contains('¢', na=False)].index)):\n",
    "        ix = df[df['regular'].str.contains('¢', na=False)].index            #\n",
    "        df.loc[ix[i]][2] = '.' + df.loc[ix[i]][2]                           #\n",
    "except:                                                                     #\n",
    "    pass                                                                    #\n",
    "#---------------------------------------------------------------------------#\n",
    "#---------------------------------------------------------------------------#\n",
    "ix = df[df['prime'].str.contains('¢', na=False)].index                      # # # # # # # # # # # # # # #\n",
    "for i in range(len(ix)):                                                    # Del items with '¢'        #\n",
    "    df.loc[ix[i]][4] = df.loc[ix[i]][4].replace('¢', '')                    # # # # # # # # # # # # # # #\n",
    "                                                                            #\n",
    "ix = df[df['regular'].str.contains('¢', na=False)].index                    #\n",
    "for i in range(len(ix)):                                                    #\n",
    "    df.loc[ix[i]][2] = df.loc[ix[i]][2].replace('¢', '')                    #\n",
    "                                                                            #\n",
    "ix = df[df['sale'].str.contains('¢', na=False)].index                       #\n",
    "for i in range(len(ix)):                                                    #\n",
    "    df.loc[ix[i]][3] = df.loc[ix[i]][3].replace('¢', '')                    #\n",
    "#---------------------------------------------------------------------------#\n",
    "#---------------------------------------------------------------------------# # # # # # # # # # # # # # #\n",
    "d = df.to_dict('list')                                                      #     Dataframe ---> Dict   #\n",
    "#---------------------------------------------------------------------------# # # # # # # # # # # # # # # \n",
    "try:                                                                                              #\n",
    "    for i in range(len(d['sale'])):                                                               # \n",
    "        if isinstance(d['sale'][i], str) and 'for' in d['sale'][i].split():                       # \n",
    "            d['sale'][i] = float(d['sale'][i].split()[2]) / float(d['sale'][i].split()[0])        # # # # # # # # # # # # # # # # #\n",
    "                                                                                                  # str '2 for 5' ---> int '2.50' #\n",
    "    for i in range(len(d['prime'])):                                                              # # # # # # # # # # # # # # # # # \n",
    "            if isinstance(d['prime'][i], str) and 'for' in d['prime'][i].split():                 #\n",
    "                d['prime'][i] = float(d['prime'][i].split()[2]) / float(d['prime'][i].split()[0]) # \n",
    "except Exception as e:                                                                            #\n",
    "    print(e)                                                                                      #\n",
    "#---------------------------------------------------------------------------------------------# # # # # # # # # # # # # # # \n",
    "df = pd.DataFrame.from_dict(d)                                                                #     Dict ---> Dataframe   #\n",
    "#---------------------------------------------------------------------------------------------# # # # # # # # # # # # # # #                                                                                              # # # # # # # # # # # # # # # \n",
    "df = df.sort_index()                                                                          #\n",
    "df[\"regular\"] = pd.to_numeric(df[\"regular\"])                                                  # # # # # # # # # # # # # # # # # # #\n",
    "df[\"sale\"] = pd.to_numeric(df[\"sale\"])                                                        # Str ---> float, Feature Creation  #\n",
    "df[\"prime\"] = pd.to_numeric(df[\"prime\"])                                                      # # # # # # # # # # # # # # # # # # #\n",
    "df['sale_discount'] = 1-df['sale']/df['regular']                                              # \n",
    "df['prime_discount'] = 1-df['prime']/df['regular']                                            #\n",
    "df['prime_sale_difference'] = df['prime_discount'] - df['sale_discount']                      # # # # # # # # # # # # # # # # # # # # |------------------------------------|\n",
    "df['discount_bins'] = pd.cut(df.prime_discount, [0,.10,.20,.30, .40, .50, .9], labels=['0% to 10%','10% to 20%','20% to 30%','30% to 40%','40% to 50%','50% or more'])   # |Discount Bins I.E. 0% Off to 10% off|\n",
    "df = df.sort_values(by='prime_discount', ascending=False)                                     # # # # # # # # # # # # # # # # # # # # |------------------------------------|\n",
    "df['prime_sale_difference'] = df['prime_sale_difference'].clip(lower=0)                       # sets prime_sale_difference as 0 if lower than 0 to fix distribution \n",
    "#---------------------------------------------------------------------------------------------# This occurs if items are on sale for prime members only\n",
    "\n",
    "\n",
    "# Paths to dump location of Wholefoods and Cleaned DataFrame as .pkl files\n",
    "# pkl files are dumped with protocol 4 for deployment purposes as streamlit is not compatible with the highest protocol (5) of serialization\n",
    "\n",
    "#--------------------------------------------#\n",
    "try:                                         #\n",
    "  MY_DIR = pathlib.Path(__file__).parent     #\n",
    "except NameError:                            #\n",
    "  MY_DIR = pathlib.Path(os.getcwd()) # if not running as .py the directory is hardcoded locally\n",
    "#--------------------------------------------# \n",
    "filename = \"WF_Sales_\" + str(date.today().strftime(\"%b_%d_%Y\")) + '_' + str('_'.join(location.split()).replace(',','')) + \".pkl\"\n",
    "path = MY_DIR / 'scraped products dump' / filename\n",
    "locpath = MY_DIR / 'scraped products dump' / 'location' / filename\n",
    "#--------------DUMPS-------------------------#\n",
    "with open(path, 'wb') as handle:             #                           \n",
    "    pickle.dump(df, handle, protocol=4)      # Both .pkl files are saved as the same name however the location info of the store is under the location folder\n",
    "with open(locpath, 'wb') as handle:          # The Dataframe file is in the 'scraped products dump' folder\n",
    "    pickle.dump(location, handle, protocol=4)#\n",
    "    print(\"Products saved as WF_Sales_\" + str(date.today().strftime(\"%b_%d_%Y\")) + '_' + str('_'.join(location.split()).replace(',','')) + \".pkl\")\n",
    "#--------------------------------------------#"
   ]
  },
  {
   "cell_type": "code",
   "execution_count": 4,
   "metadata": {},
   "outputs": [
    {
     "data": {
      "text/plain": [
       "[]"
      ]
     },
     "execution_count": 4,
     "metadata": {},
     "output_type": "execute_result"
    }
   ],
   "source": [
    "browser.find_elements_by_class_name(\"wfm-search-bar--list_item\")#[0].text#.split()"
   ]
  },
  {
   "cell_type": "code",
   "execution_count": 2,
   "metadata": {},
   "outputs": [
    {
     "data": {
      "text/plain": [
       "'Ave, Miami, FL 33131'"
      ]
     },
     "execution_count": 2,
     "metadata": {},
     "output_type": "execute_result"
    }
   ],
   "source": [
    "location = ' '.join(browser.find_elements_by_class_name(\"wfm-search-bar--list_item\")[0].text.split()[-4:])"
   ]
  },
  {
   "cell_type": "code",
   "execution_count": 47,
   "metadata": {},
   "outputs": [
    {
     "data": {
      "text/plain": [
       "'scraped products dump\\\\location\\\\WF_Sales_Feb_16_2022_Rd_Duluth_GA_30097.pkl'"
      ]
     },
     "execution_count": 47,
     "metadata": {},
     "output_type": "execute_result"
    }
   ],
   "source": [
    "str(pathlib.Path(selections[0])).replace('/location','')"
   ]
  },
  {
   "cell_type": "code",
   "execution_count": 23,
   "metadata": {},
   "outputs": [
    {
     "data": {
      "text/plain": [
       "[WindowsPath('scraped products dump/location/WF_Sales_Feb_16_2022_Rd_Duluth_GA_30097.pkl'),\n",
       " WindowsPath('scraped products dump/location/WF_Sales_Feb_16_2022_San_Diego_CA_92103.pkl'),\n",
       " WindowsPath('scraped products dump/location/WF_Sales_Feb_16_2022_San_Francisco_CA_94114.pkl'),\n",
       " WindowsPath('scraped products dump/location/WF_Sales_Feb_13_2022_Des_Moines_IA_50266.pkl'),\n",
       " WindowsPath('scraped products dump/location/WF_Sales_Feb_13_2022_St_Philadelphia_PA_19147.pkl'),\n",
       " WindowsPath('scraped products dump/location/WF_Sales_Feb_11_2022_NW_Washington_DC_20001.pkl')]"
      ]
     },
     "execution_count": 23,
     "metadata": {},
     "output_type": "execute_result"
    }
   ],
   "source": [
    "locpath"
   ]
  },
  {
   "cell_type": "code",
   "execution_count": null,
   "metadata": {},
   "outputs": [],
   "source": [
    "def select(): # Load dataframe\n",
    "  try:                                                              # Tries to open through streamlit (using 'Deployment/' string addition)\n",
    "    with open(str(path_deployment[0]), 'rb') as handle:             # loads .pkl back into variable\n",
    "      df = pickle.load(handle)\n",
    "    with open(str(locpath_deployment[0]), 'rb') as handle2:         # loads location data of dataframe\n",
    "      location = pickle.load(handle2)\n",
    "  except:                                                           # Opens using local path if not using streamlit deployment\n",
    "    with open(str(path[0]), 'rb') as handle:                        \n",
    "      df = pickle.load(handle)\n",
    "    with open(str(locpath[0]), 'rb') as handle2:                    \n",
    "      location = pickle.load(handle2)"
   ]
  },
  {
   "cell_type": "code",
   "execution_count": null,
   "metadata": {},
   "outputs": [],
   "source": [
    "####################################################################  \n",
    "  path = sorted([f for f in pathlib.Path('scraped products dump').glob(\"*.pkl\")], key=lambda f: f.stat().st_mtime, reverse=True)\n",
    "  locpath = sorted([f for f in pathlib.Path('scraped products dump/location').glob(\"*.pkl\")], key=lambda f: f.stat().st_mtime, reverse=True)\n",
    "####################################################################\n",
    "  path_deployment = sorted([f for f in pathlib.Path('Deployment/scraped products dump').glob(\"*.pkl\")], key=lambda f: f.stat().st_ctime, reverse=True)\n",
    "  locpath_deployment = sorted([f for f in pathlib.Path('Deployment/scraped products dump/location').glob(\"*.pkl\")], key=lambda f: f.stat().st_ctime, reverse=True)\n",
    "####################################################################\n",
    "# Load dataframe\n",
    "  try:                                                              # Tries to open through streamlit (using 'Deployment/' string addition)\n",
    "    with open(str(path_deployment[0]), 'rb') as handle:             # loads .pkl back into variable\n",
    "      df = pickle.load(handle)\n",
    "    with open(str(locpath_deployment[0]), 'rb') as handle2:         # loads location data of dataframe\n",
    "      location = pickle.load(handle2)\n",
    "  except:                                                           # Opens using local path if not using streamlit deployment\n",
    "    with open(str(path[0]), 'rb') as handle:                        \n",
    "      df = pickle.load(handle)\n",
    "    with open(str(locpath[0]), 'rb') as handle2:                    \n",
    "      location = pickle.load(handle2)\n",
    "####################################################################"
   ]
  }
 ],
 "metadata": {
  "interpreter": {
   "hash": "27f1aa64630c54bb913cc6243e130d29f70b453b256feeafda74e1bc57199250"
  },
  "kernelspec": {
   "display_name": "Python 3.9.0 64-bit",
   "language": "python",
   "name": "python3"
  },
  "language_info": {
   "codemirror_mode": {
    "name": "ipython",
    "version": 3
   },
   "file_extension": ".py",
   "mimetype": "text/x-python",
   "name": "python",
   "nbconvert_exporter": "python",
   "pygments_lexer": "ipython3",
   "version": "3.9.0"
  },
  "orig_nbformat": 4
 },
 "nbformat": 4,
 "nbformat_minor": 2
}
