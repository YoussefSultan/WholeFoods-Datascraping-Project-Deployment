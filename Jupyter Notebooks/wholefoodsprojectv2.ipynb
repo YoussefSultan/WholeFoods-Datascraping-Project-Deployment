{
 "cells": [
  {
   "cell_type": "markdown",
   "metadata": {},
   "source": [
    "# This is a complete rewrite of wholefoodsproject.ipynb"
   ]
  },
  {
   "cell_type": "markdown",
   "metadata": {},
   "source": [
    "Originally the previous `wholefoodsproject.ipynb` shows an exploration of data that was scraped through the (all products) page, the downside is that there were no categories.\n",
    "In this version we scrape per category, rewrite all of the code for automated data cleaning and reinitialize our visualizations."
   ]
  },
  {
   "cell_type": "code",
   "execution_count": 1,
   "metadata": {},
   "outputs": [
    {
     "name": "stderr",
     "output_type": "stream",
     "text": [
      "usage: ipykernel_launcher.py [-h] zipcode\n",
      "ipykernel_launcher.py: error: the following arguments are required: zipcode\n"
     ]
    },
    {
     "name": "stdout",
     "output_type": "stream",
     "text": [
      "Enter the zipcode of your local WholeFoods...\n",
      "Getting items from the WholeFoods in Newtown Square, PA 19073.\n",
      "Pulling all \"on-sale\" results from each category...\n",
      "Results Filled\n",
      "Results Filled\n",
      "Results Filled\n",
      "Results Filled\n",
      "Results Filled\n",
      "Results Filled\n",
      "Results Filled\n",
      "Results Filled\n",
      "Results Filled\n",
      "Results Filled\n",
      "Results Filled\n",
      "Results Filled\n",
      "Results Filled\n",
      "Results Filled\n",
      "Results Filled\n",
      "Results Filled\n",
      "There are 1300 products on sale in Newtown Square, PA 19073.\n",
      "All column lengths are equal, there are 1300 products on sale today.\n",
      "Some products are only on sale for prime members, wrangling data accordingly...\n",
      "Some products are only on sale for prime members, wrangling data accordingly...\n",
      "Some products are only on sale for prime members, wrangling data accordingly...\n",
      "Products saved as WF_Sales_Feb_03_2022_Newtown_Square_PA_19073.pkl\n"
     ]
    }
   ],
   "source": [
    "########################################################\n",
    "# This WholeFoods scraper is created by Youssef Sultan\n",
    "# This Data is utilized for noncommercial use via Whole Foods Market L.P. \n",
    "# @ www.wholefoodsmarket.com                  \n",
    "########################################################\n",
    "import argparse\n",
    "import os, random, sys, time \n",
    "from selenium import webdriver\n",
    "from bs4 import BeautifulSoup\n",
    "import pandas as pd\n",
    "from datetime import date\n",
    "import pickle\n",
    "import pathlib\n",
    "from selenium.webdriver.chrome.options import Options\n",
    "########################################################\n",
    "options = Options()\n",
    "options.add_argument('--headless')\n",
    "options.add_argument('--disable-gpu')\n",
    "options.add_argument('--log-level=3')\n",
    "#########################################################\n",
    "\n",
    "#########################################################\n",
    "try:\n",
    "    browser = webdriver.Chrome('C:/Users/Water/Desktop/chromedriver.exe', options=options) # Chrome Driver\n",
    "    browser.get('https://www.wholefoodsmarket.com/products/all-products?featured=on-sale') # Website Link\n",
    "    print('Enter the zipcode of your local WholeFoods...')\n",
    "    try:\n",
    "        parser = argparse.ArgumentParser()\n",
    "        parser.add_argument(\"zipcode\")\n",
    "        args = parser.parse_args()\n",
    "        zipcode = str(args.zipcode)\n",
    "        browser.find_element_by_xpath(\"//input[@id='pie-store-finder-modal-search-field']\").send_keys(zipcode) # Zip code\n",
    "    except:\n",
    "        browser.find_element_by_xpath(\"//input[@id='pie-store-finder-modal-search-field']\").send_keys(input()) # Zip code\n",
    "    time.sleep(2.5) # lag for 3 seconds to allow elements to load\n",
    "    location = ' '.join(browser.find_elements_by_class_name(\"wfm-search-bar--list_item\")[0].text.split()[-4:])\n",
    "    print('Getting items from the WholeFoods in ' + str(location) + '.')\n",
    "    browser.find_elements_by_class_name(\"wfm-search-bar--list_item\")[0].click()\n",
    "except:\n",
    "    print('invalid zipcode')\n",
    "    sys.exit()\n",
    "time.sleep(2)\n",
    "print('Pulling all \"on-sale\" results from each category...')\n",
    "\n",
    "browser.get('https://www.wholefoodsmarket.com/products/produce?featured=on-sale') # Website Link\n",
    "try:\n",
    "    load = browser.find_element_by_xpath(\"//span[contains(text(),'Load more')]\") \n",
    "    while True:\n",
    "        load.click()\n",
    "        time.sleep(2.5) # Must have a 2 sec time lag so the 'load more' button can reappear\n",
    "except:\n",
    "    print(\"Results Filled\") # If all possible data is populated\n",
    "all_items = browser.find_elements_by_xpath(\"//div[@data-testid='product-tile']\") # Pull all product elements by xpath\n",
    "produce = [items.text.splitlines() for items in all_items] # Create a list comprehension of all product elements with text shown and lines split\n",
    "\n",
    "browser.get('https://www.wholefoodsmarket.com/products/dairy-eggs?featured=on-sale')\n",
    "try:\n",
    "    load = browser.find_element_by_xpath(\"//span[contains(text(),'Load more')]\") \n",
    "    while True:\n",
    "        load.click()\n",
    "        time.sleep(2.5) # Must have a 2 sec time lag so the 'load more' button can reappear\n",
    "except:\n",
    "    print(\"Results Filled\") # If all possible data is populated\n",
    "all_items = browser.find_elements_by_xpath(\"//div[@data-testid='product-tile']\") # Pull all product elements by xpath\n",
    "dairy_eggs = [items.text.splitlines() for items in all_items] # Create a list comprehension of all product elements with text shown and lines split\n",
    "\n",
    "browser.get('https://www.wholefoodsmarket.com/products/meat?featured=on-sale')\n",
    "try:\n",
    "    load = browser.find_element_by_xpath(\"//span[contains(text(),'Load more')]\") \n",
    "    while True:\n",
    "        load.click()\n",
    "        time.sleep(2.5) # Must have a 2 sec time lag so the 'load more' button can reappear\n",
    "except:\n",
    "    print(\"Results Filled\") # If all possible data is populated\n",
    "all_items = browser.find_elements_by_xpath(\"//div[@data-testid='product-tile']\") # Pull all product elements by xpath\n",
    "meat = [items.text.splitlines() for items in all_items] # Create a list comprehension of all product elements with text shown and lines split\n",
    "\n",
    "browser.get('https://www.wholefoodsmarket.com/products/prepared-foods?featured=on-sale')\n",
    "try:\n",
    "    load = browser.find_element_by_xpath(\"//span[contains(text(),'Load more')]\") \n",
    "    while True:\n",
    "        load.click()\n",
    "        time.sleep(2.5) # Must have a 2 sec time lag so the 'load more' button can reappear\n",
    "except:\n",
    "    print(\"Results Filled\") # If all possible data is populated\n",
    "all_items = browser.find_elements_by_xpath(\"//div[@data-testid='product-tile']\") # Pull all product elements by xpath\n",
    "prepared_foods = [items.text.splitlines() for items in all_items] # Create a list comprehension of all product elements with text shown and lines split\n",
    "\n",
    "browser.get('https://www.wholefoodsmarket.com/products/pantry-essentials?featured=on-sale')\n",
    "try:\n",
    "    load = browser.find_element_by_xpath(\"//span[contains(text(),'Load more')]\") \n",
    "    while True:\n",
    "        load.click()\n",
    "        time.sleep(2.5) # Must have a 2 sec time lag so the 'load more' button can reappear\n",
    "except:\n",
    "    print(\"Results Filled\") # If all possible data is populated\n",
    "all_items = browser.find_elements_by_xpath(\"//div[@data-testid='product-tile']\") # Pull all product elements by xpath\n",
    "pantry_essentials = [items.text.splitlines() for items in all_items] # Create a list comprehension of all product elements with text shown and lines split\n",
    "\n",
    "browser.get('https://www.wholefoodsmarket.com/products/breads-rolls-bakery?featured=on-sale')\n",
    "try:\n",
    "    load = browser.find_element_by_xpath(\"//span[contains(text(),'Load more')]\") \n",
    "    while True:\n",
    "        load.click()\n",
    "        time.sleep(2.5) # Must have a 2 sec time lag so the 'load more' button can reappear\n",
    "except:\n",
    "    print(\"Results Filled\") # If all possible data is populated\n",
    "all_items = browser.find_elements_by_xpath(\"//div[@data-testid='product-tile']\") # Pull all product elements by xpath\n",
    "bread_rolls_bakery = [items.text.splitlines() for items in all_items] # Create a list comprehension of all product elements with text shown and lines split\n",
    "\n",
    "browser.get('https://www.wholefoodsmarket.com/products/desserts?featured=on-sale')\n",
    "try:\n",
    "    load = browser.find_element_by_xpath(\"//span[contains(text(),'Load more')]\") \n",
    "    while True:\n",
    "        load.click()\n",
    "        time.sleep(2.5) # Must have a 2 sec time lag so the 'load more' button can reappear\n",
    "except:\n",
    "    print(\"Results Filled\") # If all possible data is populated\n",
    "all_items = browser.find_elements_by_xpath(\"//div[@data-testid='product-tile']\") # Pull all product elements by xpath\n",
    "desserts = [items.text.splitlines() for items in all_items] # Create a list comprehension of all product elements with text shown and lines split\n",
    "\n",
    "browser.get('https://www.wholefoodsmarket.com/products/body-care?featured=on-sale')\n",
    "try:\n",
    "    load = browser.find_element_by_xpath(\"//span[contains(text(),'Load more')]\") \n",
    "    while True:\n",
    "        load.click()\n",
    "        time.sleep(2.5) # Must have a 2 sec time lag so the 'load more' button can reappear\n",
    "except:\n",
    "    print(\"Results Filled\") # If all possible data is populated\n",
    "all_items = browser.find_elements_by_xpath(\"//div[@data-testid='product-tile']\") # Pull all product elements by xpath\n",
    "body_care = [items.text.splitlines() for items in all_items] # Create a list comprehension of all product elements with text shown and lines split\n",
    "\n",
    "browser.get('https://www.wholefoodsmarket.com/products/supplements?featured=on-sale')\n",
    "try:\n",
    "    load = browser.find_element_by_xpath(\"//span[contains(text(),'Load more')]\") \n",
    "    while True:\n",
    "        load.click()\n",
    "        time.sleep(2.5) # Must have a 2 sec time lag so the 'load more' button can reappear\n",
    "except:\n",
    "    print(\"Results Filled\") # If all possible data is populated\n",
    "all_items = browser.find_elements_by_xpath(\"//div[@data-testid='product-tile']\") # Pull all product elements by xpath\n",
    "supplements = [items.text.splitlines() for items in all_items] # Create a list comprehension of all product elements with text shown and lines split\n",
    "\n",
    "browser.get('https://www.wholefoodsmarket.com/products/frozen-foods?featured=on-sale')\n",
    "try:\n",
    "    load = browser.find_element_by_xpath(\"//span[contains(text(),'Load more')]\") \n",
    "    while True:\n",
    "        load.click()\n",
    "        time.sleep(2.5) # Must have a 2 sec time lag so the 'load more' button can reappear\n",
    "except:\n",
    "    print(\"Results Filled\") # If all possible data is populated\n",
    "all_items = browser.find_elements_by_xpath(\"//div[@data-testid='product-tile']\") # Pull all product elements by xpath\n",
    "frozen_foods = [items.text.splitlines() for items in all_items] # Create a list comprehension of all product elements with text shown and lines split\n",
    "\n",
    "browser.get('https://www.wholefoodsmarket.com/products/snacks-chips-salsas-dips?featured=on-sale')\n",
    "try:\n",
    "    load = browser.find_element_by_xpath(\"//span[contains(text(),'Load more')]\") \n",
    "    while True:\n",
    "        load.click()\n",
    "        time.sleep(2.5) # Must have a 2 sec time lag so the 'load more' button can reappear\n",
    "except:\n",
    "    print(\"Results Filled\") # If all possible data is populated\n",
    "all_items = browser.find_elements_by_xpath(\"//div[@data-testid='product-tile']\") # Pull all product elements by xpath\n",
    "snacks_chips_salsas_dips = [items.text.splitlines() for items in all_items] # Create a list comprehension of all product elements with text shown and lines split\n",
    "\n",
    "browser.get('https://www.wholefoodsmarket.com/products/seafood?featured=on-sale')\n",
    "try:\n",
    "    load = browser.find_element_by_xpath(\"//span[contains(text(),'Load more')]\") \n",
    "    while True:\n",
    "        load.click()\n",
    "        time.sleep(2.5) # Must have a 2 sec time lag so the 'load more' button can reappear\n",
    "except:\n",
    "    print(\"Results Filled\") # If all possible data is populated\n",
    "all_items = browser.find_elements_by_xpath(\"//div[@data-testid='product-tile']\") # Pull all product elements by xpath\n",
    "seafood = [items.text.splitlines() for items in all_items] # Create a list comprehension of all product elements with text shown and lines split\n",
    "\n",
    "browser.get('https://www.wholefoodsmarket.com/products/beverages?featured=on-sale')\n",
    "try:\n",
    "    load = browser.find_element_by_xpath(\"//span[contains(text(),'Load more')]\") \n",
    "    while True:\n",
    "        load.click()\n",
    "        time.sleep(2.5) # Must have a 2 sec time lag so the 'load more' button can reappear\n",
    "except:\n",
    "    print(\"Results Filled\") # If all possible data is populated\n",
    "all_items = browser.find_elements_by_xpath(\"//div[@data-testid='product-tile']\") # Pull all product elements by xpath\n",
    "Beverages = [items.text.splitlines() for items in all_items] # Create a list comprehension of all product elements with text shown and lines split\n",
    "\n",
    "browser.get('https://www.wholefoodsmarket.com/products/beauty?featured=on-sale')\n",
    "try:\n",
    "    load = browser.find_element_by_xpath(\"//span[contains(text(),'Load more')]\") \n",
    "    while True:\n",
    "        load.click()\n",
    "        time.sleep(2.5) # Must have a 2 sec time lag so the 'load more' button can reappear\n",
    "except:\n",
    "    print(\"Results Filled\") # If all possible data is populated\n",
    "all_items = browser.find_elements_by_xpath(\"//div[@data-testid='product-tile']\") # Pull all product elements by xpath\n",
    "beauty = [items.text.splitlines() for items in all_items] # Create a list comprehension of all product elements with text shown and lines split\n",
    "\n",
    "browser.get('https://www.wholefoodsmarket.com/products/floral?featured=on-sale')\n",
    "try:\n",
    "    load = browser.find_element_by_xpath(\"//span[contains(text(),'Load more')]\") \n",
    "    while True:\n",
    "        load.click()\n",
    "        time.sleep(2.5) # Must have a 2 sec time lag so the 'load more' button can reappear\n",
    "except:\n",
    "    print(\"Results Filled\") # If all possible data is populated\n",
    "all_items = browser.find_elements_by_xpath(\"//div[@data-testid='product-tile']\") # Pull all product elements by xpath\n",
    "floral = [items.text.splitlines() for items in all_items] # Create a list comprehension of all product elements with text shown and lines split\n",
    "\n",
    "browser.get('https://www.wholefoodsmarket.com/products/lifestyle?featured=on-sale')\n",
    "try:\n",
    "    load = browser.find_element_by_xpath(\"//span[contains(text(),'Load more')]\") \n",
    "    while True:\n",
    "        load.click()\n",
    "        time.sleep(2.5) # Must have a 2 sec time lag so the 'load more' button can reappear\n",
    "except:\n",
    "    print(\"Results Filled\") # If all possible data is populated\n",
    "all_items = browser.find_elements_by_xpath(\"//div[@data-testid='product-tile']\") # Pull all product elements by xpath\n",
    "lifestyle = [items.text.splitlines() for items in all_items] # Create a list comprehension of all product elements with text shown and lines split\n",
    "#############################################################################\n",
    "print('There are ' + str(len(lifestyle) + len(produce) + len(dairy_eggs) + len(meat) + len(prepared_foods) + len(pantry_essentials) + len(bread_rolls_bakery) + len(desserts) + len(body_care) + len(supplements) + len(frozen_foods) + len(snacks_chips_salsas_dips) + len(seafood) + len(Beverages) + len(beauty) + len(floral)) + ' products on sale in ' + str(location) + '.')\n",
    "#############################################################################\n",
    "list_of_categories = ['lifestyle', 'produce', 'dairy_eggs', 'meat', 'prepared_foods', 'pantry_essentials', 'bread_rolls_bakery', 'desserts', 'body_care', 'supplements', 'frozen_foods', 'snacks_chips_salsas_dips', 'seafood', 'Beverages', 'beauty', 'floral']\n",
    "d = {\"company\":[], \"product\":[], \"regular\":[], \"sale\":[], \"prime\":[], \"category\":[]} # Create a Dict\n",
    "#############################################################################\n",
    "for category in list_of_categories:                                         #\n",
    "    for i in range(len(globals()[category])):                               # At the range of the length of all items (will loop i times)\n",
    "            d[\"company\"].append(globals()[category][i][-5])                 # Append respective indexed data in list_of_items[i] for each column\n",
    "            d[\"product\"].append(globals()[category][i][-4])                 # \n",
    "            d[\"regular\"].append(globals()[category][i][-3][8:])             #  \n",
    "            d[\"sale\"].append(globals()[category][i][-2][10:])               # \n",
    "            d[\"prime\"].append(globals()[category][i][-1][18:])              #\n",
    "            d[\"category\"].append(str(category))                             # \n",
    "#############################################################################\n",
    "#############################################################################\n",
    "if len(d['company']) == len(d['product']) == len(d['regular']) == len(d['sale']) == len(d['category']):  # Verify that the length of each column is == to each other, otherwise the dataframe wont be populated   \n",
    "    print(\"All column lengths are equal, there are \" + str(len(d['company'])) + \" products on sale today.\")\n",
    "else:                                                                       #         \n",
    "    print(\"Error, column lengths are not equal.\")                           # \n",
    "#############################################################################\n",
    "df = pd.DataFrame.from_dict(d)                                              # Turn our Dict to a Pandas DataFrame  \n",
    "#############################################################################\n",
    "#           Data Cleaning for Products with missing company names           #\n",
    "#############################################################################\n",
    "if df['product'].str.contains('Original Vegan Bagels, 15.87 oz').any():                         \n",
    "    ix = df[df['product'].str.contains('Original Vegan Bagels, 15.87 oz')].index\n",
    "    for i in range(len(ix)):\n",
    "        df.loc[ix[i],'company'] = \"Soozy's\"\n",
    "\n",
    "if df['product'].str.contains('Original Sandwich Bread, 22.2 oz').any():                         \n",
    "    ix = df[df['product'].str.contains('Original Sandwich Bread, 22.2 oz')].index\n",
    "    for i in range(len(ix)):\n",
    "        df.loc[ix[i],'company'] = \"Soozy's\"\n",
    "\n",
    "if df['product'].str.contains('Arctic Char Fillet').any():                         \n",
    "    ix = df[df['product'].str.contains('Arctic Char Fillet')].index\n",
    "    for i in range(len(ix)):\n",
    "        df.loc[ix[i],'company'] = \"Whole Foods Market\"\n",
    "\n",
    "# Data cleaning/shifting for products by Brita\n",
    "if df['company'].str.contains('/').any() and df['product'].str.contains('Brita').any():\n",
    "    print('data error check company name containing \"/\" and \"Brita\"')\n",
    "\n",
    "# Data cleaning/shifting for products\n",
    "if df['product'].str.contains(\"Easy Peel White Shrimp 8-12 Count\").any():\n",
    "    ix = df[df['product'].str.contains(\"Easy Peel White Shrimp 8-12 Count\")].index\n",
    "    for i in range(len(ix)):\n",
    "        df.loc[ix[i],'company'] = \"Whole Foods Market\"\n",
    "\n",
    "if df['product'].str.contains(\"Organic Freeze Dried Chives, 0.14 oz\").any():\n",
    "    ix = df[df['product'].str.contains(\"Organic Freeze Dried Chives, 0.14 oz\")].index\n",
    "    for i in range(len(ix)):\n",
    "        df.loc[ix[i],'company'] = \"Green Garden\"\n",
    "\n",
    "if df['product'].str.contains(\"Organic Freeze Dried Thyme, 0.26 oz\").any():\n",
    "    ix = df[df['product'].str.contains(\"Organic Freeze Dried Thyme, 0.26 oz\")].index\n",
    "    for i in range(len(ix)):\n",
    "        df.loc[ix[i],'company'] = \"Green Garden\"\n",
    "\n",
    "if df['product'].str.contains(\"Organic Mild Plant Taco Meatless Crumbles\").any():\n",
    "    ix = df[df['product'].str.contains(\"Organic Mild Plant Taco Meatless Crumbles\")].index\n",
    "    for i in range(len(ix)):\n",
    "        df.loc[ix[i],'company'] = \"PLANT BOSS\"\n",
    "\n",
    "if df['product'].str.contains(\"Organic Multicolor Kale\").any():\n",
    "    ix = df[df['product'].str.contains(\"Organic Multicolor Kale\")].index\n",
    "    for i in range(len(ix)):\n",
    "        df.loc[ix[i],'company'] = \"Whole Foods Market\"        \n",
    "\n",
    "# Data cleaning/shifting for products by Soozy's\n",
    "if df['product'].str.contains(\"Soozy's Birthday Cake Cookies\").any():\n",
    "    ix = df[df['product'].str.contains(\"Soozy's Birthday Cake Cookies\")].index\n",
    "    for i in range(len(ix)):\n",
    "        df.loc[ix[i],'company'] = \"Soozy's\"\n",
    "\n",
    "if df['product'].str.contains(\"Soozys Chocolate Chip Cookies\").any():\n",
    "    ix = df[df['product'].str.contains(\"Soozys Chocolate Chip Cookies\")].index\n",
    "    for i in range(len(ix)):\n",
    "        df.loc[ix[i],'company'] = \"Soozy's\"\n",
    "\n",
    "# Data cleaning/shifting for products by Whole Foods Market\n",
    "if df['product'].str.contains('Whole Foods Market').any():\n",
    "    print('data error check product name containing \"whole foods market\"')\n",
    "\n",
    "#---------------Any of these are definitely under the lifestyle category//all waterbottles------#\n",
    "\n",
    "# Data cleaning/shifting for products by CAMELBAK\n",
    "if df['product'].str.contains('CAMELBAK').any():\n",
    "    print('data error check product name containing \"CAMELBAK\"')\n",
    "\n",
    "# Data cleaning/shifting for products by NEW WAVE\n",
    "if df['product'].str.contains('NEW WAVE').any():\n",
    "    print('data error check product name containing \"NEW WAVE\"')\n",
    "\n",
    "# Data cleaning/shifting for products by Enviro\n",
    "if df['product'].str.contains('Enviro').any():\n",
    "    print('data error check product name containing \"Enviro\"')\n",
    "\n",
    "# Data cleaning/shifting for products by HYDRO FLASK\n",
    "if df['product'].str.contains('HYDRO FLASK').any():\n",
    "    print('data error check product name containing \"HYDRO FLASK\"')\n",
    "\n",
    "# Data cleaning/shifting for products by SUNDESA\n",
    "if df['product'].str.contains('SUNDESA').any():\n",
    "    print('data error check product name containing \"SUNDESA\"')\n",
    "\n",
    "if df['regular'].str.contains('9¢').any():\n",
    "    ix = df[df['regular'].str.contains('9¢')].index\n",
    "    for i in range(len(ix)):\n",
    "        df.loc[ix[i], 'regular'] = '9' + df.loc[ix[i], 'regular']\n",
    "\n",
    "if df['company'].str.contains('365').any():\n",
    "    ix = df[df['company'].str.contains('365')].index\n",
    "    for i in range(len(ix)):\n",
    "        df.loc[ix[i], 'company'] = 'Whole Foods Market'\n",
    "\n",
    "if df['product'].str.contains('Chicken Breast Cutlets').any():\n",
    "    ix = df[df['product'].str.contains('Chicken Breast Cutlets')].index\n",
    "    for i in range(len(ix)):\n",
    "        df.loc[ix[i], 'company'] = 'Whole Foods Market'\n",
    "\n",
    "if df['product'].str.contains('Soozy').any():\n",
    "    ix = df[df['product'].str.contains('Soozy')].index\n",
    "    for i in range(len(ix)):\n",
    "        df.loc[ix[i],'company'] = \"Soozy's\"\n",
    "\n",
    "if df['product'].str.contains('Superseed Vegan Bread, 22.2 oz').any():\n",
    "    ix = df[df['product'].str.contains('Superseed Vegan Bread, 22.2 oz')].index \n",
    "    for i in range(len(ix)):\n",
    "        df.loc[ix[i],'company'] = \"Soozy's\"     \n",
    "\n",
    "if df['product'].str.contains('Distillery').any():\n",
    "    ix = df[df['product'].str.contains('Distillery')].index  \n",
    "    print('Dropped ' + str(len(ix)) + ' Distillery results.')\n",
    "    df = df.drop(ix)\n",
    "#############################################################################   \n",
    "#---------------------------------------------------------------------------#\n",
    "#                             Data Wrangling                                #\n",
    "#---------------------------------------------------------------------------# \n",
    "#@@@#@@@#@@@#@@@#@@@#@@@#@@@#@@@#@@@#@@@#@@@#@@@#@@@#@@@#@@@#@@@#@@@#@@@#@@@#\n",
    "if df['product'].str.contains('Whole Foods Market').any():                  #----------------------------------------------------------------------------|\n",
    "    ix = df[df['product'].str.contains('Whole Foods Market')].index         # If the product column contains 'Whole Foods Market' then the item doesn't have a sale price, which shifts the \n",
    "    for i in range(len(ix)):                                                # appended information to the left once. Because of this the company category will be shifted as a different text value\n",
    "        df.loc[ix[i], 'company'] = df.loc[ix[i], 'product']                 # Solution: Apply the text in the 'product' column to the 'company' column |\n",
    "#@@@@@@@@@@@@@@@@@@@@@@@@@@@@@@@@@@@@@@@@@@@@@@@@@@@@@@@@@@@@@@@@@@@@@@@@@@@# ------------------------------------------------------------------------|\n",
    "if df['regular'].str.contains('a|e|i|o|u', regex=True).any():               # Furthermore, this means that the other columns containing pricing have shifted values of information\n",
    "    ix = df[df['regular'].str.contains('a|e|i|o|u', regex=True)].index      # To apply proper values to each column we iterate where 'Prime member deal' exists at position [n][0]\n",
    "    for i in range(len(ix)):                                                # globals() is used to iterate through our list of categories which points to the actual objects containing the scraped data\n",
    "        ct = globals()[df.loc[ix[i], 'category']]                           # -----------------------------------------------------------------------|\n",
    "        df.loc[ix[i], 'product'] = [ct[n] for n in range(len(ct)) if 'Prime Member Deal' in ct[n][0] if df.loc[ix[i], 'regular'] in ct[n][-3]][0][-3]\n",
    "        df.loc[ix[i], 'regular'] = [ct[n] for n in range(len(ct)) if 'Prime Member Deal' in ct[n][0] if df.loc[ix[i], 'product'] in ct[n][-3]][0][-2].split('$')[1].replace(r'/lb','')\n",
    "        df.loc[ix[i], 'sale'] = 0                                           # If 'Prime Member Deal' exists in position [n][0] of each category object, that means there is no sale price as it is for prime members only\n",
    "        print('Some products are only on sale for prime members, wrangling data accordingly...')\n",
    "#@@@@@@@@@@@@@@@@@@@@@@@@@@@@@@@@@@@@@@@@@@@@@@@@@@@@@@@@@@@@@@@@@@@@@@@@@@@#\n",
    "#---------------------------------------------------------------------------# \n",
    "df['sale'] = df['sale'].str.replace(r'$', '', regex=True)                   # # # # # # # # # # # # # # # \n",
    "df['prime'] = df['prime'].str.replace(r'$', '', regex=True)                 # Remove \"$\" from results   #\n",
    "df['regular'] = df['regular'].str.replace(r'$', '', regex=True)             # # # # # # # # # # # # # # # \n",
    "#---------------------------------------------------------------------------#                           #\n",
    "df = df.fillna(0)                                                           #      Fill NaN with 0      # \n",
    "#---------------------------------------------------------------------------#                           #\n",
    "if df['regular'].str.contains('/lb').any():                                 # # # # # # # # # # # # # # #  \n",
    "    ix = df[df['regular'].str.contains('/lb')].index                        # Remove \"/lb\" from results #\n",
    "    for i in range(len(ix)):                                                # # # # # # # # # # # # # # # \n",
    "        df.loc[ix[i], 'regular'] = df.loc[ix[i], 'regular'].replace(r'/lb','')\n",
    "if df['sale'].str.contains('/lb').any():                                    #\n",
    "    ix = df[df['sale'].str.contains('/lb', na=False)].index                 #\n",
    "    for i in range(len(ix)):                                                #\n",
    "        df.loc[ix[i], 'sale'] = df.loc[ix[i], 'sale'].replace(r'/lb','')    #\n",
    "if df['prime'].str.contains('/lb').any():                                   #\n",
    "    ix = df[df['prime'].str.contains('/lb')].index                          #\n",
    "    for i in range(len(ix)):                                                #\n",
    "        df.loc[ix[i], 'prime'] = df.loc[ix[i], 'prime'].replace(r'/lb','')  #\n",
    "#---------------------------------------------------------------------------#\n",
    "#---------------------------------------------------------------------------#\n",
    "for i in range(len(df[df['sale'].str.contains('¢', na=False)].index)):      # # # # # # # # # # # # # # #\n",
    "    ix = df[df['sale'].str.contains('¢', na=False)].index                   # Add '.' to items with '¢' #\n",
    "    df.loc[ix[i]][3] = '.' + df.loc[ix[i]][3]                               # # # # # # # # # # # # # # #\n",
    "                                                                            #\n",
    "for i in range(len(df[df['prime'].str.contains('¢', na=False)].index)):     #\n",
    "    ix = df[df['prime'].str.contains('¢', na=False)].index                  #\n",
    "    df.loc[ix[i]][4] = '.' + df.loc[ix[i]][4]                               #\n",
    "                                                                            #\n",
    "try:                                                                        #\n",
    "    for i in range(len(df[df['regular'].str.contains('¢', na=False)].index)):\n",
    "        ix = df[df['regular'].str.contains('¢', na=False)].index            #\n",
    "        df.loc[ix[i]][2] = '.' + df.loc[ix[i]][2]                           #\n",
    "except:                                                                     #\n",
    "    pass                                                                    #\n",
    "#---------------------------------------------------------------------------#\n",
    "#---------------------------------------------------------------------------#\n",
    "ix = df[df['prime'].str.contains('¢', na=False)].index                      # # # # # # # # # # # # # # #\n",
    "for i in range(len(ix)):                                                    # Del items with '¢'        #\n",
    "    df.loc[ix[i]][4] = df.loc[ix[i]][4].replace('¢', '')                    # # # # # # # # # # # # # # #\n",
    "                                                                            #\n",
    "ix = df[df['regular'].str.contains('¢', na=False)].index                    #\n",
    "for i in range(len(ix)):                                                    #\n",
    "    df.loc[ix[i]][2] = df.loc[ix[i]][2].replace('¢', '')                    #\n",
    "                                                                            #\n",
    "ix = df[df['sale'].str.contains('¢', na=False)].index                       #\n",
    "for i in range(len(ix)):                                                    #\n",
    "    df.loc[ix[i]][3] = df.loc[ix[i]][3].replace('¢', '')                    #\n",
    "#---------------------------------------------------------------------------#\n",
    "#---------------------------------------------------------------------------# # # # # # # # # # # # # # #\n",
    "d = df.to_dict('list')                                                      #     Dataframe ---> Dict   #\n",
    "#---------------------------------------------------------------------------# # # # # # # # # # # # # # # \n",
    "for i in range(len(d['sale'])):                                                               # \n",
    "    if isinstance(d['sale'][i], str) and 'for' in d['sale'][i].split():                       # \n",
    "        d['sale'][i] = float(d['sale'][i].split()[2]) / float(d['sale'][i].split()[0])        # # # # # # # # # # # # # # # # #\n",
    "                                                                                              # str '2 for 5' ---> int '2.50' #\n",
    "for i in range(len(d['prime'])):                                                              # # # # # # # # # # # # # # # # # \n",
    "        if isinstance(d['prime'][i], str) and 'for' in d['prime'][i].split():                 #\n",
    "            d['prime'][i] = float(d['prime'][i].split()[2]) / float(d['prime'][i].split()[0]) #      \n",
    "#---------------------------------------------------------------------------------------------# # # # # # # # # # # # # # # \n",
    "df = pd.DataFrame.from_dict(d)                                                                #     Dict ---> Dataframe   #\n",
    "#---------------------------------------------------------------------------------------------# # # # # # # # # # # # # # #                                                                                              # # # # # # # # # # # # # # # \n",
    "df = df.sort_index()                                                                          #\n",
    "df[\"regular\"] = pd.to_numeric(df[\"regular\"])                                                  # # # # # # # # # # # # # # # # # # #\n",
    "df[\"sale\"] = pd.to_numeric(df[\"sale\"])                                                        # Str ---> float, Feature Creation  #\n",
    "df[\"prime\"] = pd.to_numeric(df[\"prime\"])                                                      # # # # # # # # # # # # # # # # # # #\n",
    "df['sale_discount'] = 1-df['sale']/df['regular']                                              # \n",
    "df['prime_discount'] = 1-df['prime']/df['regular']                                            #\n",
    "df['prime_sale_difference'] = df['prime_discount'] - df['sale_discount']                      # # # # # # # # # # # # # # # # # # # # |------------------------------------|\n",
    "df['discount_bins'] = pd.cut(df.prime_discount, [0,.25,.50,.75, 1], labels=['0% to 25%', '25% to 50%', '50% to 75%', '75% or more'])# |Discount Bins I.E. 0% Off to 25% off|\n",
    "df = df.sort_values(by='prime_discount', ascending=False)                                     # # # # # # # # # # # # # # # # # # # # |------------------------------------|\n",
    "#---------------------------------------------------------------------------------------------#\n",
    "\n",
    "# Paths to dump location of Wholefoods and Cleaned DataFrame as .pkl files\n",
    "# pkl files are dumped with protocol 4 for deployment purposes as streamlit is not compatible with the highest protocol (5) of serialization\n",
    "\n",
    "#--------------------------------------------#\n",
    "try:                                         #\n",
    "  MY_DIR = pathlib.Path(__file__).parent     #\n",
    "except NameError:                            #\n",
    "  MY_DIR = pathlib.Path(r\"C:\\Users\\water\\Desktop\\WF\\WholeFoods-Datascraping-Project-Deployment\\Deployment\") # if not running as .py the directory is hardcoded locally\n",
    "#--------------------------------------------# \n",
    "filename = \"WF_Sales_\" + str(date.today().strftime(\"%b_%d_%Y\")) + '_' + str('_'.join(location.split()).replace(',','')) + \".pkl\"\n",
    "path = MY_DIR / 'scraped products dump' / filename\n",
    "locpath = MY_DIR / 'scraped products dump' / 'location' / filename\n",
    "#--------------DUMPS-------------------------#\n",
    "with open(path, 'wb') as handle:             #                           \n",
    "    pickle.dump(df, handle, protocol=4)      # Both .pkl files are saved as the same name however the location info of the store is under the location folder\n",
    "with open(locpath, 'wb') as handle:          # The Dataframe file is in the 'scraped products dump' folder\n",
    "    pickle.dump(location, handle, protocol=4)#\n",
    "    print(\"Products saved as WF_Sales_\" + str(date.today().strftime(\"%b_%d_%Y\")) + '_' + str('_'.join(location.split()).replace(',','')) + \".pkl\")\n",
    "#--------------------------------------------#"
   ]
  },
  {
   "cell_type": "code",
   "execution_count": 30,
   "metadata": {},
   "outputs": [],
   "source": [
    "df.to_csv('Cleaned_WholeFoods_Sale_Data.CSV')"
   ]
  },
  {
   "cell_type": "code",
   "execution_count": 2,
   "metadata": {},
   "outputs": [
    {
     "data": {
      "text/plain": [
       "array([[<AxesSubplot:title={'center':'regular'}>,\n",
       "        <AxesSubplot:title={'center':'sale'}>],\n",
       "       [<AxesSubplot:title={'center':'prime'}>,\n",
       "        <AxesSubplot:title={'center':'sale_discount'}>],\n",
       "       [<AxesSubplot:title={'center':'prime_discount'}>,\n",
       "        <AxesSubplot:title={'center':'prime_sale_difference'}>]],\n",
       "      dtype=object)"
      ]
     },
     "execution_count": 2,
     "metadata": {},
     "output_type": "execute_result"
    },
    {
     "data": {
      "image/png": "[encoded data removed]",
      "text/plain": [
       "<Figure size 864x576 with 6 Axes>"
      ]
     },
     "metadata": {
      "needs_background": "light"
     },
     "output_type": "display_data"
    }
   ],
   "source": [
    "df.hist(bins=50, figsize=(12,8)) "
   ]
  },
  {
   "cell_type": "markdown",
   "metadata": {},
   "source": [
    "It looks like during this run there were no products that had a sale price of below zero, this is why we see no outliers in prime_sale_difference above ^"
   ]
  },
  {
   "cell_type": "code",
   "execution_count": 3,
   "metadata": {},
   "outputs": [
    {
     "data": {
      "text/plain": [
       "3"
      ]
     },
     "execution_count": 3,
     "metadata": {},
     "output_type": "execute_result"
    }
   ],
   "source": [
    "len(df[df['prime_sale_difference'] < 0]) "
   ]
  },
  {
   "cell_type": "markdown",
   "metadata": {},
   "source": [
    "During this data scrape prime members are getting on average a discount of 26% off, with again an 8% increase in discounts on average on all products"
   ]
  },
  {
   "cell_type": "code",
   "execution_count": 4,
   "metadata": {},
   "outputs": [
    {
     "data": {
      "text/html": [
       "<div>\n",
       "<style scoped>\n",
       "    .dataframe tbody tr th:only-of-type {\n",
       "        vertical-align: middle;\n",
       "    }\n",
       "\n",
       "    .dataframe tbody tr th {\n",
       "        vertical-align: top;\n",
       "    }\n",
       "\n",
       "    .dataframe thead th {\n",
       "        text-align: right;\n",
       "    }\n",
       "</style>\n",
       "<table border=\"1\" class=\"dataframe\">\n",
       "  <thead>\n",
       "    <tr style=\"text-align: right;\">\n",
       "      <th></th>\n",
       "      <th>regular</th>\n",
       "      <th>sale</th>\n",
       "      <th>prime</th>\n",
       "      <th>sale_discount</th>\n",
       "      <th>prime_discount</th>\n",
       "      <th>prime_sale_difference</th>\n",
       "    </tr>\n",
       "  </thead>\n",
       "  <tbody>\n",
       "    <tr>\n",
       "      <th>mean</th>\n",
       "      <td>7.157132</td>\n",
       "      <td>5.886006</td>\n",
       "      <td>5.296615</td>\n",
       "      <td>0.183474</td>\n",
       "      <td>0.26526</td>\n",
       "      <td>0.081786</td>\n",
       "    </tr>\n",
       "  </tbody>\n",
       "</table>\n",
       "</div>"
      ],
      "text/plain": [
       "       regular      sale     prime  sale_discount  prime_discount  \\\n",
       "mean  7.157132  5.886006  5.296615       0.183474         0.26526   \n",
       "\n",
       "      prime_sale_difference  \n",
       "mean               0.081786  "
      ]
     },
     "execution_count": 4,
     "metadata": {},
     "output_type": "execute_result"
    }
   ],
   "source": [
    "df[df['prime_sale_difference'] > 0].sort_values(by='prime_discount',ascending=False).describe().loc[['mean']]"
   ]
  },
  {
   "cell_type": "code",
   "execution_count": 8,
   "metadata": {},
   "outputs": [
    {
     "data": {
      "application/vnd.plotly.v1+json": {
       "config": {
        "plotlyServerURL": "https://plot.ly"
       },
       "data": [
        {
         "customdata": [
          [
           "Be Active Get Burning Tea, 1.65 oz",
           10.99,
           9.89
          ],
          [
           "Watermelon Mint Sparkling Water, 12 fl oz",
           0.89,
           0.8
          ],
          [
           "Pomegranate Green Tea Sparkling Water, 12 fl oz",
           0.89,
           0.8
          ],
          [
           "Organic Nighty Night Tea, 0.85 oz",
           3.99,
           3.59
          ],
          [
           "Organic EveryDay Detox Lemon, 0.85 oz",
           3.99,
           3.59
          ],
          [
           "Organic Cup Of Calm Tea, 0.85 oz",
           3.99,
           3.59
          ],
          [
           "Organic Peppermint Delight Probiotic Tea, 0.85 oz",
           3.99,
           3.59
          ],
          [
           "Organic Hibiscus Herbal Tea, 0.99 oz",
           3.99,
           3.59
          ],
          [
           "Organic Turmeric Pure Boost Shot, 2 fl oz",
           3.19,
           2.87
          ],
          [
           "Organic Ginger Pure Boost Shot, 2 fl oz",
           3.19,
           2.87
          ],
          [
           "Lime Ginger Sparkling Water, 12 fl oz",
           0.89,
           0.8
          ],
          [
           "Wellness Rescue With Garlic Shot, 2 fl oz",
           3.19,
           2.87
          ],
          [
           "Organic Cayenne Immunity Boost Wellness Shot, 2 fl oz",
           3.19,
           2.87
          ],
          [
           "Organic Immunity Boost Wellness Shot, 2 fl oz",
           3.19,
           2.87
          ],
          [
           "Organic Wellness Rescue Shot, 2 fl oz",
           3.19,
           2.87
          ],
          [
           "Organic Pure Boost Vitamin C Wellness Shot, 2 fl oz",
           3.19,
           2.87
          ],
          [
           "Organic Harmless Coconut Water (32 fl. oz)",
           8.99,
           8.09
          ],
          [
           "Wild Raspberry Electrolyte Powder Packet, 0.11 oz",
           0.79,
           0.71
          ],
          [
           "Grape Electrolyte Powder Packet, 0.12 oz",
           0.79,
           0.71
          ],
          [
           "Lemonade Electrolyte Powder Packet, 0.12 oz",
           0.79,
           0.71
          ],
          [
           "Organic Dairy-Free Mango Probiotic Drinkable Cashewmilk Yogurt, 28 fl oz",
           5.49,
           4.94
          ],
          [
           "Organic Elderberry Immunity Boost Wellness Shot, 2 fl oz",
           3.19,
           2.87
          ],
          [
           "Organic Dairy-Free Strawberry Probiotic Drinkable Cashewmilk Yogurt, 28 fl oz",
           5.49,
           4.94
          ],
          [
           "Organic Roasted Dandelion Root Tea, 16 wrapped tea bags",
           3.99,
           3.59
          ],
          [
           "Organic Meadowsweet Turmeric Ginger Tea, 1.13 oz",
           3.99,
           3.59
          ],
          [
           "Organic Dark Chocolate Protein Elixir, 12 fl oz",
           4,
           3.6
          ],
          [
           "Organic Banana Nut Protein Elixir, 12 fl oz",
           4,
           3.6
          ],
          [
           "Organic Raspberry Leaf Tea, 0.85 oz",
           3.99,
           3.59
          ],
          [
           "Organic Dairy-Free Strawberry Cultured Probiotic Plant Shake, 12 fl oz",
           3.99,
           3.59
          ],
          [
           "Dandelion Chai Probiotic Tea, 1.19 oz",
           3.99,
           3.59
          ],
          [
           "Organic Dairy-Free Nuts & Cocoa Protein Plant Shake, 12 fl oz",
           3.99,
           3.59
          ],
          [
           "Organic Hazelnut Cacao Elixir, 12 fl oz",
           4,
           3.6
          ],
          [
           "Organic Ginger Juice Shot, 2 fl oz",
           3.99,
           3.59
          ],
          [
           "Licorice Root Tea, 16 wrapped tea bags",
           3.99,
           3.59
          ],
          [
           "Organic Smooth Move Tea, 1.13 oz",
           3.99,
           3.59
          ],
          [
           "Organic Echinacea Plus Tea, 0.85 oz",
           3.99,
           3.59
          ],
          [
           "Breathe Easy Tea, 0.85 oz",
           3.99,
           3.59
          ],
          [
           "Organic Nighty Night Valerian Relaxation Tea, 0.85 oz",
           3.99,
           3.59
          ],
          [
           "Organic Chamomile Herbal Tea, 0.74 oz",
           3.99,
           3.59
          ],
          [
           "Organic Mother's Milk Herbal Tea, 0.99 oz",
           3.99,
           3.59
          ],
          [
           "Organic Nettle Leaf Herbal Tea, 1.13 oz",
           3.99,
           3.59
          ],
          [
           "Organic Smooth Move Chamomile Tea, 1.13 oz",
           3.99,
           3.59
          ],
          [
           "Peach Black Tea Sparkling Water, 12 fl oz",
           0.89,
           0.8
          ],
          [
           "Organic Peppermint, 16 wrapped tea bags",
           3.99,
           3.59
          ],
          [
           "Organic Ginger Aid Herbal Tea, 1.13 oz",
           3.99,
           3.59
          ],
          [
           "Organic Gas Relief Herbal Tea, 0.85 oz",
           3.99,
           3.59
          ],
          [
           "Organic Dairy-Free Unsweetened Plain Probiotic Drinkable Cashewmilk Yogurt, 28 fl oz",
           5.49,
           4.94
          ],
          [
           "Organic Cran Fizz, 25.4 fl oz",
           3.5,
           3.15
          ],
          [
           "Organic Radiant Rose Sparkling Juice Mocktail, 25.4 fl oz",
           3.5,
           3.15
          ],
          [
           "Organic Hazelnut Latte Stacked Coffee, 12 fl oz",
           3,
           2.7
          ],
          [
           "Maca Mocha With Coconut Milk, 12 fl oz",
           3,
           2.7
          ],
          [
           "Classic Oat Milk Latte, 10.5 fl oz",
           2.79,
           2.51
          ],
          [
           "Vanilla Oat Milk Latte, 10.5 fl oz",
           2.79,
           2.51
          ],
          [
           "Mocha Oat Milk Latte, 10.5 fl oz",
           2.79,
           2.51
          ],
          [
           "Organic Matcha Latte Super Herb Elixir, 12 fl oz",
           3,
           2.7
          ],
          [
           "Organic Turmeric Golden-milk, 12 fl oz",
           3,
           2.7
          ],
          [
           "Hydration/OG 12oz",
           2.79,
           2.51
          ],
          [
           "Organic Cafe Mocha Stacked Coffee, 12 fl oz",
           3,
           2.7
          ],
          [
           "Reishi Chocolate With Coconut Milk, 12 fl oz",
           3,
           2.7
          ],
          [
           "Berry Blast Effervescent Energy, 10 tablets",
           6,
           5.4
          ],
          [
           "Smoothie Glow Superfood Nat, 7 oz",
           4.49,
           4.04
          ],
          [
           "Alkaline Spring Water 6 Pack",
           6.99,
           6.29
          ],
          [
           "Homestead Blend Coffee, 12 oz",
           14.99,
           13.49
          ],
          [
           "Organic French Roast Whole Bean Coffee, 12 oz",
           14.99,
           13.49
          ],
          [
           "Mushroom Coffee Blend Drink Mix, 0.21 oz",
           1.49,
           1.34
          ],
          [
           "Organic Founders Blend Whole Bean Coffee, 12 oz",
           14.99,
           13.49
          ],
          [
           "Organic Hundred Mile Blend Coffee, 12 oz",
           14.99,
           13.49
          ],
          [
           "Hair Bender Whole Bean Coffee, 12 oz",
           14.99,
           13.49
          ],
          [
           "Organic Holler Mountain Whole Bean Coffee, 12 oz",
           14.99,
           13.49
          ],
          [
           "Organic Matcha Powder, 4 oz",
           16.49,
           14.84
          ],
          [
           "Pomegranate Green Tea Sparkling Water 8pk, 12 fl oz",
           4.99,
           4.49
          ],
          [
           "Plus Hydrate, 16 fl oz",
           4,
           3.6
          ],
          [
           "Happy Kombucha, 16 fl oz",
           4,
           3.6
          ],
          [
           "Organic Sangria Spritzer, 25.4 fl oz",
           3.5,
           3.15
          ],
          [
           "Black Cherry Sparkling Water, 144 fl oz",
           4.99,
           4.49
          ],
          [
           "Strawberry Sparkling Water, 144 fl oz",
           4.99,
           4.49
          ],
          [
           "Lemon Lime Sparkling Water, 144 fl oz",
           4.99,
           4.49
          ],
          [
           "Watermelon Sparkling Water, 144 fl oz",
           4.99,
           4.49
          ],
          [
           "Pineapple Sparkling Water, 12 cans",
           4.99,
           4.49
          ],
          [
           "Peach Sparkling Water, 144 fl oz",
           4.99,
           4.49
          ],
          [
           "Organic Oat & Seed Oatmilk, 28 fl oz",
           5.99,
           5.39
          ],
          [
           "Tea Beautifying Botanicals Sleep, 36 tea bags",
           11.99,
           10.79
          ],
          [
           "Blueberry Lavender Daily Beauty Tea, 1.27 oz",
           11.99,
           10.79
          ],
          [
           "Organic Coconut Water & Watermelon Beverage, 12 fl oz",
           3.69,
           3.32
          ],
          [
           "Organic Mango Coconut Smoothie, 10 fl oz",
           3.69,
           3.32
          ],
          [
           "Whole Coconut Smoothie, 10 fl oz",
           3.69,
           3.32
          ],
          [
           "Organic Pink Lady Apple Coconut Water, 12 fl cz",
           3.69,
           3.32
          ],
          [
           "Spring 100% Natural Alkaline Water, 33.8 fl oz",
           1.5,
           1.35
          ],
          [
           "Ashwagandha Spicy Chai, 12 fluid ounce",
           3,
           2.7
          ],
          [
           "PLUS Kombucha, Immunity, 16 fl oz",
           4,
           3.6
          ],
          [
           "Organic Vanilla Latte Stacked Coffee, 12 fl oz",
           3,
           2.7
          ],
          [
           "PLUS Kombucha, Chill, 16 fl oz",
           4,
           3.6
          ],
          [
           "PLUS Kombucha, Belly Reset, 16 fl oz",
           4,
           3.6
          ],
          [
           "Organic Cafe Mocha Stacked Coffee, 12 fl oz",
           3,
           2.7
          ],
          [
           "Organic Peppermint Green Tea, 16 wrapped tea bags",
           3.99,
           3.59
          ],
          [
           "Organic Creamy Chocolate Protein Shake, 14 fl oz",
           3.19,
           2.87
          ],
          [
           "Organic Lemon Balm Herbal Tea, 0.85 oz",
           3.99,
           3.59
          ],
          [
           "Organic Vanilla Spice Protein Elixir, 12 fl oz",
           4,
           3.6
          ],
          [
           "Organic Peach Plum Aloe Vera Juice, 16.9 fl oz",
           2.5,
           2.25
          ],
          [
           "Vital Performance Protein Chocolate, 1.72 lb",
           25.49,
           22.94
          ],
          [
           "Lime Ginger Sparkling Water 8pk",
           4.99,
           4.49
          ],
          [
           "Watermelon Mint Sparkling Water 8pk",
           4.99,
           4.49
          ],
          [
           "Peach Black Tea Sparkling Water 8pk, 96 fl oz",
           4.99,
           4.49
          ],
          [
           "Earl Grey Black Tea, 1.7 oz",
           2.99,
           2.69
          ],
          [
           "Awake English Breakfast Tea, 1.8 oz",
           2.99,
           2.69
          ],
          [
           "Green Tea, 1.5 oz",
           2.99,
           2.69
          ],
          [
           "Calm Chamomile Herbal Tea, 0.91 oz",
           2.99,
           2.69
          ],
          [
           "Pomegranate Collagen Alkaline Spring Water, 16.9 fl oz",
           2.5,
           2.25
          ],
          [
           "Wild Sweet Orange Tea, 1.58 oz",
           2.99,
           2.69
          ],
          [
           "Decaf Chai Black Tea 20ct, 1.9 oz",
           2.99,
           2.69
          ],
          [
           "Hydration Sleeve, 0.56 oz",
           2.49,
           2.24
          ],
          [
           "Organic Vanilla Plant Protein Powder, 1.2 lb",
           26.99,
           24.29
          ],
          [
           "Coconut Water 4 Pack, 1.4 l",
           12.99,
           11.69
          ],
          [
           "Organic Chocolate Nutritional Shake, 8.25 fl oz cartons",
           18.49,
           16.64
          ],
          [
           "Kenyan Earl Grey, 3.2 oz",
           8.99,
           8.09
          ],
          [
           "Tea Loose Peppermint Detox Tins, 1.6 ounce",
           8.99,
           8.09
          ],
          [
           "Organic Matcha Green Tea Almond Milk, 11 fl oz",
           3,
           2.7
          ],
          [
           "Organic Vanilla Bean Almond Milk, 11 fl oz",
           3,
           2.7
          ],
          [
           "Refresh Mint Tea, 0.8 oz",
           2.99,
           2.69
          ],
          [
           "Cold Brew Almond Latte Coffee, 11 fl oz",
           3,
           2.7
          ],
          [
           "Master Brew Kombucha Ginger, 15.2 fl oz",
           2.5,
           2.25
          ],
          [
           "Superberry Kombucha, 14 fl oz",
           2.5,
           2.25
          ],
          [
           "Get Relaxed Be Well Tea, 1.65 oz",
           9.99,
           8.99
          ],
          [
           "Be Well Rooibos Get Some Zzz, 1.65 oz",
           9.99,
           8.99
          ],
          [
           "Be Well Rooibos Get Clean Tea, 1.65 oz",
           9.99,
           8.99
          ],
          [
           "Goji, Coconut, & Acai Smoothie Booster, 11.4 oz",
           20.99,
           18.89
          ],
          [
           "Organic Love Kombucha, 14 fl oz",
           2.5,
           2.25
          ],
          [
           "Creamy Chocolate Fudge Nutritional Protein Shake, 11 fl oz",
           2.5,
           2.25
          ],
          [
           "Tart Cherry Kombucha, 15.2 fl oz",
           2.5,
           2.25
          ],
          [
           "Meyer Lemon Collagen Alkaline Spring Water, 16.9 fl oz",
           2.5,
           2.25
          ],
          [
           "Watermelon Kombucha, 14 fl oz",
           2.5,
           2.25
          ],
          [
           "Master Brew Kombucha Pineapple Peach, 15.2 fl oz",
           2.5,
           2.25
          ],
          [
           "Berry Plant Powered Energy Drink, 16 fl oz",
           2.5,
           2.25
          ],
          [
           "Organic White Grape Aloe Vera Juice, 16.9 fl oz",
           2.5,
           2.25
          ],
          [
           "Cherry Watermelon Plant Powered Energy Drink, 16 fl oz",
           2.5,
           2.25
          ],
          [
           "Organic Sweet Vanilla Bean Vegan Nutritional Shake, 11 fl oz",
           2.5,
           2.25
          ],
          [
           "Blood Orange Collagen Alkaline Spring Water, 16.9 fl oz",
           2.5,
           2.25
          ],
          [
           "Mango Plant Powered Energy Drink, 16 fl oz",
           2.5,
           2.25
          ],
          [
           "Brain Juice Peach Mango, 2.5 fl oz",
           3.39,
           3.05
          ],
          [
           "Citrus Plant Powered Energy Drink, 16 fl oz",
           2.5,
           2.25
          ],
          [
           "Pineapple Aloe Energy Shot, 2 fl oz",
           6.79,
           6.11
          ],
          [
           "Pomegranate Blueberry Energy Shot, 2 fl oz",
           6.79,
           6.11
          ],
          [
           "Clear Mind Kombucha, 14 fl oz",
           2.5,
           2.25
          ],
          [
           "Organic Chai Spice Almond Milk, 11 fl oz",
           3,
           2.7
          ],
          [
           "Organic Cacao Almond Milk, 11 fl oz",
           3,
           2.7
          ],
          [
           "Organic Vanilla Bean Plant Protein Single, 1.27 oz",
           3.19,
           2.87
          ],
          [
           "Organic Nighty Night Tea, 0.85 oz",
           3.99,
           3.59
          ],
          [
           "Organic Throat Coat Eucalyptus Tea, 16 wrapped tea bags",
           3.99,
           3.59
          ],
          [
           "Organic Lowfat Peach Kefir, 32 fl oz",
           3.99,
           3.59
          ],
          [
           "Organic Maple Water, 32 fl oz",
           3.99,
           3.59
          ],
          [
           "Organic Fair Trade Spearmint Tea, 0.85 oz",
           3.99,
           3.59
          ],
          [
           "Organic Ginger With Chamomile Tea, 0.85 oz",
           3.99,
           3.59
          ],
          [
           "Organic Elderberry Echinacea Plus Herbal Tea, 0.85 oz",
           3.99,
           3.59
          ],
          [
           "Organic Dairy-Free Banana & Date Cultured Probiotic Plant Shake, 12 fl oz",
           3.99,
           3.59
          ],
          [
           "Organic Dairy-Free Blackberry Cultured Probiotic Plant Shake, 12 fl oz",
           3.99,
           3.59
          ],
          [
           "Organic Smooth Move Peppermint Tea, 1.13 oz",
           3.99,
           3.59
          ],
          [
           "Organic Matcha Green Tea, 16 wrapped tea bags",
           3.99,
           3.59
          ],
          [
           "Organic Lemon Echinacea Throat Coat Herbal Tea, 1.13 oz",
           3.99,
           3.59
          ],
          [
           "Everyday Detox Dandelion Tea, 16 wrapped tea bags",
           3.99,
           3.59
          ],
          [
           "Organic Ginger Green Tea, 0.85 oz",
           3.99,
           3.59
          ],
          [
           "Organic Dairy-Free Nuts & Vanilla Protein Plant Shake, 12 fl oz",
           3.99,
           3.59
          ],
          [
           "Organic Throat Coat Herbal Tea, 1.13 oz",
           3.99,
           3.59
          ],
          [
           "Organic Lemon Ginger Tea, 1.13 oz",
           3.99,
           3.59
          ],
          [
           "Organic Baked Cinnamon Apple Herbal Tea, 1.76 oz",
           3.99,
           3.59
          ],
          [
           "Organic Dandelion Leaf & Root Tea, 0.99 oz",
           3.99,
           3.59
          ],
          [
           "Organic Latte Chai, 32 fl oz",
           3.99,
           3.59
          ],
          [
           "Organic Fair Trade Ginger Herbal Tea, 0.85 oz",
           3.99,
           3.59
          ],
          [
           "Organic Matcha Oxidants, 12 fl oz",
           3.99,
           3.59
          ],
          [
           "Organic Blue Oxidants, 12 fl oz",
           3.99,
           3.59
          ],
          [
           "Organic Spicy Ginger Herbal Tea (20 Pk), 1.3 oz",
           3.99,
           3.59
          ],
          [
           "Raspberry Lemonade Pre-Workout Energy Drink Mix, 0.42 oz",
           3.19,
           2.87
          ],
          [
           "Matcha To Go 10ct, 1.41 oz",
           12.99,
           11.69
          ],
          [
           "Get Lean, Get Burning, Get Lost, 42 tea bags",
           12.99,
           11.69
          ],
          [
           "Cinnamon Cola Sparkling Tonic, 12 fl oz",
           2,
           1.8
          ],
          [
           "Ginger Lemon Sparkling Tonic, 12 fl oz",
           2,
           1.8
          ],
          [
           "Strawberry Vanilla Sparkling Tonic, 12 fl oz",
           2,
           1.8
          ],
          [
           "Cold Brew Coffee, 8 fl oz",
           3.5,
           3.15
          ],
          [
           "Organic Ginger Lime Prebiotic Sparkling Tonic, 12 fl oz",
           2,
           1.8
          ],
          [
           "Organic Bold Cold Brewed Coffee, 8 fl oz",
           3.5,
           3.15
          ],
          [
           "Organic Blackberry Prebiotic Sparkling Tonic, 12 fl oz",
           2,
           1.8
          ],
          [
           "Classic Root Beer Sparkling Tonic, 12 fl oz",
           2,
           1.8
          ],
          [
           "Organic Root Beer Prebiotic Sparkling Tonic, 12 fl oz",
           2,
           1.8
          ],
          [
           "Organic Mandarin Orange Prebiotic Sparkling Tonic, 12 fl oz",
           2,
           1.8
          ],
          [
           "Strawberry Lemonade Electrolyte Drink Mix, 0.4 oz",
           2.19,
           1.97
          ],
          [
           "Organic Ceremonial Grade Matcha, 1.05 oz",
           21.99,
           19.79
          ],
          [
           "Organic Immunity Boost Variety Shot 4pk, 2 fl oz",
           11.99,
           10.79
          ],
          [
           "Unsweetened Vanilla Almondmilk",
           3.19,
           2.87
          ],
          [
           "Organic Chai Tea, 20 tea bags",
           3.99,
           3.59
          ],
          [
           "Organic Cacao Essentials, 12 fl oz",
           3.99,
           3.59
          ],
          [
           "Berry Power Beverage, 12 fl oz",
           3.99,
           3.59
          ],
          [
           "Organic Super Chai Fuel, 12 fl oz",
           3.99,
           3.59
          ],
          [
           "Moringa with Spearmint & Sage, 0.85 oz",
           3.99,
           3.59
          ],
          [
           "Organic Fennel tea, 1.13 oz",
           3.99,
           3.59
          ],
          [
           "Organic Vitamin C Immunity Boost Shot, 2 fl oz",
           3.19,
           2.87
          ],
          [
           "Green Tea, 20 ct, 0.91 oz",
           2.5,
           2.25
          ],
          [
           "Blueberry Sparkling Water, 12 fl oz",
           0.79,
           0.71
          ],
          [
           "Decaffeinated Green Tea, 0.91 oz",
           2.5,
           2.25
          ],
          [
           "Lemon Ginger plus Probiotics Tea, 1.31 oz",
           2.5,
           2.25
          ],
          [
           "Mint Medley Herbal Tea, 1.3 oz",
           2.5,
           2.25
          ],
          [
           "Cozy Chamomile Tea, 20 ct",
           2.5,
           2.25
          ],
          [
           "Honey Lavender Stress Relief, 1.02 oz",
           3.99,
           3.59
          ],
          [
           "Earl Grey Black Tea, 1.18 oz",
           2.5,
           2.25
          ],
          [
           "Soothing Rose Hibiscus Skin DeTox, 1.12 oz",
           3.99,
           3.59
          ],
          [
           "Be Well Rooibos Get Lost Tea, 1.65 oz",
           11.29,
           10.16
          ],
          [
           "Peach DeTox, 1.12 oz",
           3.99,
           3.59
          ],
          [
           "Lychee, 12 fl oz",
           2,
           1.8
          ],
          [
           "Booch Pop, Ginger Fizz, 12 fl oz",
           2,
           1.8
          ],
          [
           "Chocolate Collagen Cold Brew, 8 fl oz",
           2,
           1.8
          ],
          [
           "Soothing Caramel Bedtime, 1.07 oz",
           3.99,
           3.59
          ],
          [
           "Organic Strawberry Vanilla Probiotic Pop, 12 fl oz",
           2,
           1.8
          ],
          [
           "Green Tea Super Antioxidant, 1.12 oz",
           3.99,
           3.59
          ],
          [
           "Calamansi, 12 fluid ounce",
           2,
           1.8
          ],
          [
           "Egyptian Licorice, 1.27 oz",
           3.99,
           3.59
          ],
          [
           "Comforting Chamomile, 0.85 oz",
           3.99,
           3.59
          ],
          [
           "Booch Pop, Pom-Berry, 12 fl oz",
           2,
           1.8
          ],
          [
           "Organic Sparkling Apple-grape, 25.4 fl oz",
           3.47,
           3.12
          ],
          [
           "Grapefruit Sparkling Water, 12 fl oz",
           0.79,
           0.71
          ],
          [
           "Tonic Water, 25.4 fl oz",
           4.17,
           3.75
          ],
          [
           "Ginger Beer, 25.4 fl oz",
           4.17,
           3.75
          ],
          [
           "Organic Rowdy Belly Kombucha, 12 fl oz",
           2.5,
           2.25
          ],
          [
           "Cranberry Sparkling Water 12 Pack",
           3.87,
           3.48
          ],
          [
           "Kombucha Lion Root Can, 12 fluid ounce",
           2.5,
           2.25
          ],
          [
           "Strawberry Sparkling Water, 12 fl oz",
           0.79,
           0.71
          ],
          [
           "Sweet Vanilla Bean Organic Nutrition Complete Protein Shake, 44 fl oz",
           9.99,
           8.99
          ],
          [
           "Kombucha Strwbry Can Org, 12 fl oz",
           2.5,
           2.25
          ],
          [
           "Sparkling Cranberry Soda, 25.4 fl oz",
           3.37,
           3.03
          ],
          [
           "Instant Espresso, 2 oz",
           2.99,
           2.69
          ],
          [
           "Kombucha Lvndr Can Org, 12 fluid ounce",
           2.5,
           2.25
          ],
          [
           "Candy Cane Lane Green Tea, 20 tea bags",
           2.37,
           2.13
          ],
          [
           "Kombucha Organic Savory Peach, 12 fluid ounce",
           2.5,
           2.25
          ],
          [
           "Organic Watermelon Bloom Kombucha, 12 fl oz",
           2.5,
           2.25
          ],
          [
           "Double Espresso Cold Brew Coffee, 8 fl oz",
           2,
           1.8
          ],
          [
           "Dairy Free Black & Bold Cold Brew Coffee, 8 fl oz",
           2,
           1.8
          ],
          [
           "Mexican Vanilla Cold Brew Coffee, 8 fl oz",
           2,
           1.8
          ],
          [
           "Dry Sparkling Blood Orange Soda, 25.4 fl oz",
           3.37,
           3.03
          ],
          [
           "Creamy Chocolate Fudge Organic Nutritional Shake, 44 fl oz",
           9.99,
           8.99
          ],
          [
           "Chai Rooibos, 1.27 oz",
           3.99,
           3.59
          ],
          [
           "Organic Vanilla Bean Plant Based Shake, 4 cartons",
           9.99,
           8.99
          ],
          [
           "Organic Original Maple Water, 16.9 fl oz",
           2,
           1.8
          ],
          [
           "Honey Chai Turmeric Vitality, 1.12 oz",
           3.99,
           3.59
          ],
          [
           "DeTox, 1.02 oz",
           3.99,
           3.59
          ],
          [
           "Green Tea Kombucha, 1.12 oz",
           3.99,
           3.59
          ],
          [
           "Vanilla Collagen Cold Cold Brew, 8 fl oz",
           2,
           1.8
          ],
          [
           "Chai Tea Concentrate, 32 fl oz",
           2.99,
           2.69
          ],
          [
           "Sweet Cinnamon Spice Herbal Tea, 1.5 oz",
           2.99,
           2.69
          ],
          [
           "Lemon Ginger, 1.27 oz",
           3.99,
           3.59
          ],
          [
           "Watermelon Cucumber Refresher Tea Concentrate, 32 fl oz",
           2.99,
           2.69
          ],
          [
           "Passion Herbal Tea, 1.8 oz",
           2.99,
           2.69
          ],
          [
           "Black Cherry Sparkling Water, 12 fl oz",
           0.79,
           0.71
          ],
          [
           "Watermelon Sparkling Water, 12 fl oz",
           0.79,
           0.71
          ],
          [
           "Lime Sparkling Water, 12 fl oz",
           0.79,
           0.71
          ],
          [
           "Gold Label Elixir, 12 fl oz",
           5.69,
           5.12
          ],
          [
           "Peach Sparkling Water",
           0.79,
           0.71
          ],
          [
           "Cold Pressed Organic Green Devotion Multipack, 66 fl oz",
           18.99,
           17.09
          ],
          [
           "Ginger, 1.12 oz",
           3.99,
           3.59
          ],
          [
           "Cold Pressed Organic Defense Up Multipack, 66 fl oz",
           18.99,
           17.09
          ],
          [
           "Mango Sparkling Water, 12 fl oz",
           2,
           1.8
          ],
          [
           "Green Ginger Tea, 1.5 oz",
           2.99,
           2.69
          ],
          [
           "Bedtime, 0.85 oz",
           3.99,
           3.59
          ],
          [
           "Breath Deep, 1.12 oz",
           3.99,
           3.59
          ],
          [
           "Green Tea Pure Green, 1.09 oz",
           3.99,
           3.59
          ],
          [
           "Echinacea Immune Support, 0.85 oz",
           3.99,
           3.59
          ],
          [
           "Egyptian Licorice Mint, 1.12 oz",
           3.99,
           3.59
          ]
         ],
         "hovertemplate": "category=Beverages<br>Prime Discount by Percent=%{x}<br>Regular Prices of Products=%{y}<br>product=%{customdata[0]}<br>sale=%{customdata[1]}<br>prime=%{customdata[2]}<extra></extra>",
         "legendgroup": "Beverages",
         "marker": {
          "color": "#636efa",
          "symbol": "circle"
         },
         "mode": "markers",
         "name": "Beverages",
         "showlegend": true,
         "type": "scattergl",
         "x": [
          0.12400354295837013,
          0.19191919191919182,
          0.19191919191919182,
          0.28056112224448904,
          0.28056112224448904,
          0.28056112224448904,
          0.28056112224448904,
          0.28056112224448904,
          0.2807017543859649,
          0.2807017543859649,
          0.19191919191919182,
          0.2807017543859649,
          0.2807017543859649,
          0.2807017543859649,
          0.2807017543859649,
          0.2807017543859649,
          0.19019019019019023,
          0.2828282828282829,
          0.2828282828282829,
          0.2828282828282829,
          0.1752921535893155,
          0.2807017543859649,
          0.1752921535893155,
          0.28056112224448904,
          0.28056112224448904,
          0.1982182628062361,
          0.1982182628062361,
          0.28056112224448904,
          0.28056112224448904,
          0.28056112224448904,
          0.28056112224448904,
          0.1982182628062361,
          0.28056112224448904,
          0.28056112224448904,
          0.28056112224448904,
          0.28056112224448904,
          0.28056112224448904,
          0.28056112224448904,
          0.28056112224448904,
          0.28056112224448904,
          0.28056112224448904,
          0.28056112224448904,
          0.19191919191919182,
          0.28056112224448904,
          0.28056112224448904,
          0.28056112224448904,
          0.1752921535893155,
          0.2984409799554566,
          0.2984409799554566,
          0.32330827067669177,
          0.32330827067669177,
          0.1605351170568563,
          0.1605351170568563,
          0.1605351170568563,
          0.32330827067669177,
          0.32330827067669177,
          0.1605351170568563,
          0.32330827067669177,
          0.32330827067669177,
          0.3241551939924906,
          0.325542570951586,
          0.16021361815754342,
          0.15634771732332708,
          0.15634771732332708,
          0.3266331658291457,
          0.15634771732332708,
          0.15634771732332708,
          0.15634771732332708,
          0.15634771732332708,
          0.3251477944520236,
          0.1607476635514018,
          0.16083916083916083,
          0.16083916083916083,
          0.2984409799554566,
          0.30816640986132515,
          0.30816640986132515,
          0.30816640986132515,
          0.30816640986132515,
          0.30816640986132515,
          0.30816640986132515,
          0.16949152542372892,
          0.1693610469591995,
          0.1693610469591995,
          0.1679197994987469,
          0.1679197994987469,
          0.1679197994987469,
          0.1679197994987469,
          0.321608040201005,
          0.32330827067669177,
          0.16083916083916083,
          0.32330827067669177,
          0.16083916083916083,
          0.16083916083916083,
          0.32330827067669177,
          0.28056112224448904,
          0.15339233038348088,
          0.28056112224448904,
          0.1982182628062361,
          0.24749163879598668,
          0.23507835945315092,
          0.25041736227045075,
          0.25041736227045075,
          0.25041736227045075,
          0.22922636103151872,
          0.22922636103151872,
          0.22922636103151872,
          0.22922636103151872,
          0.24749163879598668,
          0.22922636103151872,
          0.22922636103151872,
          0.25083612040133774,
          0.22864401397268974,
          0.25965801139961997,
          0.2601156069364161,
          0.26387625113739765,
          0.26387625113739765,
          0.22636103151862463,
          0.22636103151862463,
          0.22922636103151872,
          0.22636103151862463,
          0.24749163879598668,
          0.24749163879598668,
          0.2374893977947412,
          0.2374893977947412,
          0.2374893977947412,
          0.2440976390556222,
          0.24749163879598668,
          0.24749163879598668,
          0.24749163879598668,
          0.24749163879598668,
          0.24749163879598668,
          0.24749163879598668,
          0.24749163879598668,
          0.24749163879598668,
          0.24749163879598668,
          0.24749163879598668,
          0.24749163879598668,
          0.24749163879598668,
          0.2355889724310778,
          0.24749163879598668,
          0.23529411764705876,
          0.23529411764705876,
          0.24749163879598668,
          0.22636103151862463,
          0.22636103151862463,
          0.2222222222222222,
          0.28056112224448904,
          0.28056112224448904,
          0.28056112224448904,
          0.28056112224448904,
          0.28056112224448904,
          0.28056112224448904,
          0.28056112224448904,
          0.28056112224448904,
          0.28056112224448904,
          0.28056112224448904,
          0.28056112224448904,
          0.28056112224448904,
          0.28056112224448904,
          0.28056112224448904,
          0.28056112224448904,
          0.28056112224448904,
          0.28056112224448904,
          0.20044543429844108,
          0.28056112224448904,
          0.28056112224448904,
          0.28056112224448904,
          0.20044543429844108,
          0.20044543429844108,
          0.20044543429844108,
          0.2222222222222222,
          0.2201467645096732,
          0.2201467645096732,
          0.27710843373493976,
          0.27710843373493976,
          0.27710843373493976,
          0.21052631578947378,
          0.27710843373493976,
          0.21052631578947378,
          0.27710843373493976,
          0.27710843373493976,
          0.27710843373493976,
          0.27710843373493976,
          0.2088353413654619,
          0.20808323329331735,
          0.2801867911941295,
          0.20055710306406682,
          0.20044543429844108,
          0.20044543429844108,
          0.20044543429844108,
          0.20044543429844108,
          0.28056112224448904,
          0.3460837887067396,
          0.2807017543859649,
          0.3902439024390244,
          0.4496124031007752,
          0.3902439024390244,
          0.3902439024390244,
          0.3902439024390244,
          0.3902439024390244,
          0.1431980906921242,
          0.3902439024390244,
          0.1431980906921242,
          0.13825275657336722,
          0.1431980906921242,
          0.39799331103678937,
          0.39799331103678937,
          0.39799331103678937,
          0.1431980906921242,
          0.39799331103678937,
          0.1431980906921242,
          0.39799331103678937,
          0.1431980906921242,
          0.1431980906921242,
          0.39799331103678937,
          0.46113989637305697,
          0.4496124031007752,
          0.46351931330472107,
          0.46351931330472107,
          0.35530085959885394,
          0.46379044684129433,
          0.35530085959885394,
          0.4496124031007752,
          0.14299332697807432,
          0.35530085959885394,
          0.4674868189806679,
          0.35799522673031037,
          0.35530085959885394,
          0.46616541353383467,
          0.35530085959885394,
          0.35530085959885394,
          0.3548387096774194,
          0.3548387096774194,
          0.3548387096774194,
          0.4674868189806679,
          0.14299332697807432,
          0.1431980906921242,
          0.14299332697807432,
          0.39799331103678937,
          0.1431980906921242,
          0.1431980906921242,
          0.1431980906921242,
          0.39799331103678937,
          0.46092184368737477,
          0.46092184368737477,
          0.1431980906921242,
          0.46092184368737477,
          0.46092184368737477,
          0.4496124031007752,
          0.4496124031007752,
          0.4496124031007752,
          0.1452420701168614,
          0.4496124031007752,
          0.145072536268134,
          0.1431980906921242,
          0.145072536268134,
          0.39799331103678937,
          0.46092184368737477,
          0.1431980906921242,
          0.1431980906921242,
          0.1431980906921242,
          0.1431980906921242,
          0.1431980906921242
         ],
         "xaxis": "x",
         "y": [
          11.29,
          0.99,
          0.99,
          4.99,
          4.99,
          4.99,
          4.99,
          4.99,
          3.99,
          3.99,
          0.99,
          3.99,
          3.99,
          3.99,
          3.99,
          3.99,
          9.99,
          0.99,
          0.99,
          0.99,
          5.99,
          3.99,
          5.99,
          4.99,
          4.99,
          4.49,
          4.49,
          4.99,
          4.99,
          4.99,
          4.99,
          4.49,
          4.99,
          4.99,
          4.99,
          4.99,
          4.99,
          4.99,
          4.99,
          4.99,
          4.99,
          4.99,
          0.99,
          4.99,
          4.99,
          4.99,
          5.99,
          4.49,
          4.49,
          3.99,
          3.99,
          2.99,
          2.99,
          2.99,
          3.99,
          3.99,
          2.99,
          3.99,
          3.99,
          7.99,
          5.99,
          7.49,
          15.99,
          15.99,
          1.99,
          15.99,
          15.99,
          15.99,
          15.99,
          21.99,
          5.35,
          4.29,
          4.29,
          4.49,
          6.49,
          6.49,
          6.49,
          6.49,
          6.49,
          6.49,
          6.49,
          12.99,
          12.99,
          3.99,
          3.99,
          3.99,
          3.99,
          1.99,
          3.99,
          4.29,
          3.99,
          4.29,
          4.29,
          3.99,
          4.99,
          3.39,
          4.99,
          4.49,
          2.99,
          29.99,
          5.99,
          5.99,
          5.99,
          3.49,
          3.49,
          3.49,
          3.49,
          2.99,
          3.49,
          3.49,
          2.99,
          31.49,
          15.79,
          22.49,
          10.99,
          10.99,
          3.49,
          3.49,
          3.49,
          3.49,
          2.99,
          2.99,
          11.79,
          11.79,
          11.79,
          24.99,
          2.99,
          2.99,
          2.99,
          2.99,
          2.99,
          2.99,
          2.99,
          2.99,
          2.99,
          2.99,
          2.99,
          2.99,
          3.99,
          2.99,
          7.99,
          7.99,
          2.99,
          3.49,
          3.49,
          3.69,
          4.99,
          4.99,
          4.99,
          4.99,
          4.99,
          4.99,
          4.99,
          4.99,
          4.99,
          4.99,
          4.99,
          4.99,
          4.99,
          4.99,
          4.99,
          4.99,
          4.99,
          4.49,
          4.99,
          4.99,
          4.99,
          4.49,
          4.49,
          4.49,
          3.69,
          14.99,
          14.99,
          2.49,
          2.49,
          2.49,
          3.99,
          2.49,
          3.99,
          2.49,
          2.49,
          2.49,
          2.49,
          2.49,
          24.99,
          14.99,
          3.59,
          4.49,
          4.49,
          4.49,
          4.49,
          4.99,
          5.49,
          3.99,
          3.69,
          1.29,
          3.69,
          3.69,
          3.69,
          3.69,
          4.19,
          3.69,
          4.19,
          11.79,
          4.19,
          2.99,
          2.99,
          2.99,
          4.19,
          2.99,
          4.19,
          2.99,
          4.19,
          4.19,
          2.99,
          5.79,
          1.29,
          6.99,
          6.99,
          3.49,
          6.49,
          3.49,
          1.29,
          10.49,
          3.49,
          5.69,
          4.19,
          3.49,
          3.99,
          3.49,
          3.49,
          2.79,
          2.79,
          2.79,
          5.69,
          10.49,
          4.19,
          10.49,
          2.99,
          4.19,
          4.19,
          4.19,
          2.99,
          4.99,
          4.99,
          4.19,
          4.99,
          4.99,
          1.29,
          1.29,
          1.29,
          5.99,
          1.29,
          19.99,
          4.19,
          19.99,
          2.99,
          4.99,
          4.19,
          4.19,
          4.19,
          4.19,
          4.19
         ],
         "yaxis": "y"
        },
        {
         "customdata": [
          [
           "Cream Cleanser, 3.3 fl oz",
           17.29,
           15.56
          ],
          [
           "Color Conserve Shampoo, 8.5 fl oz",
           7.29,
           6.56
          ],
          [
           "2chic Avacado & Olive Oil Conditioner, 24 fl oz",
           15.49,
           13.94
          ],
          [
           "2chic Keratin Argan Shampoo, 24 fl oz",
           15.49,
           13.94
          ],
          [
           "2chic Keratin Conditioner, 24 fl oz",
           15.49,
           13.94
          ],
          [
           "Lemon Creamy Cleanser, 6 fl oz",
           10.49,
           9.44
          ],
          [
           "Instant Brighten Facial Mask, 0.6 fl oz e",
           3.99,
           3.59
          ],
          [
           "Ultra Hyaluronic Eye Gel, 0.45 fl oz",
           22.99,
           20.69
          ],
          [
           "Tea Tree Triple Treat Conditioner, 8.5 fl oz",
           7.29,
           6.56
          ],
          [
           "Lavender Biotin Conditioner, 11.5 fl oz e",
           7.99,
           7.19
          ],
          [
           "Tahitian Gardenia Flower & Mango Butter Conditioner, 16 fl oz",
           7.99,
           7.19
          ],
          [
           "Air Turbo Charge Styling Mouss, 7 fl oz",
           6.79,
           6.11
          ],
          [
           "L.A. Natural Styling Gel, 6.8 fl oz",
           6.79,
           6.11
          ],
          [
           "Spritz L.a. Hold Hair, 5 fl oz",
           6.79,
           6.11
          ],
          [
           "Cream Happy Day Cannacell, 1.7 oz",
           15.99,
           14.39
          ],
          [
           "Age Defying Shampoo, 11.5 fl oz",
           7.99,
           7.19
          ],
          [
           "Sweet Orange Argan Conditioner, 11.5 fl oz",
           7.99,
           7.19
          ],
          [
           "Tea Tree Triple Treat Shampoo, 8.5 fl oz",
           7.29,
           6.56
          ],
          [
           "Tea Tree Triple Treat Shampoo, 8.5 fl oz",
           7.29,
           6.56
          ],
          [
           "Fruit Enzyme Cleanser, 4.2 fl oz",
           12.79,
           11.51
          ],
          [
           "Age Defying Conditioner, 11.5 fl oz",
           7.99,
           7.19
          ],
          [
           "Ultra Moist Avocado Olive Oil Shampoo, 8.5 fl oz",
           6.99,
           6.29
          ],
          [
           "Matcha Green Tea & Wild Apple Blossom Conditioner, 16 fl oz",
           7.99,
           7.19
          ],
          [
           "2chic Avocado & Olive Oil Shampoo, 24 fl oz",
           15.49,
           13.94
          ],
          [
           "Fruit Stem Cell Rivitalize Serum, 1 each",
           19.99,
           17.99
          ],
          [
           "Lavender Biotin Shampoo, 11.5 fl oz",
           7.99,
           7.19
          ],
          [
           "Sweet Orange Argan Shampoo, 11.5 fl oz",
           7.99,
           7.19
          ],
          [
           "Perfecting Cream, 1 each",
           17.99,
           16.19
          ],
          [
           "Lip Butter Skin Food, 0.27 fl oz e",
           5.29,
           4.76
          ],
          [
           "Rosehip Oil, 1 each",
           33.49,
           30.14
          ],
          [
           "50/50 Balanced Hydrating Calming Conditioner, 8.5 fl oz",
           7.29,
           6.56
          ],
          [
           "Instant Lift & Firm Facial Mask, 0.6 fl oz e",
           3.99,
           3.59
          ],
          [
           "Smooth Silk Travel Conditioner, 8.5 fl oz",
           7.29,
           6.56
          ],
          [
           "1000 Roses Shampoo, 11.5 fl oz e",
           7.99,
           7.19
          ],
          [
           "Supreme Polypeptide Cream, 1 each",
           42.99,
           38.69
          ],
          [
           "Activated Bamboo Charcoal & Purple Moonstone Conditioner, 16 fl oz",
           7.99,
           7.19
          ],
          [
           "Lavender Seaweed Argan Shampoo, 12 fl oz",
           11.49,
           10.34
          ],
          [
           "Ultra Moist Conditioner, 8.5 fl oz",
           6.99,
           6.29
          ],
          [
           "Probiotic Cleansing Milk, 6 fl oz",
           10.49,
           9.44
          ],
          [
           "Organic Rosehip Oil, 0.67 fl oz",
           18.79,
           16.91
          ],
          [
           "Cream Dreamy Night Cannacell, 1.7 oz",
           15.99,
           14.39
          ],
          [
           "Probiotic Renewal Cream, 1 each",
           19.99,
           17.99
          ],
          [
           "1000 Roses Heavenly Night Cream",
           19.99,
           17.99
          ],
          [
           "Hyaluronic Dmae Lift & Firm Cream, 1 each",
           19.99,
           17.99
          ],
          [
           "Night Repair Cream, 1 each",
           19.99,
           17.99
          ]
         ],
         "hovertemplate": "category=beauty<br>Prime Discount by Percent=%{x}<br>Regular Prices of Products=%{y}<br>product=%{customdata[0]}<br>sale=%{customdata[1]}<br>prime=%{customdata[2]}<extra></extra>",
         "legendgroup": "beauty",
         "marker": {
          "color": "#EF553B",
          "symbol": "circle"
         },
         "mode": "markers",
         "name": "beauty",
         "showlegend": true,
         "type": "scattergl",
         "x": [
          0.3231839930404523,
          0.27030033370411577,
          0.30265132566283137,
          0.30265132566283137,
          0.30265132566283137,
          0.2732871439568899,
          0.28056112224448904,
          0.28630562262849246,
          0.32992849846782424,
          0.2802802802802803,
          0.23429179978700743,
          0.28032979976442873,
          0.28032979976442873,
          0.28032979976442873,
          0.2801400700350174,
          0.2802802802802803,
          0.2802802802802803,
          0.27030033370411577,
          0.27030033370411577,
          0.2801751094434022,
          0.2802802802802803,
          0.2761795166858457,
          0.23429179978700743,
          0.30265132566283137,
          0.2801120448179272,
          0.2802802802802803,
          0.2802802802802803,
          0.3521408563425369,
          0.31902718168812594,
          0.33007334963325186,
          0.32992849846782424,
          0.28056112224448904,
          0.32992849846782424,
          0.2802802802802803,
          0.2766872312581792,
          0.23429179978700743,
          0.25018129079042783,
          0.2761795166858457,
          0.2732871439568899,
          0.32332933173269307,
          0.2801400700350174,
          0.2801120448179272,
          0.2801120448179272,
          0.2801120448179272,
          0.2801120448179272
         ],
         "xaxis": "x",
         "y": [
          22.99,
          8.99,
          19.99,
          19.99,
          19.99,
          12.99,
          4.99,
          28.99,
          9.79,
          9.99,
          9.39,
          8.49,
          8.49,
          8.49,
          19.99,
          9.99,
          9.99,
          8.99,
          8.99,
          15.99,
          9.99,
          8.69,
          9.39,
          19.99,
          24.99,
          9.99,
          9.99,
          24.99,
          6.99,
          44.99,
          9.79,
          4.99,
          9.79,
          9.99,
          53.49,
          9.39,
          13.79,
          8.69,
          12.99,
          24.99,
          19.99,
          24.99,
          24.99,
          24.99,
          24.99
         ],
         "yaxis": "y"
        },
        {
         "customdata": [
          [
           "Childrens Gel Toothpaste, 5 oz",
           5.69,
           5.12
          ],
          [
           "Basil Liquid Hand Soap Refill, 33 fl oz",
           6.99,
           6.29
          ],
          [
           "Silky Soft Totz Toothbrush, 1 each",
           2.79,
           2.51
          ],
          [
           "Lavender Essential Oil, 2 fl oz",
           27.99,
           25.19
          ],
          [
           "Vanilla In Jojoba Oil, 0.5 fl oz",
           18.49,
           16.64
          ],
          [
           "Organic Ylang Ylang, 0.25 fl oz",
           8.79,
           7.91
          ],
          [
           "Eucalyptus Essential Oil, 2 fl oz",
           15.49,
           13.94
          ],
          [
           "Rosemary Essential Oil, 0.5 fl oz",
           5.69,
           5.12
          ],
          [
           "Skin Food, 1 each",
           9.99,
           8.99
          ],
          [
           "Manuka, 0.5 fl oz",
           32.49,
           29.24
          ],
          [
           "Turmeric Extract, 0.5 fl oz",
           19.49,
           17.54
          ],
          [
           "Purifying Detox Facial Bar, 3.75 oz",
           5.69,
           5.12
          ],
          [
           "Powersmile Toothpaste, 5 oz",
           5.69,
           5.12
          ],
          [
           "Spearmint Toothpaste, 5 oz",
           5.69,
           5.12
          ],
          [
           "Whitening Plus Mouthwash, 16 fl oz",
           6.29,
           5.66
          ],
          [
           "Light Nourishing Cream Skin Food, 1 fl oz e",
           9.99,
           8.99
          ],
          [
           "Lemon Liquid Hand Soap Refill, 33 fl oz",
           6.99,
           6.29
          ],
          [
           "Honeysuckle Liquid Hand Soap, 12.5 fl oz",
           3.99,
           3.59
          ],
          [
           "Frankincense Essential Oil, 0.5 fl oz",
           19.49,
           17.54
          ],
          [
           "Balsam Fir Needle Essential Oil, 0.5 fl oz",
           10.29,
           9.26
          ],
          [
           "Jasmine Absolute In Jojoba Oil, 0.5 fl oz",
           12.49,
           11.24
          ],
          [
           "Frankincense In Jojoba Oil, 0.5 fl oz",
           10.29,
           9.26
          ],
          [
           "Light Nourishing Cream Skin Food, 2.5 fl oz",
           15.29,
           13.76
          ],
          [
           "Skin Food, 2.5 fl oz",
           15.29,
           13.76
          ],
          [
           "Lavender Liquid Hand Soap, 12.5 fl oz",
           3.99,
           3.59
          ],
          [
           "Lavender Harvest Essential Oil, 0.5 fl oz",
           8.69,
           7.82
          ],
          [
           "Organic Cinnamon Leaf Essential Oil, 0.25 fl oz",
           4.99,
           4.49
          ],
          [
           "Ylang Ylang Essential Oil, 0.5 fl oz",
           11.79,
           10.61
          ],
          [
           "Lavender Essential Oil, 0.5 fl oz",
           10.29,
           9.26
          ],
          [
           "Lavender Liquid Hand Soap Refill, 33 fl oz",
           6.99,
           6.29
          ],
          [
           "Dental Floss Smart Floss 30yd",
           3.79,
           3.41
          ],
          [
           "Geranium Liquid Hand Soap Refill, 33 fl oz",
           6.99,
           6.29
          ],
          [
           "Discover Relaxation Kit 4pk, 0.25 fl oz",
           15.79,
           14.21
          ],
          [
           "Sandalwood In Jojoba Oil, 0.5 fl oz",
           11.49,
           10.34
          ],
          [
           "Lavender Thyme Refreshing Body Lotion, 8 fl oz",
           7.69,
           6.92
          ],
          [
           "1000 Roses Soothing Body Lotion, 8 fl oz",
           7.69,
           6.92
          ],
          [
           "Lemon Verbena Liquid Hand Soap, 12.5 fl oz",
           3.99,
           3.59
          ],
          [
           "Rainwater Liquid Hand Soap, 12.5 fl oz",
           3.99,
           3.59
          ],
          [
           "Geranium Liquid Hand Soap, 12.5 fl oz",
           3.99,
           3.59
          ],
          [
           "Tea Tree Essential Oil, 2 fl oz",
           19.29,
           17.36
          ],
          [
           "Organic Distilled Lime Essential Oil, 0.25 fl oz",
           5.99,
           5.39
          ],
          [
           "Organic Eucalyptus Essential Oil, 0.25 fl oz",
           7.29,
           6.56
          ],
          [
           "Bergamot Essential Oil, 0.5 fl oz",
           11.49,
           10.34
          ],
          [
           "Sweet Peppermint, 0.5 fl oz",
           7.29,
           6.56
          ],
          [
           "Lavender Shea Hand Cream, 3.4 fl oz",
           7.39,
           6.65
          ],
          [
           "Organic Almond Soap, 16 fl oz",
           9.99,
           8.99
          ],
          [
           "Lavender Soap, 16 fl oz",
           9.99,
           8.99
          ],
          [
           "Peppermint Soap, 16 fl oz",
           9.99,
           8.99
          ],
          [
           "Get Started Cannacell Kit",
           12.99,
           11.69
          ],
          [
           "Organic Peppermint Essential Oil, 0.25 fl oz",
           8.79,
           7.91
          ],
          [
           "Organic Jojoba Oil, 4 fl oz",
           12.29,
           11.06
          ],
          [
           "Soft Tour Travel Toothbrush, 1 each",
           4.69,
           4.22
          ],
          [
           "Rose Otto In Jojoba Oil, 0.5 fl oz",
           13.29,
           11.96
          ],
          [
           "Peppermint White Cmplte Care Toothpaste, 5.29 oz",
           4.49,
           4.04
          ],
          [
           "Mint Whitening Complete Care Toothpaste, 5.29 oz",
           4.49,
           4.04
          ],
          [
           "Peppermint Complete Care Toothpaste, 5.29 oz",
           4.49,
           4.04
          ],
          [
           "Apricot Body Wash, 30 fl oz",
           8.49,
           7.64
          ],
          [
           "Organic Lemon Eucalyptus Essential Oil, 0.25 fl oz",
           4.79,
           4.31
          ],
          [
           "Body Wash Cannabis Sativa Seed Oil, 30 fl oz",
           8.49,
           7.64
          ],
          [
           "Powersmile Plus Coq10 Gel Toothpaste, 6 oz",
           4.29,
           3.86
          ],
          [
           "Organic Tea Tree Liquid Soap, 16 fl oz",
           9.99,
           8.99
          ],
          [
           "Aloe Vera Body Wash, 30 fl oz",
           8.49,
           7.64
          ],
          [
           "Snap-on Toothbrush Protection, 600 mg",
           5.29,
           4.76
          ],
          [
           "Honeysuckle Hand Cream, 1.7 fl oz",
           5.39,
           4.85
          ],
          [
           "Lavender Body Lotion, 32 oz",
           16.29,
           14.66
          ],
          [
           "Wildly Natral Seaweed Unscented Body Cream, 6 fl oz",
           10.99,
           9.89
          ],
          [
           "Passionfruit Shea Butter, 11 oz",
           10.99,
           9.89
          ],
          [
           "Eucalyptus/peppermint Body Wash, 12 fl oz",
           10.99,
           9.89
          ],
          [
           "Tea Tree Mint Toothpaste, 6.25 oz",
           3.79,
           3.41
          ],
          [
           "Aloe Unscented Body Lotion, 32 oz",
           16.29,
           14.66
          ],
          [
           "Wintergreen Tea Tree Toothpaste, 6.25 oz",
           3.79,
           3.41
          ],
          [
           "Whitening Plus Toothpaste, 6.25 oz",
           3.79,
           3.41
          ],
          [
           "Ultra Care Mint Tea Tree Toothpaste, 6.25 oz",
           3.79,
           3.41
          ],
          [
           "Awake Body Wash, 12 fl oz",
           13.49,
           12.14
          ],
          [
           "Calm Body Cream, 6 fl oz",
           13.49,
           12.14
          ],
          [
           "Awaken Detox Scrub, 6 fl oz",
           13.49,
           12.14
          ],
          [
           "Revitalizing Body Wash With Matcha & Vitamin C, 12 fl oz",
           13.49,
           12.14
          ],
          [
           "Unscented Shea Butter, 11 oz",
           10.99,
           9.89
          ],
          [
           "Detox Cellulite Cream, 6 fl oz",
           13.49,
           12.14
          ],
          [
           "Tea Tree Oil, 2 fl oz",
           13.79,
           12.41
          ],
          [
           "Smoothing Coconut Body Wash, 30 fl oz",
           8.49,
           7.64
          ],
          [
           "Tea Tree Body Wash, 30 fl oz",
           8.49,
           7.64
          ],
          [
           "Power Smile Powerful Peppermint Whitening Paste, 3 oz",
           2.49,
           2.24
          ],
          [
           "Sea Salt Cool Mint Mouthwash, 16 fl oz",
           5.39,
           4.85
          ],
          [
           "Oat Blossom Hand Lotion, 12 fl oz",
           5.39,
           4.85
          ],
          [
           "Eucalyptus Essential Oil, 0.5 fl oz",
           5.39,
           4.85
          ],
          [
           "Sea Salt Hand & Body Lotion, 5 fl oz",
           7.29,
           6.56
          ],
          [
           "Lavender Scent Hand Lotion, 12 fl oz",
           5.39,
           4.85
          ],
          [
           "Pine Essential Oil, 0.5 fl oz",
           5.99,
           5.39
          ],
          [
           "Coconut Body Lotion, 32 fl oz",
           10.29,
           9.26
          ],
          [
           "Citrus Satin Body Wash, 30 fl oz",
           8.49,
           7.64
          ],
          [
           "Unscented Body Lotion, 32 fl oz",
           10.29,
           9.26
          ],
          [
           "Tongue Cleaner, 1 each",
           5.99,
           5.39
          ],
          [
           "Coconut Lime Body Lotion, 32 fl oz",
           10.29,
           9.26
          ],
          [
           "Lavender Body Lotion, 32 fl oz",
           10.29,
           9.26
          ],
          [
           "Rain Water Hand Lotion, 12 fl oz",
           5.39,
           4.85
          ],
          [
           "Powersmile Peppermint Toothpaste, 6 oz",
           4.29,
           3.86
          ],
          [
           "Silly Strawberry Fluoride Free Toothpaste, 6 oz",
           4.29,
           3.86
          ],
          [
           "Sea Fresh Plus Coq10 Gel Toothpaste, 6 oz",
           4.29,
           3.86
          ],
          [
           "Lavender Shea Bubble Bath, 32 fl oz",
           10.29,
           9.26
          ],
          [
           "Healthy Mouth Mouthwash, 16 fl oz",
           5.39,
           4.85
          ],
          [
           "Basil Liquid Hand Soap, 12.5 fl oz",
           3.99,
           3.59
          ],
          [
           "Tea Tree Essential Oil, 0.5 fl oz",
           7.29,
           6.56
          ],
          [
           "Glycerin Rosewater Body Wash, 30 fl oz",
           8.49,
           7.64
          ],
          [
           "Lavender Body Wash, 30 fl oz",
           8.49,
           7.64
          ],
          [
           "Himalayan Pink Salt, 30 fl oz",
           8.49,
           7.64
          ],
          [
           "Sweet Orange Certified Organic Essential Oil, 0.25 fl oz",
           4.79,
           4.31
          ],
          [
           "3% Ups Food Grade Hydrogen Peroxide, 16 fl oz",
           8.79,
           7.91
          ],
          [
           "Mouthwash Organic, 16 fl oz",
           12.79,
           11.51
          ],
          [
           "Wild Lavender Whipped Shea Butter & Coconut Oil, 4 oz",
           12.79,
           11.51
          ],
          [
           "Unscented Whipped Shea Butter and Coconut Oil, 4 oz",
           12.79,
           11.51
          ],
          [
           "Big Brush Head Replacement 2 Count, 1 each",
           7.29,
           6.56
          ],
          [
           "Organic Wintergreen Brushing Rinse, 16 fl oz",
           12.79,
           11.51
          ],
          [
           "Myrrh In Jojoba Oil, 0.5 fl oz",
           8.79,
           7.91
          ]
         ],
         "hovertemplate": "category=body_care<br>Prime Discount by Percent=%{x}<br>Regular Prices of Products=%{y}<br>product=%{customdata[0]}<br>sale=%{customdata[1]}<br>prime=%{customdata[2]}<extra></extra>",
         "legendgroup": "body_care",
         "marker": {
          "color": "#00cc96",
          "symbol": "circle"
         },
         "mode": "markers",
         "name": "body_care",
         "showlegend": true,
         "type": "scattergl",
         "x": [
          0.2675250357653791,
          0.1820546163849155,
          0.3197831978319784,
          0.3190051365233847,
          0.2762070465419747,
          0.28025477707006374,
          0.28476141611082606,
          0.2675250357653791,
          0.28022417934347477,
          0.28491073612130113,
          0.28085280852808536,
          0.2675250357653791,
          0.2675250357653791,
          0.2675250357653791,
          0.22359396433470502,
          0.28022417934347477,
          0.1820546163849155,
          0.1822323462414578,
          0.28378930175581873,
          0.2759968725566849,
          0.2881570614312856,
          0.2759968725566849,
          0.2754081095313322,
          0.2754081095313322,
          0.1822323462414578,
          0.2752548656163113,
          0.29733959311424096,
          0.2826233941852603,
          0.21458863443596266,
          0.1820546163849155,
          0.27292110874200426,
          0.1820546163849155,
          0.27090815802975876,
          0.2864044168391995,
          0.2708113804004215,
          0.2708113804004215,
          0.1822323462414578,
          0.1822323462414578,
          0.1822323462414578,
          0.27636515214672774,
          0.27063599458728016,
          0.27030033370411577,
          0.2864044168391995,
          0.27030033370411577,
          0.3207354443309498,
          0.33358042994810966,
          0.33358042994810966,
          0.33358042994810966,
          0.3316180674671241,
          0.24594852240228793,
          0.23671497584541057,
          0.329093799682035,
          0.32771219786396844,
          0.325542570951586,
          0.325542570951586,
          0.325542570951586,
          0.23523523523523526,
          0.28046744574290494,
          0.23523523523523526,
          0.22645290581162325,
          0.33358042994810966,
          0.23523523523523526,
          0.2432432432432433,
          0.24100156494522695,
          0.1521110468478889,
          0.23864511162432633,
          0.23864511162432633,
          0.23864511162432633,
          0.24053452115812923,
          0.1521110468478889,
          0.24053452115812923,
          0.24053452115812923,
          0.24053452115812923,
          0.24077548467792365,
          0.24077548467792365,
          0.24077548467792365,
          0.24077548467792365,
          0.23864511162432633,
          0.24077548467792365,
          0.23818293431553095,
          0.23523523523523526,
          0.23523523523523526,
          0.25083612040133774,
          0.22893481717011133,
          0.1903171953255427,
          0.25269645608628666,
          0.2536973833902161,
          0.1903171953255427,
          0.22889842632331914,
          0.22768974145120935,
          0.23523523523523526,
          0.22768974145120935,
          0.2606310013717421,
          0.22768974145120935,
          0.22768974145120935,
          0.1903171953255427,
          0.22645290581162325,
          0.22645290581162325,
          0.22645290581162325,
          0.22768974145120935,
          0.22893481717011133,
          0.1822323462414578,
          0.20868516284680338,
          0.23523523523523526,
          0.23523523523523526,
          0.23523523523523526,
          0.28046744574290494,
          0.23129251700680264,
          0.23215476984656436,
          0.23215476984656436,
          0.23215476984656436,
          0.32301341589267285,
          0.23215476984656436,
          0.38154808444096944
         ],
         "xaxis": "x",
         "y": [
          6.99,
          7.69,
          3.69,
          36.99,
          22.99,
          10.99,
          19.49,
          6.99,
          12.49,
          40.89,
          24.39,
          6.99,
          6.99,
          6.99,
          7.29,
          12.49,
          7.69,
          4.39,
          24.49,
          12.79,
          15.79,
          12.79,
          18.99,
          18.99,
          4.39,
          10.79,
          6.39,
          14.79,
          11.79,
          7.69,
          4.69,
          7.69,
          19.49,
          14.49,
          9.49,
          9.49,
          4.39,
          4.39,
          4.39,
          23.99,
          7.39,
          8.99,
          14.49,
          8.99,
          9.79,
          13.49,
          13.49,
          13.49,
          17.49,
          10.49,
          14.49,
          6.29,
          17.79,
          5.99,
          5.99,
          5.99,
          9.99,
          5.99,
          9.99,
          4.99,
          13.49,
          9.99,
          6.29,
          6.39,
          17.29,
          12.99,
          12.99,
          12.99,
          4.49,
          17.29,
          4.49,
          4.49,
          4.49,
          15.99,
          15.99,
          15.99,
          15.99,
          12.99,
          15.99,
          16.29,
          9.99,
          9.99,
          2.99,
          6.29,
          5.99,
          6.49,
          8.79,
          5.99,
          6.99,
          11.99,
          9.99,
          11.99,
          7.29,
          11.99,
          11.99,
          5.99,
          4.99,
          4.99,
          4.99,
          11.99,
          6.29,
          4.39,
          8.29,
          9.99,
          9.99,
          9.99,
          5.99,
          10.29,
          14.99,
          14.99,
          14.99,
          9.69,
          14.99,
          12.79
         ],
         "yaxis": "y"
        },
        {
         "customdata": [
          [
           "Turtle Dandy, 10 oz",
           8.99,
           8.09
          ],
          [
           "Pecan Dandy Bars, 9 oz",
           8.99,
           8.09
          ],
          [
           "Organic Chocolate Chip Brownie Snaps, 3.35 oz",
           3.99,
           3.59
          ],
          [
           "Organic Peanut Butter Brownie Snaps, 3.35 oz",
           3.99,
           3.59
          ],
          [
           "Gluten Free Double Chocolate Muffins 6pk, 5 oz",
           4.49,
           4.04
          ],
          [
           "Gluten Free Lemon Poppy Muffins 6pk, 5 oz",
           4.49,
           4.04
          ],
          [
           "Pumpkin Pie Slice",
           2,
           1.8
          ],
          [
           "Snickerdoodle Mini Cookies, 2 oz",
           3,
           2.7
          ],
          [
           "Gluten Free Coffee Cake Muffin 6pk, 5.3 oz",
           4.49,
           4.04
          ],
          [
           "Confetti Cookies, 6 oz",
           3.99,
           3.59
          ],
          [
           "Chocolate Brownie Sweet Thins, 4.25 oz",
           3.99,
           3.59
          ],
          [
           "Tortilla Cauliflower, 7 oz",
           5.69,
           5.12
          ],
          [
           "100% Whole Wheat, 22 oz",
           4.99,
           4.49
          ],
          [
           "Mint Slims Cookies, 7 oz",
           4.49,
           4.04
          ],
          [
           "Thin Sprouted Grains Thin Sliced, 20.5 ounce",
           2.79,
           2.51
          ],
          [
           "Organic Thin-sliced 21 Whole Grains And Seeds Bread, 20.5 oz",
           2.79,
           2.51
          ],
          [
           "Organic Good Seed Thin-sliced Bread, 20.5 oz",
           2.79,
           2.51
          ],
          [
           "Fiber Rich Whole Wheat Tortillas, 7.9 oz",
           2.49,
           2.24
          ],
          [
           "Organic Cinnamon Raisin Remix Bagel, 16.75 oz",
           2.69,
           2.42
          ],
          [
           "Organic Epic Everything Bagel, 16.75 oz",
           2.69,
           2.42
          ],
          [
           "Birthday Cake Cookies, 10.6 oz",
           4.29,
           3.86
          ],
          [
           "Organic Plain Awesome Bagel, 16.75 oz",
           2.69,
           2.42
          ],
          [
           "Organic Berry Bloomin Bagels, 16.75 oz",
           2.69,
           2.42
          ],
          [
           "Organic Killer Classic English Muffins 6ct, 13.2 oz",
           2.79,
           2.51
          ],
          [
           "Organic Powerseed Bread, 25 oz",
           3.19,
           2.87
          ],
          [
           "Organic Burger Buns Done Right Buns, 17.6 oz",
           3.19,
           2.87
          ],
          [
           "Organic Good Seed Bread, 27 oz",
           3.19,
           2.87
          ],
          [
           "Organic White Bread Done Right, 24 oz",
           3.19,
           2.87
          ],
          [
           "Organic Vanilla Coconut Macaroons, 6 oz",
           4.99,
           4.49
          ],
          [
           "Organic 21 Whole Grains And Seeds Bread, 27 oz",
           3.19,
           2.87
          ],
          [
           "Organic Raisin The Roof Bread, 18 oz",
           3.19,
           2.87
          ],
          [
           "Dutch Caramel & Vanilla Wafel Cookies, 4.64 oz",
           2.99,
           2.69
          ],
          [
           "Organic Peanut Butter Coconut Cookie, 6 oz",
           4.99,
           4.49
          ],
          [
           "Gluten Free Brioche Burger Buns, 9.9 oz",
           5.29,
           4.76
          ],
          [
           "Organic Dark Cacao Macaroons, 6 oz",
           4.99,
           4.49
          ],
          [
           "Organic 21 Grain Burger Buns, 17.6 oz",
           3.19,
           2.87
          ],
          [
           "Fudge Striped Cookies, 7 oz",
           4.49,
           4.04
          ],
          [
           "Glazed Chocolate Donut 6 Count",
           5,
           4.5
          ],
          [
           "Organic Rockin' Grains English Muffins 6ct, 13.2 oz",
           2.79,
           2.51
          ],
          [
           "Gluten Free Sourdough, 18 oz",
           5.29,
           4.76
          ],
          [
           "Pumpkin Pie Half",
           4.99,
           4.49
          ],
          [
           "Honey Sweet Wheat, 22 oz",
           4.99,
           4.49
          ],
          [
           "White Flour Tortillas, 13.5 oz",
           3.39,
           3.05
          ],
          [
           "Original Vegan Bagels, 15.87 oz",
           6.99,
           6.29
          ],
          [
           "Cake Berry Chantilly 8in, 10 slice",
           30,
           27
          ],
          [
           "Quinoa Flour Tortillas 6ct, 9.1 oz",
           3.39,
           3.05
          ],
          [
           "Whole Grain White English Muffin, 12 oz",
           4.49,
           4.04
          ],
          [
           "Pumpkin Pie",
           9.99,
           8.99
          ]
         ],
         "hovertemplate": "category=bread_rolls_bakery<br>Prime Discount by Percent=%{x}<br>Regular Prices of Products=%{y}<br>product=%{customdata[0]}<br>sale=%{customdata[1]}<br>prime=%{customdata[2]}<extra></extra>",
         "legendgroup": "bread_rolls_bakery",
         "marker": {
          "color": "#ab63fa",
          "symbol": "circle"
         },
         "mode": "markers",
         "name": "bread_rolls_bakery",
         "showlegend": true,
         "type": "scattergl",
         "x": [
          0.19019019019019023,
          0.19019019019019023,
          0.28056112224448904,
          0.28056112224448904,
          0.19038076152304617,
          0.19038076152304617,
          0.4,
          0.4243070362473348,
          0.19038076152304617,
          0.20044543429844108,
          0.28056112224448904,
          0.1452420701168614,
          0.28616852146263905,
          0.2641165755919854,
          0.5428051001821494,
          0.5428051001821494,
          0.5428051001821494,
          0.25083612040133774,
          0.5425330812854443,
          0.5425330812854443,
          0.14031180400890875,
          0.5425330812854443,
          0.5425330812854443,
          0.5428051001821494,
          0.5363489499192245,
          0.5363489499192245,
          0.5363489499192245,
          0.5363489499192245,
          0.25041736227045075,
          0.5363489499192245,
          0.5363489499192245,
          0.46092184368737477,
          0.25041736227045075,
          0.23101777059773843,
          0.25041736227045075,
          0.5363489499192245,
          0.2641165755919854,
          0.25,
          0.5428051001821494,
          0.2432432432432433,
          0.3576537911301859,
          0.28616852146263905,
          0.28904428904428914,
          0.30033370411568405,
          0.18181818181818177,
          0.17344173441734423,
          0.3677621283255086,
          0.3079291762894534
         ],
         "xaxis": "x",
         "y": [
          9.99,
          9.99,
          4.99,
          4.99,
          4.99,
          4.99,
          3,
          4.69,
          4.99,
          4.49,
          4.99,
          5.99,
          6.29,
          5.49,
          5.49,
          5.49,
          5.49,
          2.99,
          5.29,
          5.29,
          4.49,
          5.29,
          5.29,
          5.49,
          6.19,
          6.19,
          6.19,
          6.19,
          5.99,
          6.19,
          6.19,
          4.99,
          5.99,
          6.19,
          5.99,
          6.19,
          5.49,
          6,
          5.49,
          6.29,
          6.99,
          6.29,
          4.29,
          8.99,
          33,
          3.69,
          6.39,
          12.99
         ],
         "yaxis": "y"
        },
        {
         "customdata": [
          [
           "Kilaree Cheddar Cubes",
           10.99,
           9.89
          ],
          [
           "Chao Creamery Vegan Slices, Creamy Original, 7 oz",
           5.29,
           4.76
          ],
          [
           "Truffle Gouda",
           23.99,
           21.59
          ],
          [
           "Organic Dairy-Free Blueberry Cashewmilk Yogurt, 5.3 oz",
           1.5,
           1.35
          ],
          [
           "4% Plain Skyr Yogurt, 24 oz",
           5,
           4.5
          ],
          [
           "Organic Thick Cut Italian Blend, 6 oz",
           5.49,
           4.94
          ],
          [
           "Plain Skyr Yogurt, 24 oz",
           5,
           4.5
          ],
          [
           "0% Plain Skyr Yogurt, 24 oz",
           5,
           4.5
          ],
          [
           "Honey Whole Milk Icelandic Yogurt, 24 oz",
           5,
           4.5
          ],
          [
           "Just Egg, 12 fl oz",
           3.5,
           3.15
          ],
          [
           "0% Greek Yogurt Blended with Vanilla, 5.3 oz",
           1,
           0.9
          ],
          [
           "0% Greek Yogurt with Strawberry on the Bottom, 5.3 oz",
           1,
           0.9
          ],
          [
           "Snofrisk Spread With Dill, 4.4 oz",
           3.99,
           3.59
          ],
          [
           "Organic Dairy-Free Vanilla Bean Cashewmilk Yogurt, 5.3 ounce",
           1.5,
           1.35
          ],
          [
           "Organic Organic Strawberry Banana Smoothies (4 Pk), 1.5 pint",
           4.49,
           4.04
          ],
          [
           "Organic Strawberry Smoothie, 1.5 pint",
           4.49,
           4.04
          ],
          [
           "Organic Dairy-Free Strawberry Cashewmilk Yogurt, 5.3 oz",
           1.5,
           1.35
          ],
          [
           "Organic Super Chai Fuel, 12 fl oz",
           3.99,
           3.59
          ],
          [
           "Golden Milk, 4.3 oz",
           17.79,
           16.01
          ],
          [
           "Organic Lowfat Peach Kefir, 32 fl oz",
           3.99,
           3.59
          ],
          [
           "Snofrisk Spreadable Cream Cheese, 4.4 oz",
           3.99,
           3.59
          ],
          [
           "0% Greek Yogurt with Peach on the Bottom, 5.3 oz",
           1,
           0.9
          ],
          [
           "0% Greek Yogurt with Blueberry on the Bottom, 5.3 oz",
           1,
           0.9
          ],
          [
           "0% Greek Yogurt with Black Cherry on the Bottom, 5.3 oz",
           1,
           0.9
          ],
          [
           "0% Greek Yogurt with Raspberry on the Bottom, 5.3 oz",
           1,
           0.9
          ],
          [
           "Mahon",
           15.99,
           14.39
          ],
          [
           "Artisan Almond Milk Blueberry Yogurt, 5.3 oz",
           1.5,
           1.35
          ],
          [
           "Nonfat Plain Greek Yogurt, 5.3 oz",
           1,
           0.9
          ],
          [
           "Organic Wild Berry Smoothie, 0.5 pt",
           4.49,
           4.04
          ],
          [
           "Herb Chevre Fresh Goat Cheese, 4 oz",
           4.99,
           4.49
          ],
          [
           "Organic Cacao Essentials, 12 fl oz",
           3.99,
           3.59
          ],
          [
           "Strawberry Yogurt 4 Pack, 5.3 oz",
           4.5,
           4.05
          ],
          [
           "Whole Milk 1/64 Ounce, 0.5 gallon",
           4.49,
           4.04
          ],
          [
           "2% Reduced Fat Milk (Half Gallon), 0.5 gallon",
           4.49,
           4.04
          ],
          [
           "Original Probiotic Coconut Yogurt, 8 fl oz",
           7.99,
           7.19
          ],
          [
           "Organic Cacao Almond Milk, 11 fl oz",
           3,
           2.7
          ],
          [
           "Organic Vanilla Bean Almond Milk, 11 fl oz",
           3,
           2.7
          ],
          [
           "Organic Chai Spice Almond Milk, 11 fl oz",
           3,
           2.7
          ],
          [
           "Organic Matcha Green Tea Almond Milk, 11 fl oz",
           3,
           2.7
          ],
          [
           "Blueberry Whole Milk Yogurt Drink, 8 fl oz",
           1.6666666666666667,
           1.5
          ],
          [
           "Ciliegine Mozzarella di Bufala",
           7.99,
           7.19
          ],
          [
           "Strawberry Whole Milk Yogurt Drink, 8 fl oz",
           1.6666666666666667,
           1.5
          ],
          [
           "Strawberry Coconut Yogurt, 4.4 oz",
           2,
           1.8
          ],
          [
           "Vanilla Whole Milk Yogurt Drink, 8 fl oz",
           1.6666666666666667,
           1.5
          ],
          [
           "Original Coconut Yogurt, 4.4 oz",
           2,
           1.8
          ],
          [
           "Vanilla Coconut Yogurt, 4.4 oz",
           2,
           1.8
          ],
          [
           "0% Plain Filmjolk Drinkable Yogurt, 32 fl oz",
           3.49,
           3.14
          ],
          [
           "Raspberry Non-fat Drinkable Yogurt, 32 fl oz",
           3.49,
           3.14
          ],
          [
           "0% Vanilla Filmjolk Drinkable Yogurt, 32 fl oz",
           3.49,
           3.14
          ],
          [
           "Plain Sheep Milk Yogurt, 24 oz",
           8.79,
           7.91
          ],
          [
           "Fresh Veganmozz",
           6.99,
           6.29
          ],
          [
           "Miyoko's Kitchen Classic Double Cream Chive, 6.5 oz",
           7.99,
           7.19
          ],
          [
           "Organic Dairy-Free Sour Cream, 12 oz",
           3.29,
           2.96
          ],
          [
           "Organic 0% Fat Plain Greek Yogurt, 2 lb",
           5.99,
           5.39
          ],
          [
           "Organic Organic Plain Whole Milk Greek Yogurt, 1.9 lb",
           5.99,
           5.39
          ],
          [
           "Grass-Fed Kilaree Irish Cheddar (Aged 15 Months)",
           9.99,
           8.99
          ],
          [
           "Organic Matcha Oxidants, 12 fl oz",
           3.99,
           3.59
          ],
          [
           "Unsweetened Original Almond Milk",
           3.19,
           2.87
          ],
          [
           "Unsweetened Vanilla Almondmilk",
           3.19,
           2.87
          ],
          [
           "Key Lime Skyr, 5.3 oz",
           1.5,
           1.35
          ],
          [
           "Coconut Skyr, 5.3 oz",
           1.5,
           1.35
          ],
          [
           "Vanilla Plant Based Yogurt, 24 oz",
           5.99,
           5.39
          ],
          [
           "Vanilla Organic Protein Almondmilk, 32 fl oz",
           4.69,
           4.22
          ],
          [
           "Classic Chèvre Goat Cheese, 4 oz",
           4.99,
           4.49
          ],
          [
           "Unsweetened Vanilla Organic Protein Almondmilk, 32 fl oz",
           4.69,
           4.22
          ],
          [
           "Blueberry Pomegranate Oat Yogurt, 5.3 oz",
           1,
           0.9
          ],
          [
           "Himalayan Pink Salt Ghee Butter, 90 oz",
           9.99,
           8.99
          ],
          [
           "Turmeric Ghee, 9 oz",
           9.99,
           8.99
          ],
          [
           "Organic Plain Grassfed Greek Yogurt, 1.5 lb",
           5.99,
           5.39
          ],
          [
           "Organic Lowfat Plain Kefir, 32 fl oz",
           3.99,
           3.59
          ],
          [
           "Whole Plant Based Milk, 64 Fl Oz",
           3.99,
           3.59
          ],
          [
           "Organic Whole Milk Plain Kefir, 32 fl oz",
           3.99,
           3.59
          ],
          [
           "Vanilla Bean Ghee, 9 oz",
           9.99,
           8.99
          ],
          [
           "2% Plant Based Milk, 64 Fl Oz",
           3.99,
           3.59
          ],
          [
           "Buf Burrata, 4.4 oz",
           7.99,
           7.19
          ],
          [
           "Mozzarella Di Bufala Ovoline",
           7.99,
           7.19
          ],
          [
           "0% Vanilla Skyr Yogurt, 24 oz",
           5,
           4.5
          ],
          [
           "Organic Blue Oxidants, 12 fl oz",
           3.99,
           3.59
          ],
          [
           "Organic Finely Shredded Mild Cheddar Cheese, 6 oz",
           5.49,
           4.94
          ],
          [
           "Vanilla Grass Fed Greek Yogurt, 1.5 lb",
           5.99,
           5.39
          ],
          [
           "Organic Dairy-Free Blueberry Probiotic Drinkable Cashewmilk Yogurt, 28 fl oz",
           5.49,
           4.94
          ],
          [
           "Organic European Cultured Vegan Butter, 8 oz",
           5.49,
           4.94
          ],
          [
           "Peach Cloudberry Skyr, 5.3 oz",
           1.5,
           1.35
          ],
          [
           "Whole Coconut Smoothie, 10 fl oz",
           3.69,
           3.32
          ],
          [
           "Unsweetened Classic Organic Coconut Milk, 13.5 fl oz",
           2.79,
           2.51
          ],
          [
           "Flip Almond Coco Loco Greek Yogurt, 5.3 oz",
           1,
           0.9
          ],
          [
           "Organic Plainly Classic Cashew Cream Cheese, 8 oz",
           5.19,
           4.67
          ],
          [
           "Organic Whole Milk",
           4.99,
           4.49
          ],
          [
           "Madagascar Vanilla And Cinnamon Greek Yogurt, 5.3 oz",
           1,
           0.9
          ],
          [
           "Mocha Oat Milk Latte, 10.5 fl oz",
           2.79,
           2.51
          ],
          [
           "Organic Oat Milk Butter, 12 oz",
           5.19,
           4.67
          ],
          [
           "Plant Based Vanilla Cinnamon Yogurt, 5.3 oz",
           1.89,
           1.7
          ],
          [
           "Strawberry Complete Yogurt, 5.3 oz",
           1,
           0.9
          ],
          [
           "Classic Oat Milk Latte, 10.5 fl oz",
           2.79,
           2.51
          ],
          [
           "Vanilla Oat Milk Latte, 10.5 fl oz",
           2.79,
           2.51
          ],
          [
           "Organic Whole Milk",
           4.99,
           4.49
          ],
          [
           "Plant Based Coconut Blend Raspberry Yogurt, 5.3 oz",
           1.89,
           1.7
          ],
          [
           "Unsweetened Organic Coconut Cream, 5.4 fl oz",
           1.89,
           1.7
          ],
          [
           "Cooperative Sharp Light Natural Vermont Cheddar Cheese, 8 oz",
           2.99,
           2.69
          ],
          [
           "3 Chili Pepper Gouda",
           12.99,
           11.69
          ],
          [
           "Sharp Cheddar Bar, 8 oz",
           2.99,
           2.69
          ],
          [
           "Habanero Cheddar Cheese, 8 oz",
           2.99,
           2.69
          ],
          [
           "Dairy Free Sour Cream, 12 oz",
           2.99,
           2.69
          ],
          [
           "Flip S'more S'mores Greek Yogurt, 5.3 oz",
           1,
           0.9
          ],
          [
           "Organic Yokids Lowfat Strawberry Banana + Strawberry Yogurts, 1.5 lb",
           3.79,
           3.41
          ],
          [
           "Peach Plant Based Yogurt, 5.3 oz",
           1.89,
           1.7
          ],
          [
           "Fresh Mozzarella Cheese",
           8.99,
           8.09
          ],
          [
           "Yokids Very Berry Low-fat Yogurt Smoothie (6-pk), 1.16 pint",
           3.79,
           3.41
          ],
          [
           "Mixed Berry Complete Yogurt, 5.3 oz",
           1,
           0.9
          ],
          [
           "Artisan Almond Milk Ricotta, 8 oz",
           5.99,
           5.39
          ],
          [
           "Blueberry Walnut Skyr, 4.4 ounce",
           1.89,
           1.7
          ],
          [
           "Plant Based Mixed Berries Yogurt, 5.3 oz",
           1.89,
           1.7
          ],
          [
           "Cultured Farmhouse Cheddar Style Slices, 8 oz",
           4.99,
           4.49
          ],
          [
           "Plain Coconut Yogurt, 24 oz",
           6.99,
           6.29
          ],
          [
           "Vanilla Protein Yogurt, 5.3 oz",
           1.5,
           1.35
          ],
          [
           "Strawberry Lingonberry Thick & Creamy Skyr, 5.3 oz",
           1.5,
           1.35
          ],
          [
           "Original Ghee Oil, 5 fl oz",
           6.99,
           6.29
          ],
          [
           "Peach, Apricot Skyr, 4.4 ounce",
           1.5,
           1.35
          ],
          [
           "Organic Large Eggs, 12 eggs",
           4.29,
           3.86
          ],
          [
           "Organic Dairy-Free Strawberry Probiotic Drinkable Cashewmilk Yogurt, 28 fl oz",
           5.49,
           4.94
          ],
          [
           "Plant Based Coconut Blend Strawberry Yogurt, 5.3 oz",
           1.89,
           1.7
          ],
          [
           "Organic Organic Plain Whole Milk Yogurt, 2 lb",
           3.99,
           3.59
          ],
          [
           "Organic Plain Fat Free Yogurt, 2 lb",
           3.99,
           3.59
          ],
          [
           "Organic Unsalted Vegan Butter, 8 oz",
           5.49,
           4.94
          ],
          [
           "Organic Organic French Vanilla Whole Milk Yogurt (2 Lb)",
           3.99,
           3.59
          ],
          [
           "Coconut Plant Based Yogurt, 5.3 oz",
           1.89,
           1.7
          ],
          [
           "Organic Dairy-Free Mango Probiotic Drinkable Cashewmilk Yogurt, 28 fl oz",
           5.49,
           4.94
          ],
          [
           "Organic Dairy-Free Unsweetened Plain Probiotic Drinkable Cashewmilk Yogurt, 28 fl oz",
           5.49,
           4.94
          ],
          [
           "Organic Lowfat Plain Yogurt, 2 lb",
           3.99,
           3.59
          ],
          [
           "Strawberry Whole Milk Probiotic Yogurt, 2 lb",
           3.99,
           3.59
          ],
          [
           "Organic Low Fat Vanilla Yogurt, 2 lb",
           3.99,
           3.59
          ],
          [
           "Organic Mixed Berry Fruit Yogurt Smoothie, 4.2 oz",
           1.39,
           1.25
          ],
          [
           "Organic Garlic Parm Oat Milk Butter, 7 oz",
           5.19,
           4.67
          ],
          [
           "Blueberry Protein Yogurt, 5.3 oz",
           1.5,
           1.35
          ],
          [
           "Artisan Almond Milk Vanilla Yogurt, 5.3 oz",
           1.5,
           1.35
          ],
          [
           "Monterey Strawberry Less Sugar Greek Yogurt, 5.3 oz",
           1,
           0.9
          ],
          [
           "Strawberry Probiotic Lowfat Yogurt Protein Smoothie, 10 fl oz",
           1.5,
           1.35
          ],
          [
           "Wild Blueberry Greek Yogurt, 5.3 oz",
           1,
           0.9
          ],
          [
           "Artisan Almond Milk Strawberry Yogurt, 5.3 ounce",
           1.5,
           1.35
          ],
          [
           "Probiotic Peach Lowfat Yogurt Protein Smoothie, 10 fl oz",
           1.5,
           1.35
          ],
          [
           "Strawberry Banana Kids Yogurt Pouches, 3.5 oz",
           5,
           4.5
          ],
          [
           "Strawberry Almond Skyr, 4.4 ounce",
           1.5,
           1.35
          ],
          [
           "3 Year Gouda",
           17.99,
           16.19
          ],
          [
           "Blueberry Bilberry Skyr, 5.3 oz",
           1.5,
           1.35
          ],
          [
           "Vanilla Complete Yogurt, 5.3 oz",
           1,
           0.9
          ],
          [
           "Peach Complete Yogurt, 5.3 oz",
           1,
           0.9
          ],
          [
           "Organic Strawberry Kidstoppers Yogurt",
           5.49,
           4.94
          ],
          [
           "Style Shreds Mozzarella",
           3.49,
           3.14
          ],
          [
           "Seriously Sharp Cheddar Cheese, 8 oz",
           2.99,
           2.69
          ],
          [
           "Cheddar Style Sliced Cheese, 7.8 oz",
           3.49,
           3.14
          ],
          [
           "Kefir Cultured Whole Milk, 14 fl oz",
           3.99,
           3.59
          ],
          [
           "Maple Cream Top Yogurt, 2 lb",
           3.79,
           3.41
          ],
          [
           "Gorgonzola Piccante, 0.41 lb",
           16.99,
           15.29
          ],
          [
           "Black Cherry Skyr Yogurt, 5.3 oz",
           1.25,
           1.125
          ],
          [
           "Organic Wildberries Whole Milk Kefir, 32 fl oz",
           3.99,
           3.59
          ],
          [
           "Bel Gioioso Fresh Mozzarella Snacking Cheese, 1 each",
           3.99,
           3.59
          ],
          [
           "Emmentaler",
           16.99,
           15.29
          ],
          [
           "Organic Kefir Strawnana Probugs, 14 fluid ounce",
           3.99,
           3.59
          ],
          [
           "Triple Cream Vanilla Yogurt, 4 oz",
           1.25,
           1.125
          ],
          [
           "Cherry Vanilla Cream Top Yogurt (6 Oz), 5.3 oz",
           0.89,
           0.8
          ],
          [
           "Yokids Cherry / Berry Yogurt Squeezers (8-pk)",
           3.79,
           3.41
          ],
          [
           "Yobaby Plain Yogurt 6pk, 1.5 lb",
           3.79,
           3.41
          ],
          [
           "0% Blueberry Skyr Yogurt, 5.3 oz",
           1.25,
           1.125
          ],
          [
           "Style Shreds Cheddar, 7.1 oz",
           3.49,
           3.14
          ],
          [
           "Strawberry Whole Milk Yogurt, 5.3 oz",
           0.89,
           0.8
          ],
          [
           "2% Coconut Skyr Icelandic Low-Fat Strained Yogurt, 5.3 oz",
           1.25,
           1.125
          ],
          [
           "Mixed Berries Plant Based Yogurt, 5.3 oz",
           1.25,
           1.125
          ],
          [
           "Brebis Pyrenees, 0.16 lb",
           24.99,
           22.49
          ],
          [
           "Plain Imitation Cream Cheese, 8 oz",
           3.49,
           3.14
          ],
          [
           "Unsweetened Organic Coconut Milk, 13.5 fl oz",
           3,
           2.7
          ],
          [
           "Organic Oat & Seed Oatmilk, 28 fl oz",
           5.99,
           5.39
          ],
          [
           "0% Strawberry Skyr Yogurt, 5.3 oz",
           1.25,
           1.125
          ],
          [
           "Blueberry Yogurt 2%, 5.3 oz",
           1.25,
           1.125
          ],
          [
           "Organic Dairy-Free Nuts & Vanilla Protein Plant Shake, 12 fl oz",
           3.99,
           3.59
          ],
          [
           "Yobaby Blueberry / Apple Yogurt (6-pk), 1.5 lb",
           3.79,
           3.41
          ],
          [
           "Yokids Strawbana Low-fat Yogurt Smoothie (6-pk), 1.16 pt",
           3.79,
           3.41
          ],
          [
           "Organic Dairy-Free Blackberry Cultured Probiotic Plant Shake, 12 fl oz",
           3.99,
           3.59
          ],
          [
           "Vanilla Lower Sugar Yogurt, 5.3 oz",
           1.25,
           1.125
          ],
          [
           "Cranberry Cheddar Cheese",
           7.99,
           7.19
          ],
          [
           "Organic Dairy-Free Banana & Date Cultured Probiotic Plant Shake, 12 fl oz",
           3.99,
           3.59
          ],
          [
           "Yokids Blueberry / Strawberry Vanilla Low-fat Yogurt, 1.5 lb",
           3.79,
           3.41
          ],
          [
           "Organic Coconut Honey Whole Milk Kefir, 32 fl oz",
           3.99,
           3.59
          ],
          [
           "Lemon Triple Cream Skyr Yogurt, 4 oz",
           1.25,
           1.125
          ],
          [
           "Plain Cream Top Yogurt, 2 lb",
           3.79,
           3.41
          ],
          [
           "4% Mixed Berries Skyr Yogurt, 4.4 oz",
           1.25,
           1.125
          ],
          [
           "0% Plain Skyr Yogurt, 5.3 oz",
           1.25,
           1.125
          ],
          [
           "Blueberry Yoghurt, 8 oz",
           1.6,
           1.44
          ],
          [
           "Cultured Farmhouse Cheddar Style Shreds, 8 oz",
           4.99,
           4.49
          ],
          [
           "Yokids Strawberry Yogurt Squeezers",
           3.79,
           3.41
          ],
          [
           "Organic Strawberry Banana Yogurt Squeezers",
           3.79,
           3.41
          ],
          [
           "Peach Yoghurt, 8 oz",
           1.6,
           1.44
          ],
          [
           "Vanilla Protein Yogurt, 16 oz",
           4.49,
           4.04
          ],
          [
           "Raspberry Yoghurt, 8 ounce",
           1.6,
           1.44
          ],
          [
           "Vanilla Bean Yoghurt, 8 oz",
           1.6,
           1.44
          ],
          [
           "Lemon Yoghurt, 8 oz",
           1.6,
           1.44
          ],
          [
           "Organic Finely Shreeded Shredded Mexican Blend Cheese, 6 oz",
           5.49,
           4.94
          ],
          [
           "Vanilla Cream Top Yogurt, 5.3 oz",
           0.89,
           0.8
          ],
          [
           "Honey Yoghurt, 8 oz",
           1.6,
           1.44
          ],
          [
           "Coconut, Almond & Chocolate Yoghurt Mates, 5.8 oz",
           1.6,
           1.44
          ],
          [
           "Peach Cashew Yogurt, 5.3 oz",
           1.5,
           1.35
          ],
          [
           "Yobaby Peach / Pear Yogurt (6-pk)",
           3.79,
           3.41
          ],
          [
           "0% Mixed Berries & Acai Skyr Yogurt, 5.3 oz",
           1.25,
           1.125
          ],
          [
           "Maple Whole Milk Yogurt, 5.3 oz",
           0.89,
           0.8
          ],
          [
           "Strawberry Rhubarb Yoghurt, 8 oz",
           1.6,
           1.44
          ],
          [
           "Almond Milk Yogurt, 16 oz",
           4.49,
           4.04
          ],
          [
           "Coconut Yoghurt, 8 oz",
           1.6,
           1.44
          ],
          [
           "4% Vanilla Skyr Yogurt, 4.4 oz",
           1.25,
           1.125
          ],
          [
           "0% Peach Skyr Yogurt, 5.3 oz",
           1.25,
           1.125
          ],
          [
           "Plain Unsweetened Protein Yogurt, 16 oz",
           4.49,
           4.04
          ],
          [
           "Key Lime 2% Yogurt, 5.3 oz",
           1.25,
           1.125
          ],
          [
           "0% Vanilla Skyr Yogurt, 5.3 oz",
           1.25,
           1.125
          ]
         ],
         "hovertemplate": "category=dairy_eggs<br>Prime Discount by Percent=%{x}<br>Regular Prices of Products=%{y}<br>product=%{customdata[0]}<br>sale=%{customdata[1]}<br>prime=%{customdata[2]}<extra></extra>",
         "legendgroup": "dairy_eggs",
         "marker": {
          "color": "#FFA15A",
          "symbol": "circle"
         },
         "mode": "markers",
         "name": "dairy_eggs",
         "showlegend": true,
         "type": "scattergl",
         "x": [
          0.23864511162432633,
          0.13296903460837894,
          0.1360544217687074,
          0.24581005586592175,
          0.24874791318864775,
          0.23882896764252692,
          0.24874791318864775,
          0.24874791318864775,
          0.24874791318864775,
          0.2482100238663485,
          0.24369747899159655,
          0.24369747899159655,
          0.28056112224448904,
          0.24581005586592175,
          0.23629489603024578,
          0.23629489603024578,
          0.24581005586592175,
          0.20044543429844108,
          0.2372558361124344,
          0.28056112224448904,
          0.28056112224448904,
          0.24369747899159655,
          0.24369747899159655,
          0.24369747899159655,
          0.24369747899159655,
          0.15303119482048255,
          0.24581005586592175,
          0.24369747899159655,
          0.23629489603024578,
          0.25041736227045075,
          0.20044543429844108,
          0.2622950819672132,
          0.2641165755919854,
          0.2641165755919854,
          0.2802802802802803,
          0.22636103151862463,
          0.22636103151862463,
          0.22636103151862463,
          0.22636103151862463,
          0.20634920634920628,
          0.2802802802802803,
          0.20634920634920628,
          0.2139737991266375,
          0.20634920634920628,
          0.2139737991266375,
          0.2139737991266375,
          0.21303258145363413,
          0.21303258145363413,
          0.21303258145363413,
          0.20820820820820818,
          0.21276595744680848,
          0.20022246941045607,
          0.25814536340852134,
          0.22889842632331914,
          0.22889842632331914,
          0.25020850708924103,
          0.20044543429844108,
          0.20055710306406682,
          0.20055710306406682,
          0.20118343195266264,
          0.20118343195266264,
          0.28037383177570097,
          0.2022684310018904,
          0.25041736227045075,
          0.2022684310018904,
          0.4674556213017751,
          0.20372010628875103,
          0.20372010628875103,
          0.28037383177570097,
          0.25052192066805845,
          0.25052192066805845,
          0.25052192066805845,
          0.20372010628875103,
          0.25052192066805845,
          0.2802802802802803,
          0.2802802802802803,
          0.24874791318864775,
          0.20044543429844108,
          0.23882896764252692,
          0.3254067584480601,
          0.1752921535893155,
          0.1752921535893155,
          0.321608040201005,
          0.1679197994987469,
          0.1605351170568563,
          0.3525179856115107,
          0.14936247723132978,
          0.18214936247723135,
          0.3525179856115107,
          0.1605351170568563,
          0.14936247723132978,
          0.14572864321608037,
          0.3525179856115107,
          0.1605351170568563,
          0.1605351170568563,
          0.18214936247723135,
          0.14572864321608037,
          0.14572864321608037,
          0.3258145363408522,
          0.1644031451036455,
          0.3258145363408522,
          0.3258145363408522,
          0.15673981191222575,
          0.3525179856115107,
          0.14536340852130325,
          0.14572864321608037,
          0.19019019019019023,
          0.14536340852130325,
          0.3525179856115107,
          0.3254067584480601,
          0.14572864321608037,
          0.14572864321608037,
          0.15122873345935728,
          0.1820546163849155,
          0.321608040201005,
          0.321608040201005,
          0.30033370411568405,
          0.321608040201005,
          0.3216168717047453,
          0.1752921535893155,
          0.14572864321608037,
          0.1631701631701632,
          0.1631701631701632,
          0.1752921535893155,
          0.1631701631701632,
          0.14572864321608037,
          0.1752921535893155,
          0.1752921535893155,
          0.1631701631701632,
          0.1631701631701632,
          0.1631701631701632,
          0.1610738255033557,
          0.14936247723132978,
          0.321608040201005,
          0.2857142857142856,
          0.3525179856115107,
          0.321608040201005,
          0.3525179856115107,
          0.2857142857142856,
          0.321608040201005,
          0.180327868852459,
          0.321608040201005,
          0.14744602422327524,
          0.321608040201005,
          0.3525179856115107,
          0.3525179856115107,
          0.1752921535893155,
          0.3304904051172708,
          0.3258145363408522,
          0.3304904051172708,
          0.28056112224448904,
          0.14536340852130325,
          0.19483938915218535,
          0.33431952662721887,
          0.28056112224448904,
          0.28056112224448904,
          0.19483938915218535,
          0.28056112224448904,
          0.33431952662721887,
          0.19191919191919182,
          0.14536340852130325,
          0.14536340852130325,
          0.33431952662721887,
          0.3304904051172708,
          0.19191919191919182,
          0.33431952662721887,
          0.33431952662721887,
          0.19649874955341196,
          0.17150395778364114,
          0.1536050156739811,
          0.16949152542372892,
          0.33431952662721887,
          0.33431952662721887,
          0.28056112224448904,
          0.14536340852130325,
          0.14536340852130325,
          0.28056112224448904,
          0.33431952662721887,
          0.40033361134278567,
          0.28056112224448904,
          0.14536340852130325,
          0.28056112224448904,
          0.33431952662721887,
          0.14536340852130325,
          0.33431952662721887,
          0.33431952662721887,
          0.37117903930131013,
          0.15122873345935728,
          0.14536340852130325,
          0.14536340852130325,
          0.37117903930131013,
          0.19038076152304617,
          0.37117903930131013,
          0.37117903930131013,
          0.37117903930131013,
          0.23882896764252692,
          0.19191919191919182,
          0.37117903930131013,
          0.37117903930131013,
          0.321608040201005,
          0.14536340852130325,
          0.33431952662721887,
          0.19191919191919182,
          0.37117903930131013,
          0.19038076152304617,
          0.37117903930131013,
          0.33431952662721887,
          0.33431952662721887,
          0.19038076152304617,
          0.33431952662721887,
          0.33431952662721887
         ],
         "xaxis": "x",
         "y": [
          12.99,
          5.49,
          24.99,
          1.79,
          5.99,
          6.49,
          5.99,
          5.99,
          5.99,
          4.19,
          1.19,
          1.19,
          4.99,
          1.79,
          5.29,
          5.29,
          1.79,
          4.49,
          20.99,
          4.99,
          4.99,
          1.19,
          1.19,
          1.19,
          1.19,
          16.99,
          1.79,
          1.19,
          5.29,
          5.99,
          4.49,
          5.49,
          5.49,
          5.49,
          9.99,
          3.49,
          3.49,
          3.49,
          3.49,
          1.89,
          9.99,
          1.89,
          2.29,
          1.89,
          2.29,
          2.29,
          3.99,
          3.99,
          3.99,
          9.99,
          7.99,
          8.99,
          3.99,
          6.99,
          6.99,
          11.99,
          4.49,
          3.59,
          3.59,
          1.69,
          1.69,
          7.49,
          5.29,
          5.99,
          5.29,
          1.69,
          11.29,
          11.29,
          7.49,
          4.79,
          4.79,
          4.79,
          11.29,
          4.79,
          9.99,
          9.99,
          5.99,
          4.49,
          6.49,
          7.99,
          5.99,
          5.99,
          1.99,
          3.99,
          2.99,
          1.39,
          5.49,
          5.49,
          1.39,
          2.99,
          5.49,
          1.99,
          1.39,
          2.99,
          2.99,
          5.49,
          1.99,
          1.99,
          3.99,
          13.99,
          3.99,
          3.99,
          3.19,
          1.39,
          3.99,
          1.99,
          9.99,
          3.99,
          1.39,
          7.99,
          1.99,
          1.99,
          5.29,
          7.69,
          1.99,
          1.99,
          8.99,
          1.99,
          5.69,
          5.99,
          1.99,
          4.29,
          4.29,
          5.99,
          4.29,
          1.99,
          5.99,
          5.99,
          4.29,
          4.29,
          4.29,
          1.49,
          5.49,
          1.99,
          1.89,
          1.39,
          1.99,
          1.39,
          1.89,
          1.99,
          5.49,
          1.99,
          18.99,
          1.99,
          1.39,
          1.39,
          5.99,
          4.69,
          3.99,
          4.69,
          4.99,
          3.99,
          18.99,
          1.69,
          4.99,
          4.99,
          18.99,
          4.99,
          1.69,
          0.99,
          3.99,
          3.99,
          1.69,
          4.69,
          0.99,
          1.69,
          1.69,
          27.99,
          3.79,
          3.19,
          6.49,
          1.69,
          1.69,
          4.99,
          3.99,
          3.99,
          4.99,
          1.69,
          11.99,
          4.99,
          3.99,
          4.99,
          1.69,
          3.99,
          1.69,
          1.69,
          2.29,
          5.29,
          3.99,
          3.99,
          2.29,
          4.99,
          2.29,
          2.29,
          2.29,
          6.49,
          0.99,
          2.29,
          2.29,
          1.99,
          3.99,
          1.69,
          0.99,
          2.29,
          4.99,
          2.29,
          1.69,
          1.69,
          4.99,
          1.69,
          1.69
         ],
         "yaxis": "y"
        },
        {
         "customdata": [
          [
           "Gluten Free Lemon Poppy Muffins 6pk, 5 oz",
           4.49,
           4.04
          ],
          [
           "Gluten Free Coffee Cake Muffin 6pk, 5.3 oz",
           4.49,
           4.04
          ],
          [
           "Pecan Dandy Bars, 9 oz",
           8.99,
           8.09
          ],
          [
           "Turtle Dandy, 10 oz",
           8.99,
           8.09
          ],
          [
           "Gluten Free Double Chocolate Muffins 6pk, 5 oz",
           4.49,
           4.04
          ]
         ],
         "hovertemplate": "category=desserts<br>Prime Discount by Percent=%{x}<br>Regular Prices of Products=%{y}<br>product=%{customdata[0]}<br>sale=%{customdata[1]}<br>prime=%{customdata[2]}<extra></extra>",
         "legendgroup": "desserts",
         "marker": {
          "color": "#19d3f3",
          "symbol": "circle"
         },
         "mode": "markers",
         "name": "desserts",
         "showlegend": true,
         "type": "scattergl",
         "x": [
          0.19038076152304617,
          0.19038076152304617,
          0.19019019019019023,
          0.19019019019019023,
          0.19038076152304617
         ],
         "xaxis": "x",
         "y": [
          4.99,
          4.99,
          9.99,
          9.99,
          4.99
         ],
         "yaxis": "y"
        },
        {
         "customdata": [
          [
           "3 Stem White Hydrangeas",
           5.99,
           5.39
          ],
          [
           "Sourced For Good Dozen Roses 40cm",
           9.99,
           8.99
          ]
         ],
         "hovertemplate": "category=floral<br>Prime Discount by Percent=%{x}<br>Regular Prices of Products=%{y}<br>product=%{customdata[0]}<br>sale=%{customdata[1]}<br>prime=%{customdata[2]}<extra></extra>",
         "legendgroup": "floral",
         "marker": {
          "color": "#FF6692",
          "symbol": "circle"
         },
         "mode": "markers",
         "name": "floral",
         "showlegend": true,
         "type": "scattergl",
         "x": [
          0.3254067584480601,
          0.3079291762894534
         ],
         "xaxis": "x",
         "y": [
          7.99,
          12.99
         ],
         "yaxis": "y"
        },
        {
         "customdata": [
          [
           "Candy Cane Chocolate Chip Cornflake, 14 fluid ounce",
           3.57,
           3.21
          ],
          [
           "Bite Sized Passion Fruit Pieces, 12 oz",
           3.39,
           3.05
          ],
          [
           "Mini Pies 12 Count, 10.58 oz",
           4.77,
           4.29
          ],
          [
           "Bite Size Aloe Vera Cubes, 12 oz",
           3.39,
           3.05
          ],
          [
           "Gingerbread House Ice Cream, 14 fluid ounce",
           3.57,
           3.21
          ],
          [
           "Organic Dragonfruit Superfruit Smoothie Pack, 14 oz",
           5.29,
           4.76
          ],
          [
           "Penguin Party Cinnamon Waffles, 6 waffles",
           4,
           3.6
          ],
          [
           "Mini Tarts 12 Count, 8.46 oz",
           4.77,
           4.29
          ],
          [
           "Amazon Superberry Acai Bowl, 6.1 oz",
           3.19,
           2.87
          ],
          [
           "Bite Sized Watermelon Pieces, 12 oz",
           3.39,
           3.05
          ],
          [
           "Keto Cheese Pizza, 10.7 ounce",
           9.49,
           8.54
          ],
          [
           "Beef & Mushroom Bowl, 11 oz",
           6.29,
           5.66
          ],
          [
           "Steak Fajita Meal Kit, 20 oz",
           10.99,
           9.89
          ],
          [
           "Fresh Frozen Wild Blueberries, 3 lb",
           10.99,
           9.89
          ],
          [
           "Organic Coconut Smoothie Packs, 14 oz",
           4.79,
           4.31
          ],
          [
           "Chicken Fried Riced Cauliflower, 20 oz",
           10.99,
           9.89
          ],
          [
           "Chicken Panang Curry, 10 oz",
           6.29,
           5.66
          ],
          [
           "Chicken Pesto, 10 oz",
           6.29,
           5.66
          ],
          [
           "Original Blend Smoothie Superfruit Pack, 100g, 4-Pack, 14.1 oz",
           5.49,
           4.94
          ],
          [
           "Organic Rockin' Grains English Muffins 6ct, 13.2 oz",
           2.79,
           2.51
          ],
          [
           "Acai Smoothie Pops - Strawberry Banana, 12 oz",
           4.49,
           4.04
          ],
          [
           "Acai Smoothie Pops - Blueberry, 12 oz",
           4.49,
           4.04
          ],
          [
           "Smoothie Detox Superfood Nat, 7 oz",
           4.49,
           4.04
          ],
          [
           "Energy Superfood Smoothie Blend, 7 oz",
           4.49,
           4.04
          ],
          [
           "Organic White Chocolate Peppermint Ice Cream Bars, 9 fl oz",
           2.57,
           2.31
          ],
          [
           "Superfruit Acai Bites, 7.6 fl oz",
           4.79,
           4.31
          ],
          [
           "Naked Pizza Crust Almond Flour Crust, 6 oz",
           5.99,
           5.39
          ],
          [
           "Pepperoni, 6 oz",
           3,
           2.7
          ],
          [
           "Supreme Pizza, 19.4 oz",
           6.99,
           6.29
          ],
          [
           "Cheeze Lover's Gluten-Free Pizza, 15.7 oz",
           6.99,
           6.29
          ],
          [
           "Pepperoni Style Gluten-free Pizza, 472 g",
           6.99,
           6.29
          ],
          [
           "Steak & Potato, 6 oz",
           3,
           2.7
          ],
          [
           "Black Eyed Peas - No Salt Added, 16 oz",
           1.47,
           1.32
          ],
          [
           "Chicken Classic, 6 oz",
           3,
           2.7
          ],
          [
           "Santa Fe Burrito, 5.64 oz",
           2.79,
           2.51
          ],
          [
           "Southwest Fire Roasted Corn with Sweet Potato, 3 oz",
           3,
           2.7
          ],
          [
           "Tex Mex Burrito, 5.64 oz",
           2.79,
           2.51
          ],
          [
           "Uncured Bacon and Cheddar Cheese with Hash Browns, 3 oz",
           3,
           2.7
          ],
          [
           "Sausage and Cheddar Cheese with a Cheese Crust, 3 oz",
           3,
           2.7
          ],
          [
           "Black Bean & Corn Tamale, 5 oz",
           2.5,
           2.25
          ],
          [
           "Protein Lover's Functional Breakfast Burrito, 6 oz",
           2.99,
           2.69
          ],
          [
           "Organic Jackfruit, 12 oz",
           4.29,
           3.86
          ],
          [
           "Limited Edition Frozen Vegetables, Pearl Onions",
           1.17,
           1.05
          ],
          [
           "Avengers Cherry & Grape Kid's Popsicles, 1.5 fl oz",
           4.99,
           4.49
          ],
          [
           "Plant Based Chorizo Style Sausage, 13 oz",
           7.99,
           7.19
          ],
          [
           "Spiderman Strawberry & Lemon Kid's Popsicles, 1.5 fl oz",
           4.99,
           4.49
          ],
          [
           "Five Cheese Ravioli Almond Flour Pasta, 9.9 oz",
           8.99,
           8.09
          ],
          [
           "Cheese Pizza Almond Flour Crust, 11 oz",
           8.99,
           8.09
          ],
          [
           "Coconut Shrimp",
           16.99,
           15.29
          ],
          [
           "Uncured Pepperoni Pizza Almond Flour Crust, 12 oz",
           8.99,
           8.09
          ],
          [
           "Tri-colored Sliced Carrots, 10 oz",
           2.49,
           2.24
          ],
          [
           "Single Serve Chicken Parmesan, 8.5 oz",
           3.99,
           3.59
          ],
          [
           "Breakfast Sausage & Cheese Tamale, 5 oz",
           2.5,
           2.25
          ],
          [
           "Single Serve Meat Lasagna, 9 oz",
           3.99,
           3.59
          ],
          [
           "Gnocchi Almond Flour Pasta, 12 oz",
           8.99,
           8.09
          ],
          [
           "Penne Alla Vodka, 9 oz",
           3.99,
           3.59
          ],
          [
           "Sweet Potata Gnocchi Almond Flour Pasta, 10.5 oz",
           8.99,
           8.09
          ],
          [
           "The Curry Tiger Burrito, 7 oz",
           2.99,
           2.69
          ],
          [
           "Italian Sausage Pizza Almond Flour Crust, 12 oz",
           8.99,
           8.09
          ],
          [
           "Awesome Cheeseburger Burrito, 6 oz",
           2.99,
           2.69
          ],
          [
           "Spaghetti Almond Flour Pasta, 8 oz",
           8.99,
           8.09
          ],
          [
           "The Peruvian Burrito, 5.5 oz",
           2.99,
           2.69
          ],
          [
           "Buffalo Chicken Burrito, 6 oz",
           2.99,
           2.69
          ],
          [
           "New York Cheezecake, 14.1 oz",
           6.49,
           5.84
          ],
          [
           "Traditional Vanilla, 5.3 oz",
           1.5,
           1.35
          ],
          [
           "General Tso Tofu Bowl, 9 oz",
           3.99,
           3.59
          ],
          [
           "Curry Tiger Bowl, 9 oz",
           3.99,
           3.59
          ],
          [
           "Hibachi Fried Rice, 20 oz",
           3.99,
           3.59
          ],
          [
           "Lasagna Sheets Almond Flour Pasta, 9 oz",
           8.99,
           8.09
          ],
          [
           "Key Lime Cheezecake, 14.1 oz",
           6.49,
           5.84
          ],
          [
           "Vanilla Bean Frozen Custard, 1 pint",
           6.49,
           5.84
          ],
          [
           "Dark Chocolate Chip Waffles, 7.4 oz",
           3.5,
           3.15
          ],
          [
           "White Pizza Almond Flour Crust, 10.85 oz",
           8.99,
           8.09
          ],
          [
           "Sweet Potatoes, 10 oz",
           2.49,
           2.24
          ],
          [
           "Spinach & Cheese Ravioli Almond Flour Pasta, 9.9 oz",
           8.99,
           8.09
          ],
          [
           "Boom Boom Popcorn Shrimp",
           16.99,
           15.29
          ],
          [
           "Fresh Frozen Triple Berry Blend, 3 lb",
           9.79,
           8.81
          ],
          [
           "Stahl Bush Island Farms Butternut Squash, 10 oz",
           2.49,
           2.24
          ],
          [
           "Polar Berry Pink Blueberry Waffles, 6 waffles",
           4,
           3.6
          ],
          [
           "Holiday Plant-Based Roast, 32 oz",
           7.17,
           6.45
          ],
          [
           "Cauliflower Mac And Cheese Bowl, 9 oz",
           3.99,
           3.59
          ]
         ],
         "hovertemplate": "category=frozen_foods<br>Prime Discount by Percent=%{x}<br>Regular Prices of Products=%{y}<br>product=%{customdata[0]}<br>sale=%{customdata[1]}<br>prime=%{customdata[2]}<extra></extra>",
         "legendgroup": "frozen_foods",
         "marker": {
          "color": "#B6E880",
          "symbol": "circle"
         },
         "mode": "markers",
         "name": "frozen_foods",
         "showlegend": true,
         "type": "scattergl",
         "x": [
          0.4641068447412354,
          0.32071269487750564,
          0.4630788485607009,
          0.32071269487750564,
          0.4641068447412354,
          0.2665639445300463,
          0.1982182628062361,
          0.4630788485607009,
          0.315035799522673,
          0.32071269487750564,
          0.1451451451451452,
          0.12788906009244994,
          0.23864511162432633,
          0.34022681787858566,
          0.3359013867488445,
          0.23864511162432633,
          0.12788906009244994,
          0.12788906009244994,
          0.33152909336941805,
          0.5428051001821494,
          0.325542570951586,
          0.325542570951586,
          0.325542570951586,
          0.325542570951586,
          0.4738041002277904,
          0.31478537360890313,
          0.22889842632331914,
          0.32330827067669177,
          0.25029797377830754,
          0.25029797377830754,
          0.25029797377830754,
          0.32330827067669177,
          0.4698795180722892,
          0.32330827067669177,
          0.1605351170568563,
          0.32330827067669177,
          0.1605351170568563,
          0.32330827067669177,
          0.32330827067669177,
          0.35530085959885394,
          0.22922636103151872,
          0.3216168717047453,
          0.47236180904522607,
          0.2245250431778929,
          0.1531213191990577,
          0.2245250431778929,
          0.19019019019019023,
          0.19019019019019023,
          0.3046839472487495,
          0.19019019019019023,
          0.4385964912280702,
          0.4468412942989215,
          0.2946708463949843,
          0.4468412942989215,
          0.19019019019019023,
          0.4468412942989215,
          0.19019019019019023,
          0.2710027100271003,
          0.19019019019019023,
          0.2710027100271003,
          0.19019019019019023,
          0.2710027100271003,
          0.2710027100271003,
          0.22029372496662225,
          0.20118343195266264,
          0.28056112224448904,
          0.28056112224448904,
          0.28056112224448904,
          0.19019019019019023,
          0.2690863579474343,
          0.2690863579474343,
          0.21052631578947378,
          0.19019019019019023,
          0.40897097625329815,
          0.19019019019019023,
          0.3046839472487495,
          0.14382896015549063,
          0.40897097625329815,
          0.1982182628062361,
          0.4620517097581318,
          0.28056112224448904
         ],
         "xaxis": "x",
         "y": [
          5.99,
          4.49,
          7.99,
          4.49,
          5.99,
          6.49,
          4.49,
          7.99,
          4.19,
          4.49,
          9.99,
          6.49,
          12.99,
          14.99,
          6.49,
          12.99,
          6.49,
          6.49,
          7.39,
          5.49,
          5.99,
          5.99,
          5.99,
          5.99,
          4.39,
          6.29,
          6.99,
          3.99,
          8.39,
          8.39,
          8.39,
          3.99,
          2.49,
          3.99,
          2.99,
          3.99,
          2.99,
          3.99,
          3.99,
          3.49,
          3.49,
          5.69,
          1.99,
          5.79,
          8.49,
          5.79,
          9.99,
          9.99,
          21.99,
          9.99,
          3.99,
          6.49,
          3.19,
          6.49,
          9.99,
          6.49,
          9.99,
          3.69,
          9.99,
          3.69,
          9.99,
          3.69,
          3.69,
          7.49,
          1.69,
          4.99,
          4.99,
          4.99,
          9.99,
          7.99,
          7.99,
          3.99,
          9.99,
          3.79,
          9.99,
          21.99,
          10.29,
          3.79,
          4.49,
          11.99,
          4.99
         ],
         "yaxis": "y"
        },
        {
         "customdata": [
          [
           "Plant Based Sausage Patties, 4 ct.",
           3.49,
           3.14
          ],
          [
           "Smoked Turkey Breast",
           11.04,
           9.94
          ],
          [
           "Updog Vegan Hog Dog",
           5,
           4.5
          ],
          [
           "Smoked Turkey Breast",
           8.49,
           7.64
          ],
          [
           "Beef Top Round London Broil",
           6.99,
           6.29
          ],
          [
           "Smart Bacon® Vegan Bacon Strips",
           3.49,
           3.14
          ],
          [
           "Classic Smoked Frankfurter Plant-Based Sausage",
           5.99,
           5.39
          ],
          [
           "Smoked Turkey Breast",
           8.49,
           7.64
          ],
          [
           "Packaged Sliced Lunchmeat Uncured Ham Black Forecast - Value Pack",
           5.99,
           5.39
          ],
          [
           "Original Organic Tempeh",
           2.39,
           2.15
          ],
          [
           "Packaged Sliced Lunchmeat Turkey Breast Oven-Roasted - Value Pack",
           5.99,
           5.39
          ],
          [
           "Boneless Turkey Breast",
           6.99,
           6.29
          ],
          [
           "Packaged Sliced Lunchmeat Turkey Breast Oven-Roasted - Ultra Thin",
           2.99,
           2.69
          ],
          [
           "Italian Garlic & Fennel Plant-Based Sausage",
           4.99,
           4.49
          ],
          [
           "Organic Smoky Bacon Tempeh Strips",
           4.19,
           3.77
          ],
          [
           "Organic Italian Beef Meatballs",
           6.99,
           6.29
          ],
          [
           "Pork Bacon",
           6.99,
           6.29
          ],
          [
           "Smoked Apple & Sage Plant-Based Sausages",
           4.99,
           4.49
          ],
          [
           "Apple & Maple Plant-Based Breakfast Sausage",
           4.99,
           4.49
          ],
          [
           "Plant Based Burgers, 2 ct.",
           3.49,
           3.14
          ],
          [
           "Boneless Skinless Chicken Breast",
           4.99,
           4.49
          ],
          [
           "Plant-Based Buffalo Wings",
           6.29,
           5.66
          ],
          [
           "Plant Based Applewood Smoked Sliced Ham",
           5.99,
           5.39
          ],
          [
           "Salame Minis Parmesan",
           5.49,
           4.94
          ],
          [
           "Boneless Skinless Chicken Breasts",
           4.99,
           4.49
          ],
          [
           "Benevolent Bacon",
           3.49,
           3.14
          ],
          [
           "Chorizo Seitan",
           3.5,
           3.15
          ],
          [
           "Honey & Maple Turkey Breast Family Size",
           6.49,
           5.84
          ],
          [
           "Mindful Chik'n Strips",
           6.99,
           6.29
          ],
          [
           "Salami Minis Whiskey Mini Salame Whiskey",
           4.99,
           4.49
          ],
          [
           "Traditional Seitan Strips",
           3.49,
           3.14
          ],
          [
           "Organic Sage Chicken Breakfast Sausage",
           4.99,
           4.49
          ],
          [
           "Signature Stadium Plant-Based Dog",
           6.49,
           5.84
          ],
          [
           "Classic Sliced Turkey Bacon",
           6.49,
           5.84
          ],
          [
           "Boneless Pork Shoulder Roast",
           3.99,
           3.59
          ],
          [
           "Chipotle Spicy & Smoky Salami Minis",
           5.49,
           4.94
          ],
          [
           "Black Pepper Salami Minis",
           4.99,
           4.49
          ]
         ],
         "hovertemplate": "category=meat<br>Prime Discount by Percent=%{x}<br>Regular Prices of Products=%{y}<br>product=%{customdata[0]}<br>sale=%{customdata[1]}<br>prime=%{customdata[2]}<extra></extra>",
         "legendgroup": "meat",
         "marker": {
          "color": "#FF97FF",
          "symbol": "circle"
         },
         "mode": "markers",
         "name": "meat",
         "showlegend": true,
         "type": "scattergl",
         "x": [
          0.30066815144766146,
          0.2347959969207083,
          0.24874791318864775,
          0.23523523523523526,
          0.30033370411568405,
          0.21303258145363413,
          0.20618556701030932,
          0.23523523523523526,
          0.22889842632331914,
          0.28093645484949836,
          0.22889842632331914,
          0.21276595744680848,
          0.3258145363408522,
          0.15122873345935728,
          0.2873345935727788,
          0.21276595744680848,
          0.21276595744680848,
          0.15122873345935728,
          0.15122873345935728,
          0.30066815144766146,
          0.3576537911301859,
          0.12788906009244994,
          0.27063599458728016,
          0.3404539385847797,
          0.30816640986132515,
          0.2680652680652681,
          0.3423799582463466,
          0.22029372496662225,
          0.19255455712451863,
          0.3576537911301859,
          0.3444676409185804,
          0.3576537911301859,
          0.16452074391988558,
          0.22029372496662225,
          0.40066777963272127,
          0.3404539385847797,
          0.3576537911301859
         ],
         "xaxis": "x",
         "y": [
          4.49,
          12.99,
          5.99,
          9.99,
          8.99,
          3.99,
          6.79,
          9.99,
          6.99,
          2.99,
          6.99,
          7.99,
          3.99,
          5.29,
          5.29,
          7.99,
          7.99,
          5.29,
          5.29,
          4.49,
          6.99,
          6.49,
          7.39,
          7.49,
          6.49,
          4.29,
          4.79,
          7.49,
          7.79,
          6.99,
          4.79,
          6.99,
          6.99,
          7.49,
          5.99,
          7.49,
          6.99
         ],
         "yaxis": "y"
        },
        {
         "customdata": [
          [
           "Truvia, 9.8 oz",
           5.69,
           5.12
          ],
          [
           "Cinnamon Almond Butter, 16 oz",
           8.49,
           7.64
          ],
          [
           "Choco Chimps Cereal, 10 oz",
           2.99,
           2.69
          ],
          [
           "Organic Unsweetened Coconut Milk Curry, 13.5 fl oz",
           3,
           2.7
          ],
          [
           "Sauce Stir Fry, 11.4 oz",
           2.39,
           2.15
          ],
          [
           "Panda Puffs Cereal, 10 oz",
           2.99,
           2.69
          ],
          [
           "100% Raw Manuka Honey Kfactor 12, 17.6 oz",
           35.99,
           32.39
          ],
          [
           "Organic Extra Virgin Sicilian Olive Oil, 16.9 fl oz",
           11.49,
           10.34
          ],
          [
           "Original Almond Butter, 16 oz",
           8.49,
           7.64
          ],
          [
           "Organic Unsweetened Ketchup, 11.3 oz",
           4.79,
           4.31
          ],
          [
           "Vanilla Almond Butter Nut & Protein Spread, 10 oz",
           8.49,
           7.64
          ],
          [
           "Roasted Pumpkin Seed Butter Jar, 14 oz",
           8.99,
           8.09
          ],
          [
           "Organic Low Sodium Chili Beans, 15 oz",
           1.89,
           1.7
          ],
          [
           "Cinnamon Grain Free Boxed Cereal, 8 oz",
           5.99,
           5.39
          ],
          [
           "Peanut Butter Cinnamon Crunch Overnight Oats, 5 oz",
           2.19,
           1.97
          ],
          [
           "Not-chick'n Rich Golden Broth And Seasoning, 2.5 oz",
           2.79,
           2.51
          ],
          [
           "Coffee Coconut Overnight Oats, 5 oz",
           2.19,
           1.97
          ],
          [
           "Vanilla Overnight Oats, 5 oz",
           2.19,
           1.97
          ],
          [
           "Organic White Mellow Miso, 16 oz",
           8.49,
           7.64
          ],
          [
           "Honey Nut Crunch Overnight Oats, 5 oz",
           2.19,
           1.97
          ],
          [
           "Berry Blast Cheetah Chomps Cereal, 10 oz",
           2.99,
           2.69
          ],
          [
           "Turbinado Cane Sugar (2 lb), 32 oz",
           2.99,
           2.69
          ],
          [
           "Almond Butter, 12 ounce",
           6.29,
           5.66
          ],
          [
           "Organic Stone Ground Mustard, 12 oz",
           3.39,
           3.05
          ],
          [
           "Lemon Pistachio Granola, 12 oz",
           6.29,
           5.66
          ],
          [
           "Granola Cherry Chocolate, 12 oz",
           6.29,
           5.66
          ],
          [
           "100% Raw Manuka Honey, 11.5 oz",
           29.99,
           26.99
          ],
          [
           "Bone Broth Chicken Noodle Soup, 7.6 oz",
           4.99,
           4.49
          ],
          [
           "Blueberry Overnight Oats, 5 oz",
           2.19,
           1.97
          ],
          [
           "Angel Hair Shirataki, 7 oz",
           2.79,
           2.51
          ],
          [
           "Noodles Rice, 8 oz",
           2.79,
           2.51
          ],
          [
           "Unsweetened Yeast Flakes, 12 oz",
           13.99,
           12.59
          ],
          [
           "Cinnamon Raisin , 12 oz",
           6.29,
           5.66
          ],
          [
           "Organic Smooth Power Fuel Nut And Seed Butter, 12 oz",
           11.49,
           10.34
          ],
          [
           "Sour Blast Buddies, 5.3 oz",
           8.99,
           8.09
          ],
          [
           "Pure Vanilla Extract, 4 fl oz",
           14.99,
           13.49
          ],
          [
           "Organic Baby Corn Pieces, 14 oz",
           3,
           2.7
          ],
          [
           "Cassava Flour, 32 oz",
           14.99,
           13.49
          ],
          [
           "Original Granola, 12 oz",
           6.29,
           5.66
          ],
          [
           "Organic Spanish Style Rice, 8.5 oz",
           3,
           2.7
          ],
          [
           "Organic Quinoa & Brown Rice With Garlic, 8.5 oz",
           3,
           2.7
          ],
          [
           "Bone Broth Beef Noodle Soup, 7.6 oz",
           4.99,
           4.49
          ],
          [
           "Pumpkin Seed Butter Pouch, 1.16 oz",
           1.79,
           1.61
          ],
          [
           "Watermelon Seed Butter Pouch, 1.16 oz",
           1.79,
           1.61
          ],
          [
           "Chocolate Chips Milk Chocolate Style, 9 oz",
           5.99,
           5.39
          ],
          [
           "Lion's Mane Mushroom 40 Count",
           21.99,
           19.79
          ],
          [
           "Taco Sauce, 13 oz",
           3.39,
           3.05
          ],
          [
           "Organic Dijon Mustard, 12 oz",
           3.39,
           3.05
          ],
          [
           "Verde Sauce, 12.5 oz",
           3.39,
           3.05
          ],
          [
           "Enchilada Sauce, 13 oz",
           3.39,
           3.05
          ],
          [
           "Ghee Clarified Butter, 9 oz",
           9.99,
           8.99
          ],
          [
           "Low Sodium Veggie Cubes, 2.2 oz",
           2.79,
           2.51
          ],
          [
           "Soup Rte Pasta Fagioli, 16 ounce",
           3.5,
           3.15
          ],
          [
           "Strawberry Overnight Oats, 5 oz",
           2.19,
           1.97
          ],
          [
           "Teriyaki Glaze Sauce, 14.5 oz",
           4.29,
           3.86
          ],
          [
           "45% Cacao Semi-sweet Style Baking Chips, 9 oz",
           5.99,
           5.39
          ],
          [
           "Organic Thai Peanut Sauce, 14 oz",
           4.29,
           3.86
          ],
          [
           "Sweet Chili Sauce, 14.5 oz",
           4.29,
           3.86
          ],
          [
           "Natural Zero Calorie Sweetener, 140 packets",
           10.99,
           9.89
          ],
          [
           "Gnarly Miso Jalapeño Fermented Dressing & Marinade, 12 fl oz",
           4.29,
           3.86
          ],
          [
           "Sambal Oelek Paste, 7 oz",
           4.29,
           3.86
          ],
          [
           "Granola Seasonal, 12 oz",
           6.19,
           5.57
          ],
          [
           "Backyard Ranch Dressing With Kefir, 12 fl oz",
           4.29,
           3.86
          ],
          [
           "Hail Caesar Fermented Dressing & Marinade, 12 fl oz",
           4.29,
           3.86
          ],
          [
           "Original Salsa, 16 oz",
           4.99,
           4.49
          ],
          [
           "Sriracha Probiotic Kimchi Sauce, 8.5 oz",
           4.99,
           4.49
          ],
          [
           "Stevia Sweetened Dark Chocolate Baking Chips, 9 oz",
           5.99,
           5.39
          ],
          [
           "Delicate Avocado Oil, 16.9 fl oz",
           11.99,
           10.79
          ],
          [
           "The Ultimate Granular Sugar Replacement, 12 oz",
           5.99,
           5.39
          ],
          [
           "Steak Sauce Paleo, 12 fl oz",
           5.99,
           5.39
          ],
          [
           "Organic Tikka Masala Sauce, Indian Mild Curry, 9.2 oz",
           5.99,
           5.39
          ],
          [
           "Organic Sweet & Spicy Bbq Sauce, 9.5 oz",
           5.99,
           5.39
          ],
          [
           "Organic Classic Bbq Sauce, 9.5 oz",
           5.99,
           5.39
          ],
          [
           "Fettuccine Ready Noodle, 7 oz",
           3.19,
           2.87
          ],
          [
           "Maple Mustard, 12 fl oz",
           5.99,
           5.39
          ],
          [
           "Spaghetti Style Ready Noodle, 7 oz",
           3.19,
           2.87
          ],
          [
           "Original Vegetable Rice, 7 oz",
           3,
           2.7
          ],
          [
           "Organic Raw Unfiltered Honey, 16 oz",
           7.99,
           7.19
          ],
          [
           "Organic Jalapeno Ranch Dressing, 8 fl oz",
           3.69,
           3.32
          ],
          [
           "Olive Oil & Balsamic Organic Vinaigrette, 8 fl oz",
           3.69,
           3.32
          ],
          [
           "Organic Ceasar Dressing, 8 fl oz",
           3.69,
           3.32
          ],
          [
           "La Vodka Sauce, 25 oz",
           5.99,
           5.39
          ],
          [
           "Keto Butter Crunchy, 12 oz",
           9.49,
           8.54
          ],
          [
           "Non-Dairy Ranch Organic Dressing, 8 fl oz",
           3.69,
           3.32
          ],
          [
           "Organic Soy Sauce, 10 fl oz",
           3.19,
           2.87
          ],
          [
           "Organic Salt Free Italian Dressing, 8 fl oz",
           3.69,
           3.32
          ],
          [
           "Tuscany Pumpkin Sauce, 25 oz",
           5.99,
           5.39
          ],
          [
           "White Chocolate Style Baking Chips, 9 oz",
           5.99,
           5.39
          ],
          [
           "Garlic Marinara Sauce, 25 oz",
           5.99,
           5.39
          ],
          [
           "Spanish Style Vegetable Rice, 7 oz",
           3,
           2.7
          ],
          [
           "Nonna's Recipe San Marzano Tomato Sauce, 25 oz",
           5.99,
           5.39
          ],
          [
           "Angel Hair Ready Noodle, 7 oz",
           3.19,
           2.87
          ],
          [
           "Spicy Arrabbiata Sauce, 25 oz",
           5.99,
           5.39
          ],
          [
           "Organic Young Jackfruit, 14 oz",
           3,
           2.7
          ],
          [
           "Herb Garlic Vegetable Rice, 7 oz",
           3,
           2.7
          ],
          [
           "Organic Brown Basmati Rice, 8.5 oz",
           3,
           2.7
          ],
          [
           "Roasted Garlic Fermented Dressing & Marinade, 12 fl oz",
           4.29,
           3.86
          ],
          [
           "Confectioners Sugar Replacement, 12 oz",
           5.99,
           5.39
          ],
          [
           "Original Beef Jerky, 2.5 oz",
           5.29,
           4.76
          ],
          [
           "Paleochef Peach Bbq, 12 fl oz",
           5.99,
           5.39
          ],
          [
           "Puerto Rican Pink Beans & Sofrito, 10 oz",
           2.79,
           2.51
          ],
          [
           "Vegan Avocado Oil Mayonnaise, 12 fl oz",
           6.99,
           6.29
          ],
          [
           "Honey American Raw Wildflower, 12 ounce",
           8.99,
           8.09
          ],
          [
           "Turbinado Cane Sugar Packets (100 ct), 16 oz",
           3.49,
           3.14
          ],
          [
           "Organic Beef Bone Broth Drink Mix, 0.53 oz",
           2.29,
           2.06
          ],
          [
           "Gluten Free Muesli Wild & Free Blueberry Chia Mix, 12 oz",
           4.99,
           4.49
          ],
          [
           "Vegetable Minestrone Soup, 16 oz",
           3.5,
           3.15
          ],
          [
           "Italian Wedding Soup With Meatballs, 16 oz",
           3.5,
           3.15
          ],
          [
           "Chocolate Salted Caramel Flavor Baking Chips, 9 oz",
           5.99,
           5.39
          ],
          [
           "Avocado Oil Mayo, 12 fl oz",
           6.99,
           6.29
          ],
          [
           "Organic Thai Red Curry Paste, 3.53 oz",
           4.99,
           4.49
          ],
          [
           "Organic Stevia, 2.65 oz",
           4.99,
           4.49
          ],
          [
           "Buckwheat Wildberry Waffles, 7.4 oz",
           3.5,
           3.15
          ],
          [
           "Sriracha Sauce, 18.5 oz",
           7.39,
           6.65
          ],
          [
           "Organic Blue Spirulina Powder, 1.4 oz",
           33.99,
           30.59
          ],
          [
           "Organic Extra Virgin Olive Oil, 32 fl oz",
           17.99,
           16.19
          ],
          [
           "Vanilla Almond Crunch Overnight Oats, 5 oz",
           2.19,
           1.97
          ],
          [
           "Dark Chocolate Overnight Oats, 5 oz",
           2.19,
           1.97
          ],
          [
           "Apple Cinnamon Overnight Oats, 5 oz",
           2.19,
           1.97
          ],
          [
           "Soup Chicken Noodle, 16 ounce",
           3.5,
           3.15
          ],
          [
           "Honey Organic, 24 oz",
           10.49,
           9.44
          ],
          [
           "Organic Tom Yum Paste, 3.53 oz",
           4.99,
           4.49
          ],
          [
           "Organic Yellow Curry Paste, 3.53 oz",
           4.99,
           4.49
          ],
          [
           "Organic Low Sodium Lentils, 15 oz",
           1.89,
           1.7
          ],
          [
           "Organic Ketchup, 9.5 oz",
           5.99,
           5.39
          ],
          [
           "Organic Low Sodium Black Beans, 15 oz",
           1.89,
           1.7
          ],
          [
           "Zero Calorie Sweetener 40 Count, 1.12 oz",
           3.99,
           3.59
          ],
          [
           "Organic Butter Chicken Sauce, Indian Mild Curry, 9.2 oz",
           5.99,
           5.39
          ],
          [
           "Wing Sauce, 12 fl oz",
           5.99,
           5.39
          ],
          [
           "Organic Ketchup, 24 oz",
           4.29,
           3.86
          ],
          [
           "Premium Nutritional Yeast Seasoning, 4.5 oz",
           5.49,
           4.94
          ],
          [
           "Organic Low Sodium Garbanzo Beans, 15 oz",
           1.89,
           1.7
          ],
          [
           "Mixed Berry Overnight Oats, 5 oz",
           2.19,
           1.97
          ],
          [
           "Brown Sugar Replacement, 12 oz",
           6.69,
           6.02
          ],
          [
           "Mayo Made With Avocado Oil, 12 fl oz",
           7.29,
           6.56
          ],
          [
           "Avocado Oil Spray, 4.7 oz",
           5.39,
           4.85
          ],
          [
           "Organic Inca Red Quinoa, 14.4 oz",
           6.99,
           6.29
          ],
          [
           "Chipotle Lime Mayo, 12 fl oz",
           7.29,
           6.56
          ],
          [
           "Traditional Quinoa, 14.4 oz",
           6.99,
           6.29
          ],
          [
           "Peruvian Lentils, 10 oz",
           2.79,
           2.51
          ],
          [
           "Cuban Black Beans And Sofrito, 10 oz",
           2.79,
           2.51
          ],
          [
           "Avocado Oil Garlic Aioli, 12 fl oz",
           7.29,
           6.56
          ],
          [
           "Organic Lemongrass Turmeric Paste, 3.53 oz",
           4.99,
           4.49
          ],
          [
           "Tuna Skipjack In Water Nsa, 5 oz",
           3.19,
           2.87
          ],
          [
           "Tomato Basil Sauce, 25 oz",
           5.99,
           5.39
          ],
          [
           "Banana And Maple Brown Sugar Overnight Oats, 5.3 oz",
           1.5,
           1.35
          ],
          [
           "Sweetcomplete Zero Calorie Stevia Sweetener, 16 oz",
           6.99,
           6.29
          ],
          [
           "Organic Slow-Simmered Vegetable Broth, 16.9 fl oz",
           2.99,
           2.69
          ],
          [
           "Organic Engine 2 Firehouse Chili, 16.9 fl oz",
           4.49,
           4.04
          ],
          [
           "Organic Creamy White Bean Chili, 16.9 fl oz",
           4.49,
           4.04
          ],
          [
           "Organic Freeze Dried Oregano, 0.18 oz",
           4.49,
           4.04
          ],
          [
           "Thai Carrot Chickpea Stew, 16.9 fl oz",
           4.49,
           4.04
          ],
          [
           "Organic Extra Virgin Olive Oil, 25.4 fl oz",
           11.99,
           10.79
          ],
          [
           "Creamy Parmesan Style Vegetable Risotto, 6 oz",
           3,
           2.7
          ],
          [
           "Tartar Sauce, 7.5 oz",
           5.69,
           5.12
          ],
          [
           "Organic Mushroom Stems And Pieces, 6.5 oz",
           2.19,
           1.97
          ],
          [
           "Organic Crimini Mushrooms Sliced, 6.5 oz",
           2.19,
           1.97
          ],
          [
           "Cheese Ravioli, 8 oz",
           6.49,
           5.84
          ],
          [
           "Chicken And Mozzarella Ravioli",
           6.49,
           5.84
          ],
          [
           "Organic Sliced Bamboo Shoots, 5.9 oz",
           3,
           2.7
          ],
          [
           "Honey Cinnamon Peanut Butter Nut & Protein Spread, 10 oz",
           6.49,
           5.84
          ],
          [
           "Kale Garlic & Cheese Ravioli, 8 oz",
           6.49,
           5.84
          ],
          [
           "Organic Cheese Tortellini, 8 oz",
           6.49,
           5.84
          ],
          [
           "Organic Cheese Ravioli, 8 oz",
           6.49,
           5.84
          ],
          [
           "Organic Spinach And Cheese Tortellini, 8 oz",
           6.49,
           5.84
          ],
          [
           "Spinach And Cheese Ravioli, 8 oz",
           6.49,
           5.84
          ],
          [
           "Barbecue Sauce Kansas City Style 'Pitmaster', 18 ounce",
           3.89,
           3.5
          ],
          [
           "Carolina Gold Style Bbq Sauce, 18 oz",
           3.89,
           3.5
          ],
          [
           "Organic Tomato Basil Pasta Sauce, 25 oz",
           5.99,
           5.39
          ],
          [
           "Organic Marinara Pasta Sauce, 25 oz",
           5.99,
           5.39
          ],
          [
           "Delicate Recipe Pasta Sauce, 25 oz",
           5.99,
           5.39
          ],
          [
           "Organic Pasta Sauce-spicy Marinara, 25 oz",
           5.99,
           5.39
          ],
          [
           "Extra Virgin Avocado Oil, 8.45 fl oz",
           10.49,
           9.44
          ],
          [
           "Toasted Sesame Oil, 16.9 fl oz",
           10.49,
           9.44
          ],
          [
           "Organic Safari Green Lentil, 8 oz",
           3.49,
           3.14
          ],
          [
           "Avocado Oil, 16.9 fl oz",
           10.49,
           9.44
          ],
          [
           "Classic Peanut Butter, 16 oz",
           4.49,
           4.04
          ],
          [
           "Trumpets Pasta, 16 oz",
           4.99,
           4.49
          ],
          [
           "Vanilla Almond Butter (Squeeze Pack), 1 each",
           1,
           0.9
          ],
          [
           "Chocolate Hazelnut Butter (Squeeze Pack), 1 each",
           1,
           0.9
          ],
          [
           "Garlic Marinara Sauce (32 Oz)",
           6.99,
           6.29
          ],
          [
           "Tomato Basil Sauce, 32 oz",
           6.99,
           6.29
          ],
          [
           "Zero Calorie Sweetener, 12 oz",
           6.99,
           6.29
          ],
          [
           "Mushroom And Ricotta Ravioli, 9 ounce",
           6.99,
           6.29
          ],
          [
           "Spinach And Ricotta Ravioli, 9 oz",
           6.99,
           6.29
          ],
          [
           "Cinnamon Almond Butter Squeeze Pack, 1.15 oz",
           1,
           0.9
          ],
          [
           "Maple Almond Butter (Squeeze Pack), 1 each",
           1,
           0.9
          ],
          [
           "Honey Almond Butter, 1 each",
           1,
           0.9
          ],
          [
           "Fire Roasted Red Hot Salsa, 16 oz",
           3.99,
           3.59
          ],
          [
           "Plant Based Classic Ranch Dressing, 12 fl oz",
           3.69,
           3.32
          ],
          [
           "Plant Based Thousand Island Dressing, 12 fl oz",
           3.69,
           3.32
          ],
          [
           "Plant Based Creamy Italian, 12 fl oz",
           3.69,
           3.32
          ],
          [
           "Almond Cherry Granola, 11 oz",
           5.49,
           4.94
          ],
          [
           "Vanilla Maple Granola, 11 oz",
           5.49,
           4.94
          ],
          [
           "Pecan Almond Granola, 11 oz",
           5.49,
           4.94
          ],
          [
           "Chocolate Chip Granola, 11 oz",
           5.49,
           4.94
          ],
          [
           "Organic Superfood Pesto Sauce, 7 oz",
           6.79,
           6.11
          ],
          [
           "Heirloom Tomato Sauce, 15 oz",
           6.79,
           6.11
          ],
          [
           "American Clover Honey, 12 oz",
           8.99,
           8.09
          ],
          [
           "Regional Northeast Honey, 12 oz",
           8.99,
           8.09
          ],
          [
           "No Soy Teriyaki Sauce & Marinade, 8.5 oz",
           6.29,
           5.66
          ],
          [
           "Honey Peanut Butter, 16 oz",
           4.49,
           4.04
          ],
          [
           "Fire Roasted Red Medium Salsa, 16 oz",
           3.99,
           3.59
          ],
          [
           "100% Pure Avocado Oil, 16.9 fl oz",
           10.99,
           9.89
          ],
          [
           "Organic Whole Grain Reginetti Pasta, 12 oz",
           4.99,
           4.49
          ],
          [
           "Beet Fusilli Pasta, 16 oz",
           4.99,
           4.49
          ],
          [
           "Dreamy Italian Dressing & Marinade With Avocado Oil, 8 fl oz",
           5.39,
           4.85
          ],
          [
           "Cilantro Lime Rice, 7 oz",
           3,
           2.7
          ],
          [
           "Dairy-Free Ranch Dressing with Avocado Oil, 8 fl oz",
           5.39,
           4.85
          ],
          [
           "Grain Free Cereal, 8 oz",
           5.99,
           5.39
          ],
          [
           "Expeller-Pressed Grapeseed Oil, 16.9 fl oz",
           6.39,
           5.75
          ],
          [
           "Organic Freeze Dried Thyme, 0.26 oz",
           4.49,
           4.04
          ],
          [
           "Carolina Gold Bbq Sauce, 8.5 oz",
           4.39,
           3.95
          ],
          [
           "Organic Hawaiian Style Bbq Sauce, 8.5 oz",
           4.39,
           3.95
          ],
          [
           "Steak Sauce And Marinade, 8.5 oz",
           4.39,
           3.95
          ],
          [
           "Classic Bbq Sauce, 8.5 oz",
           4.39,
           3.95
          ],
          [
           "Spicy Marinara Pasta Sauce, 24 oz",
           3.99,
           3.59
          ],
          [
           "Organic Chopped Tomatoes, 28 oz",
           3.99,
           3.59
          ],
          [
           "Homestyle Savory Chicken Bone Broth, 14 fl oz",
           5.49,
           4.94
          ],
          [
           "Tomato Basil Pasta Sauce, 24 oz",
           3.99,
           3.59
          ],
          [
           "Tuscan Chicken Bone Broth, 14 fl oz",
           5.49,
           4.94
          ],
          [
           "Garlic Marinara Pasta Sauce, 24 oz",
           3.99,
           3.59
          ],
          [
           "Organic Steamed Brown Rice, 30 oz",
           3.99,
           3.59
          ],
          [
           "Organic Strained Passata Tomatoes, 24 oz",
           3.99,
           3.59
          ],
          [
           "Sea Salt Jalapeno Beef Bone Broth, 14 fl oz",
           5.49,
           4.94
          ],
          [
           "Instant Maple & Brown Sugar Oatmeal, 15.1 oz",
           4.49,
           4.04
          ],
          [
           "Organic Spicy Brown Mustard, 12 oz",
           3.79,
           3.41
          ],
          [
           "Organic Dijon Mustard, 12 oz",
           3.79,
           3.41
          ],
          [
           "Organic Lemongrass Mustard Bbq Sauce, 13.5 oz",
           3.99,
           3.59
          ],
          [
           "Organic Green Lentil, 8 ounce",
           3.49,
           3.14
          ],
          [
           "Organic Red Lentil Penne, 8 oz",
           3.49,
           3.14
          ],
          [
           "Organic Chickpea Rotini, 8 oz",
           3.49,
           3.14
          ],
          [
           "Organic Chickpea Penne, 8 oz",
           3.49,
           3.14
          ],
          [
           "Organic Whole Tomatoes, 28 oz",
           3.99,
           3.59
          ],
          [
           "Tolerant Organic Red Lentil Rotini, 8 oz",
           3.49,
           3.14
          ],
          [
           "Organic Brown Sugar Ginger Bbq Sauce, 13.5 oz",
           3.99,
           3.59
          ],
          [
           "Grain Free Cereal, 8 oz",
           5.99,
           5.39
          ],
          [
           "Thai Sauce Pad Thai Sauce, 12 ounce",
           5.99,
           5.39
          ],
          [
           "Thai Sauce Sweet Chili Sauce, 12 ounce",
           5.99,
           5.39
          ],
          [
           "Panang Curry, 16 oz",
           5.99,
           5.39
          ],
          [
           "Sesame Ginger Avocado Oil Dressing, 8 fl oz",
           5.39,
           4.85
          ],
          [
           "Vegan Ranch Dressing And Marinade, 8 fl oz",
           5.39,
           4.85
          ],
          [
           "Honey Mustard Dressing & Marinade Made With Avocado Oil, 8 fl oz",
           5.39,
           4.85
          ],
          [
           "Italian Vinaigrette Dressing, 8 fl oz",
           5.39,
           4.85
          ],
          [
           "Greek Dressing & Marinade Made With Avocado Oil, 8 fl oz",
           5.39,
           4.85
          ],
          [
           "Dairy Free Caesar Dressing, 8 fl oz",
           5.39,
           4.85
          ],
          [
           "Avocado Oil Balsamic Vinaigrette, 8 fl oz",
           5.39,
           4.85
          ],
          [
           "Green Goddess Dressing, 8 fl oz",
           5.39,
           4.85
          ],
          [
           "Cilantro Lime Dressing, 8 fl oz",
           5.39,
           4.85
          ],
          [
           "Wild Mushroom Risotto, 6 oz",
           3,
           2.7
          ],
          [
           "Basil Pesto Risotto, 6 oz",
           3,
           2.7
          ],
          [
           "Sundried Tomato And Olive Pesto, 6.35 oz",
           5.49,
           4.94
          ],
          [
           "Organic Freeze Dried Basil, 0.16 oz",
           4.29,
           3.86
          ],
          [
           "Classic Almond Butter, 1 each",
           1,
           0.9
          ],
          [
           "Entree Mac Cheesy Bacon, 10.05 oz",
           3.99,
           3.59
          ],
          [
           "Gluten-free Supergrain® Spaghetti Pasta, 8 oz",
           2.49,
           2.24
          ],
          [
           "Raw Manuka Honey, 8.8 oz",
           19.99,
           17.99
          ],
          [
           "Organic Camu Powder, 3 oz",
           18.39,
           16.55
          ],
          [
           "Garlic Avocado Oil Mayo, 12 fl oz",
           7.99,
           7.19
          ],
          [
           "Pure Vanilla Extract, 2 fl oz",
           7.99,
           7.19
          ],
          [
           "Avocado Oil Mayo, 12 fl oz",
           7.99,
           7.19
          ],
          [
           "Smoky Latin Cooking & Seasoning Sauce, 9 oz",
           5.99,
           5.39
          ],
          [
           "Korean Kimchi, 18 oz",
           5.99,
           5.39
          ],
          [
           "Thai Coconut Red Curry, 16 oz",
           5.99,
           5.39
          ],
          [
           "Thai Yellow Coconut Curry, 16 oz",
           5.99,
           5.39
          ],
          [
           "Caribbean Cooking & Seasoning Sauce, 9 oz",
           5.99,
           5.39
          ],
          [
           "Massaman Curry, 16 oz",
           5.99,
           5.39
          ],
          [
           "Creole Cooking & Seasoning Sauce, 9 oz",
           5.99,
           5.39
          ],
          [
           "Gluten-free Organic Supergrain Pasta Corn & Quinoa Blend Elbows, 8 oz",
           2.49,
           2.24
          ],
          [
           "Fermented Seaweed Salad, 15 oz",
           8.29,
           7.46
          ],
          [
           "Organic Shiitake Mushroom Broth, 16.9 fl oz",
           2.99,
           2.69
          ],
          [
           "Coconut Almond Butter Squeezepack, 1.15 oz",
           1,
           0.9
          ],
          [
           "Organic Freeze Dried Chives, 0.14 oz",
           4.79,
           4.31
          ],
          [
           "Honey Brazilian Raw Organic, 12 oz",
           8.99,
           8.09
          ],
          [
           "Strawberry Overnight Oats, 5.3 oz",
           1.5,
           1.35
          ],
          [
           "Medium Heat Veracha, 9 oz",
           3,
           2.7
          ],
          [
           "Vegetable Ketchup, 17 oz",
           3,
           2.7
          ],
          [
           "Chicken Style Bone Broth Concentrate, 3 oz",
           3.99,
           3.59
          ],
          [
           "Limited Edition Organic Seasoning, Brine & Seasoning Kit, 13.2 oz",
           4.77,
           4.29
          ],
          [
           "Chicken And Gnocchi Italian Style Soup, 16 oz",
           3.5,
           3.15
          ],
          [
           "Pure Vanilla Extract, 8 fl oz",
           24.99,
           22.49
          ],
          [
           "Organic Apple Cider Vinegar, 32 fl oz",
           4.99,
           4.49
          ],
          [
           "Crispy Onions, 8 oz",
           1.77,
           1.59
          ],
          [
           "Roasted Garlic Kraut, 16 oz",
           4.99,
           4.49
          ],
          [
           "Organic Garbanzo Beans, 25 oz",
           2.19,
           1.97
          ],
          [
           "Mild Salsa, 16 oz",
           4.29,
           3.86
          ],
          [
           "Organic Traditional Red Miso, 16 oz",
           8.99,
           8.09
          ],
          [
           "Vanilla Almond Butter, 16 oz",
           9.99,
           8.99
          ],
          [
           "Organic Brown Gravy Packet, 0.85 oz",
           0.77,
           0.69
          ],
          [
           "100% Raw Manuka Honey Kfactor 16, 17.6 oz",
           36.99,
           33.29
          ],
          [
           "Ricotta Tortellini, 9 oz",
           7.49,
           6.74
          ],
          [
           "Organic White Quinoa, 27 oz",
           9.49,
           8.54
          ],
          [
           "Classic Almond Butter, 16 oz",
           9.99,
           8.99
          ],
          [
           "Multi-purpose Cassava Flour, 16 oz",
           7.49,
           6.74
          ],
          [
           "Coconut Almond Butter, 16 oz",
           9.99,
           8.99
          ],
          [
           "Honey Almond Butter, 16 oz",
           9.99,
           8.99
          ],
          [
           "Tortellini, 9 oz",
           7.49,
           6.74
          ],
          [
           "Cinnamon Almond Butter, 16 oz",
           9.99,
           8.99
          ],
          [
           "Chick & Noodle Soup, 14.5 oz",
           3,
           2.7
          ],
          [
           "Maple Almond Butter, 16 oz",
           9.99,
           8.99
          ],
          [
           "Chick Tortilla Soup, 14.5 oz",
           3,
           2.7
          ],
          [
           "Overnight Oats With Ancient Grains Buleberries, 5.3 oz",
           1.5,
           1.35
          ],
          [
           "Beet Red Kraut, 16 oz",
           4.99,
           4.49
          ],
          [
           "Organic Mushroom Gravy, 12 oz",
           1.17,
           1.05
          ],
          [
           "Chocolate Hazelnut Butter Blend, 16 oz",
           9.99,
           8.99
          ],
          [
           "Classic Caraway Kraut, 16 oz",
           4.99,
           4.49
          ],
          [
           "Vanilla Almond Oats, 2.18 oz",
           2.49,
           2.24
          ],
          [
           "Gnar Gnar Kraut, 16 oz",
           4.99,
           4.49
          ],
          [
           "Maple Raisin Power Breakfast, 2.1 oz",
           1.99,
           1.79
          ],
          [
           "Apple Cinnamon Oats, 2.18 oz",
           2.49,
           2.24
          ],
          [
           "Organic Red Sofrito Sauce, 13 oz",
           3.99,
           3.59
          ],
          [
           "Whiskey Dill Kraut, 16 oz",
           4.99,
           4.49
          ],
          [
           "Classic Kimchi (unit), 16 oz",
           4.99,
           4.49
          ],
          [
           "Organic Whole Tomatoes, 14.28 oz",
           2.49,
           2.24
          ],
          [
           "Maple Oats, 2.18 oz",
           2.49,
           2.24
          ],
          [
           "Apple Cinnamon Oatmeal Pop Up Bowl, 2.1 oz",
           1.99,
           1.79
          ],
          [
           "Freeze Dried Ginger, 0.32 oz",
           4.79,
           4.31
          ],
          [
           "Original Overnight Oats, 5.3 oz",
           1.5,
           1.35
          ]
         ],
         "hovertemplate": "category=pantry_essentials<br>Prime Discount by Percent=%{x}<br>Regular Prices of Products=%{y}<br>product=%{customdata[0]}<br>sale=%{customdata[1]}<br>prime=%{customdata[2]}<extra></extra>",
         "legendgroup": "pantry_essentials",
         "marker": {
          "color": "#FECB52",
          "symbol": "circle"
         },
         "mode": "markers",
         "name": "pantry_essentials",
         "showlegend": true,
         "type": "scattergl",
         "x": [
          0.1452420701168614,
          0.23523523523523526,
          0.2064896755162242,
          0.1536050156739811,
          0.13654618473895597,
          0.2064896755162242,
          0.15848272278513897,
          0.13761467889908263,
          0.23523523523523526,
          0.2003710575139147,
          0.23523523523523526,
          0.19019019019019023,
          0.14572864321608037,
          0.18947368421052646,
          0.2088353413654619,
          0.1605351170568563,
          0.2088353413654619,
          0.2088353413654619,
          0.15016685205784208,
          0.2088353413654619,
          0.2064896755162242,
          0.15673981191222575,
          0.15396113602391637,
          0.2355889724310778,
          0.15396113602391637,
          0.15396113602391637,
          0.15629884338855893,
          0.15122873345935728,
          0.2088353413654619,
          0.237082066869301,
          0.237082066869301,
          0.23650697392359,
          0.15396113602391637,
          0.20400307929176287,
          0.19019019019019023,
          0.2060035314891111,
          0.1536050156739811,
          0.15634771732332708,
          0.15396113602391637,
          0.20353982300884954,
          0.20353982300884954,
          0.15122873345935728,
          0.19095477386934667,
          0.19095477386934667,
          0.14308426073131963,
          0.238553289726818,
          0.2355889724310778,
          0.2355889724310778,
          0.2355889724310778,
          0.2355889724310778,
          0.20372010628875103,
          0.1605351170568563,
          0.21052631578947378,
          0.2088353413654619,
          0.22645290581162325,
          0.14308426073131963,
          0.22645290581162325,
          0.22645290581162325,
          0.17514595496246865,
          0.22645290581162325,
          0.22645290581162325,
          0.16741405082212257,
          0.22645290581162325,
          0.22645290581162325,
          0.16697588126159546,
          0.16697588126159546,
          0.14308426073131963,
          0.21754894851341555,
          0.22889842632331914,
          0.22889842632331914,
          0.22889842632331914,
          0.22889842632331914,
          0.22889842632331914,
          0.2222222222222222,
          0.22889842632331914,
          0.2222222222222222,
          0.22636103151862463,
          0.22604951560818076,
          0.2261072261072261,
          0.2261072261072261,
          0.2261072261072261,
          0.16949152542372892,
          0.22292993630573255,
          0.2261072261072261,
          0.2222222222222222,
          0.2261072261072261,
          0.16949152542372892,
          0.14308426073131963,
          0.16949152542372892,
          0.22636103151862463,
          0.16949152542372892,
          0.2222222222222222,
          0.16949152542372892,
          0.22636103151862463,
          0.22636103151862463,
          0.22636103151862463,
          0.22645290581162325,
          0.22889842632331914,
          0.16344463971880496,
          0.22889842632331914,
          0.1605351170568563,
          0.1820546163849155,
          0.13844515441959537,
          0.14905149051490507,
          0.23420074349442377,
          0.2245250431778929,
          0.21052631578947378,
          0.21052631578947378,
          0.14308426073131963,
          0.1820546163849155,
          0.18214936247723135,
          0.18214936247723135,
          0.21052631578947378,
          0.23475258918296882,
          0.23505876469117282,
          0.2098584675451438,
          0.2088353413654619,
          0.2088353413654619,
          0.2088353413654619,
          0.21052631578947378,
          0.23189585028478432,
          0.21089630931458703,
          0.21089630931458703,
          0.14572864321608037,
          0.22889842632331914,
          0.14572864321608037,
          0.1631701631701632,
          0.22889842632331914,
          0.22889842632331914,
          0.14031180400890875,
          0.1752921535893155,
          0.14572864321608037,
          0.2088353413654619,
          0.13876967095851223,
          0.17897371714643306,
          0.1623488773747842,
          0.21276595744680848,
          0.17897371714643306,
          0.21276595744680848,
          0.1605351170568563,
          0.1605351170568563,
          0.17897371714643306,
          0.21089630931458703,
          0.1776504297994269,
          0.16949152542372892,
          0.548494983277592,
          0.25912838633686697,
          0.3258145363408522,
          0.325542570951586,
          0.325542570951586,
          0.325542570951586,
          0.325542570951586,
          0.32520325203252043,
          0.32330827067669177,
          0.2675250357653791,
          0.26765799256505574,
          0.26765799256505574,
          0.2690863579474343,
          0.2690863579474343,
          0.32330827067669177,
          0.2690863579474343,
          0.2690863579474343,
          0.2690863579474343,
          0.2690863579474343,
          0.2690863579474343,
          0.2690863579474343,
          0.2693110647181628,
          0.2693110647181628,
          0.27063599458728016,
          0.27063599458728016,
          0.27063599458728016,
          0.27063599458728016,
          0.2732871439568899,
          0.2732871439568899,
          0.3304904051172708,
          0.2732871439568899,
          0.2641165755919854,
          0.3387334315169367,
          0.3525179856115107,
          0.3525179856115107,
          0.25912838633686697,
          0.25912838633686697,
          0.25912838633686697,
          0.25912838633686697,
          0.25912838633686697,
          0.3525179856115107,
          0.3525179856115107,
          0.3525179856115107,
          0.3460837887067396,
          0.2605790645879733,
          0.2605790645879733,
          0.2605790645879733,
          0.26158445440956646,
          0.26158445440956646,
          0.26158445440956646,
          0.26158445440956646,
          0.2629674306393244,
          0.2629674306393244,
          0.26387625113739765,
          0.26387625113739765,
          0.2639791937581275,
          0.2641165755919854,
          0.3460837887067396,
          0.34022681787858566,
          0.3387334315169367,
          0.3387334315169367,
          0.2750373692077729,
          0.32330827067669177,
          0.2750373692077729,
          0.28037383177570097,
          0.3063932448733413,
          0.30224525043177897,
          0.28051001821493626,
          0.28051001821493626,
          0.28051001821493626,
          0.28051001821493626,
          0.28056112224448904,
          0.28056112224448904,
          0.29327610872675247,
          0.28056112224448904,
          0.29327610872675247,
          0.28056112224448904,
          0.28056112224448904,
          0.28056112224448904,
          0.29327610872675247,
          0.28998242530755713,
          0.28810020876826725,
          0.28810020876826725,
          0.28056112224448904,
          0.28473804100227784,
          0.28473804100227784,
          0.28473804100227784,
          0.28473804100227784,
          0.28056112224448904,
          0.28473804100227784,
          0.28056112224448904,
          0.28037383177570097,
          0.28037383177570097,
          0.28037383177570097,
          0.28037383177570097,
          0.2750373692077729,
          0.2750373692077729,
          0.2750373692077729,
          0.2750373692077729,
          0.2750373692077729,
          0.2750373692077729,
          0.2750373692077729,
          0.2750373692077729,
          0.2750373692077729,
          0.32330827067669177,
          0.32330827067669177,
          0.32235939643347045,
          0.3216168717047453,
          0.3525179856115107,
          0.3213610586011343,
          0.31914893617021267,
          0.2801120448179272,
          0.2801217920835145,
          0.2802802802802803,
          0.2802802802802803,
          0.2802802802802803,
          0.28037383177570097,
          0.28037383177570097,
          0.28037383177570097,
          0.28037383177570097,
          0.28037383177570097,
          0.28037383177570097,
          0.28037383177570097,
          0.31914893617021267,
          0.2532532532532533,
          0.3258145363408522,
          0.3959731543624161,
          0.3652430044182622,
          0.3674745895230649,
          0.548494983277592,
          0.4589178356713427,
          0.4896030245746692,
          0.4864091559370529,
          0.4630788485607009,
          0.36873747494989983,
          0.25008336112037344,
          0.25041736227045075,
          0.4682274247491639,
          0.25041736227045075,
          0.3824451410658307,
          0.38632750397456284,
          0.40029651593773163,
          0.25020850708924103,
          0.4651162790697675,
          0.24323709934075932,
          0.25027808676307006,
          0.2435783879539416,
          0.25020850708924103,
          0.25027808676307006,
          0.25020850708924103,
          0.25020850708924103,
          0.25027808676307006,
          0.25020850708924103,
          0.4243070362473348,
          0.25020850708924103,
          0.4243070362473348,
          0.548494983277592,
          0.25041736227045075,
          0.47236180904522607,
          0.25020850708924103,
          0.25041736227045075,
          0.25083612040133774,
          0.25041736227045075,
          0.3584229390681003,
          0.25083612040133774,
          0.25052192066805845,
          0.25041736227045075,
          0.25041736227045075,
          0.25083612040133774,
          0.25083612040133774,
          0.3584229390681003,
          0.35575485799701057,
          0.548494983277592
         ],
         "xaxis": "x",
         "y": [
          5.99,
          9.99,
          3.39,
          3.19,
          2.49,
          3.39,
          38.49,
          11.99,
          9.99,
          5.39,
          9.99,
          9.99,
          1.99,
          6.65,
          2.49,
          2.99,
          2.49,
          2.49,
          8.99,
          2.49,
          3.39,
          3.19,
          6.69,
          3.99,
          6.69,
          6.69,
          31.99,
          5.29,
          2.49,
          3.29,
          3.29,
          16.49,
          6.69,
          12.99,
          9.99,
          16.99,
          3.19,
          15.99,
          6.69,
          3.39,
          3.39,
          5.29,
          1.99,
          1.99,
          6.29,
          25.99,
          3.99,
          3.99,
          3.99,
          3.99,
          11.29,
          2.99,
          3.99,
          2.49,
          4.99,
          6.29,
          4.99,
          4.99,
          11.99,
          4.99,
          4.99,
          6.69,
          4.99,
          4.99,
          5.39,
          5.39,
          6.29,
          13.79,
          6.99,
          6.99,
          6.99,
          6.99,
          6.99,
          3.69,
          6.99,
          3.69,
          3.49,
          9.29,
          4.29,
          4.29,
          4.29,
          6.49,
          10.99,
          4.29,
          3.69,
          4.29,
          6.49,
          6.29,
          6.49,
          3.49,
          6.49,
          3.69,
          6.49,
          3.49,
          3.49,
          3.49,
          4.99,
          6.99,
          5.69,
          6.99,
          2.99,
          7.69,
          9.39,
          3.69,
          2.69,
          5.79,
          3.99,
          3.99,
          6.29,
          7.69,
          5.49,
          5.49,
          3.99,
          8.69,
          39.99,
          20.49,
          2.49,
          2.49,
          2.49,
          3.99,
          12.29,
          5.69,
          5.69,
          1.99,
          6.99,
          1.99,
          4.29,
          6.99,
          6.99,
          4.49,
          5.99,
          1.99,
          2.49,
          6.99,
          7.99,
          5.79,
          7.99,
          7.99,
          7.99,
          2.99,
          2.99,
          7.99,
          5.69,
          3.49,
          6.49,
          2.99,
          8.49,
          3.99,
          5.99,
          5.99,
          5.99,
          5.99,
          15.99,
          3.99,
          6.99,
          2.69,
          2.69,
          7.99,
          7.99,
          3.99,
          7.99,
          7.99,
          7.99,
          7.99,
          7.99,
          7.99,
          4.79,
          4.79,
          7.39,
          7.39,
          7.39,
          7.39,
          12.99,
          12.99,
          4.69,
          12.99,
          5.49,
          6.79,
          1.39,
          1.39,
          8.49,
          8.49,
          8.49,
          8.49,
          8.49,
          1.39,
          1.39,
          1.39,
          5.49,
          4.49,
          4.49,
          4.49,
          6.69,
          6.69,
          6.69,
          6.69,
          8.29,
          8.29,
          10.99,
          10.99,
          7.69,
          5.49,
          5.49,
          14.99,
          6.79,
          6.79,
          6.69,
          3.99,
          6.69,
          7.49,
          8.29,
          5.79,
          5.49,
          5.49,
          5.49,
          5.49,
          4.99,
          4.99,
          6.99,
          4.99,
          6.99,
          4.99,
          4.99,
          4.99,
          6.99,
          5.69,
          4.79,
          4.79,
          4.99,
          4.39,
          4.39,
          4.39,
          4.39,
          4.99,
          4.39,
          4.99,
          7.49,
          7.49,
          7.49,
          7.49,
          6.69,
          6.69,
          6.69,
          6.69,
          6.69,
          6.69,
          6.69,
          6.69,
          6.69,
          3.99,
          3.99,
          7.29,
          5.69,
          1.39,
          5.29,
          3.29,
          24.99,
          22.99,
          9.99,
          9.99,
          9.99,
          7.49,
          7.49,
          7.49,
          7.49,
          7.49,
          7.49,
          7.49,
          3.29,
          9.99,
          3.99,
          1.49,
          6.79,
          12.79,
          2.99,
          4.99,
          5.29,
          6.99,
          7.99,
          4.99,
          29.99,
          5.99,
          2.99,
          5.99,
          3.19,
          6.29,
          13.49,
          11.99,
          1.29,
          43.99,
          8.99,
          11.29,
          11.99,
          8.99,
          11.99,
          11.99,
          8.99,
          11.99,
          4.69,
          11.99,
          4.69,
          2.99,
          5.99,
          1.99,
          11.99,
          5.99,
          2.99,
          5.99,
          2.79,
          2.99,
          4.79,
          5.99,
          5.99,
          2.99,
          2.99,
          2.79,
          6.69,
          2.99
         ],
         "yaxis": "y"
        },
        {
         "customdata": [
          [
           "Smoked Salmon Salad",
           5.49,
           4.94
          ],
          [
           "Sausage & Potato Soup, 16 oz",
           3.5,
           3.15
          ],
          [
           "Italian Wedding Soup, 14.5 oz",
           3,
           2.7
          ],
          [
           "Tortellni & Vegetable Soup, 16 oz",
           3.5,
           3.15
          ],
          [
           "Plant Based Korean Style Bbq Chik'n, 8 oz",
           6.99,
           6.29
          ],
          [
           "Smoked Whitefish Salad Chunky",
           5.49,
           4.94
          ],
          [
           "Entree Mac Cheesy, 10.05 oz",
           3.99,
           3.59
          ],
          [
           "Organic Cheezy Carrot Super Mac, 8.1 oz",
           4.99,
           4.49
          ],
          [
           "Coconut Chicken Tenders",
           9.34,
           8.41
          ]
         ],
         "hovertemplate": "category=prepared_foods<br>Prime Discount by Percent=%{x}<br>Regular Prices of Products=%{y}<br>product=%{customdata[0]}<br>sale=%{customdata[1]}<br>prime=%{customdata[2]}<extra></extra>",
         "legendgroup": "prepared_foods",
         "marker": {
          "color": "#636efa",
          "symbol": "circle"
         },
         "mode": "markers",
         "name": "prepared_foods",
         "showlegend": true,
         "type": "scattergl",
         "x": [
          0.1752921535893155,
          0.36873747494989983,
          0.4243070362473348,
          0.36873747494989983,
          0.25912838633686697,
          0.1752921535893155,
          0.3213610586011343,
          0.25041736227045075,
          0.23475887170154686
         ],
         "xaxis": "x",
         "y": [
          5.99,
          4.99,
          4.69,
          4.99,
          8.49,
          5.99,
          5.29,
          5.99,
          10.99
         ],
         "yaxis": "y"
        },
        {
         "customdata": [
          [
           "Yellow Bell Pepper",
           2.49,
           2.24
          ],
          [
           "Organic Fingerling Medley Potatoes",
           3.5,
           3.15
          ],
          [
           "Organic Lady Alice Apple",
           2.49,
           2.24
          ],
          [
           "Organic Large Hass Avocados",
           2.5,
           2.25
          ],
          [
           "French Haricot Vert (Green Beans)",
           3.49,
           3.14
          ],
          [
           "True Baby Hand Peeled Carrots",
           3.49,
           3.14
          ],
          [
           "Roma Plum Tomato",
           1.49,
           1.34
          ],
          [
           "Organic Brussels Sprouts",
           3.5,
           3.15
          ],
          [
           "Orange Bell Pepper",
           2.49,
           2.24
          ],
          [
           "Strawberries",
           3.99,
           3.59
          ],
          [
           "Red Bell Pepper",
           2.49,
           2.24
          ]
         ],
         "hovertemplate": "category=produce<br>Prime Discount by Percent=%{x}<br>Regular Prices of Products=%{y}<br>product=%{customdata[0]}<br>sale=%{customdata[1]}<br>prime=%{customdata[2]}<extra></extra>",
         "legendgroup": "produce",
         "marker": {
          "color": "#EF553B",
          "symbol": "circle"
         },
         "mode": "markers",
         "name": "produce",
         "showlegend": true,
         "type": "scattergl",
         "x": [
          0.25083612040133774,
          0.36873747494989983,
          0.25083612040133774,
          0.24749163879598668,
          0.21303258145363413,
          0.21303258145363413,
          0.3266331658291457,
          0.36873747494989983,
          0.25083612040133774,
          0.28056112224448904,
          0.25083612040133774
         ],
         "xaxis": "x",
         "y": [
          2.99,
          4.99,
          2.99,
          2.99,
          3.99,
          3.99,
          1.99,
          4.99,
          2.99,
          4.99,
          2.99
         ],
         "yaxis": "y"
        },
        {
         "customdata": [
          [
           "Smoked Salmon Salad",
           5.49,
           4.94
          ],
          [
           "Boom Boom Popcorn Shrimp",
           16.99,
           15.29
          ],
          [
           "Smoked Whitefish Salad Chunky",
           5.49,
           4.94
          ],
          [
           "Smoked Atlantic Salmon",
           13.49,
           12.14
          ],
          [
           "Coconut Shrimp",
           16.99,
           15.29
          ]
         ],
         "hovertemplate": "category=seafood<br>Prime Discount by Percent=%{x}<br>Regular Prices of Products=%{y}<br>product=%{customdata[0]}<br>sale=%{customdata[1]}<br>prime=%{customdata[2]}<extra></extra>",
         "legendgroup": "seafood",
         "marker": {
          "color": "#00cc96",
          "symbol": "circle"
         },
         "mode": "markers",
         "name": "seafood",
         "showlegend": true,
         "type": "scattergl",
         "x": [
          0.1752921535893155,
          0.3046839472487495,
          0.1752921535893155,
          0.28546203649205404,
          0.3046839472487495
         ],
         "xaxis": "x",
         "y": [
          5.99,
          21.99,
          5.99,
          16.99,
          21.99
         ],
         "yaxis": "y"
        },
        {
         "customdata": [
          [
           "Skinny Pack 6pk, 3.9 oz",
           4.99,
           4.49
          ],
          [
           "High Protein Bar White Chocolate, 2.1 oz",
           1.6666666666666667,
           1.5
          ],
          [
           "Kettle Chips A Touch Of Smoke, 6 ounce",
           2.5,
           2.25
          ],
          [
           "Candy Cane Cornflake Chocolate Chip, 6.5 oz",
           2.97,
           2.67
          ],
          [
           "70% Cocoa Pure Dark Chocolate Bar, 2.64 oz",
           2.5,
           2.25
          ],
          [
           "Sharing Size Original Popcorn, 6.7 oz",
           4.29,
           3.86
          ],
          [
           "Salted Caramel Dark Chocolate Bar, 75 gram",
           2.5,
           2.25
          ],
          [
           "80% Cocoa Pure Dark Chocolate Bar, 2.64 oz",
           2.5,
           2.25
          ],
          [
           "Kettle Chips Sea Salted, 6 ounce",
           2.5,
           2.25
          ],
          [
           "Kettle Chips Buttermilk & Chive, 6 ounce",
           2.5,
           2.25
          ],
          [
           "92% Cocoa Pure Dark Chocolate Bar, 2.64 oz",
           2.5,
           2.25
          ],
          [
           "Sea Salt Plantain Chips Multipack, 6 oz",
           3.99,
           3.59
          ],
          [
           "Everything Kettle Chips, 6 ounce",
           2.5,
           2.25
          ],
          [
           "Maple Glazed & Smoked Salmon Bites, 2.5 oz",
           5.5,
           4.95
          ],
          [
           "45% Cacao Semi-sweet Style Baking Chips, 9 oz",
           5.99,
           5.39
          ],
          [
           "Limited Edition Trail Mix Party Tray, Nibbler's Delight, 23.8 oz",
           7.77,
           6.99
          ],
          [
           "Sea Salt Plantain Chips, 4.5 oz",
           2.5,
           2.25
          ],
          [
           "Kettle Chips Red Wine Vinegar, 6 ounce",
           2.5,
           2.25
          ],
          [
           "Popcorn Skinnypack White Cheddar 6pk, 3.9 oz",
           4.99,
           4.49
          ],
          [
           "Yuca Cassava Chips, 4.5 oz",
           2.5,
           2.25
          ],
          [
           "Cheddar Cheese Balls, 4.5 oz",
           3.5,
           3.15
          ],
          [
           "Sweet & Savory Bison Bacon Bites, 2.5 oz",
           5.5,
           4.95
          ],
          [
           "Honey & Oats Wafel Cookies, 4.64 oz",
           2.99,
           2.69
          ],
          [
           "Mint Chocolate Chip Mini Bars, 0.78 oz",
           4.17,
           3.75
          ],
          [
           "Organic Dark Chocolate Hearts Gibag, 5.9 oz",
           12.79,
           11.51
          ],
          [
           "Chocolate Sea Salt Protein Bars 12 Count",
           20.49,
           18.44
          ],
          [
           "Sea Salt Microwave Popcorn, 2.8 oz",
           4.99,
           4.49
          ],
          [
           "Organic Mangoes Dried Fruit, 3 oz",
           4.99,
           4.49
          ],
          [
           "Organic Hemp Seeds, 8 Oz",
           9.79,
           8.81
          ],
          [
           "Chunky Peanut Butter Bar 12 Count, 25.44 oz",
           24,
           21.6
          ],
          [
           "Chocolate Fudge Brownie Protein Bar 12 Count, 25.44 oz",
           24,
           21.6
          ],
          [
           "Milk Chocolate Peanut Butter Cups, 2 cups",
           1.59,
           1.43
          ],
          [
           "Dark Chocolate Peanut Butter Cups, 2 cups",
           1.59,
           1.43
          ],
          [
           "Stevia Sweetened Dark Chocolate, 2.8 oz",
           2.79,
           2.51
          ],
          [
           "Fruity Gummy Bears, 5.3 oz",
           8.99,
           8.09
          ],
          [
           "Peach Rings, 5.3 oz",
           8.99,
           8.09
          ],
          [
           "Coffee Keto Cups, 4.93 oz",
           8.99,
           8.09
          ],
          [
           "40% Cocoa Milk Chocolate Hazelnut Bar, 2.8 oz",
           2.79,
           2.51
          ],
          [
           "Coconut Butter Keto Cups 7-pack, 4.93 oz",
           8.99,
           8.09
          ],
          [
           "Almond Butter Keto Cups 7-pack, 4.93 oz",
           8.99,
           8.09
          ],
          [
           "Almond Dark Chocolate, 3 oz",
           2.79,
           2.51
          ],
          [
           "Extra Dark Chocolate, 2.8 oz",
           2.79,
           2.51
          ],
          [
           "Chocolate Crispy Rice Dark Chocolate Bar, 3 oz",
           2.79,
           2.51
          ],
          [
           "Butter Microwave Popcorn, 2.8 oz",
           4.99,
           4.49
          ],
          [
           "Organic Strawberry Beet Smart Bars, 0.84 oz",
           4.99,
           4.49
          ],
          [
           "Organic Apple Kale Smart Bars, 0.84 oz",
           4.99,
           4.49
          ],
          [
           "Apple + Mango Fruit Bar, 1 each",
           1.25,
           1.125
          ],
          [
           "Coconut Chocolate Protein Bars 12 Count",
           20.49,
           18.44
          ],
          [
           "Organic Pnutbtr Choco Fit Hi Protein Bar, 1 each",
           2.19,
           1.97
          ],
          [
           "Organic Choco Fudge Fit High Protein Bar, 1 each",
           2.19,
           1.97
          ],
          [
           "Maple Sea Salt Protein Bars 12 Count",
           20.49,
           18.44
          ],
          [
           "Mixed Berry Protein Bars 12 Count",
           20.49,
           18.44
          ],
          [
           "Banana Chocolate Protein Bar 12 Count, 22 oz",
           20.49,
           18.44
          ],
          [
           "Granola Ginger Hemp, 12 oz",
           6.39,
           5.75
          ],
          [
           "White Chocolate Matcha Popcorn, 5 oz",
           2.37,
           2.13
          ],
          [
           "Mint Chocolate Protein Bars 12 Count",
           20.49,
           18.44
          ],
          [
           "Simply Chicken Sriracha Bites, 2.5 oz",
           5.5,
           4.95
          ],
          [
           "Plantain Toasted Corn Cracker, 4 oz",
           2.99,
           2.69
          ],
          [
           "Sweet Corn Toasted Corn Cracker, 4 oz",
           2.99,
           2.69
          ],
          [
           "Coconut Toasted Corn Cracker, 4 oz",
           2.99,
           2.69
          ],
          [
           "Chocolate Cream Cookies, 10.6 oz",
           4.29,
           3.86
          ],
          [
           "Dark Chocolate + Himalayan Pink Salt, 7 oz",
           2.37,
           2.13
          ],
          [
           "Organic Carrot Raisin Smart Bar, 0.84 oz",
           4.99,
           4.49
          ],
          [
           "Candy Cane Chocolate Truffle Crumb Cake, 528 gram",
           1.77,
           1.59
          ],
          [
           "Organic Blueberry Banana Sweet Potato Smart Bars, 0.84 oz",
           4.99,
           4.49
          ],
          [
           "High Protein Bar Lemon Delight, 2.1 oz",
           1.6666666666666667,
           1.5
          ],
          [
           "Apple + Blueberry Fruit Bar, 1 each",
           1.25,
           1.125
          ],
          [
           "BEAR Strawberry Fruit Rolls, 3.5 oz",
           3.49,
           3.14
          ],
          [
           "Chocolate & Creme Cupcake Protein Bar, 2.29 oz",
           1.6666666666666667,
           1.5
          ],
          [
           "Organic Peanut Butter Choc Fit Bar 12 Count, 23.28 oz",
           26.28,
           23.65
          ],
          [
           "Snickerdoodle Protein Cookie, 2.96 oz",
           2,
           1.8
          ],
          [
           "Double Dark Chocolate Protein Cookie, 2.96 oz",
           2,
           1.8
          ],
          [
           "Peanut Butter Chocolate Chip Protein Cookie, 2.96 oz",
           2,
           1.8
          ],
          [
           "Caramelized & Salted 40% Chocolate & Milk, 2.8 oz",
           2.79,
           2.51
          ],
          [
           "Warrior Bar, 2 oz",
           4.49,
           4.04
          ],
          [
           "Sea Salt & Pepper Pork Rinds, 2.5 oz",
           3,
           2.7
          ],
          [
           "Cinnamon Churro Sweet Potato Puffs, 4 oz",
           3,
           2.7
          ],
          [
           "Chocolate Sea Salt Protein Bar, 1 each",
           1.89,
           1.7
          ],
          [
           "Rockin Ranch Tortilla, 5 oz",
           3,
           2.7
          ],
          [
           "Oven Baked Himalayan Sea Salt Pork Rinds, 2.5 oz",
           3,
           2.7
          ],
          [
           "Oven Baked Chile Lime Pork Rinds, 2.5 oz",
           3,
           2.7
          ],
          [
           "Texas Bbq Pork Rinds, 2.5 oz",
           3,
           2.7
          ],
          [
           "Mild Salsa, 16 oz",
           4.29,
           3.86
          ],
          [
           "Dark Chocolate Almond Soft-baked Almond Flour Bars 5ct, 5.99 oz",
           3.99,
           3.59
          ],
          [
           "Nutty Banana Bread Soft Baked Almond Flour Bars, 5.99 oz",
           3.99,
           3.59
          ],
          [
           "Herby Chimichurri, 5 oz",
           5.69,
           5.12
          ],
          [
           "Nacho Tortilla Chips, 4 oz",
           3,
           2.7
          ],
          [
           "Blue Tortilla Chips, 5.5 oz",
           3,
           2.7
          ],
          [
           "Chocolate Fudge Fit Bar 12pk, 23.28 oz",
           26.28,
           23.65
          ],
          [
           "Supergreens Açaí, Kale & Spinach Superfruit Pack, 100g, 4-Pack, 14.1 oz",
           5.49,
           4.94
          ],
          [
           "Blueberry Protein Bar, 1 each",
           1.89,
           1.7
          ],
          [
           "Organic Milk Chocolate Hearts Gift Bag, 5.9 oz",
           12.79,
           11.51
          ],
          [
           "Organic Hearts Celebration Gibox, 2.3 oz",
           9.99,
           8.99
          ],
          [
           "Chocolate Peanut Butter Protein Bar, 1 each",
           1.89,
           1.7
          ],
          [
           "Organic Everything Super Seed Crackers, 5.5 oz",
           3.99,
           3.59
          ],
          [
           "Organic Gluten-free Original Crackers, 6.5 oz",
           3.99,
           3.59
          ],
          [
           "Mixed Berry Protein Bar, 1 each",
           1.89,
           1.7
          ],
          [
           "Seaweed & Black Sesame Super Seed Crackers, 5.5 oz",
           3.99,
           3.59
          ],
          [
           "Vanilla Almond Bar, 1.83 oz",
           1.89,
           1.7
          ],
          [
           "Organic Gluten-free Herb Crackers, 6.5 oz",
           3.99,
           3.59
          ],
          [
           "Mint Chocolate Protein Bar, 1 each",
           1.89,
           1.7
          ],
          [
           "Maple Sea Salt Protein Bar, 1 each",
           1.89,
           1.7
          ],
          [
           "Chocolate Chip Protein Bar, 1 each",
           1.89,
           1.7
          ],
          [
           "Organic Superseed Rosemary Cracker, 5 oz",
           3.99,
           3.59
          ],
          [
           "Banana Chocolate Walnut Protein Bar, 1.83 oz",
           1.89,
           1.7
          ],
          [
           "Organic Classic Super Seed Crackers, 5.5 oz",
           3.99,
           3.59
          ],
          [
           "Fire Roasted Red Medium Salsa, 16 oz",
           3.99,
           3.59
          ],
          [
           "Coconut Chocolate Protein Bar, 1 each",
           1.89,
           1.7
          ],
          [
           "Fire Roasted Red Hot Salsa, 16 oz",
           3.99,
           3.59
          ],
          [
           "Gluten Free Power Breakfast - Fruit, Nuts & Seeds, 2.1 oz",
           1.99,
           1.79
          ],
          [
           "Jalapeno Lime Tortilla Chips, 4 oz",
           3,
           2.7
          ],
          [
           "High Protein Bar Creamy Peanut Butter, 2.1 oz",
           1.6666666666666667,
           1.5
          ],
          [
           "Jalapeno Tortilla, 5 oz",
           3,
           2.7
          ],
          [
           "Red Pepper Romesco, 5 oz",
           5.69,
           5.12
          ],
          [
           "Hickory Smoke Turkey Jerky, 2.5 oz",
           5.29,
           4.76
          ],
          [
           "Zero Sugar Classic Beef Jerky, 2 oz",
           5.29,
           4.76
          ],
          [
           "Organic Milk Chocolate Peanut Butter Cups, 1 each",
           1.5,
           1.35
          ],
          [
           "Sea Salt & Pepper Venison Snack Strip, 0.8 oz",
           1.5,
           1.35
          ],
          [
           "Wagyu Beef Steak Snack Strip, 0.8 oz",
           1.5,
           1.35
          ],
          [
           "Original Salsa, 16 oz",
           4.99,
           4.49
          ],
          [
           "Chicken Sriracha Strip, 0.8 oz",
           1.5,
           1.35
          ],
          [
           "Coconut Maple Salmon Fillet Snack Strip, 0.8 oz",
           1.5,
           1.35
          ],
          [
           "Teriyaki Beef Jerky, 2.5 oz",
           5.29,
           4.76
          ],
          [
           "Bison Steak Strip, 0.8 oz",
           1.5,
           1.35
          ],
          [
           "BEAR Raspberry Fruit Rolls, 0.7 oz",
           3.49,
           3.14
          ],
          [
           "Tangy BBQ, 5 oz",
           6,
           5.4
          ],
          [
           "High Protein Bar Chunky Peanut Butter 10pk, 1.32 lb",
           16.6,
           14.94
          ],
          [
           "High Protein Bar Creamy Peanut Butter 10pk, 1.32 lb",
           16.6,
           14.94
          ],
          [
           "Apple + Strawberry Fruit Bar, 1 each",
           1.25,
           1.125
          ],
          [
           "Apple + Cherry Fruit Bar, 1.2 oz",
           1.25,
           1.125
          ],
          [
           "Original Tortilla Strips, 8 oz",
           2.5,
           2.25
          ],
          [
           "High Protein Bar Chunky Peanut Butter, 2.1 oz",
           1.6666666666666667,
           1.5
          ],
          [
           "Dark Chocolate Peanut Butter Cups, 1 each",
           1.5,
           1.35
          ],
          [
           "White Chocolate Peanut Butter Cups, 1 each",
           1.5,
           1.35
          ],
          [
           "Mango Habanero Beef Jerky, 2.5 oz",
           5.29,
           4.76
          ],
          [
           "Zero Sugar Mustard Bbq Beef Jerky, 2 oz",
           5.29,
           4.76
          ],
          [
           "Fuego Tortilla Chips, 4 oz",
           3,
           2.7
          ],
          [
           "Organic Crispy Dark Chocolate Peanut Butter Cup 2 Count, 1.32 oz",
           1.5,
           1.35
          ],
          [
           "Organic Dark Chocolate Cashew Butter Cup, 1.4 oz",
           1.5,
           1.35
          ],
          [
           "Golden Tumeric Tahini, 5 oz",
           5.69,
           5.12
          ],
          [
           "Sea Salt & Lime Tortilla, 5 oz",
           3,
           2.7
          ],
          [
           "Ranch Tortilla Chips, 4 oz",
           3,
           2.7
          ],
          [
           "Gingery Miso, 5 oz",
           5.69,
           5.12
          ],
          [
           "Red Hot Blues Tortilla Chips, 5.5 oz",
           3,
           2.7
          ],
          [
           "Dark Chocolate Brownie High Protein Bar, 1.9 oz",
           1.79,
           1.61
          ],
          [
           "Mini Chocolate Chip Cookies, 2 oz",
           3,
           2.7
          ],
          [
           "Strawberry Apple Sour Yoyos 5 Count, 3.5 oz",
           3.49,
           3.14
          ],
          [
           "Sea Salt Lentil Chips, 4 oz",
           3,
           2.7
          ],
          [
           "Lightly Seasoned Shredded Jackfruit, 7 oz",
           3,
           2.7
          ],
          [
           "Vegan Cheesy Cheddar Sweet Potato Puffs, 4 oz",
           3,
           2.7
          ],
          [
           "No Salt Pistachios, 16 oz",
           8.49,
           7.64
          ],
          [
           "Chocolate Peanut Butter Pie Protein Bar, 1.41 oz",
           1.6666666666666667,
           1.5
          ],
          [
           "Lightly Salted Pistachios, 16 oz",
           8.49,
           7.64
          ],
          [
           "Roasted & Salted Pistachios, 16 oz",
           8.49,
           7.64
          ],
          [
           "Peanut Butter Protein Bar, 1 each",
           1.89,
           1.7
          ],
          [
           "Organic Dark Chocolate Almond Butter Cup, 14 oz",
           1.5,
           1.35
          ],
          [
           "White Chocolate Style Bar, 2.8 oz",
           2.79,
           2.51
          ],
          [
           "Almond Butter Keto Cups 2-pack, 1.4 oz",
           2.5,
           2.25
          ],
          [
           "Sweet Fish, 5.3 oz",
           8.99,
           8.09
          ],
          [
           "Organic Fair Trade Coconut (70%) Dark Chocolate Bar, 3 oz",
           3,
           2.7
          ],
          [
           "Organic Fair Trade Salted Almond (70%) Dark Chocolate Bar, 3 oz",
           3,
           2.7
          ],
          [
           "Organic Manuka Honey Drops Eucalyptus, 4 oz",
           9.79,
           8.81
          ],
          [
           "Cinnamon & Oats Seed Bar, 1.6 oz",
           1.79,
           1.61
          ],
          [
           "Organic Black Rice Quinoa Crunch 5% Dark Chocolate Bar, 3 oz",
           3,
           2.7
          ],
          [
           "Dark Chocolate Sea Salt Seed Bar, 1.6 oz",
           1.79,
           1.61
          ],
          [
           "Organic Fair Trade Pure (85%) Dark Chocolate Bar, 3 oz",
           3,
           2.7
          ],
          [
           "Spiced Ginger Apple Seed Bar, 1.6 oz",
           1.79,
           1.61
          ],
          [
           "Organic Manuka Honey Drops Lemon, 4 oz",
           9.79,
           8.81
          ],
          [
           "Sea Salt Popcorn Mini Cakes, 5 oz",
           3,
           2.7
          ],
          [
           "Organic Jerky Hickory Smokehouse, 2 oz",
           4.49,
           4.04
          ],
          [
           "Trade Orange (70%) Dark Chocolate Bar, 3 oz",
           3,
           2.7
          ],
          [
           "Salted Caramel Popcorn Mini Cakes, 5 oz",
           3,
           2.7
          ],
          [
           "Sea Salt 70% Dark Chocolate Bar, 3 oz",
           3,
           2.7
          ],
          [
           "Organic Jerky Sea Salt + Cracked, 2 oz",
           4.49,
           4.04
          ],
          [
           "Jerky Habanero BBQ, 2 oz",
           4.49,
           4.04
          ],
          [
           "Jerky Maple Mustard, 2 oz",
           4.49,
           4.04
          ],
          [
           "Sea Salt & Pepper Venison Bars, 1.3 oz",
           8.99,
           8.09
          ],
          [
           "Organic Jerky Teriyaki Ginger, 2 oz",
           4.49,
           4.04
          ],
          [
           "Organic Manuka Honey Drops Ginger, 4 oz",
           9.79,
           8.81
          ],
          [
           "White Chocolate Style Bar, 2.8 oz",
           2.79,
           2.51
          ],
          [
           "Cheddar Popcorn Mini Cakes, 5 oz",
           3,
           2.7
          ],
          [
           "Peanut Butter Chocolate Chip Bar, 2.12 oz",
           2,
           1.8
          ],
          [
           "Unique Original Pretzel Splits, 11 oz",
           3.5,
           3.15
          ],
          [
           "Nutrition Bar Pecan Goji Pistachio, 1.7 ounce",
           2,
           1.8
          ],
          [
           "Chocolate Almond Butter Sea Salt Food Bar, 1.7 oz",
           2,
           1.8
          ],
          [
           "Unique Extra Dark Pretzel Splits, 11 oz",
           3.5,
           3.15
          ],
          [
           "Chocolate Coconut Cashew Bar, 1.7 oz",
           2,
           1.8
          ],
          [
           "Chocolate Fudge Brownie Protein Bar, 25.44 oz",
           2,
           1.8
          ],
          [
           "Chocolate Chip Cookie Dough Protein Bar, 2.12 oz",
           2,
           1.8
          ],
          [
           "Birthday Cake Protein Bar, 25.44 oz",
           2,
           1.8
          ],
          [
           "Cashew Fig Carrot Bar, 1.7 oz",
           2,
           1.8
          ],
          [
           "Organic Farmers Market Mix Muesli, 12 oz",
           4.99,
           4.49
          ],
          [
           "Chunky Peanut Butter Protein Bar, 25.44 oz",
           2,
           1.8
          ],
          [
           "Organic Apricots Dried Fruit, 6 oz",
           4.99,
           4.49
          ],
          [
           "Milk Chocolate Style Peanut Butter Cups, 3.2 oz",
           4.79,
           4.31
          ],
          [
           "Dark Chocolate Peanut Butter Cups, 3.2 oz",
           4.79,
           4.31
          ],
          [
           "Vanilla Almond Butter, 1.13 oz",
           1.29,
           1.16
          ],
          [
           "Sea Salt Corn Dippers, 9.25 oz",
           3.5,
           3.15
          ],
          [
           "Salted Toffee 55% Dark Chocolate, 3 oz",
           3,
           2.7
          ],
          [
           "Mild Tangy Vegan Almond Spread, 12 oz",
           7.99,
           7.19
          ],
          [
           "Uncured Bacon & Cranberry Bison Bars, 1.3 oz",
           8.99,
           8.09
          ],
          [
           "Organic Manuka Honey Drops Honey, 4 oz",
           10.29,
           9.26
          ],
          [
           "Blue Raspberry Watermelon Lollipops Multipack, 3 oz",
           5.99,
           5.39
          ],
          [
           "Apple + Cherry Fruit Bar 12pk, 14.4 oz",
           18,
           16.2
          ],
          [
           "White Cheddar Skinny Pop Popcorn, 4.4 oz",
           3,
           2.7
          ],
          [
           "Skinny Pop Popcorn, 4.4 oz",
           3,
           2.7
          ],
          [
           "Organic Hazelnut Crisp 45% Milk Chocolate Bar, 3 oz",
           3,
           2.7
          ],
          [
           "Almond Butter Protein Bar, 1.8 oz",
           2.5,
           2.25
          ],
          [
           "Peppermint Natural Chewing Gum, 15 pieces",
           2.5,
           2.25
          ],
          [
           "Chocolate Raspberry Protein Bar, 1.8 oz",
           2.5,
           2.25
          ],
          [
           "Avocado Oil Sea Salt Potato Chips, 5.25 oz",
           2.5,
           2.25
          ],
          [
           "Cinnamon Natural Chewing Gum, 15 pieces",
           2.5,
           2.25
          ],
          [
           "Cleanse Natural Chewing Gum, 15 pieces",
           2.5,
           2.25
          ],
          [
           "Spearmint Natural Chewing Gum, 15 pieces",
           2.5,
           2.25
          ],
          [
           "Almond Butter Blackberry Jelly Protein Bar Single, 1.59 oz",
           2.5,
           2.25
          ],
          [
           "Ginger Natural Chewing Gum, 15 pieces",
           2.5,
           2.25
          ],
          [
           "Olive Oil Potato Chips, 6.5 oz",
           2.5,
           2.25
          ],
          [
           "Protein Bar, 1.8 oz",
           2.5,
           2.25
          ],
          [
           "Peppermint Mints, 1.1 oz",
           2.5,
           2.25
          ],
          [
           "Avocado Oil Canyon Cut Sea Salt & Cracked Pepper Potato Chips, 5.25 oz",
           2.5,
           2.25
          ],
          [
           "Salty-sweet Hazelnut Bar, 3.9 oz",
           6.69,
           6.02
          ],
          [
           "Salty-sweet Cashew 41% Milk Chocolate Bar, 3.9 oz",
           6.69,
           6.02
          ],
          [
           "Hickory Smoked Bacon Bits, 3 oz",
           5.49,
           4.94
          ],
          [
           "Salted Cashew 85% Extra Dark Chocolate Bar, 3 oz",
           3,
           2.7
          ],
          [
           "Lemon Meringue Pie Protein Bar, 25.44 oz",
           2,
           1.8
          ],
          [
           "Organic Value Size Real Thin Sea Salt Crackers, 14 oz",
           9.99,
           8.99
          ],
          [
           "Milk Chocolte Nutty Crunch Circles Bar, 6.35 oz",
           3.99,
           3.59
          ],
          [
           "Apple + Mango Fruit Bar 12pk",
           18,
           16.2
          ],
          [
           "Peanut Butter Chocolate Chip Mini Bars, 7.8 oz",
           5.79,
           5.21
          ],
          [
           "Crackers Taralli Fennel",
           5.99,
           5.39
          ],
          [
           "Chocolate Chip Cookie Dough Mini Bars, 7.8 oz",
           5.79,
           5.21
          ],
          [
           "Organic Super Dark Peanut Butter Cups, 0.7 oz",
           4.99,
           4.49
          ],
          [
           "Ruby Cacao Raspberry & Pistachio Bar, 3.5 oz",
           7.69,
           6.92
          ],
          [
           "Blue Tortilla Chips, 16 oz",
           4.99,
           4.49
          ],
          [
           "Organic Chocolate Chip Macaroons, 6 oz",
           4.99,
           4.49
          ],
          [
           "Organic Super Dark Espresso Almond Butter Cups, 0.7 oz",
           4.99,
           4.49
          ],
          [
           "Red Hot Blues Tortilla Chips, 16 oz",
           4.99,
           4.49
          ],
          [
           "32% Milk Chocolate Caramel Sea Salt Bar, 6.35 oz",
           3.99,
           3.59
          ],
          [
           "32% Milk Chocolate Bar, 6.35 oz",
           3.99,
           3.59
          ],
          [
           "42% Dark Milk Chocolate Pretzel Toffee Bar, 6.35 oz",
           3.99,
           3.59
          ],
          [
           "32% Milk Chocolate Honey Almond Nougat Bar, 6.35 oz",
           3.99,
           3.59
          ],
          [
           "Dark Milk Chocolate Bar, 6.35 oz",
           3.99,
           3.59
          ],
          [
           "Organic Chocolate Covered Coconut Cookie Bite Peanut Butter, 3.5 oz",
           3.99,
           3.59
          ],
          [
           "51% Dark Chocolate Pecan Coconut Bar, 6.35 oz",
           3.99,
           3.59
          ],
          [
           "Milk Wafer Strips, 6.35 oz",
           3.99,
           3.59
          ],
          [
           "32% Milk Chocolate Hazelnut Bar, 6.35 oz",
           3.99,
           3.59
          ],
          [
           "70% Dark Chocolate Bar, 6.35 oz",
           3.99,
           3.59
          ],
          [
           "Heirloom Crunchies Parmesan Truffle, 7 oz",
           3.5,
           3.15
          ],
          [
           "Organic Fair Trade Mint (70%) Dark Chocolate Bar, 3 oz",
           3,
           2.7
          ],
          [
           "Chocolate Covered Almonds Milk Chocolate, 3.5 ounce",
           4.79,
           4.31
          ],
          [
           "Toasted Muesli",
           5.99,
           5.39
          ],
          [
           "Milk Chocolate Covered Caramels, 3.5 oz",
           4.79,
           4.31
          ],
          [
           "Hazelnut Butter Keto Cups 7-pack, 4.93 oz",
           8.99,
           8.09
          ],
          [
           "Creamy Milk Chocolate, 3 oz",
           2.79,
           2.51
          ],
          [
           "70% Extra Dark Chocolate, 2.8 oz",
           2.79,
           2.51
          ],
          [
           "Dark Chocolate Covered Caramels, 3.5 oz",
           4.79,
           4.31
          ],
          [
           "Dark Chocolate Caramel Popcorn, 3.5 oz",
           4.79,
           4.31
          ],
          [
           "Simply Beef Sea Salt And Pepper Bar, 1.3 oz",
           2.5,
           2.25
          ],
          [
           "Milk Chocolate Style Covered Peanuts, 3.5 oz",
           4.79,
           4.31
          ],
          [
           "Himalayan Salt Veggie Pita Crackers, 4.25 oz",
           3.99,
           3.59
          ],
          [
           "Chocolate Sea Salt and PB Chocolate Mini Bars, 0.9 oz",
           7.99,
           7.19
          ],
          [
           "Crunchy Toasted Pecan Cookies, 5.5 oz",
           3.99,
           3.59
          ],
          [
           "Soft-baked Chocolate Chip Cookies, 6.2 oz",
           3.99,
           3.59
          ],
          [
           "Hazelnut Butter Keto Cups 2-pack, 1.4 oz",
           2.5,
           2.25
          ],
          [
           "Dark Chocolate Coverd Almonds, 3.5 oz",
           4.79,
           4.31
          ],
          [
           "Chocolate Chip Cookies, 6 oz",
           3.99,
           3.59
          ],
          [
           "Coconut Butter Keto Cups 2-pack, 1.4 oz",
           2.5,
           2.25
          ],
          [
           "Everything Seed Crackers, 4.25 oz",
           3.99,
           3.59
          ],
          [
           "Roasted Red Pepper Veggie Pita Crackers, 4.25 oz",
           3.99,
           3.59
          ],
          [
           "Honey Cinnamon Sweet Thins, 4.25 oz",
           3.99,
           3.59
          ],
          [
           "Simply Beef Jalapeno Bar, 1.3 oz",
           2.5,
           2.25
          ],
          [
           "Sourmelon Bites, 5.3 oz",
           8.99,
           8.09
          ],
          [
           "Cola Gummies Pantry Pack, 5.3 oz",
           8.99,
           8.09
          ],
          [
           "Farmhouse Cheddar Almond Flour Crackers, 4.25 oz",
           3.99,
           3.59
          ],
          [
           "Rosemary & Sea Salt Almond Flour Crackers, 4.25 oz",
           3.99,
           3.59
          ],
          [
           "Fine Ground Sea Salt Almond Flour Crackers, 4.25 oz",
           3.99,
           3.59
          ],
          [
           "Sundried Tomato & Basil Almond Flour Crackers, 4.25 oz",
           3.99,
           3.59
          ],
          [
           "Organic Chocolate Covered Coconut Cookie Vanilla Bites, 3.5 oz",
           3.99,
           3.59
          ],
          [
           "Mediterranean Herb Veggie Pita Crackers, 4.25 oz",
           3.99,
           3.59
          ],
          [
           "Organic Real Thin Garlic Rsmry Crackers, 5 oz",
           3.99,
           3.59
          ],
          [
           "Bison Bacon Cran Bar, 1.3 oz",
           2.5,
           2.25
          ],
          [
           "Crunchy Chocolate Chip Cookies, 5.5 oz",
           3.99,
           3.59
          ],
          [
           "Uncured Bacon Bar, 1 each",
           2.5,
           2.25
          ],
          [
           "Refrigerated Snack Bar, Chocolate Chip, 5 bars",
           3.99,
           3.59
          ],
          [
           "Sea Salt Plantain Chips, 4 oz",
           1.79,
           1.61
          ],
          [
           "Crunchy Double Chocolate Cookies, 5.5 oz",
           3.99,
           3.59
          ],
          [
           "Original Seed Crackers, 4.25 oz",
           3.99,
           3.59
          ],
          [
           "Organic Real Thin Sea Salt Crackers, 5 oz",
           3.99,
           3.59
          ],
          [
           "Garlic And Herb Seed Crackers, 4.25 oz",
           3.99,
           3.59
          ],
          [
           "Salted Almond 70% Dark Chocolate, 2.8 oz",
           2.79,
           2.51
          ],
          [
           "Cracked Black Pepper Almond Flour Crackers, 4.25 oz",
           3.99,
           3.59
          ],
          [
           "Milk Chocolate Caramel Popcorn, 3.5 oz",
           4.79,
           4.31
          ]
         ],
         "hovertemplate": "category=snacks_chips_salsas_dips<br>Prime Discount by Percent=%{x}<br>Regular Prices of Products=%{y}<br>product=%{customdata[0]}<br>sale=%{customdata[1]}<br>prime=%{customdata[2]}<extra></extra>",
         "legendgroup": "snacks_chips_salsas_dips",
         "marker": {
          "color": "#ab63fa",
          "symbol": "circle"
         },
         "mode": "markers",
         "name": "snacks_chips_salsas_dips",
         "showlegend": true,
         "type": "scattergl",
         "x": [
          0.30816640986132515,
          0.31506849315068497,
          0.43609022556390975,
          0.4649298597194389,
          0.43609022556390975,
          0.2969034608378871,
          0.43609022556390975,
          0.43609022556390975,
          0.43609022556390975,
          0.43609022556390975,
          0.43609022556390975,
          0.4468412942989215,
          0.43609022556390975,
          0.1736227045075125,
          0.14308426073131963,
          0.4618937644341802,
          0.43609022556390975,
          0.43609022556390975,
          0.30816640986132515,
          0.43609022556390975,
          0.2984409799554566,
          0.1736227045075125,
          0.46092184368737477,
          0.46351931330472107,
          0.14677538917716826,
          0.14192647743136333,
          0.18214936247723135,
          0.18214936247723135,
          0.18350324374420746,
          0.1845979614949036,
          0.1845979614949036,
          0.2814070351758794,
          0.2814070351758794,
          0.2808022922636104,
          0.19019019019019023,
          0.19019019019019023,
          0.19019019019019023,
          0.2808022922636104,
          0.19019019019019023,
          0.19019019019019023,
          0.2808022922636104,
          0.2808022922636104,
          0.2808022922636104,
          0.18214936247723135,
          0.18214936247723135,
          0.18214936247723135,
          0.48630136986301364,
          0.14192647743136333,
          0.2939068100358423,
          0.2939068100358423,
          0.14192647743136333,
          0.14192647743136333,
          0.14192647743136333,
          0.14050822122571005,
          0.46616541353383467,
          0.14192647743136333,
          0.2918454935622318,
          0.29023746701846964,
          0.29023746701846964,
          0.29023746701846964,
          0.14031180400890875,
          0.46616541353383467,
          0.18214936247723135,
          0.4682274247491639,
          0.18214936247723135,
          0.31506849315068497,
          0.4346733668341709,
          0.4280510018214936,
          0.31506849315068497,
          0.15505537692032867,
          0.33085501858736055,
          0.33085501858736055,
          0.33085501858736055,
          0.2808022922636104,
          0.1565762004175365,
          0.3706293706293706,
          0.32330827067669177,
          0.14572864321608037,
          0.32330827067669177,
          0.3706293706293706,
          0.3706293706293706,
          0.3706293706293706,
          0.38632750397456284,
          0.40066777963272127,
          0.40066777963272127,
          0.1452420701168614,
          0.32330827067669177,
          0.32330827067669177,
          0.15505537692032867,
          0.33152909336941805,
          0.14572864321608037,
          0.14677538917716826,
          0.3573981415296641,
          0.14572864321608037,
          0.3460837887067396,
          0.3460837887067396,
          0.14572864321608037,
          0.3460837887067396,
          0.14572864321608037,
          0.3460837887067396,
          0.14572864321608037,
          0.14572864321608037,
          0.14572864321608037,
          0.3460837887067396,
          0.14572864321608037,
          0.3460837887067396,
          0.3460837887067396,
          0.14572864321608037,
          0.3460837887067396,
          0.3584229390681003,
          0.32330827067669177,
          0.31506849315068497,
          0.32330827067669177,
          0.1452420701168614,
          0.16344463971880496,
          0.16344463971880496,
          0.321608040201005,
          0.321608040201005,
          0.321608040201005,
          0.16697588126159546,
          0.321608040201005,
          0.321608040201005,
          0.16344463971880496,
          0.321608040201005,
          0.4280510018214936,
          0.16795069337442214,
          0.320600272851296,
          0.320600272851296,
          0.4346733668341709,
          0.4346733668341709,
          0.31610942249240126,
          0.31506849315068497,
          0.321608040201005,
          0.321608040201005,
          0.16344463971880496,
          0.16344463971880496,
          0.32330827067669177,
          0.4104803493449781,
          0.4104803493449781,
          0.1452420701168614,
          0.32330827067669177,
          0.32330827067669177,
          0.1452420701168614,
          0.32330827067669177,
          0.4229390681003584,
          0.4243070362473348,
          0.4280510018214936,
          0.32330827067669177,
          0.32330827067669177,
          0.32330827067669177,
          0.3232949512843224,
          0.16201117318435754,
          0.3232949512843224,
          0.3232949512843224,
          0.14572864321608037,
          0.4104803493449781,
          0.2808022922636104,
          0.19354838709677424,
          0.19019019019019023,
          0.22636103151862463,
          0.22636103151862463,
          0.2652210175145955,
          0.2648401826484018,
          0.22636103151862463,
          0.2648401826484018,
          0.22636103151862463,
          0.2648401826484018,
          0.2652210175145955,
          0.22636103151862463,
          0.2641165755919854,
          0.22636103151862463,
          0.22636103151862463,
          0.22636103151862463,
          0.2641165755919854,
          0.2641165755919854,
          0.2641165755919854,
          0.26387625113739765,
          0.2641165755919854,
          0.2652210175145955,
          0.2808022922636104,
          0.22636103151862463,
          0.27710843373493976,
          0.21052631578947378,
          0.27710843373493976,
          0.27710843373493976,
          0.21052631578947378,
          0.27710843373493976,
          0.27710843373493976,
          0.27710843373493976,
          0.27710843373493976,
          0.27710843373493976,
          0.21089630931458703,
          0.27710843373493976,
          0.21089630931458703,
          0.21493624772313302,
          0.21493624772313302,
          0.2214765100671141,
          0.26573426573426573,
          0.22636103151862463,
          0.26557711950970364,
          0.26387625113739765,
          0.22768974145120935,
          0.22889842632331914,
          0.2548298068077277,
          0.24791086350974922,
          0.24791086350974922,
          0.24791086350974922,
          0.24749163879598668,
          0.24749163879598668,
          0.24749163879598668,
          0.24749163879598668,
          0.24749163879598668,
          0.24749163879598668,
          0.24749163879598668,
          0.24749163879598668,
          0.24749163879598668,
          0.24749163879598668,
          0.24749163879598668,
          0.24749163879598668,
          0.24749163879598668,
          0.24655819774718402,
          0.24655819774718402,
          0.23882896764252692,
          0.24791086350974922,
          0.27710843373493976,
          0.25020850708924103,
          0.23454157782516005,
          0.2548298068077277,
          0.2546494992846925,
          0.22889842632331914,
          0.2546494992846925,
          0.25041736227045075,
          0.23025583982202447,
          0.25041736227045075,
          0.25041736227045075,
          0.25041736227045075,
          0.25041736227045075,
          0.23454157782516005,
          0.23454157782516005,
          0.23454157782516005,
          0.23454157782516005,
          0.23454157782516005,
          0.23454157782516005,
          0.23454157782516005,
          0.23454157782516005,
          0.23454157782516005,
          0.23454157782516005,
          0.21052631578947378,
          0.22636103151862463,
          0.28046744574290494,
          0.1943198804185352,
          0.28046744574290494,
          0.19019019019019023,
          0.2808022922636104,
          0.2808022922636104,
          0.28046744574290494,
          0.28046744574290494,
          0.19354838709677424,
          0.28046744574290494,
          0.28056112224448904,
          0.2802802802802803,
          0.28056112224448904,
          0.28056112224448904,
          0.19354838709677424,
          0.28046744574290494,
          0.20044543429844108,
          0.19354838709677424,
          0.28056112224448904,
          0.28056112224448904,
          0.28056112224448904,
          0.19354838709677424,
          0.19019019019019023,
          0.19019019019019023,
          0.28056112224448904,
          0.28056112224448904,
          0.28056112224448904,
          0.28056112224448904,
          0.28056112224448904,
          0.28056112224448904,
          0.28056112224448904,
          0.19354838709677424,
          0.28056112224448904,
          0.19354838709677424,
          0.28056112224448904,
          0.19095477386934667,
          0.28056112224448904,
          0.28056112224448904,
          0.28056112224448904,
          0.28056112224448904,
          0.2808022922636104,
          0.28056112224448904,
          0.28046744574290494
         ],
         "xaxis": "x",
         "y": [
          6.49,
          2.19,
          3.99,
          4.99,
          3.99,
          5.49,
          3.99,
          3.99,
          3.99,
          3.99,
          3.99,
          6.49,
          3.99,
          5.99,
          6.29,
          12.99,
          3.99,
          3.99,
          6.49,
          3.99,
          4.49,
          5.99,
          4.99,
          6.99,
          13.49,
          21.49,
          5.49,
          5.49,
          10.79,
          26.49,
          26.49,
          1.99,
          1.99,
          3.49,
          9.99,
          9.99,
          9.99,
          3.49,
          9.99,
          9.99,
          3.49,
          3.49,
          3.49,
          5.49,
          5.49,
          5.49,
          2.19,
          21.49,
          2.79,
          2.79,
          21.49,
          21.49,
          21.49,
          6.69,
          3.99,
          21.49,
          6.99,
          3.79,
          3.79,
          3.79,
          4.49,
          3.99,
          5.49,
          2.99,
          5.49,
          2.19,
          1.99,
          5.49,
          2.19,
          27.99,
          2.69,
          2.69,
          2.69,
          3.49,
          4.79,
          4.29,
          3.99,
          1.99,
          3.99,
          4.29,
          4.29,
          4.29,
          6.29,
          5.99,
          5.99,
          5.99,
          3.99,
          3.99,
          27.99,
          7.39,
          1.99,
          13.49,
          13.99,
          1.99,
          5.49,
          5.49,
          1.99,
          5.49,
          1.99,
          5.49,
          1.99,
          1.99,
          1.99,
          5.49,
          1.99,
          5.49,
          5.49,
          1.99,
          5.49,
          2.79,
          3.99,
          2.19,
          3.99,
          5.99,
          5.69,
          5.69,
          1.99,
          1.99,
          1.99,
          5.39,
          1.99,
          1.99,
          5.69,
          1.99,
          5.49,
          6.49,
          21.99,
          21.99,
          1.99,
          1.99,
          3.29,
          2.19,
          1.99,
          1.99,
          5.69,
          5.69,
          3.99,
          2.29,
          2.29,
          5.99,
          3.99,
          3.99,
          5.99,
          3.99,
          2.79,
          4.69,
          5.49,
          3.99,
          3.99,
          3.99,
          11.29,
          1.79,
          11.29,
          11.29,
          1.99,
          2.29,
          3.49,
          2.79,
          9.99,
          3.49,
          3.49,
          11.99,
          2.19,
          3.49,
          2.19,
          3.49,
          2.19,
          11.99,
          3.49,
          5.49,
          3.49,
          3.49,
          3.49,
          5.49,
          5.49,
          5.49,
          10.99,
          5.49,
          11.99,
          3.49,
          3.49,
          2.49,
          3.99,
          2.49,
          2.49,
          3.99,
          2.49,
          2.49,
          2.49,
          2.49,
          2.49,
          5.69,
          2.49,
          5.69,
          5.49,
          5.49,
          1.49,
          4.29,
          3.49,
          9.79,
          10.99,
          11.99,
          6.99,
          21.74,
          3.59,
          3.59,
          3.59,
          2.99,
          2.99,
          2.99,
          2.99,
          2.99,
          2.99,
          2.99,
          2.99,
          2.99,
          2.99,
          2.99,
          2.99,
          2.99,
          7.99,
          7.99,
          6.49,
          3.59,
          2.49,
          11.99,
          4.69,
          21.74,
          6.99,
          6.99,
          6.99,
          5.99,
          8.99,
          5.99,
          5.99,
          5.99,
          5.99,
          4.69,
          4.69,
          4.69,
          4.69,
          4.69,
          4.69,
          4.69,
          4.69,
          4.69,
          4.69,
          3.99,
          3.49,
          5.99,
          6.69,
          5.99,
          9.99,
          3.49,
          3.49,
          5.99,
          5.99,
          2.79,
          5.99,
          4.99,
          9.99,
          4.99,
          4.99,
          2.79,
          5.99,
          4.49,
          2.79,
          4.99,
          4.99,
          4.99,
          2.79,
          9.99,
          9.99,
          4.99,
          4.99,
          4.99,
          4.99,
          4.99,
          4.99,
          4.99,
          2.79,
          4.99,
          2.79,
          4.99,
          1.99,
          4.99,
          4.99,
          4.99,
          4.99,
          3.49,
          4.99,
          5.99
         ],
         "yaxis": "y"
        },
        {
         "customdata": [
          [
           "Wild Berry Energy Supplement, 10 tablets",
           6,
           5.4
          ],
          [
           "Vanilla Complete Plant Protein, 15.87 oz",
           25.49,
           22.94
          ],
          [
           "B LXR Brain Fuel, 2.1 fl oz",
           25.49,
           22.94
          ],
          [
           "Hawthorn Supreme Liquid Caps, 60 capsules",
           25.49,
           22.94
          ],
          [
           "Raspberry Lemonade Pre-workout, 12.7 oz",
           33.99,
           30.59
          ],
          [
           "Organic Mykind Women's Once Daily Multi, 36 tablets",
           25.49,
           22.94
          ],
          [
           "Organic Hemp Seeds, 8 Oz",
           9.79,
           8.81
          ],
          [
           "B.powered Superfood Honey, 11.6 oz",
           33.99,
           30.59
          ],
          [
           "Every Woman™'s One Daily, 48 vegetarian tablets",
           25.49,
           22.94
          ],
          [
           "Vanilla & Greens Superfood Blend, 8.4 oz",
           21.49,
           19.34
          ],
          [
           "Vanilla Protein Bone Broth, 17.4 oz",
           36.99,
           33.29
          ],
          [
           "Chocolate Bone Broth Protein, 17.8 oz",
           36.99,
           33.29
          ],
          [
           "Organic Bronchial Wellness For Kids, 3 fl oz",
           15.29,
           13.76
          ],
          [
           "Perfect Postnatal™ Multivitamin, 96 vegetarian tablets",
           30.99,
           27.89
          ],
          [
           "Vitamin Code Raw One For Women, 75 capsules",
           31.49,
           28.34
          ],
          [
           "Chocolate Coconut Collagen Protein, 13.89 oz",
           31.49,
           28.34
          ],
          [
           "Magnesium 300 Mg With Silica, 60 capsules",
           7.49,
           6.74
          ],
          [
           "Unflavored Collagen Peptides, 20 oz",
           37.49,
           33.74
          ],
          [
           "Organic Plain Unsweetened Whey Protein, 12 oz",
           25.99,
           23.39
          ],
          [
           "Organic Bourbon Vanilla Whey Protein, 12 oz",
           25.99,
           23.39
          ],
          [
           "Vanilla Coconut Collagen Fuel, 13.05 oz",
           33.99,
           30.59
          ],
          [
           "Rapidrelief Black Elderberry Syrp, 3 fl oz",
           16.99,
           15.29
          ],
          [
           "Wild Raspberry Electrolyte Powder Packet, 0.11 oz",
           0.79,
           0.71
          ],
          [
           "Melatonin 3mg, 60 tablets",
           8.49,
           7.64
          ],
          [
           "Unsweetened Yeast Flakes, 12 oz",
           13.99,
           12.59
          ],
          [
           "PartySmart 6 Count",
           10.49,
           9.44
          ],
          [
           "Golden Milk, 4.3 oz",
           17.79,
           16.01
          ],
          [
           "Goji, Coconut, & Acai Smoothie Booster, 11.4 oz",
           20.99,
           18.89
          ],
          [
           "Cacao & Peanut Butter Smoothie Booster, 11.4 oz",
           20.99,
           18.89
          ],
          [
           "Vitamin D3 Softgels, 5000 Iu, 200 softgels",
           15.49,
           13.94
          ],
          [
           "Reishi Organic Mushro Powder, 3.5 oz",
           23.99,
           21.59
          ],
          [
           "Organic Lions Mane Matrix Powder, 3.5 oz",
           23.99,
           21.59
          ],
          [
           "High Potency Biotin Vegan Capsules 5mg, 60 capsules",
           10.99,
           9.89
          ],
          [
           "Collagen Peptide Protein Powder, 10 oz",
           21.49,
           19.34
          ],
          [
           "Berry D-licious Vitamin D3 2,500 Iu",
           13.49,
           12.14
          ],
          [
           "Brain & Focus Multivitamin, 90 mini-tabs",
           26.99,
           24.29
          ],
          [
           "Vegan Protein Powder, 16.7 oz",
           37.99,
           34.19
          ],
          [
           "Vanilla Whey Protein, 32 oz",
           37.99,
           34.19
          ],
          [
           "Chocolate Whey Protein, 32 oz",
           37.99,
           34.19
          ],
          [
           "Womens Complete Multivitamin Gummies, 180 gummies",
           24.49,
           22.04
          ],
          [
           "Chocolate Raw Organic Protein, 23.28 oz",
           35.49,
           31.94
          ],
          [
           "Alkalize & Detox Green Superfood, 8.5 oz",
           27.99,
           25.19
          ],
          [
           "Orange Pkt, 0.3 oz",
           0.59,
           0.53
          ],
          [
           "Chocolate Complete Plant Protein, 15.87 oz",
           27.99,
           25.19
          ],
          [
           "The Original Green Superfood, 8.5 oz",
           27.99,
           25.19
          ],
          [
           "Black Currant Flavor Rescue Pastilles, 1 each",
           8.49,
           7.64
          ],
          [
           "Lemonade Electrolyte Powder Packet, 0.12 oz",
           0.79,
           0.71
          ],
          [
           "Yum Yum Dophilus, 120 tablet",
           19.79,
           17.81
          ],
          [
           "Blueberry Pomegranate Hydration, 1.9 ounce",
           5.79,
           5.21
          ],
          [
           "Grape Electrolyte Powder Packet, 0.12 oz",
           0.79,
           0.71
          ],
          [
           "Creamy Chocolate Fudge Organic Protein Powder, 2.03 lb",
           33.49,
           30.14
          ],
          [
           "Sweet Vanilla Bean Organic Plant Based Protein Powder, 32.4 oz",
           33.49,
           30.14
          ],
          [
           "40+ Every Woman™'s One Daily Multivitamin, 96 tablets",
           51.49,
           46.34
          ],
          [
           "Organic Booster Collagen Powder 30 Serve, 5.29 oz",
           15.29,
           13.76
          ],
          [
           "Magnesium 300 MG With Silica, 120 capsules",
           12.99,
           11.69
          ],
          [
           "Organic Energy + Focus Energy Shot, 2 fl oz",
           3.19,
           2.87
          ],
          [
           "Organic Immunity Boost Wellness Shot, 2 fl oz",
           3.19,
           2.87
          ],
          [
           "Organic Elderberry Immunity Boost Wellness Shot, 2 fl oz",
           3.19,
           2.87
          ],
          [
           "Organic Wellness Rescue Shot, 2 fl oz",
           3.19,
           2.87
          ],
          [
           "Organic Cayenne Immunity Boost Wellness Shot, 2 fl oz",
           3.19,
           2.87
          ],
          [
           "Brain Juice Peach Mango, 2.5 fl oz",
           3.39,
           3.05
          ],
          [
           "Vitamin D3 5000IU, 60 softgels",
           22.49,
           20.24
          ],
          [
           "Collagen Peptide Protein Powder Packet, 0.35 oz",
           1.69,
           1.52
          ],
          [
           "40+ Every Woman™'s One Daily Multivitamin, 72 vegetarian tablets",
           53.49,
           48.14
          ],
          [
           "Ultimate Flora, 30 chewable tablets",
           14.49,
           13.04
          ],
          [
           "Chocolate Cacao Organic Shake & Meal Replacement (34.8 Oz), 35.9 oz",
           46.49,
           41.84
          ],
          [
           "Organic Glow Vanilla Honeysuckle Amazing Protein, 11.1 oz",
           28.99,
           26.09
          ],
          [
           "Herbs Kick-Ass Immune Activator - Organic Herbal Immune Booster, Promotes Healthy Immune System Response and Resistance, Use for Early Onset of Sickness (1oz Dropper)",
           11.29,
           10.16
          ],
          [
           "Vanilla Plant Protein, 31.75 oz",
           44.49,
           40.04
          ],
          [
           "Spirulina Pacifica Powder, 5 oz",
           15.79,
           14.21
          ],
          [
           "Zinc Food Complex, 60 vegetarian tablets",
           19.99,
           17.99
          ],
          [
           "Organic Camu Powder, 3 oz",
           18.39,
           16.55
          ],
          [
           "Organic Goji Powder, 4 Oz",
           12.39,
           11.15
          ],
          [
           "Immunity Boost, 8 fl oz",
           11.99,
           10.79
          ],
          [
           "Organic Golden Milk Super Blend, 6 oz",
           11.29,
           10.16
          ],
          [
           "Turmeric Force™, 120 vegetarian capsules",
           44.99,
           40.49
          ],
          [
           "Bone Strength Take Care™, 120 vegetarian slim tablets",
           40.99,
           36.89
          ],
          [
           "Wholemega™ Fish Oil, 60 bse-free softgels",
           19.29,
           17.36
          ],
          [
           "Fermented Vitamin B Complex",
           15.29,
           13.76
          ],
          [
           "Organic Supergreens Powder, 5.29 oz",
           12.79,
           11.51
          ],
          [
           "PartySmart®, 1 each",
           1.99,
           1.79
          ],
          [
           "Organic Hemp Powder, 12 oz",
           11.29,
           10.16
          ],
          [
           "Chocolate Whey Protein Powder Packet, 1.16 oz",
           3.19,
           2.87
          ],
          [
           "40+ Every Man™'s One Daily Multivitamin, 24 vegetarian tablets",
           20.49,
           18.44
          ],
          [
           "Raspberry Lemonade Pre-Workout Energy Drink Mix, 0.42 oz",
           3.19,
           2.87
          ],
          [
           "Broken Cell Wall Chlorella Tablets, 2 oz",
           11.29,
           10.16
          ],
          [
           "55+ Every Man™'s One Daily Multivitamin, 24 vegetarian tablets",
           23.99,
           21.59
          ],
          [
           "Organic Chia Seeds",
           8.29,
           7.46
          ],
          [
           "55+ Every Woman™'s One Daily Multivitamin, 72 tablets",
           51.99,
           46.79
          ],
          [
           "55+ Every Man™'s One Daily Multivitamin, 72 vegetarian tablets",
           51.99,
           46.79
          ],
          [
           "One Organic Plain Unsweetened Large Tub, 26.9 oz",
           50.49,
           45.44
          ],
          [
           "One Organic Chocolate Large Tub, 25 oz",
           50.49,
           45.44
          ],
          [
           "One Organic Berry Large Tub, 24.3 oz",
           50.49,
           45.44
          ],
          [
           "One Organic French Vanilla Large Tub, 24.3 oz",
           50.49,
           45.44
          ],
          [
           "Fermented Vitamin C",
           21.99,
           19.79
          ],
          [
           "Bone Strength Take Care™, 180 tablets",
           56.99,
           51.29
          ],
          [
           "Strawberry Lemonade Hydration, 10 tablets",
           6,
           5.4
          ],
          [
           "Every Man™'s One Daily Whole-Food Multivitamin, 72 vegetarian tablets",
           37.99,
           34.19
          ],
          [
           "Organic Protein™ + Superfoods Powder - Plant Based Creamy Chocolate Fudge, 2.02 lb",
           35.99,
           32.39
          ],
          [
           "Vanilla Protein + Superfoods, 2.02 pound",
           35.99,
           32.39
          ],
          [
           "40+ Every Woman™'s One Daily multivitamin, 48 tablets",
           31.99,
           28.79
          ],
          [
           "Sunfood Organic Turmeric Powder, 4 oz",
           5.29,
           4.76
          ],
          [
           "Women's Daily Probiotic",
           27.99,
           25.19
          ],
          [
           "Every Woman™'s One Daily, 72 vegetarian tablets",
           37.99,
           34.19
          ],
          [
           "Wormwood Black Walnut Supreme, 1 each",
           14.49,
           13.04
          ],
          [
           "Vanilla Whey Protein Single Packet, 1.09 oz",
           3.19,
           2.87
          ],
          [
           "Organic Matcha Powder, 4 oz",
           16.49,
           14.84
          ],
          [
           "Organic Gymnema, 60 caplets",
           16.29,
           14.66
          ],
          [
           "Organic Ashwagandha, 60 caplet",
           16.29,
           14.66
          ],
          [
           "Organic Vanilla Plant Protein Powder, 1.2 lb",
           26.99,
           24.29
          ],
          [
           "Liquid Chlorophyll, 1 each",
           8.69,
           7.82
          ],
          [
           "Organic Chocolate Plant Protein Powder, 1.3 lb",
           26.99,
           24.29
          ],
          [
           "Calcium Magnesium With Vitamin D Complex, 240 capsules",
           20.99,
           18.89
          ],
          [
           "Fermented Vitamin D3, 30 vegetarian tablets",
           13.49,
           12.14
          ],
          [
           "Vitamin D3 400 Iu Sunny Gummies (60 Ct)",
           10.29,
           9.26
          ],
          [
           "Tri Berry Hydration, 10 tablets",
           6,
           5.4
          ],
          [
           "Organic Raw Meal Vanilla, 34.2 oz",
           46.49,
           41.84
          ],
          [
           "Hydration Sleeve, 0.56 oz",
           2.49,
           2.24
          ],
          [
           "Hydration Multiplier Passion Fruit Passion Fruit, 16 gram",
           2.49,
           2.24
          ],
          [
           "Strong Ginger Rescue",
           4.49,
           4.04
          ],
          [
           "Propolis Spray, 1.06 fl oz",
           12.79,
           11.51
          ],
          [
           "Quercetin 500, 100 veggie caps",
           30.99,
           27.89
          ],
          [
           "Booster Adaptogen Powder 30 Serve, 5.29 oz",
           12.79,
           11.51
          ],
          [
           "Raw Organic Meal (36.6 Oz.)",
           46.49,
           41.84
          ],
          [
           "Super Cleanse, 100 tablets",
           12.29,
           11.06
          ],
          [
           "Fermented Vitamin B12",
           13.49,
           12.14
          ],
          [
           "Calcium Magnesium Potassium, 180 tablets",
           16.29,
           14.66
          ],
          [
           "Organic Camu Camu Powder, 3.5 oz",
           14.99,
           13.49
          ],
          [
           "Original Plain Fresh Coconut Water Probiotic, 15 fl oz",
           15.29,
           13.76
          ],
          [
           "Organic Manuka Honey Drops Eucalyptus, 4 oz",
           9.79,
           8.81
          ],
          [
           "Organic Manuka Honey Drops Lemon, 4 oz",
           9.79,
           8.81
          ],
          [
           "Organic Manuka Honey Drops Ginger, 4 oz",
           9.79,
           8.81
          ],
          [
           "Berry Flavor Fresh Coconut Water Probiotic, 15 fl oz",
           15.29,
           13.76
          ],
          [
           "Organic Ginger Juice Shot, 2 fl oz",
           3.99,
           3.59
          ],
          [
           "Prostate 5LX™, 60 vegetarian capsules",
           24.99,
           22.49
          ],
          [
           "Fresh Coconut Water Probiotic, 15 fl oz",
           15.29,
           13.76
          ],
          [
           "Pink Lemonade Electrolytes Tub, 30 servings",
           14.49,
           13.04
          ],
          [
           "Lemonade Electrolyte Powder, 3.7 oz",
           14.49,
           13.04
          ],
          [
           "Sunfood Raw Organic Maca Powder, 8 oz",
           10.99,
           9.89
          ],
          [
           "Acidil Indigestion 60 ct)",
           10.29,
           9.26
          ],
          [
           "Unflavored - No Stevia Raw Organic Protein, 19.75 oz",
           35.49,
           31.94
          ],
          [
           "Oscillococcinum Pellets, 6 tube",
           9.99,
           8.99
          ],
          [
           "Chestal Honey Homeopathic Medicine, 6.7 oz",
           9.99,
           8.99
          ],
          [
           "Wild Raspberry Electrolyte Powder, 3.2 oz",
           14.49,
           13.04
          ],
          [
           "Vanilla Raw Organic Protein, 21.86 oz",
           35.49,
           31.94
          ]
         ],
         "hovertemplate": "category=supplements<br>Prime Discount by Percent=%{x}<br>Regular Prices of Products=%{y}<br>product=%{customdata[0]}<br>sale=%{customdata[1]}<br>prime=%{customdata[2]}<extra></extra>",
         "legendgroup": "supplements",
         "marker": {
          "color": "#FFA15A",
          "symbol": "circle"
         },
         "mode": "markers",
         "name": "supplements",
         "showlegend": true,
         "type": "scattergl",
         "x": [
          0.16795069337442214,
          0.23507835945315092,
          0.23507835945315092,
          0.23507835945315092,
          0.23505876469117282,
          0.23507835945315092,
          0.18350324374420746,
          0.23505876469117282,
          0.2829009065332916,
          0.28343831048536494,
          0.28393202839320286,
          0.28393202839320286,
          0.3742610277398817,
          0.28468838163631704,
          0.2338469856718033,
          0.2338469856718033,
          0.2332195676905574,
          0.2330075017049329,
          0.2328632338471629,
          0.2328632338471629,
          0.23505876469117282,
          0.23511755877938967,
          0.2828282828282829,
          0.23523523523523526,
          0.23650697392359,
          0.2441953562850281,
          0.2372558361124344,
          0.2440976390556222,
          0.2440976390556222,
          0.23783488244942586,
          0.2421902421902421,
          0.2421902421902421,
          0.23864511162432633,
          0.24127108670066688,
          0.24077548467792365,
          0.24070021881838077,
          0.24005334518781962,
          0.24005334518781962,
          0.24005334518781962,
          0.2397378406347016,
          0.23934270064301022,
          0.23643528341921793,
          0.46464646464646464,
          0.23643528341921793,
          0.23643528341921793,
          0.23523523523523526,
          0.2828282828282829,
          0.1900864029104138,
          0.23269513991163482,
          0.2828282828282829,
          0.2822100500119076,
          0.2822100500119076,
          0.28143898278802904,
          0.23513062812673702,
          0.2354480052321779,
          0.2807017543859649,
          0.2807017543859649,
          0.2807017543859649,
          0.2807017543859649,
          0.2807017543859649,
          0.2355889724310778,
          0.23593808984522457,
          0.2361809045226131,
          0.2813852813852813,
          0.2324896998234255,
          0.25152057245080495,
          0.23242130038246545,
          0.3222148098732488,
          0.20697167755991286,
          0.32301095759885645,
          0.2801120448179272,
          0.2801217920835145,
          0.28018076178179474,
          0.2801867911941295,
          0.3222148098732488,
          0.27683514913377383,
          0.27652480878603647,
          0.27636515214672774,
          0.2754081095313322,
          0.2056590752242926,
          0.21834061135371174,
          0.27376697641172265,
          0.2222222222222222,
          0.2765790506080815,
          0.2222222222222222,
          0.3222148098732488,
          0.28009336445481825,
          0.32120109190172885,
          0.2800430835513156,
          0.2800430835513156,
          0.2786156532782982,
          0.2786156532782982,
          0.2786156532782982,
          0.2786156532782982,
          0.28010185522008,
          0.27750387378504016,
          0.16795069337442214,
          0.2800589597810066,
          0.28006223605245617,
          0.28006223605245617,
          0.2800700175043761,
          0.31902718168812594,
          0.2800800228636754,
          0.2800589597810066,
          0.2324896998234255,
          0.2222222222222222,
          0.3251477944520236,
          0.22801474460242221,
          0.22801474460242221,
          0.22864401397268974,
          0.34778982485404497,
          0.22864401397268974,
          0.22866476112699052,
          0.28546203649205404,
          0.22768974145120935,
          0.16795069337442214,
          0.25152057245080495,
          0.25083612040133774,
          0.25083612040133774,
          0.25046382189239325,
          0.23215476984656436,
          0.19135981443896788,
          0.23215476984656436,
          0.25152057245080495,
          0.226032190342897,
          0.28546203649205404,
          0.1521110468478889,
          0.32516258129064524,
          0.2939969214982041,
          0.2652210175145955,
          0.2652210175145955,
          0.2652210175145955,
          0.2939969214982041,
          0.28056112224448904,
          0.2858050174658622,
          0.32845290385553927,
          0.33093894304771676,
          0.33093894304771676,
          0.3313049357674104,
          0.19408181026979987,
          0.23934270064301022,
          0.18198362147406733,
          0.18198362147406733,
          0.33093894304771676,
          0.23934270064301022
         ],
         "xaxis": "x",
         "y": [
          6.49,
          29.99,
          29.99,
          29.99,
          39.99,
          29.99,
          10.79,
          39.99,
          31.99,
          26.99,
          46.49,
          46.49,
          21.99,
          38.99,
          36.99,
          36.99,
          8.79,
          43.99,
          30.49,
          30.49,
          39.99,
          19.99,
          0.99,
          9.99,
          16.49,
          12.49,
          20.99,
          24.99,
          24.99,
          18.29,
          28.49,
          28.49,
          12.99,
          25.49,
          15.99,
          31.99,
          44.99,
          44.99,
          44.99,
          28.99,
          41.99,
          32.99,
          0.99,
          32.99,
          32.99,
          9.99,
          0.99,
          21.99,
          6.79,
          0.99,
          41.99,
          41.99,
          64.49,
          17.99,
          15.29,
          3.99,
          3.99,
          3.99,
          3.99,
          3.99,
          3.99,
          26.49,
          1.99,
          66.99,
          16.99,
          55.9,
          33.99,
          14.99,
          50.49,
          20.99,
          24.99,
          22.99,
          15.49,
          14.99,
          14.99,
          55.99,
          50.99,
          23.99,
          18.99,
          14.49,
          2.29,
          13.99,
          3.69,
          25.49,
          3.69,
          14.99,
          29.99,
          10.99,
          64.99,
          64.99,
          62.99,
          62.99,
          62.99,
          62.99,
          27.49,
          70.99,
          6.49,
          47.49,
          44.99,
          44.99,
          39.99,
          6.99,
          34.99,
          47.49,
          16.99,
          3.69,
          21.99,
          18.99,
          18.99,
          31.49,
          11.99,
          31.49,
          24.49,
          16.99,
          11.99,
          6.49,
          55.9,
          2.99,
          2.99,
          5.39,
          14.99,
          34.49,
          14.99,
          55.9,
          14.29,
          16.99,
          17.29,
          19.99,
          19.49,
          11.99,
          11.99,
          11.99,
          19.49,
          4.99,
          31.49,
          20.49,
          19.49,
          19.49,
          14.79,
          11.49,
          41.99,
          10.99,
          10.99,
          19.49,
          41.99
         ],
         "yaxis": "y"
        }
       ],
       "layout": {
        "height": 1000,
        "legend": {
         "title": {
          "text": "category"
         },
         "tracegroupgap": 0
        },
        "template": {
         "data": {
          "bar": [
           {
            "error_x": {
             "color": "#2a3f5f"
            },
            "error_y": {
             "color": "#2a3f5f"
            },
            "marker": {
             "line": {
              "color": "#E5ECF6",
              "width": 0.5
             },
             "pattern": {
              "fillmode": "overlay",
              "size": 10,
              "solidity": 0.2
             }
            },
            "type": "bar"
           }
          ],
          "barpolar": [
           {
            "marker": {
             "line": {
              "color": "#E5ECF6",
              "width": 0.5
             },
             "pattern": {
              "fillmode": "overlay",
              "size": 10,
              "solidity": 0.2
             }
            },
            "type": "barpolar"
           }
          ],
          "carpet": [
           {
            "aaxis": {
             "endlinecolor": "#2a3f5f",
             "gridcolor": "white",
             "linecolor": "white",
             "minorgridcolor": "white",
             "startlinecolor": "#2a3f5f"
            },
            "baxis": {
             "endlinecolor": "#2a3f5f",
             "gridcolor": "white",
             "linecolor": "white",
             "minorgridcolor": "white",
             "startlinecolor": "#2a3f5f"
            },
            "type": "carpet"
           }
          ],
          "choropleth": [
           {
            "colorbar": {
             "outlinewidth": 0,
             "ticks": ""
            },
            "type": "choropleth"
           }
          ],
          "contour": [
           {
            "colorbar": {
             "outlinewidth": 0,
             "ticks": ""
            },
            "colorscale": [
             [
              0,
              "#0d0887"
             ],
             [
              0.1111111111111111,
              "#46039f"
             ],
             [
              0.2222222222222222,
              "#7201a8"
             ],
             [
              0.3333333333333333,
              "#9c179e"
             ],
             [
              0.4444444444444444,
              "#bd3786"
             ],
             [
              0.5555555555555556,
              "#d8576b"
             ],
             [
              0.6666666666666666,
              "#ed7953"
             ],
             [
              0.7777777777777778,
              "#fb9f3a"
             ],
             [
              0.8888888888888888,
              "#fdca26"
             ],
             [
              1,
              "#f0f921"
             ]
            ],
            "type": "contour"
           }
          ],
          "contourcarpet": [
           {
            "colorbar": {
             "outlinewidth": 0,
             "ticks": ""
            },
            "type": "contourcarpet"
           }
          ],
          "heatmap": [
           {
            "colorbar": {
             "outlinewidth": 0,
             "ticks": ""
            },
            "colorscale": [
             [
              0,
              "#0d0887"
             ],
             [
              0.1111111111111111,
              "#46039f"
             ],
             [
              0.2222222222222222,
              "#7201a8"
             ],
             [
              0.3333333333333333,
              "#9c179e"
             ],
             [
              0.4444444444444444,
              "#bd3786"
             ],
             [
              0.5555555555555556,
              "#d8576b"
             ],
             [
              0.6666666666666666,
              "#ed7953"
             ],
             [
              0.7777777777777778,
              "#fb9f3a"
             ],
             [
              0.8888888888888888,
              "#fdca26"
             ],
             [
              1,
              "#f0f921"
             ]
            ],
            "type": "heatmap"
           }
          ],
          "heatmapgl": [
           {
            "colorbar": {
             "outlinewidth": 0,
             "ticks": ""
            },
            "colorscale": [
             [
              0,
              "#0d0887"
             ],
             [
              0.1111111111111111,
              "#46039f"
             ],
             [
              0.2222222222222222,
              "#7201a8"
             ],
             [
              0.3333333333333333,
              "#9c179e"
             ],
             [
              0.4444444444444444,
              "#bd3786"
             ],
             [
              0.5555555555555556,
              "#d8576b"
             ],
             [
              0.6666666666666666,
              "#ed7953"
             ],
             [
              0.7777777777777778,
              "#fb9f3a"
             ],
             [
              0.8888888888888888,
              "#fdca26"
             ],
             [
              1,
              "#f0f921"
             ]
            ],
            "type": "heatmapgl"
           }
          ],
          "histogram": [
           {
            "marker": {
             "pattern": {
              "fillmode": "overlay",
              "size": 10,
              "solidity": 0.2
             }
            },
            "type": "histogram"
           }
          ],
          "histogram2d": [
           {
            "colorbar": {
             "outlinewidth": 0,
             "ticks": ""
            },
            "colorscale": [
             [
              0,
              "#0d0887"
             ],
             [
              0.1111111111111111,
              "#46039f"
             ],
             [
              0.2222222222222222,
              "#7201a8"
             ],
             [
              0.3333333333333333,
              "#9c179e"
             ],
             [
              0.4444444444444444,
              "#bd3786"
             ],
             [
              0.5555555555555556,
              "#d8576b"
             ],
             [
              0.6666666666666666,
              "#ed7953"
             ],
             [
              0.7777777777777778,
              "#fb9f3a"
             ],
             [
              0.8888888888888888,
              "#fdca26"
             ],
             [
              1,
              "#f0f921"
             ]
            ],
            "type": "histogram2d"
           }
          ],
          "histogram2dcontour": [
           {
            "colorbar": {
             "outlinewidth": 0,
             "ticks": ""
            },
            "colorscale": [
             [
              0,
              "#0d0887"
             ],
             [
              0.1111111111111111,
              "#46039f"
             ],
             [
              0.2222222222222222,
              "#7201a8"
             ],
             [
              0.3333333333333333,
              "#9c179e"
             ],
             [
              0.4444444444444444,
              "#bd3786"
             ],
             [
              0.5555555555555556,
              "#d8576b"
             ],
             [
              0.6666666666666666,
              "#ed7953"
             ],
             [
              0.7777777777777778,
              "#fb9f3a"
             ],
             [
              0.8888888888888888,
              "#fdca26"
             ],
             [
              1,
              "#f0f921"
             ]
            ],
            "type": "histogram2dcontour"
           }
          ],
          "mesh3d": [
           {
            "colorbar": {
             "outlinewidth": 0,
             "ticks": ""
            },
            "type": "mesh3d"
           }
          ],
          "parcoords": [
           {
            "line": {
             "colorbar": {
              "outlinewidth": 0,
              "ticks": ""
             }
            },
            "type": "parcoords"
           }
          ],
          "pie": [
           {
            "automargin": true,
            "type": "pie"
           }
          ],
          "scatter": [
           {
            "marker": {
             "colorbar": {
              "outlinewidth": 0,
              "ticks": ""
             }
            },
            "type": "scatter"
           }
          ],
          "scatter3d": [
           {
            "line": {
             "colorbar": {
              "outlinewidth": 0,
              "ticks": ""
             }
            },
            "marker": {
             "colorbar": {
              "outlinewidth": 0,
              "ticks": ""
             }
            },
            "type": "scatter3d"
           }
          ],
          "scattercarpet": [
           {
            "marker": {
             "colorbar": {
              "outlinewidth": 0,
              "ticks": ""
             }
            },
            "type": "scattercarpet"
           }
          ],
          "scattergeo": [
           {
            "marker": {
             "colorbar": {
              "outlinewidth": 0,
              "ticks": ""
             }
            },
            "type": "scattergeo"
           }
          ],
          "scattergl": [
           {
            "marker": {
             "colorbar": {
              "outlinewidth": 0,
              "ticks": ""
             }
            },
            "type": "scattergl"
           }
          ],
          "scattermapbox": [
           {
            "marker": {
             "colorbar": {
              "outlinewidth": 0,
              "ticks": ""
             }
            },
            "type": "scattermapbox"
           }
          ],
          "scatterpolar": [
           {
            "marker": {
             "colorbar": {
              "outlinewidth": 0,
              "ticks": ""
             }
            },
            "type": "scatterpolar"
           }
          ],
          "scatterpolargl": [
           {
            "marker": {
             "colorbar": {
              "outlinewidth": 0,
              "ticks": ""
             }
            },
            "type": "scatterpolargl"
           }
          ],
          "scatterternary": [
           {
            "marker": {
             "colorbar": {
              "outlinewidth": 0,
              "ticks": ""
             }
            },
            "type": "scatterternary"
           }
          ],
          "surface": [
           {
            "colorbar": {
             "outlinewidth": 0,
             "ticks": ""
            },
            "colorscale": [
             [
              0,
              "#0d0887"
             ],
             [
              0.1111111111111111,
              "#46039f"
             ],
             [
              0.2222222222222222,
              "#7201a8"
             ],
             [
              0.3333333333333333,
              "#9c179e"
             ],
             [
              0.4444444444444444,
              "#bd3786"
             ],
             [
              0.5555555555555556,
              "#d8576b"
             ],
             [
              0.6666666666666666,
              "#ed7953"
             ],
             [
              0.7777777777777778,
              "#fb9f3a"
             ],
             [
              0.8888888888888888,
              "#fdca26"
             ],
             [
              1,
              "#f0f921"
             ]
            ],
            "type": "surface"
           }
          ],
          "table": [
           {
            "cells": {
             "fill": {
              "color": "#EBF0F8"
             },
             "line": {
              "color": "white"
             }
            },
            "header": {
             "fill": {
              "color": "#C8D4E3"
             },
             "line": {
              "color": "white"
             }
            },
            "type": "table"
           }
          ]
         },
         "layout": {
          "annotationdefaults": {
           "arrowcolor": "#2a3f5f",
           "arrowhead": 0,
           "arrowwidth": 1
          },
          "autotypenumbers": "strict",
          "coloraxis": {
           "colorbar": {
            "outlinewidth": 0,
            "ticks": ""
           }
          },
          "colorscale": {
           "diverging": [
            [
             0,
             "#8e0152"
            ],
            [
             0.1,
             "#c51b7d"
            ],
            [
             0.2,
             "#de77ae"
            ],
            [
             0.3,
             "#f1b6da"
            ],
            [
             0.4,
             "#fde0ef"
            ],
            [
             0.5,
             "#f7f7f7"
            ],
            [
             0.6,
             "#e6f5d0"
            ],
            [
             0.7,
             "#b8e186"
            ],
            [
             0.8,
             "#7fbc41"
            ],
            [
             0.9,
             "#4d9221"
            ],
            [
             1,
             "#276419"
            ]
           ],
           "sequential": [
            [
             0,
             "#0d0887"
            ],
            [
             0.1111111111111111,
             "#46039f"
            ],
            [
             0.2222222222222222,
             "#7201a8"
            ],
            [
             0.3333333333333333,
             "#9c179e"
            ],
            [
             0.4444444444444444,
             "#bd3786"
            ],
            [
             0.5555555555555556,
             "#d8576b"
            ],
            [
             0.6666666666666666,
             "#ed7953"
            ],
            [
             0.7777777777777778,
             "#fb9f3a"
            ],
            [
             0.8888888888888888,
             "#fdca26"
            ],
            [
             1,
             "#f0f921"
            ]
           ],
           "sequentialminus": [
            [
             0,
             "#0d0887"
            ],
            [
             0.1111111111111111,
             "#46039f"
            ],
            [
             0.2222222222222222,
             "#7201a8"
            ],
            [
             0.3333333333333333,
             "#9c179e"
            ],
            [
             0.4444444444444444,
             "#bd3786"
            ],
            [
             0.5555555555555556,
             "#d8576b"
            ],
            [
             0.6666666666666666,
             "#ed7953"
            ],
            [
             0.7777777777777778,
             "#fb9f3a"
            ],
            [
             0.8888888888888888,
             "#fdca26"
            ],
            [
             1,
             "#f0f921"
            ]
           ]
          },
          "colorway": [
           "#636efa",
           "#EF553B",
           "#00cc96",
           "#ab63fa",
           "#FFA15A",
           "#19d3f3",
           "#FF6692",
           "#B6E880",
           "#FF97FF",
           "#FECB52"
          ],
          "font": {
           "color": "#2a3f5f"
          },
          "geo": {
           "bgcolor": "white",
           "lakecolor": "white",
           "landcolor": "#E5ECF6",
           "showlakes": true,
           "showland": true,
           "subunitcolor": "white"
          },
          "hoverlabel": {
           "align": "left"
          },
          "hovermode": "closest",
          "mapbox": {
           "style": "light"
          },
          "paper_bgcolor": "white",
          "plot_bgcolor": "#E5ECF6",
          "polar": {
           "angularaxis": {
            "gridcolor": "white",
            "linecolor": "white",
            "ticks": ""
           },
           "bgcolor": "#E5ECF6",
           "radialaxis": {
            "gridcolor": "white",
            "linecolor": "white",
            "ticks": ""
           }
          },
          "scene": {
           "xaxis": {
            "backgroundcolor": "#E5ECF6",
            "gridcolor": "white",
            "gridwidth": 2,
            "linecolor": "white",
            "showbackground": true,
            "ticks": "",
            "zerolinecolor": "white"
           },
           "yaxis": {
            "backgroundcolor": "#E5ECF6",
            "gridcolor": "white",
            "gridwidth": 2,
            "linecolor": "white",
            "showbackground": true,
            "ticks": "",
            "zerolinecolor": "white"
           },
           "zaxis": {
            "backgroundcolor": "#E5ECF6",
            "gridcolor": "white",
            "gridwidth": 2,
            "linecolor": "white",
            "showbackground": true,
            "ticks": "",
            "zerolinecolor": "white"
           }
          },
          "shapedefaults": {
           "line": {
            "color": "#2a3f5f"
           }
          },
          "ternary": {
           "aaxis": {
            "gridcolor": "white",
            "linecolor": "white",
            "ticks": ""
           },
           "baxis": {
            "gridcolor": "white",
            "linecolor": "white",
            "ticks": ""
           },
           "bgcolor": "#E5ECF6",
           "caxis": {
            "gridcolor": "white",
            "linecolor": "white",
            "ticks": ""
           }
          },
          "title": {
           "x": 0.05
          },
          "xaxis": {
           "automargin": true,
           "gridcolor": "white",
           "linecolor": "white",
           "ticks": "",
           "title": {
            "standoff": 15
           },
           "zerolinecolor": "white",
           "zerolinewidth": 2
          },
          "yaxis": {
           "automargin": true,
           "gridcolor": "white",
           "linecolor": "white",
           "ticks": "",
           "title": {
            "standoff": 15
           },
           "zerolinecolor": "white",
           "zerolinewidth": 2
          }
         }
        },
        "title": {
         "text": "Products: Regular Price vs Prime Discount by Category"
        },
        "width": 1400,
        "xaxis": {
         "anchor": "y",
         "domain": [
          0,
          1
         ],
         "title": {
          "text": "Prime Discount by Percent"
         }
        },
        "yaxis": {
         "anchor": "x",
         "domain": [
          0,
          1
         ],
         "title": {
          "text": "Regular Prices of Products"
         }
        }
       }
      }
     },
     "metadata": {},
     "output_type": "display_data"
    }
   ],
   "source": [
    "import matplotlib as plt\n",
    "import plotly.express as px\n",
    "import plotly.graph_objects as go\n",
    "\n",
    "fig = px.scatter(df.sort_values(by='category'), x=\"prime_discount\", y=\"regular\", color=\"category\", title=\"Products: Regular Price vs Prime Discount by Category\", hover_data=['product', 'regular', 'sale', 'prime'], width=1400, height=1000,\n",
    "labels={\n",
    "    \"regular\": \"Regular Prices of Products\",\n",
    "    \"prime_discount\": \"Prime Discount by Percent\"\n",
    "})\n",
    "fig.show()"
   ]
  },
  {
   "cell_type": "code",
   "execution_count": null,
   "metadata": {},
   "outputs": [],
   "source": [
    "df['category'].value_counts()\n"
   ]
  },
  {
   "cell_type": "code",
   "execution_count": 5,
   "metadata": {},
   "outputs": [
    {
     "data": {
      "text/html": [
       "<div>\n",
       "<style scoped>\n",
       "    .dataframe tbody tr th:only-of-type {\n",
       "        vertical-align: middle;\n",
       "    }\n",
       "\n",
       "    .dataframe tbody tr th {\n",
       "        vertical-align: top;\n",
       "    }\n",
       "\n",
       "    .dataframe thead th {\n",
       "        text-align: right;\n",
       "    }\n",
       "</style>\n",
       "<table border=\"1\" class=\"dataframe\">\n",
       "  <thead>\n",
       "    <tr style=\"text-align: right;\">\n",
       "      <th></th>\n",
       "      <th>company</th>\n",
       "      <th>product</th>\n",
       "      <th>regular</th>\n",
       "      <th>sale</th>\n",
       "      <th>prime</th>\n",
       "      <th>category</th>\n",
       "      <th>sale_discount</th>\n",
       "      <th>prime_discount</th>\n",
       "      <th>prime_sale_difference</th>\n",
       "      <th>discount_bins</th>\n",
       "    </tr>\n",
       "  </thead>\n",
       "  <tbody>\n",
       "    <tr>\n",
       "      <th>2</th>\n",
       "      <td>PRODUCE</td>\n",
       "      <td>Organic Navel Orange</td>\n",
       "      <td>3.00</td>\n",
       "      <td>1.00</td>\n",
       "      <td>0.900</td>\n",
       "      <td>produce</td>\n",
       "      <td>0.666667</td>\n",
       "      <td>0.700000</td>\n",
       "      <td>0.033333</td>\n",
       "      <td>50% to 75%</td>\n",
       "    </tr>\n",
       "    <tr>\n",
       "      <th>662</th>\n",
       "      <td>Amy's Kitchen</td>\n",
       "      <td>Frozen Cheddar Cheese, Bean &amp; Rice Burrito, No...</td>\n",
       "      <td>2.99</td>\n",
       "      <td>1.00</td>\n",
       "      <td>0.900</td>\n",
       "      <td>frozen_foods</td>\n",
       "      <td>0.665552</td>\n",
       "      <td>0.698997</td>\n",
       "      <td>0.033445</td>\n",
       "      <td>50% to 75%</td>\n",
       "    </tr>\n",
       "    <tr>\n",
       "      <th>337</th>\n",
       "      <td>Brekki</td>\n",
       "      <td>Overnight Oats With Ancient Grains Buleberries...</td>\n",
       "      <td>2.99</td>\n",
       "      <td>1.25</td>\n",
       "      <td>1.125</td>\n",
       "      <td>pantry_essentials</td>\n",
       "      <td>0.581940</td>\n",
       "      <td>0.623746</td>\n",
       "      <td>0.041806</td>\n",
       "      <td>50% to 75%</td>\n",
       "    </tr>\n",
       "    <tr>\n",
       "      <th>324</th>\n",
       "      <td>Brekki</td>\n",
       "      <td>Original Overnight Oats, 5.3 oz</td>\n",
       "      <td>2.99</td>\n",
       "      <td>1.25</td>\n",
       "      <td>1.125</td>\n",
       "      <td>pantry_essentials</td>\n",
       "      <td>0.581940</td>\n",
       "      <td>0.623746</td>\n",
       "      <td>0.041806</td>\n",
       "      <td>50% to 75%</td>\n",
       "    </tr>\n",
       "    <tr>\n",
       "      <th>355</th>\n",
       "      <td>Brekki</td>\n",
       "      <td>Strawberry Overnight Oats, 5.3 oz</td>\n",
       "      <td>2.99</td>\n",
       "      <td>1.25</td>\n",
       "      <td>1.125</td>\n",
       "      <td>pantry_essentials</td>\n",
       "      <td>0.581940</td>\n",
       "      <td>0.623746</td>\n",
       "      <td>0.041806</td>\n",
       "      <td>50% to 75%</td>\n",
       "    </tr>\n",
       "    <tr>\n",
       "      <th>...</th>\n",
       "      <td>...</td>\n",
       "      <td>...</td>\n",
       "      <td>...</td>\n",
       "      <td>...</td>\n",
       "      <td>...</td>\n",
       "      <td>...</td>\n",
       "      <td>...</td>\n",
       "      <td>...</td>\n",
       "      <td>...</td>\n",
       "      <td>...</td>\n",
       "    </tr>\n",
       "    <tr>\n",
       "      <th>1279</th>\n",
       "      <td>AVALON ORGANICS</td>\n",
       "      <td>Scalp Treatment Tea Tree Shampoo, 11 fl oz</td>\n",
       "      <td>8.69</td>\n",
       "      <td>8.49</td>\n",
       "      <td>7.640</td>\n",
       "      <td>beauty</td>\n",
       "      <td>0.023015</td>\n",
       "      <td>0.120829</td>\n",
       "      <td>0.097814</td>\n",
       "      <td>0% to 25%</td>\n",
       "    </tr>\n",
       "    <tr>\n",
       "      <th>1280</th>\n",
       "      <td>AVALON ORGANICS</td>\n",
       "      <td>Organic Volumizing Rosemary Shampoo, 11 fl oz</td>\n",
       "      <td>8.69</td>\n",
       "      <td>8.49</td>\n",
       "      <td>7.640</td>\n",
       "      <td>beauty</td>\n",
       "      <td>0.023015</td>\n",
       "      <td>0.120829</td>\n",
       "      <td>0.097814</td>\n",
       "      <td>0% to 25%</td>\n",
       "    </tr>\n",
       "    <tr>\n",
       "      <th>1283</th>\n",
       "      <td>AVALON ORGANICS</td>\n",
       "      <td>Nourishing Lavender Shampoo, 11 fl oz</td>\n",
       "      <td>8.69</td>\n",
       "      <td>8.49</td>\n",
       "      <td>7.640</td>\n",
       "      <td>beauty</td>\n",
       "      <td>0.023015</td>\n",
       "      <td>0.120829</td>\n",
       "      <td>0.097814</td>\n",
       "      <td>0% to 25%</td>\n",
       "    </tr>\n",
       "    <tr>\n",
       "      <th>642</th>\n",
       "      <td>Lakewood</td>\n",
       "      <td>PURE Whole Leaf Aloe Pure Organic, 32 fl oz</td>\n",
       "      <td>7.39</td>\n",
       "      <td>7.29</td>\n",
       "      <td>6.560</td>\n",
       "      <td>supplements</td>\n",
       "      <td>0.013532</td>\n",
       "      <td>0.112314</td>\n",
       "      <td>0.098782</td>\n",
       "      <td>0% to 25%</td>\n",
       "    </tr>\n",
       "    <tr>\n",
       "      <th>1189</th>\n",
       "      <td>Lakewood</td>\n",
       "      <td>PURE Whole Leaf Aloe Pure Organic, 32 fl oz</td>\n",
       "      <td>7.39</td>\n",
       "      <td>7.29</td>\n",
       "      <td>6.560</td>\n",
       "      <td>Beverages</td>\n",
       "      <td>0.013532</td>\n",
       "      <td>0.112314</td>\n",
       "      <td>0.098782</td>\n",
       "      <td>0% to 25%</td>\n",
       "    </tr>\n",
       "  </tbody>\n",
       "</table>\n",
       "<p>1300 rows × 10 columns</p>\n",
       "</div>"
      ],
      "text/plain": [
       "              company                                            product  \\\n",
       "2             PRODUCE                               Organic Navel Orange   \n",
       "662     Amy's Kitchen  Frozen Cheddar Cheese, Bean & Rice Burrito, No...   \n",
       "337            Brekki  Overnight Oats With Ancient Grains Buleberries...   \n",
       "324            Brekki                    Original Overnight Oats, 5.3 oz   \n",
       "355            Brekki                  Strawberry Overnight Oats, 5.3 oz   \n",
       "...               ...                                                ...   \n",
       "1279  AVALON ORGANICS         Scalp Treatment Tea Tree Shampoo, 11 fl oz   \n",
       "1280  AVALON ORGANICS      Organic Volumizing Rosemary Shampoo, 11 fl oz   \n",
       "1283  AVALON ORGANICS              Nourishing Lavender Shampoo, 11 fl oz   \n",
       "642          Lakewood        PURE Whole Leaf Aloe Pure Organic, 32 fl oz   \n",
       "1189         Lakewood        PURE Whole Leaf Aloe Pure Organic, 32 fl oz   \n",
       "\n",
       "      regular  sale  prime           category  sale_discount  prime_discount  \\\n",
       "2        3.00  1.00  0.900            produce       0.666667        0.700000   \n",
       "662      2.99  1.00  0.900       frozen_foods       0.665552        0.698997   \n",
       "337      2.99  1.25  1.125  pantry_essentials       0.581940        0.623746   \n",
       "324      2.99  1.25  1.125  pantry_essentials       0.581940        0.623746   \n",
       "355      2.99  1.25  1.125  pantry_essentials       0.581940        0.623746   \n",
       "...       ...   ...    ...                ...            ...             ...   \n",
       "1279     8.69  8.49  7.640             beauty       0.023015        0.120829   \n",
       "1280     8.69  8.49  7.640             beauty       0.023015        0.120829   \n",
       "1283     8.69  8.49  7.640             beauty       0.023015        0.120829   \n",
       "642      7.39  7.29  6.560        supplements       0.013532        0.112314   \n",
       "1189     7.39  7.29  6.560          Beverages       0.013532        0.112314   \n",
       "\n",
       "      prime_sale_difference discount_bins  \n",
       "2                  0.033333    50% to 75%  \n",
       "662                0.033445    50% to 75%  \n",
       "337                0.041806    50% to 75%  \n",
       "324                0.041806    50% to 75%  \n",
       "355                0.041806    50% to 75%  \n",
       "...                     ...           ...  \n",
       "1279               0.097814     0% to 25%  \n",
       "1280               0.097814     0% to 25%  \n",
       "1283               0.097814     0% to 25%  \n",
       "642                0.098782     0% to 25%  \n",
       "1189               0.098782     0% to 25%  \n",
       "\n",
       "[1300 rows x 10 columns]"
      ]
     },
     "execution_count": 5,
     "metadata": {},
     "output_type": "execute_result"
    }
   ],
   "source": [
    "df"
   ]
  },
  {
   "cell_type": "code",
   "execution_count": 7,
   "metadata": {},
   "outputs": [],
   "source": [
    "import numpy as np\n",
    "import matplotlib.pyplot as plt\n",
    "%matplotlib inline"
   ]
  },
  {
   "cell_type": "code",
   "execution_count": null,
   "metadata": {},
   "outputs": [],
   "source": [
    "outliers = []\n",
    "def detect_outliers(data):\n",
    "    threshold=3 ## third standard deviation\n",
    "    mean=np.mean(data)\n",
    "    std=np.std(data)\n",
    "\n",
    "    for i in data:\n",
    "        z_score=(i-mean)/std\n",
    "        if np.abs(z_score) > threshold:\n",
    "            outliers.append(i)\n",
    "    return outliers"
   ]
  }
 ],
 "metadata": {
  "interpreter": {
   "hash": "27f1aa64630c54bb913cc6243e130d29f70b453b256feeafda74e1bc57199250"
  },
  "kernelspec": {
   "display_name": "Python 3.9.0 64-bit",
   "language": "python",
   "name": "python3"
  },
  "language_info": {
   "codemirror_mode": {
    "name": "ipython",
    "version": 3
   },
   "file_extension": ".py",
   "mimetype": "text/x-python",
   "name": "python",
   "nbconvert_exporter": "python",
   "pygments_lexer": "ipython3",
   "version": "3.9.0"
  },
  "orig_nbformat": 4
 },
 "nbformat": 4,
 "nbformat_minor": 2
}
